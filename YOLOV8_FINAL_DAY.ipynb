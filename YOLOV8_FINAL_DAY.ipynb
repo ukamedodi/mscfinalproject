{
  "nbformat": 4,
  "nbformat_minor": 0,
  "metadata": {
    "colab": {
      "provenance": [],
      "gpuType": "T4",
      "include_colab_link": true
    },
    "kernelspec": {
      "name": "python3",
      "display_name": "Python 3"
    },
    "language_info": {
      "name": "python"
    },
    "accelerator": "GPU"
  },
  "cells": [
    {
      "cell_type": "markdown",
      "metadata": {
        "id": "view-in-github",
        "colab_type": "text"
      },
      "source": [
        "<a href=\"https://colab.research.google.com/github/ukamedodi/mscfinalproject/blob/main/YOLOV8_FINAL_DAY.ipynb\" target=\"_parent\"><img src=\"https://colab.research.google.com/assets/colab-badge.svg\" alt=\"Open In Colab\"/></a>"
      ]
    },
    {
      "cell_type": "markdown",
      "source": [
        "# **Installing packages**"
      ],
      "metadata": {
        "id": "ctmeu2cMgiFJ"
      }
    },
    {
      "cell_type": "code",
      "source": [
        "from google.colab import drive\n",
        "drive.mount('/content/drive')"
      ],
      "metadata": {
        "colab": {
          "base_uri": "https://localhost:8080/"
        },
        "id": "WkGbwQARX1bn",
        "outputId": "4aa431f3-c143-4bd7-b922-43c3b18783d4"
      },
      "execution_count": null,
      "outputs": [
        {
          "output_type": "stream",
          "name": "stdout",
          "text": [
            "Mounted at /content/drive\n"
          ]
        }
      ]
    },
    {
      "cell_type": "code",
      "execution_count": null,
      "metadata": {
        "id": "ClDN1Nrvwz63"
      },
      "outputs": [],
      "source": [
        "\n",
        "!pip install ultralytics"
      ]
    },
    {
      "cell_type": "code",
      "source": [
        "from ultralytics import YOLO"
      ],
      "metadata": {
        "id": "c-Rt5b9K3MX8"
      },
      "execution_count": null,
      "outputs": []
    },
    {
      "cell_type": "code",
      "source": [
        "!pip install cvzone"
      ],
      "metadata": {
        "id": "fTvFDClfX9X2"
      },
      "execution_count": null,
      "outputs": []
    },
    {
      "cell_type": "code",
      "source": [
        "import os\n",
        "import cv2\n",
        "import cvzone\n",
        "import math\n",
        "import matplotlib.pyplot as plt\n",
        "\n",
        "\n",
        "# os.mkdir('test-results')"
      ],
      "metadata": {
        "id": "T6gpSxchZLpg"
      },
      "execution_count": null,
      "outputs": []
    },
    {
      "cell_type": "code",
      "source": [
        "model_path = '/content/drive/MyDrive/rodadsigns/Roadsignproject/best.pt'\n",
        "model = YOLO(model_path)"
      ],
      "metadata": {
        "id": "jNtoDjm3eFYV"
      },
      "execution_count": null,
      "outputs": []
    },
    {
      "cell_type": "markdown",
      "source": [],
      "metadata": {
        "id": "dxsrlWR1bGcX"
      }
    },
    {
      "cell_type": "code",
      "source": [
        "test_image_path = '/content/yolo-2/test/images'\n",
        "classnames = ['danger', 'mandatory','other','prohibitory']\n",
        "image = os.listdir(test_image_path)\n",
        "for img in image:\n",
        "  testimg = os.path.join(test_image_path,img)\n",
        "  testimage = cv2.imread(testimg)\n",
        "  results = model(testimage)\n",
        "  for info in results:\n",
        "    parameters = info.boxes\n",
        "    for box in parameters:\n",
        "        x1, y1, x2, y2 = box.xyxy[0]\n",
        "        x1, y1, x2, y2 = int(x1), int(y1), int(x2), int(y2)\n",
        "        w, h = x2 - x1, y2 - y1\n",
        "        confidence = box.conf[0]\n",
        "        class_detect = box.cls[0]\n",
        "        class_detect = int(class_detect)\n",
        "        class_detect = classnames[class_detect]\n",
        "        conf = math.ceil(confidence * 100)\n",
        "            # if conf > 50 and class_detect == 'license-plate':\n",
        "        cv2.rectangle(testimage, (x1, y1), (x2, y2), (0, 255, 0), 2)\n",
        "        cvzone.putTextRect(testimage, f'{class_detect}', [x1 + 8, y1 - 12], thickness=2, scale=3)\n",
        "        plt.imshow(testimage)\n",
        "        plt.show()\n",
        "\n",
        "\n"
      ],
      "metadata": {
        "id": "plsnvhTpR9X-"
      },
      "execution_count": null,
      "outputs": []
    },
    {
      "cell_type": "code",
      "source": [
        "\n",
        "video_path = '/content/drive/MyDrive/rodadsigns/Roadsignproject/roadsigns.mp4'\n",
        "model(video_path,save = True)"
      ],
      "metadata": {
        "id": "UgP6rYqQaGv_"
      },
      "execution_count": null,
      "outputs": []
    }
  ]
}