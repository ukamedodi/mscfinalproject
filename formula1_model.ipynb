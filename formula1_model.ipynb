{
  "cells": [
    {
      "cell_type": "markdown",
      "metadata": {
        "id": "view-in-github",
        "colab_type": "text"
      },
      "source": [
        "<a href=\"https://colab.research.google.com/github/ukamedodi/mscfinalproject/blob/main/formula1_model.ipynb\" target=\"_parent\"><img src=\"https://colab.research.google.com/assets/colab-badge.svg\" alt=\"Open In Colab\"/></a>"
      ]
    },
    {
      "cell_type": "code",
      "execution_count": null,
      "metadata": {
        "colab": {
          "base_uri": "https://localhost:8080/"
        },
        "id": "7OtiP3KTn_W0",
        "outputId": "c6087624-84cc-463d-d7d2-13a898892f45"
      },
      "outputs": [
        {
          "output_type": "stream",
          "name": "stdout",
          "text": [
            "Mounted at /content/gdrive\n"
          ]
        }
      ],
      "source": [
        "# mount drive\n",
        "# files will be accessed from here\n",
        "from google.colab import drive\n",
        "drive.mount('/content/gdrive')"
      ]
    },
    {
      "cell_type": "code",
      "execution_count": null,
      "metadata": {
        "colab": {
          "base_uri": "https://localhost:8080/"
        },
        "id": "trs7gdjtoOdL",
        "outputId": "fa6cce0c-a95a-4284-9898-a8f81fbb4d5e"
      },
      "outputs": [
        {
          "output_type": "stream",
          "name": "stdout",
          "text": [
            "colab-f1.yaml  formula1-model.ipynb  images  labels  runs\n"
          ]
        }
      ],
      "source": [
        "# check for files present in folder\n",
        "# you can skip\n",
        "!ls gdrive/MyDrive/road-signs-v1/"
      ]
    },
    {
      "cell_type": "code",
      "execution_count": null,
      "metadata": {
        "id": "mcKwN3HNpon7"
      },
      "outputs": [],
      "source": [
        "# path of model files. results will be copied here. make sure you run\n",
        "ROOT_DIR = 'gdrive/MyDrive/road-signs-v1'"
      ]
    },
    {
      "cell_type": "code",
      "execution_count": null,
      "metadata": {
        "colab": {
          "base_uri": "https://localhost:8080/"
        },
        "id": "6mzSm5wAp5ue",
        "outputId": "6feaf88f-2b3e-40db-d8ed-f1212c507218"
      },
      "outputs": [
        {
          "output_type": "stream",
          "name": "stdout",
          "text": [
            "Collecting ultralytics\n",
            "  Downloading ultralytics-8.1.23-py3-none-any.whl (719 kB)\n",
            "\u001b[?25l     \u001b[90m━━━━━━━━━━━━━━━━━━━━━━━━━━━━━━━━━━━━━━━━\u001b[0m \u001b[32m0.0/719.3 kB\u001b[0m \u001b[31m?\u001b[0m eta \u001b[36m-:--:--\u001b[0m\r\u001b[2K     \u001b[91m━━━━━\u001b[0m\u001b[90m╺\u001b[0m\u001b[90m━━━━━━━━━━━━━━━━━━━━━━━━━━━━━━━━━━\u001b[0m \u001b[32m92.2/719.3 kB\u001b[0m \u001b[31m2.7 MB/s\u001b[0m eta \u001b[36m0:00:01\u001b[0m\r\u001b[2K     \u001b[91m━━━━━━━━━━━━━━━━━━━━━━━━━━━━━━\u001b[0m\u001b[91m╸\u001b[0m\u001b[90m━━━━━━━━━\u001b[0m \u001b[32m553.0/719.3 kB\u001b[0m \u001b[31m8.2 MB/s\u001b[0m eta \u001b[36m0:00:01\u001b[0m\r\u001b[2K     \u001b[90m━━━━━━━━━━━━━━━━━━━━━━━━━━━━━━━━━━━━━━━━\u001b[0m \u001b[32m719.3/719.3 kB\u001b[0m \u001b[31m8.2 MB/s\u001b[0m eta \u001b[36m0:00:00\u001b[0m\n",
            "\u001b[?25hRequirement already satisfied: matplotlib>=3.3.0 in /usr/local/lib/python3.10/dist-packages (from ultralytics) (3.7.1)\n",
            "Requirement already satisfied: opencv-python>=4.6.0 in /usr/local/lib/python3.10/dist-packages (from ultralytics) (4.8.0.76)\n",
            "Requirement already satisfied: pillow>=7.1.2 in /usr/local/lib/python3.10/dist-packages (from ultralytics) (9.4.0)\n",
            "Requirement already satisfied: pyyaml>=5.3.1 in /usr/local/lib/python3.10/dist-packages (from ultralytics) (6.0.1)\n",
            "Requirement already satisfied: requests>=2.23.0 in /usr/local/lib/python3.10/dist-packages (from ultralytics) (2.31.0)\n",
            "Requirement already satisfied: scipy>=1.4.1 in /usr/local/lib/python3.10/dist-packages (from ultralytics) (1.11.4)\n",
            "Requirement already satisfied: torch>=1.8.0 in /usr/local/lib/python3.10/dist-packages (from ultralytics) (2.1.0+cu121)\n",
            "Requirement already satisfied: torchvision>=0.9.0 in /usr/local/lib/python3.10/dist-packages (from ultralytics) (0.16.0+cu121)\n",
            "Requirement already satisfied: tqdm>=4.64.0 in /usr/local/lib/python3.10/dist-packages (from ultralytics) (4.66.2)\n",
            "Requirement already satisfied: psutil in /usr/local/lib/python3.10/dist-packages (from ultralytics) (5.9.5)\n",
            "Requirement already satisfied: py-cpuinfo in /usr/local/lib/python3.10/dist-packages (from ultralytics) (9.0.0)\n",
            "Collecting thop>=0.1.1 (from ultralytics)\n",
            "  Downloading thop-0.1.1.post2209072238-py3-none-any.whl (15 kB)\n",
            "Requirement already satisfied: pandas>=1.1.4 in /usr/local/lib/python3.10/dist-packages (from ultralytics) (1.5.3)\n",
            "Requirement already satisfied: seaborn>=0.11.0 in /usr/local/lib/python3.10/dist-packages (from ultralytics) (0.13.1)\n",
            "Requirement already satisfied: contourpy>=1.0.1 in /usr/local/lib/python3.10/dist-packages (from matplotlib>=3.3.0->ultralytics) (1.2.0)\n",
            "Requirement already satisfied: cycler>=0.10 in /usr/local/lib/python3.10/dist-packages (from matplotlib>=3.3.0->ultralytics) (0.12.1)\n",
            "Requirement already satisfied: fonttools>=4.22.0 in /usr/local/lib/python3.10/dist-packages (from matplotlib>=3.3.0->ultralytics) (4.49.0)\n",
            "Requirement already satisfied: kiwisolver>=1.0.1 in /usr/local/lib/python3.10/dist-packages (from matplotlib>=3.3.0->ultralytics) (1.4.5)\n",
            "Requirement already satisfied: numpy>=1.20 in /usr/local/lib/python3.10/dist-packages (from matplotlib>=3.3.0->ultralytics) (1.25.2)\n",
            "Requirement already satisfied: packaging>=20.0 in /usr/local/lib/python3.10/dist-packages (from matplotlib>=3.3.0->ultralytics) (23.2)\n",
            "Requirement already satisfied: pyparsing>=2.3.1 in /usr/local/lib/python3.10/dist-packages (from matplotlib>=3.3.0->ultralytics) (3.1.1)\n",
            "Requirement already satisfied: python-dateutil>=2.7 in /usr/local/lib/python3.10/dist-packages (from matplotlib>=3.3.0->ultralytics) (2.8.2)\n",
            "Requirement already satisfied: pytz>=2020.1 in /usr/local/lib/python3.10/dist-packages (from pandas>=1.1.4->ultralytics) (2023.4)\n",
            "Requirement already satisfied: charset-normalizer<4,>=2 in /usr/local/lib/python3.10/dist-packages (from requests>=2.23.0->ultralytics) (3.3.2)\n",
            "Requirement already satisfied: idna<4,>=2.5 in /usr/local/lib/python3.10/dist-packages (from requests>=2.23.0->ultralytics) (3.6)\n",
            "Requirement already satisfied: urllib3<3,>=1.21.1 in /usr/local/lib/python3.10/dist-packages (from requests>=2.23.0->ultralytics) (2.0.7)\n",
            "Requirement already satisfied: certifi>=2017.4.17 in /usr/local/lib/python3.10/dist-packages (from requests>=2.23.0->ultralytics) (2024.2.2)\n",
            "Requirement already satisfied: filelock in /usr/local/lib/python3.10/dist-packages (from torch>=1.8.0->ultralytics) (3.13.1)\n",
            "Requirement already satisfied: typing-extensions in /usr/local/lib/python3.10/dist-packages (from torch>=1.8.0->ultralytics) (4.10.0)\n",
            "Requirement already satisfied: sympy in /usr/local/lib/python3.10/dist-packages (from torch>=1.8.0->ultralytics) (1.12)\n",
            "Requirement already satisfied: networkx in /usr/local/lib/python3.10/dist-packages (from torch>=1.8.0->ultralytics) (3.2.1)\n",
            "Requirement already satisfied: jinja2 in /usr/local/lib/python3.10/dist-packages (from torch>=1.8.0->ultralytics) (3.1.3)\n",
            "Requirement already satisfied: fsspec in /usr/local/lib/python3.10/dist-packages (from torch>=1.8.0->ultralytics) (2023.6.0)\n",
            "Requirement already satisfied: triton==2.1.0 in /usr/local/lib/python3.10/dist-packages (from torch>=1.8.0->ultralytics) (2.1.0)\n",
            "Requirement already satisfied: six>=1.5 in /usr/local/lib/python3.10/dist-packages (from python-dateutil>=2.7->matplotlib>=3.3.0->ultralytics) (1.16.0)\n",
            "Requirement already satisfied: MarkupSafe>=2.0 in /usr/local/lib/python3.10/dist-packages (from jinja2->torch>=1.8.0->ultralytics) (2.1.5)\n",
            "Requirement already satisfied: mpmath>=0.19 in /usr/local/lib/python3.10/dist-packages (from sympy->torch>=1.8.0->ultralytics) (1.3.0)\n",
            "Installing collected packages: thop, ultralytics\n",
            "Successfully installed thop-0.1.1.post2209072238 ultralytics-8.1.23\n"
          ]
        }
      ],
      "source": [
        "# install ultralytics to load YOLO\n",
        "!pip install ultralytics"
      ]
    },
    {
      "cell_type": "code",
      "source": [
        "!pip install torch torchvision\n"
      ],
      "metadata": {
        "id": "79OCZCZ2kdyE",
        "outputId": "af34708b-5e74-4951-9778-21bdfaaa4351",
        "colab": {
          "base_uri": "https://localhost:8080/"
        }
      },
      "execution_count": null,
      "outputs": [
        {
          "output_type": "stream",
          "name": "stdout",
          "text": [
            "Requirement already satisfied: torch in /usr/local/lib/python3.10/dist-packages (2.1.0+cu121)\n",
            "Requirement already satisfied: torchvision in /usr/local/lib/python3.10/dist-packages (0.16.0+cu121)\n",
            "Requirement already satisfied: filelock in /usr/local/lib/python3.10/dist-packages (from torch) (3.13.1)\n",
            "Requirement already satisfied: typing-extensions in /usr/local/lib/python3.10/dist-packages (from torch) (4.10.0)\n",
            "Requirement already satisfied: sympy in /usr/local/lib/python3.10/dist-packages (from torch) (1.12)\n",
            "Requirement already satisfied: networkx in /usr/local/lib/python3.10/dist-packages (from torch) (3.2.1)\n",
            "Requirement already satisfied: jinja2 in /usr/local/lib/python3.10/dist-packages (from torch) (3.1.3)\n",
            "Requirement already satisfied: fsspec in /usr/local/lib/python3.10/dist-packages (from torch) (2023.6.0)\n",
            "Requirement already satisfied: triton==2.1.0 in /usr/local/lib/python3.10/dist-packages (from torch) (2.1.0)\n",
            "Requirement already satisfied: numpy in /usr/local/lib/python3.10/dist-packages (from torchvision) (1.25.2)\n",
            "Requirement already satisfied: requests in /usr/local/lib/python3.10/dist-packages (from torchvision) (2.31.0)\n",
            "Requirement already satisfied: pillow!=8.3.*,>=5.3.0 in /usr/local/lib/python3.10/dist-packages (from torchvision) (9.4.0)\n",
            "Requirement already satisfied: MarkupSafe>=2.0 in /usr/local/lib/python3.10/dist-packages (from jinja2->torch) (2.1.5)\n",
            "Requirement already satisfied: charset-normalizer<4,>=2 in /usr/local/lib/python3.10/dist-packages (from requests->torchvision) (3.3.2)\n",
            "Requirement already satisfied: idna<4,>=2.5 in /usr/local/lib/python3.10/dist-packages (from requests->torchvision) (3.6)\n",
            "Requirement already satisfied: urllib3<3,>=1.21.1 in /usr/local/lib/python3.10/dist-packages (from requests->torchvision) (2.0.7)\n",
            "Requirement already satisfied: certifi>=2017.4.17 in /usr/local/lib/python3.10/dist-packages (from requests->torchvision) (2024.2.2)\n",
            "Requirement already satisfied: mpmath>=0.19 in /usr/local/lib/python3.10/dist-packages (from sympy->torch) (1.3.0)\n"
          ]
        }
      ]
    },
    {
      "cell_type": "code",
      "execution_count": null,
      "metadata": {
        "colab": {
          "base_uri": "https://localhost:8080/"
        },
        "id": "aSrfaXmqqUxZ",
        "outputId": "b97a862c-6e60-4b0a-87f3-8ecbe7c7fcb7"
      },
      "outputs": [
        {
          "output_type": "stream",
          "name": "stdout",
          "text": [
            "Ultralytics YOLOv8.1.23 🚀 Python-3.10.12 torch-2.1.0+cu121 CUDA:0 (Tesla T4, 15102MiB)\n",
            "\u001b[34m\u001b[1mengine/trainer: \u001b[0mtask=detect, mode=train, model=yolov8n.yaml, data=gdrive/MyDrive/formula1-model/colab-f1.yaml, epochs=250, time=None, patience=100, batch=16, imgsz=640, save=True, save_period=-1, cache=False, device=None, workers=8, project=None, name=train, exist_ok=False, pretrained=True, optimizer=auto, verbose=True, seed=0, deterministic=True, single_cls=False, rect=False, cos_lr=False, close_mosaic=10, resume=False, amp=True, fraction=1.0, profile=False, freeze=None, multi_scale=False, overlap_mask=True, mask_ratio=4, dropout=0.0, val=True, split=val, save_json=False, save_hybrid=False, conf=None, iou=0.7, max_det=300, half=False, dnn=False, plots=True, source=None, vid_stride=1, stream_buffer=False, visualize=False, augment=False, agnostic_nms=False, classes=None, retina_masks=False, embed=None, show=False, save_frames=False, save_txt=False, save_conf=False, save_crop=False, show_labels=True, show_conf=True, show_boxes=True, line_width=None, format=torchscript, keras=False, optimize=False, int8=False, dynamic=False, simplify=False, opset=None, workspace=4, nms=False, lr0=0.01, lrf=0.01, momentum=0.937, weight_decay=0.0005, warmup_epochs=3.0, warmup_momentum=0.8, warmup_bias_lr=0.1, box=7.5, cls=0.5, dfl=1.5, pose=12.0, kobj=1.0, label_smoothing=0.0, nbs=64, hsv_h=0.015, hsv_s=0.7, hsv_v=0.4, degrees=0.0, translate=0.1, scale=0.5, shear=0.0, perspective=0.0, flipud=0.0, fliplr=0.5, mosaic=1.0, mixup=0.0, copy_paste=0.0, auto_augment=randaugment, erasing=0.4, crop_fraction=1.0, cfg=None, tracker=botsort.yaml, save_dir=runs/detect/train\n",
            "Downloading https://ultralytics.com/assets/Arial.ttf to '/root/.config/Ultralytics/Arial.ttf'...\n"
          ]
        },
        {
          "output_type": "stream",
          "name": "stderr",
          "text": [
            "100%|██████████| 755k/755k [00:00<00:00, 16.3MB/s]\n"
          ]
        },
        {
          "output_type": "stream",
          "name": "stdout",
          "text": [
            "Overriding model.yaml nc=80 with nc=1\n",
            "\n",
            "                   from  n    params  module                                       arguments                     \n",
            "  0                  -1  1       464  ultralytics.nn.modules.conv.Conv             [3, 16, 3, 2]                 \n",
            "  1                  -1  1      4672  ultralytics.nn.modules.conv.Conv             [16, 32, 3, 2]                \n",
            "  2                  -1  1      7360  ultralytics.nn.modules.block.C2f             [32, 32, 1, True]             \n",
            "  3                  -1  1     18560  ultralytics.nn.modules.conv.Conv             [32, 64, 3, 2]                \n",
            "  4                  -1  2     49664  ultralytics.nn.modules.block.C2f             [64, 64, 2, True]             \n",
            "  5                  -1  1     73984  ultralytics.nn.modules.conv.Conv             [64, 128, 3, 2]               \n",
            "  6                  -1  2    197632  ultralytics.nn.modules.block.C2f             [128, 128, 2, True]           \n",
            "  7                  -1  1    295424  ultralytics.nn.modules.conv.Conv             [128, 256, 3, 2]              \n",
            "  8                  -1  1    460288  ultralytics.nn.modules.block.C2f             [256, 256, 1, True]           \n",
            "  9                  -1  1    164608  ultralytics.nn.modules.block.SPPF            [256, 256, 5]                 \n",
            " 10                  -1  1         0  torch.nn.modules.upsampling.Upsample         [None, 2, 'nearest']          \n",
            " 11             [-1, 6]  1         0  ultralytics.nn.modules.conv.Concat           [1]                           \n",
            " 12                  -1  1    148224  ultralytics.nn.modules.block.C2f             [384, 128, 1]                 \n",
            " 13                  -1  1         0  torch.nn.modules.upsampling.Upsample         [None, 2, 'nearest']          \n",
            " 14             [-1, 4]  1         0  ultralytics.nn.modules.conv.Concat           [1]                           \n",
            " 15                  -1  1     37248  ultralytics.nn.modules.block.C2f             [192, 64, 1]                  \n",
            " 16                  -1  1     36992  ultralytics.nn.modules.conv.Conv             [64, 64, 3, 2]                \n",
            " 17            [-1, 12]  1         0  ultralytics.nn.modules.conv.Concat           [1]                           \n",
            " 18                  -1  1    123648  ultralytics.nn.modules.block.C2f             [192, 128, 1]                 \n",
            " 19                  -1  1    147712  ultralytics.nn.modules.conv.Conv             [128, 128, 3, 2]              \n",
            " 20             [-1, 9]  1         0  ultralytics.nn.modules.conv.Concat           [1]                           \n",
            " 21                  -1  1    493056  ultralytics.nn.modules.block.C2f             [384, 256, 1]                 \n",
            " 22        [15, 18, 21]  1    751507  ultralytics.nn.modules.head.Detect           [1, [64, 128, 256]]           \n",
            "YOLOv8n summary: 225 layers, 3011043 parameters, 3011027 gradients, 8.2 GFLOPs\n",
            "\n",
            "\u001b[34m\u001b[1mTensorBoard: \u001b[0mStart with 'tensorboard --logdir runs/detect/train', view at http://localhost:6006/\n",
            "Freezing layer 'model.22.dfl.conv.weight'\n",
            "\u001b[34m\u001b[1mAMP: \u001b[0mrunning Automatic Mixed Precision (AMP) checks with YOLOv8n...\n",
            "Downloading https://github.com/ultralytics/assets/releases/download/v8.1.0/yolov8n.pt to 'yolov8n.pt'...\n"
          ]
        },
        {
          "output_type": "stream",
          "name": "stderr",
          "text": [
            "100%|██████████| 6.23M/6.23M [00:00<00:00, 78.8MB/s]\n"
          ]
        },
        {
          "output_type": "stream",
          "name": "stdout",
          "text": [
            "\u001b[34m\u001b[1mAMP: \u001b[0mchecks passed ✅\n"
          ]
        },
        {
          "output_type": "stream",
          "name": "stderr",
          "text": [
            "\u001b[34m\u001b[1mtrain: \u001b[0mScanning /content/gdrive/MyDrive/formula1-model/labels/train.cache... 113 images, 0 backgrounds, 0 corrupt: 100%|██████████| 113/113 [00:00<?, ?it/s]\n"
          ]
        },
        {
          "output_type": "stream",
          "name": "stdout",
          "text": [
            "\u001b[34m\u001b[1malbumentations: \u001b[0mBlur(p=0.01, blur_limit=(3, 7)), MedianBlur(p=0.01, blur_limit=(3, 7)), ToGray(p=0.01), CLAHE(p=0.01, clip_limit=(1, 4.0), tile_grid_size=(8, 8))\n"
          ]
        },
        {
          "output_type": "stream",
          "name": "stderr",
          "text": [
            "\u001b[34m\u001b[1mval: \u001b[0mScanning /content/gdrive/MyDrive/formula1-model/labels/train.cache... 113 images, 0 backgrounds, 0 corrupt: 100%|██████████| 113/113 [00:00<?, ?it/s]\n"
          ]
        },
        {
          "output_type": "stream",
          "name": "stdout",
          "text": [
            "Plotting labels to runs/detect/train/labels.jpg... \n",
            "\u001b[34m\u001b[1moptimizer:\u001b[0m 'optimizer=auto' found, ignoring 'lr0=0.01' and 'momentum=0.937' and determining best 'optimizer', 'lr0' and 'momentum' automatically... \n",
            "\u001b[34m\u001b[1moptimizer:\u001b[0m AdamW(lr=0.002, momentum=0.9) with parameter groups 57 weight(decay=0.0), 64 weight(decay=0.0005), 63 bias(decay=0.0)\n",
            "\u001b[34m\u001b[1mTensorBoard: \u001b[0mmodel graph visualization added ✅\n",
            "Image sizes 640 train, 640 val\n",
            "Using 2 dataloader workers\n",
            "Logging results to \u001b[1mruns/detect/train\u001b[0m\n",
            "Starting training for 250 epochs...\n",
            "\n",
            "      Epoch    GPU_mem   box_loss   cls_loss   dfl_loss  Instances       Size\n"
          ]
        },
        {
          "output_type": "stream",
          "name": "stderr",
          "text": [
            "      1/250      2.48G      3.504      3.622      4.303          1        640: 100%|██████████| 8/8 [00:08<00:00,  1.03s/it]\n",
            "                 Class     Images  Instances      Box(P          R      mAP50  mAP50-95): 100%|██████████| 4/4 [00:03<00:00,  1.15it/s]"
          ]
        },
        {
          "output_type": "stream",
          "name": "stdout",
          "text": [
            "                   all        113        253    0.00412      0.458    0.00719    0.00222\n"
          ]
        },
        {
          "output_type": "stream",
          "name": "stderr",
          "text": [
            "\n"
          ]
        },
        {
          "output_type": "stream",
          "name": "stdout",
          "text": [
            "\n",
            "      Epoch    GPU_mem   box_loss   cls_loss   dfl_loss  Instances       Size\n"
          ]
        },
        {
          "output_type": "stream",
          "name": "stderr",
          "text": [
            "      2/250      2.32G      3.434      3.449      4.274          3        640: 100%|██████████| 8/8 [00:05<00:00,  1.58it/s]\n",
            "                 Class     Images  Instances      Box(P          R      mAP50  mAP50-95): 100%|██████████| 4/4 [00:02<00:00,  1.86it/s]"
          ]
        },
        {
          "output_type": "stream",
          "name": "stdout",
          "text": [
            "                   all        113        253    0.00414      0.462     0.0149     0.0034\n"
          ]
        },
        {
          "output_type": "stream",
          "name": "stderr",
          "text": [
            "\n"
          ]
        },
        {
          "output_type": "stream",
          "name": "stdout",
          "text": [
            "\n",
            "      Epoch    GPU_mem   box_loss   cls_loss   dfl_loss  Instances       Size\n"
          ]
        },
        {
          "output_type": "stream",
          "name": "stderr",
          "text": [
            "      3/250      2.25G      3.282      3.539      4.231          1        640: 100%|██████████| 8/8 [00:03<00:00,  2.26it/s]\n",
            "                 Class     Images  Instances      Box(P          R      mAP50  mAP50-95): 100%|██████████| 4/4 [00:01<00:00,  2.76it/s]"
          ]
        },
        {
          "output_type": "stream",
          "name": "stdout",
          "text": [
            "                   all        113        253    0.00412      0.458    0.00922    0.00274\n"
          ]
        },
        {
          "output_type": "stream",
          "name": "stderr",
          "text": [
            "\n"
          ]
        },
        {
          "output_type": "stream",
          "name": "stdout",
          "text": [
            "\n",
            "      Epoch    GPU_mem   box_loss   cls_loss   dfl_loss  Instances       Size\n"
          ]
        },
        {
          "output_type": "stream",
          "name": "stderr",
          "text": [
            "      4/250      2.32G      3.301      3.311       4.07          3        640: 100%|██████████| 8/8 [00:03<00:00,  2.62it/s]\n",
            "                 Class     Images  Instances      Box(P          R      mAP50  mAP50-95): 100%|██████████| 4/4 [00:03<00:00,  1.17it/s]\n"
          ]
        },
        {
          "output_type": "stream",
          "name": "stdout",
          "text": [
            "                   all        113        253    0.00415      0.462     0.0139    0.00319\n",
            "\n",
            "      Epoch    GPU_mem   box_loss   cls_loss   dfl_loss  Instances       Size\n"
          ]
        },
        {
          "output_type": "stream",
          "name": "stderr",
          "text": [
            "      5/250      2.22G      3.231      3.302      4.004          5        640: 100%|██████████| 8/8 [00:02<00:00,  3.86it/s]\n",
            "                 Class     Images  Instances      Box(P          R      mAP50  mAP50-95): 100%|██████████| 4/4 [00:02<00:00,  1.58it/s]"
          ]
        },
        {
          "output_type": "stream",
          "name": "stdout",
          "text": [
            "                   all        113        253    0.00418       0.47     0.0184    0.00701\n"
          ]
        },
        {
          "output_type": "stream",
          "name": "stderr",
          "text": [
            "\n"
          ]
        },
        {
          "output_type": "stream",
          "name": "stdout",
          "text": [
            "\n",
            "      Epoch    GPU_mem   box_loss   cls_loss   dfl_loss  Instances       Size\n"
          ]
        },
        {
          "output_type": "stream",
          "name": "stderr",
          "text": [
            "      6/250      2.21G      3.065      3.201      3.888          2        640: 100%|██████████| 8/8 [00:01<00:00,  4.00it/s]\n",
            "                 Class     Images  Instances      Box(P          R      mAP50  mAP50-95): 100%|██████████| 4/4 [00:03<00:00,  1.16it/s]"
          ]
        },
        {
          "output_type": "stream",
          "name": "stdout",
          "text": [
            "                   all        113        253    0.00414      0.458      0.015    0.00308\n"
          ]
        },
        {
          "output_type": "stream",
          "name": "stderr",
          "text": [
            "\n"
          ]
        },
        {
          "output_type": "stream",
          "name": "stdout",
          "text": [
            "\n",
            "      Epoch    GPU_mem   box_loss   cls_loss   dfl_loss  Instances       Size\n"
          ]
        },
        {
          "output_type": "stream",
          "name": "stderr",
          "text": [
            "      7/250      2.23G       3.07       3.27      3.772          2        640: 100%|██████████| 8/8 [00:01<00:00,  4.03it/s]\n",
            "                 Class     Images  Instances      Box(P          R      mAP50  mAP50-95): 100%|██████████| 4/4 [00:02<00:00,  1.92it/s]"
          ]
        },
        {
          "output_type": "stream",
          "name": "stdout",
          "text": [
            "                   all        113        253    0.00417      0.458     0.0117    0.00233\n"
          ]
        },
        {
          "output_type": "stream",
          "name": "stderr",
          "text": [
            "\n"
          ]
        },
        {
          "output_type": "stream",
          "name": "stdout",
          "text": [
            "\n",
            "      Epoch    GPU_mem   box_loss   cls_loss   dfl_loss  Instances       Size\n"
          ]
        },
        {
          "output_type": "stream",
          "name": "stderr",
          "text": [
            "      8/250      2.31G      2.881      3.117      3.649          2        640: 100%|██████████| 8/8 [00:02<00:00,  3.77it/s]\n",
            "                 Class     Images  Instances      Box(P          R      mAP50  mAP50-95): 100%|██████████| 4/4 [00:02<00:00,  1.77it/s]"
          ]
        },
        {
          "output_type": "stream",
          "name": "stdout",
          "text": [
            "                   all        113        253    0.00421      0.447     0.0122    0.00244\n"
          ]
        },
        {
          "output_type": "stream",
          "name": "stderr",
          "text": [
            "\n"
          ]
        },
        {
          "output_type": "stream",
          "name": "stdout",
          "text": [
            "\n",
            "      Epoch    GPU_mem   box_loss   cls_loss   dfl_loss  Instances       Size\n"
          ]
        },
        {
          "output_type": "stream",
          "name": "stderr",
          "text": [
            "      9/250      2.21G      2.976      3.019      3.569          5        640: 100%|██████████| 8/8 [00:02<00:00,  2.76it/s]\n",
            "                 Class     Images  Instances      Box(P          R      mAP50  mAP50-95): 100%|██████████| 4/4 [00:02<00:00,  1.36it/s]"
          ]
        },
        {
          "output_type": "stream",
          "name": "stdout",
          "text": [
            "                   all        113        253    0.00427      0.458     0.0177    0.00506\n"
          ]
        },
        {
          "output_type": "stream",
          "name": "stderr",
          "text": [
            "\n"
          ]
        },
        {
          "output_type": "stream",
          "name": "stdout",
          "text": [
            "\n",
            "      Epoch    GPU_mem   box_loss   cls_loss   dfl_loss  Instances       Size\n"
          ]
        },
        {
          "output_type": "stream",
          "name": "stderr",
          "text": [
            "     10/250      2.21G      2.916      3.047       3.46          2        640: 100%|██████████| 8/8 [00:02<00:00,  3.93it/s]\n",
            "                 Class     Images  Instances      Box(P          R      mAP50  mAP50-95): 100%|██████████| 4/4 [00:02<00:00,  1.70it/s]"
          ]
        },
        {
          "output_type": "stream",
          "name": "stdout",
          "text": [
            "                   all        113        253    0.00557      0.364     0.0126    0.00284\n"
          ]
        },
        {
          "output_type": "stream",
          "name": "stderr",
          "text": [
            "\n"
          ]
        },
        {
          "output_type": "stream",
          "name": "stdout",
          "text": [
            "\n",
            "      Epoch    GPU_mem   box_loss   cls_loss   dfl_loss  Instances       Size\n"
          ]
        },
        {
          "output_type": "stream",
          "name": "stderr",
          "text": [
            "     11/250      2.32G      2.857       2.91      3.391          3        640: 100%|██████████| 8/8 [00:02<00:00,  2.83it/s]\n",
            "                 Class     Images  Instances      Box(P          R      mAP50  mAP50-95): 100%|██████████| 4/4 [00:03<00:00,  1.22it/s]\n"
          ]
        },
        {
          "output_type": "stream",
          "name": "stdout",
          "text": [
            "                   all        113        253    0.00945      0.344     0.0195    0.00427\n",
            "\n",
            "      Epoch    GPU_mem   box_loss   cls_loss   dfl_loss  Instances       Size\n"
          ]
        },
        {
          "output_type": "stream",
          "name": "stderr",
          "text": [
            "     12/250       2.3G       2.76      2.847       3.33          7        640: 100%|██████████| 8/8 [00:01<00:00,  4.10it/s]\n",
            "                 Class     Images  Instances      Box(P          R      mAP50  mAP50-95): 100%|██████████| 4/4 [00:02<00:00,  1.64it/s]"
          ]
        },
        {
          "output_type": "stream",
          "name": "stdout",
          "text": [
            "                   all        113        253     0.0636     0.0514     0.0169    0.00458\n"
          ]
        },
        {
          "output_type": "stream",
          "name": "stderr",
          "text": [
            "\n"
          ]
        },
        {
          "output_type": "stream",
          "name": "stdout",
          "text": [
            "\n",
            "      Epoch    GPU_mem   box_loss   cls_loss   dfl_loss  Instances       Size\n"
          ]
        },
        {
          "output_type": "stream",
          "name": "stderr",
          "text": [
            "     13/250      2.24G      2.932      2.856      3.248          2        640: 100%|██████████| 8/8 [00:01<00:00,  4.04it/s]\n",
            "                 Class     Images  Instances      Box(P          R      mAP50  mAP50-95): 100%|██████████| 4/4 [00:03<00:00,  1.12it/s]\n"
          ]
        },
        {
          "output_type": "stream",
          "name": "stdout",
          "text": [
            "                   all        113        253     0.0878      0.115      0.039    0.00983\n",
            "\n",
            "      Epoch    GPU_mem   box_loss   cls_loss   dfl_loss  Instances       Size\n"
          ]
        },
        {
          "output_type": "stream",
          "name": "stderr",
          "text": [
            "     14/250      2.33G       2.73      3.002      3.341          4        640: 100%|██████████| 8/8 [00:02<00:00,  3.88it/s]\n",
            "                 Class     Images  Instances      Box(P          R      mAP50  mAP50-95): 100%|██████████| 4/4 [00:02<00:00,  1.84it/s]"
          ]
        },
        {
          "output_type": "stream",
          "name": "stdout",
          "text": [
            "                   all        113        253     0.0998      0.178     0.0577     0.0149\n"
          ]
        },
        {
          "output_type": "stream",
          "name": "stderr",
          "text": [
            "\n"
          ]
        },
        {
          "output_type": "stream",
          "name": "stdout",
          "text": [
            "\n",
            "      Epoch    GPU_mem   box_loss   cls_loss   dfl_loss  Instances       Size\n"
          ]
        },
        {
          "output_type": "stream",
          "name": "stderr",
          "text": [
            "     15/250      2.29G      2.805       2.72      3.192          3        640: 100%|██████████| 8/8 [00:02<00:00,  3.97it/s]\n",
            "                 Class     Images  Instances      Box(P          R      mAP50  mAP50-95): 100%|██████████| 4/4 [00:02<00:00,  1.48it/s]"
          ]
        },
        {
          "output_type": "stream",
          "name": "stdout",
          "text": [
            "                   all        113        253     0.0737      0.186     0.0345    0.00871\n"
          ]
        },
        {
          "output_type": "stream",
          "name": "stderr",
          "text": [
            "\n"
          ]
        },
        {
          "output_type": "stream",
          "name": "stdout",
          "text": [
            "\n",
            "      Epoch    GPU_mem   box_loss   cls_loss   dfl_loss  Instances       Size\n"
          ]
        },
        {
          "output_type": "stream",
          "name": "stderr",
          "text": [
            "     16/250      2.23G      2.717      2.713      3.197          6        640: 100%|██████████| 8/8 [00:02<00:00,  2.82it/s]\n",
            "                 Class     Images  Instances      Box(P          R      mAP50  mAP50-95): 100%|██████████| 4/4 [00:02<00:00,  1.48it/s]"
          ]
        },
        {
          "output_type": "stream",
          "name": "stdout",
          "text": [
            "                   all        113        253       0.11      0.212       0.06     0.0145\n"
          ]
        },
        {
          "output_type": "stream",
          "name": "stderr",
          "text": [
            "\n"
          ]
        },
        {
          "output_type": "stream",
          "name": "stdout",
          "text": [
            "\n",
            "      Epoch    GPU_mem   box_loss   cls_loss   dfl_loss  Instances       Size\n"
          ]
        },
        {
          "output_type": "stream",
          "name": "stderr",
          "text": [
            "     17/250      2.22G      2.694      2.721      3.172          4        640: 100%|██████████| 8/8 [00:02<00:00,  3.87it/s]\n",
            "                 Class     Images  Instances      Box(P          R      mAP50  mAP50-95): 100%|██████████| 4/4 [00:01<00:00,  2.02it/s]"
          ]
        },
        {
          "output_type": "stream",
          "name": "stdout",
          "text": [
            "                   all        113        253      0.131      0.221     0.0682     0.0169\n"
          ]
        },
        {
          "output_type": "stream",
          "name": "stderr",
          "text": [
            "\n"
          ]
        },
        {
          "output_type": "stream",
          "name": "stdout",
          "text": [
            "\n",
            "      Epoch    GPU_mem   box_loss   cls_loss   dfl_loss  Instances       Size\n"
          ]
        },
        {
          "output_type": "stream",
          "name": "stderr",
          "text": [
            "     18/250      2.23G      2.648       2.71      3.148          6        640: 100%|██████████| 8/8 [00:03<00:00,  2.62it/s]\n",
            "                 Class     Images  Instances      Box(P          R      mAP50  mAP50-95): 100%|██████████| 4/4 [00:02<00:00,  1.68it/s]\n"
          ]
        },
        {
          "output_type": "stream",
          "name": "stdout",
          "text": [
            "                   all        113        253     0.0735      0.253     0.0445      0.012\n",
            "\n",
            "      Epoch    GPU_mem   box_loss   cls_loss   dfl_loss  Instances       Size\n"
          ]
        },
        {
          "output_type": "stream",
          "name": "stderr",
          "text": [
            "     19/250      2.21G       2.58      2.574       3.06          8        640: 100%|██████████| 8/8 [00:02<00:00,  2.99it/s]\n",
            "                 Class     Images  Instances      Box(P          R      mAP50  mAP50-95): 100%|██████████| 4/4 [00:01<00:00,  2.09it/s]"
          ]
        },
        {
          "output_type": "stream",
          "name": "stdout",
          "text": [
            "                   all        113        253      0.151       0.21     0.0924     0.0249\n"
          ]
        },
        {
          "output_type": "stream",
          "name": "stderr",
          "text": [
            "\n"
          ]
        },
        {
          "output_type": "stream",
          "name": "stdout",
          "text": [
            "\n",
            "      Epoch    GPU_mem   box_loss   cls_loss   dfl_loss  Instances       Size\n"
          ]
        },
        {
          "output_type": "stream",
          "name": "stderr",
          "text": [
            "     20/250      2.32G      2.506       2.72      2.959          2        640: 100%|██████████| 8/8 [00:02<00:00,  3.79it/s]\n",
            "                 Class     Images  Instances      Box(P          R      mAP50  mAP50-95): 100%|██████████| 4/4 [00:04<00:00,  1.00s/it]"
          ]
        },
        {
          "output_type": "stream",
          "name": "stdout",
          "text": [
            "                   all        113        253      0.118      0.241     0.0608     0.0178\n"
          ]
        },
        {
          "output_type": "stream",
          "name": "stderr",
          "text": [
            "\n"
          ]
        },
        {
          "output_type": "stream",
          "name": "stdout",
          "text": [
            "\n",
            "      Epoch    GPU_mem   box_loss   cls_loss   dfl_loss  Instances       Size\n"
          ]
        },
        {
          "output_type": "stream",
          "name": "stderr",
          "text": [
            "     21/250      2.32G      2.563      2.569       3.07          4        640: 100%|██████████| 8/8 [00:02<00:00,  3.76it/s]\n",
            "                 Class     Images  Instances      Box(P          R      mAP50  mAP50-95): 100%|██████████| 4/4 [00:02<00:00,  1.83it/s]"
          ]
        },
        {
          "output_type": "stream",
          "name": "stdout",
          "text": [
            "                   all        113        253      0.241      0.297      0.167     0.0512\n"
          ]
        },
        {
          "output_type": "stream",
          "name": "stderr",
          "text": [
            "\n"
          ]
        },
        {
          "output_type": "stream",
          "name": "stdout",
          "text": [
            "\n",
            "      Epoch    GPU_mem   box_loss   cls_loss   dfl_loss  Instances       Size\n"
          ]
        },
        {
          "output_type": "stream",
          "name": "stderr",
          "text": [
            "     22/250      2.24G      2.593       2.59      3.048          1        640: 100%|██████████| 8/8 [00:02<00:00,  3.98it/s]\n",
            "                 Class     Images  Instances      Box(P          R      mAP50  mAP50-95): 100%|██████████| 4/4 [00:03<00:00,  1.29it/s]"
          ]
        },
        {
          "output_type": "stream",
          "name": "stdout",
          "text": [
            "                   all        113        253     0.0476      0.277     0.0254      0.007\n"
          ]
        },
        {
          "output_type": "stream",
          "name": "stderr",
          "text": [
            "\n"
          ]
        },
        {
          "output_type": "stream",
          "name": "stdout",
          "text": [
            "\n",
            "      Epoch    GPU_mem   box_loss   cls_loss   dfl_loss  Instances       Size\n"
          ]
        },
        {
          "output_type": "stream",
          "name": "stderr",
          "text": [
            "     23/250       2.3G      2.697      2.666      3.202          2        640: 100%|██████████| 8/8 [00:02<00:00,  3.75it/s]\n",
            "                 Class     Images  Instances      Box(P          R      mAP50  mAP50-95): 100%|██████████| 4/4 [00:02<00:00,  1.58it/s]"
          ]
        },
        {
          "output_type": "stream",
          "name": "stdout",
          "text": [
            "                   all        113        253      0.134      0.285     0.0687     0.0168\n"
          ]
        },
        {
          "output_type": "stream",
          "name": "stderr",
          "text": [
            "\n"
          ]
        },
        {
          "output_type": "stream",
          "name": "stdout",
          "text": [
            "\n",
            "      Epoch    GPU_mem   box_loss   cls_loss   dfl_loss  Instances       Size\n"
          ]
        },
        {
          "output_type": "stream",
          "name": "stderr",
          "text": [
            "     24/250      2.33G      2.733      2.783      3.028          1        640: 100%|██████████| 8/8 [00:02<00:00,  3.88it/s]\n",
            "                 Class     Images  Instances      Box(P          R      mAP50  mAP50-95): 100%|██████████| 4/4 [00:02<00:00,  1.64it/s]"
          ]
        },
        {
          "output_type": "stream",
          "name": "stdout",
          "text": [
            "                   all        113        253      0.129      0.356      0.123     0.0417\n"
          ]
        },
        {
          "output_type": "stream",
          "name": "stderr",
          "text": [
            "\n"
          ]
        },
        {
          "output_type": "stream",
          "name": "stdout",
          "text": [
            "\n",
            "      Epoch    GPU_mem   box_loss   cls_loss   dfl_loss  Instances       Size\n"
          ]
        },
        {
          "output_type": "stream",
          "name": "stderr",
          "text": [
            "     25/250      2.22G      2.566       2.56      2.948         16        640: 100%|██████████| 8/8 [00:03<00:00,  2.56it/s]\n",
            "                 Class     Images  Instances      Box(P          R      mAP50  mAP50-95): 100%|██████████| 4/4 [00:02<00:00,  1.68it/s]"
          ]
        },
        {
          "output_type": "stream",
          "name": "stdout",
          "text": [
            "                   all        113        253       0.27      0.352      0.166     0.0543\n"
          ]
        },
        {
          "output_type": "stream",
          "name": "stderr",
          "text": [
            "\n"
          ]
        },
        {
          "output_type": "stream",
          "name": "stdout",
          "text": [
            "\n",
            "      Epoch    GPU_mem   box_loss   cls_loss   dfl_loss  Instances       Size\n"
          ]
        },
        {
          "output_type": "stream",
          "name": "stderr",
          "text": [
            "     26/250      2.32G      2.625      2.509      3.001          4        640: 100%|██████████| 8/8 [00:01<00:00,  4.06it/s]\n",
            "                 Class     Images  Instances      Box(P          R      mAP50  mAP50-95): 100%|██████████| 4/4 [00:02<00:00,  1.88it/s]\n"
          ]
        },
        {
          "output_type": "stream",
          "name": "stdout",
          "text": [
            "                   all        113        253      0.279      0.269      0.167     0.0429\n",
            "\n",
            "      Epoch    GPU_mem   box_loss   cls_loss   dfl_loss  Instances       Size\n"
          ]
        },
        {
          "output_type": "stream",
          "name": "stderr",
          "text": [
            "     27/250      2.22G      2.577      2.446      2.954         10        640: 100%|██████████| 8/8 [00:02<00:00,  2.90it/s]\n",
            "                 Class     Images  Instances      Box(P          R      mAP50  mAP50-95): 100%|██████████| 4/4 [00:03<00:00,  1.16it/s]"
          ]
        },
        {
          "output_type": "stream",
          "name": "stdout",
          "text": [
            "                   all        113        253      0.267      0.253      0.177     0.0536\n"
          ]
        },
        {
          "output_type": "stream",
          "name": "stderr",
          "text": [
            "\n"
          ]
        },
        {
          "output_type": "stream",
          "name": "stdout",
          "text": [
            "\n",
            "      Epoch    GPU_mem   box_loss   cls_loss   dfl_loss  Instances       Size\n"
          ]
        },
        {
          "output_type": "stream",
          "name": "stderr",
          "text": [
            "     28/250      2.33G      2.573      2.364       2.93         24        640: 100%|██████████| 8/8 [00:01<00:00,  4.15it/s]\n",
            "                 Class     Images  Instances      Box(P          R      mAP50  mAP50-95): 100%|██████████| 4/4 [00:01<00:00,  2.30it/s]\n"
          ]
        },
        {
          "output_type": "stream",
          "name": "stdout",
          "text": [
            "                   all        113        253     0.0797     0.0672     0.0217    0.00748\n",
            "\n",
            "      Epoch    GPU_mem   box_loss   cls_loss   dfl_loss  Instances       Size\n"
          ]
        },
        {
          "output_type": "stream",
          "name": "stderr",
          "text": [
            "     29/250      2.22G      2.442      2.496      2.957          9        640: 100%|██████████| 8/8 [00:02<00:00,  3.23it/s]\n",
            "                 Class     Images  Instances      Box(P          R      mAP50  mAP50-95): 100%|██████████| 4/4 [00:04<00:00,  1.03s/it]"
          ]
        },
        {
          "output_type": "stream",
          "name": "stdout",
          "text": [
            "                   all        113        253       0.15      0.348      0.101     0.0312\n"
          ]
        },
        {
          "output_type": "stream",
          "name": "stderr",
          "text": [
            "\n"
          ]
        },
        {
          "output_type": "stream",
          "name": "stdout",
          "text": [
            "\n",
            "      Epoch    GPU_mem   box_loss   cls_loss   dfl_loss  Instances       Size\n"
          ]
        },
        {
          "output_type": "stream",
          "name": "stderr",
          "text": [
            "     30/250      2.25G      2.439      2.375      2.904          5        640: 100%|██████████| 8/8 [00:02<00:00,  3.67it/s]\n",
            "                 Class     Images  Instances      Box(P          R      mAP50  mAP50-95): 100%|██████████| 4/4 [00:02<00:00,  1.80it/s]"
          ]
        },
        {
          "output_type": "stream",
          "name": "stdout",
          "text": [
            "                   all        113        253        0.2      0.289       0.15     0.0509\n"
          ]
        },
        {
          "output_type": "stream",
          "name": "stderr",
          "text": [
            "\n"
          ]
        },
        {
          "output_type": "stream",
          "name": "stdout",
          "text": [
            "\n",
            "      Epoch    GPU_mem   box_loss   cls_loss   dfl_loss  Instances       Size\n"
          ]
        },
        {
          "output_type": "stream",
          "name": "stderr",
          "text": [
            "     31/250      2.26G      2.417      2.378      2.853         20        640: 100%|██████████| 8/8 [00:02<00:00,  3.87it/s]\n",
            "                 Class     Images  Instances      Box(P          R      mAP50  mAP50-95): 100%|██████████| 4/4 [00:02<00:00,  1.34it/s]"
          ]
        },
        {
          "output_type": "stream",
          "name": "stdout",
          "text": [
            "                   all        113        253      0.214      0.285      0.148     0.0575\n"
          ]
        },
        {
          "output_type": "stream",
          "name": "stderr",
          "text": [
            "\n"
          ]
        },
        {
          "output_type": "stream",
          "name": "stdout",
          "text": [
            "\n",
            "      Epoch    GPU_mem   box_loss   cls_loss   dfl_loss  Instances       Size\n"
          ]
        },
        {
          "output_type": "stream",
          "name": "stderr",
          "text": [
            "     32/250      2.23G       2.29      2.296      2.815          3        640: 100%|██████████| 8/8 [00:02<00:00,  3.58it/s]\n",
            "                 Class     Images  Instances      Box(P          R      mAP50  mAP50-95): 100%|██████████| 4/4 [00:02<00:00,  1.93it/s]"
          ]
        },
        {
          "output_type": "stream",
          "name": "stdout",
          "text": [
            "                   all        113        253        0.3      0.292      0.189     0.0743\n"
          ]
        },
        {
          "output_type": "stream",
          "name": "stderr",
          "text": [
            "\n"
          ]
        },
        {
          "output_type": "stream",
          "name": "stdout",
          "text": [
            "\n",
            "      Epoch    GPU_mem   box_loss   cls_loss   dfl_loss  Instances       Size\n"
          ]
        },
        {
          "output_type": "stream",
          "name": "stderr",
          "text": [
            "     33/250      2.22G      2.236      2.341      2.805          2        640: 100%|██████████| 8/8 [00:02<00:00,  3.91it/s]\n",
            "                 Class     Images  Instances      Box(P          R      mAP50  mAP50-95): 100%|██████████| 4/4 [00:02<00:00,  1.82it/s]"
          ]
        },
        {
          "output_type": "stream",
          "name": "stdout",
          "text": [
            "                   all        113        253      0.251      0.328      0.166     0.0675\n"
          ]
        },
        {
          "output_type": "stream",
          "name": "stderr",
          "text": [
            "\n"
          ]
        },
        {
          "output_type": "stream",
          "name": "stdout",
          "text": [
            "\n",
            "      Epoch    GPU_mem   box_loss   cls_loss   dfl_loss  Instances       Size\n"
          ]
        },
        {
          "output_type": "stream",
          "name": "stderr",
          "text": [
            "     34/250      2.23G      2.338        2.5      2.875          2        640: 100%|██████████| 8/8 [00:03<00:00,  2.45it/s]\n",
            "                 Class     Images  Instances      Box(P          R      mAP50  mAP50-95): 100%|██████████| 4/4 [00:02<00:00,  1.45it/s]"
          ]
        },
        {
          "output_type": "stream",
          "name": "stdout",
          "text": [
            "                   all        113        253      0.323      0.316      0.216     0.0726\n"
          ]
        },
        {
          "output_type": "stream",
          "name": "stderr",
          "text": [
            "\n"
          ]
        },
        {
          "output_type": "stream",
          "name": "stdout",
          "text": [
            "\n",
            "      Epoch    GPU_mem   box_loss   cls_loss   dfl_loss  Instances       Size\n"
          ]
        },
        {
          "output_type": "stream",
          "name": "stderr",
          "text": [
            "     35/250      2.35G      2.226      2.329      2.864          8        640: 100%|██████████| 8/8 [00:02<00:00,  3.95it/s]\n",
            "                 Class     Images  Instances      Box(P          R      mAP50  mAP50-95): 100%|██████████| 4/4 [00:01<00:00,  2.15it/s]"
          ]
        },
        {
          "output_type": "stream",
          "name": "stdout",
          "text": [
            "                   all        113        253      0.372      0.348      0.266     0.0882\n"
          ]
        },
        {
          "output_type": "stream",
          "name": "stderr",
          "text": [
            "\n"
          ]
        },
        {
          "output_type": "stream",
          "name": "stdout",
          "text": [
            "\n",
            "      Epoch    GPU_mem   box_loss   cls_loss   dfl_loss  Instances       Size\n"
          ]
        },
        {
          "output_type": "stream",
          "name": "stderr",
          "text": [
            "     36/250      2.32G      2.278      2.304      2.875          7        640: 100%|██████████| 8/8 [00:03<00:00,  2.34it/s]\n",
            "                 Class     Images  Instances      Box(P          R      mAP50  mAP50-95): 100%|██████████| 4/4 [00:02<00:00,  1.57it/s]"
          ]
        },
        {
          "output_type": "stream",
          "name": "stdout",
          "text": [
            "                   all        113        253      0.171      0.209      0.113     0.0405\n"
          ]
        },
        {
          "output_type": "stream",
          "name": "stderr",
          "text": [
            "\n"
          ]
        },
        {
          "output_type": "stream",
          "name": "stdout",
          "text": [
            "\n",
            "      Epoch    GPU_mem   box_loss   cls_loss   dfl_loss  Instances       Size\n"
          ]
        },
        {
          "output_type": "stream",
          "name": "stderr",
          "text": [
            "     37/250      2.22G       2.26      2.238      2.742         24        640: 100%|██████████| 8/8 [00:02<00:00,  3.77it/s]\n",
            "                 Class     Images  Instances      Box(P          R      mAP50  mAP50-95): 100%|██████████| 4/4 [00:01<00:00,  2.36it/s]"
          ]
        },
        {
          "output_type": "stream",
          "name": "stdout",
          "text": [
            "                   all        113        253      0.216      0.213      0.127     0.0467\n"
          ]
        },
        {
          "output_type": "stream",
          "name": "stderr",
          "text": [
            "\n"
          ]
        },
        {
          "output_type": "stream",
          "name": "stdout",
          "text": [
            "\n",
            "      Epoch    GPU_mem   box_loss   cls_loss   dfl_loss  Instances       Size\n"
          ]
        },
        {
          "output_type": "stream",
          "name": "stderr",
          "text": [
            "     38/250      2.22G      2.203      2.147      2.748          6        640: 100%|██████████| 8/8 [00:02<00:00,  3.51it/s]\n",
            "                 Class     Images  Instances      Box(P          R      mAP50  mAP50-95): 100%|██████████| 4/4 [00:03<00:00,  1.26it/s]"
          ]
        },
        {
          "output_type": "stream",
          "name": "stdout",
          "text": [
            "                   all        113        253      0.158       0.32      0.133     0.0447\n"
          ]
        },
        {
          "output_type": "stream",
          "name": "stderr",
          "text": [
            "\n"
          ]
        },
        {
          "output_type": "stream",
          "name": "stdout",
          "text": [
            "\n",
            "      Epoch    GPU_mem   box_loss   cls_loss   dfl_loss  Instances       Size\n"
          ]
        },
        {
          "output_type": "stream",
          "name": "stderr",
          "text": [
            "     39/250      2.35G      2.268      2.272      2.777         11        640: 100%|██████████| 8/8 [00:02<00:00,  3.68it/s]\n",
            "                 Class     Images  Instances      Box(P          R      mAP50  mAP50-95): 100%|██████████| 4/4 [00:02<00:00,  1.80it/s]\n"
          ]
        },
        {
          "output_type": "stream",
          "name": "stdout",
          "text": [
            "                   all        113        253      0.222      0.332      0.188     0.0601\n",
            "\n",
            "      Epoch    GPU_mem   box_loss   cls_loss   dfl_loss  Instances       Size\n"
          ]
        },
        {
          "output_type": "stream",
          "name": "stderr",
          "text": [
            "     40/250      2.33G      2.096      2.192      2.717          1        640: 100%|██████████| 8/8 [00:02<00:00,  3.95it/s]\n",
            "                 Class     Images  Instances      Box(P          R      mAP50  mAP50-95): 100%|██████████| 4/4 [00:02<00:00,  1.78it/s]"
          ]
        },
        {
          "output_type": "stream",
          "name": "stdout",
          "text": [
            "                   all        113        253      0.253      0.292      0.213     0.0784\n"
          ]
        },
        {
          "output_type": "stream",
          "name": "stderr",
          "text": [
            "\n"
          ]
        },
        {
          "output_type": "stream",
          "name": "stdout",
          "text": [
            "\n",
            "      Epoch    GPU_mem   box_loss   cls_loss   dfl_loss  Instances       Size\n"
          ]
        },
        {
          "output_type": "stream",
          "name": "stderr",
          "text": [
            "     41/250      2.35G      2.156      2.096      2.668          4        640: 100%|██████████| 8/8 [00:03<00:00,  2.46it/s]\n",
            "                 Class     Images  Instances      Box(P          R      mAP50  mAP50-95): 100%|██████████| 4/4 [00:02<00:00,  1.62it/s]"
          ]
        },
        {
          "output_type": "stream",
          "name": "stdout",
          "text": [
            "                   all        113        253      0.136      0.249      0.118     0.0404\n"
          ]
        },
        {
          "output_type": "stream",
          "name": "stderr",
          "text": [
            "\n"
          ]
        },
        {
          "output_type": "stream",
          "name": "stdout",
          "text": [
            "\n",
            "      Epoch    GPU_mem   box_loss   cls_loss   dfl_loss  Instances       Size\n"
          ]
        },
        {
          "output_type": "stream",
          "name": "stderr",
          "text": [
            "     42/250       2.3G      2.227      2.209      2.728         15        640: 100%|██████████| 8/8 [00:02<00:00,  3.89it/s]\n",
            "                 Class     Images  Instances      Box(P          R      mAP50  mAP50-95): 100%|██████████| 4/4 [00:02<00:00,  1.82it/s]\n"
          ]
        },
        {
          "output_type": "stream",
          "name": "stdout",
          "text": [
            "                   all        113        253      0.155      0.304      0.128     0.0377\n",
            "\n",
            "      Epoch    GPU_mem   box_loss   cls_loss   dfl_loss  Instances       Size\n"
          ]
        },
        {
          "output_type": "stream",
          "name": "stderr",
          "text": [
            "     43/250      2.33G      2.189      2.172      2.662          2        640: 100%|██████████| 8/8 [00:02<00:00,  3.37it/s]\n",
            "                 Class     Images  Instances      Box(P          R      mAP50  mAP50-95): 100%|██████████| 4/4 [00:03<00:00,  1.11it/s]"
          ]
        },
        {
          "output_type": "stream",
          "name": "stdout",
          "text": [
            "                   all        113        253      0.368      0.364      0.273      0.118\n"
          ]
        },
        {
          "output_type": "stream",
          "name": "stderr",
          "text": [
            "\n"
          ]
        },
        {
          "output_type": "stream",
          "name": "stdout",
          "text": [
            "\n",
            "      Epoch    GPU_mem   box_loss   cls_loss   dfl_loss  Instances       Size\n"
          ]
        },
        {
          "output_type": "stream",
          "name": "stderr",
          "text": [
            "     44/250       2.3G      2.138      2.061      2.705          6        640: 100%|██████████| 8/8 [00:01<00:00,  4.10it/s]\n",
            "                 Class     Images  Instances      Box(P          R      mAP50  mAP50-95): 100%|██████████| 4/4 [00:02<00:00,  1.92it/s]"
          ]
        },
        {
          "output_type": "stream",
          "name": "stdout",
          "text": [
            "                   all        113        253      0.407      0.289      0.218      0.082\n"
          ]
        },
        {
          "output_type": "stream",
          "name": "stderr",
          "text": [
            "\n"
          ]
        },
        {
          "output_type": "stream",
          "name": "stdout",
          "text": [
            "\n",
            "      Epoch    GPU_mem   box_loss   cls_loss   dfl_loss  Instances       Size\n"
          ]
        },
        {
          "output_type": "stream",
          "name": "stderr",
          "text": [
            "     45/250      2.22G      2.136      2.028      2.582          4        640: 100%|██████████| 8/8 [00:02<00:00,  3.54it/s]\n",
            "                 Class     Images  Instances      Box(P          R      mAP50  mAP50-95): 100%|██████████| 4/4 [00:03<00:00,  1.27it/s]"
          ]
        },
        {
          "output_type": "stream",
          "name": "stdout",
          "text": [
            "                   all        113        253      0.393      0.451      0.314      0.129\n"
          ]
        },
        {
          "output_type": "stream",
          "name": "stderr",
          "text": [
            "\n"
          ]
        },
        {
          "output_type": "stream",
          "name": "stdout",
          "text": [
            "\n",
            "      Epoch    GPU_mem   box_loss   cls_loss   dfl_loss  Instances       Size\n"
          ]
        },
        {
          "output_type": "stream",
          "name": "stderr",
          "text": [
            "     46/250      2.24G      2.103      2.193      2.585          1        640: 100%|██████████| 8/8 [00:02<00:00,  3.81it/s]\n",
            "                 Class     Images  Instances      Box(P          R      mAP50  mAP50-95): 100%|██████████| 4/4 [00:01<00:00,  2.13it/s]\n"
          ]
        },
        {
          "output_type": "stream",
          "name": "stdout",
          "text": [
            "                   all        113        253      0.367      0.372      0.317      0.118\n",
            "\n",
            "      Epoch    GPU_mem   box_loss   cls_loss   dfl_loss  Instances       Size\n"
          ]
        },
        {
          "output_type": "stream",
          "name": "stderr",
          "text": [
            "     47/250       2.3G       2.03      2.047      2.583          2        640: 100%|██████████| 8/8 [00:02<00:00,  3.72it/s]\n",
            "                 Class     Images  Instances      Box(P          R      mAP50  mAP50-95): 100%|██████████| 4/4 [00:01<00:00,  2.08it/s]"
          ]
        },
        {
          "output_type": "stream",
          "name": "stdout",
          "text": [
            "                   all        113        253      0.395        0.3      0.243     0.0895\n"
          ]
        },
        {
          "output_type": "stream",
          "name": "stderr",
          "text": [
            "\n"
          ]
        },
        {
          "output_type": "stream",
          "name": "stdout",
          "text": [
            "\n",
            "      Epoch    GPU_mem   box_loss   cls_loss   dfl_loss  Instances       Size\n"
          ]
        },
        {
          "output_type": "stream",
          "name": "stderr",
          "text": [
            "     48/250      2.22G      2.041      2.047      2.596          2        640: 100%|██████████| 8/8 [00:03<00:00,  2.50it/s]\n",
            "                 Class     Images  Instances      Box(P          R      mAP50  mAP50-95): 100%|██████████| 4/4 [00:02<00:00,  1.68it/s]"
          ]
        },
        {
          "output_type": "stream",
          "name": "stdout",
          "text": [
            "                   all        113        253      0.408      0.391      0.315      0.137\n"
          ]
        },
        {
          "output_type": "stream",
          "name": "stderr",
          "text": [
            "\n"
          ]
        },
        {
          "output_type": "stream",
          "name": "stdout",
          "text": [
            "\n",
            "      Epoch    GPU_mem   box_loss   cls_loss   dfl_loss  Instances       Size\n"
          ]
        },
        {
          "output_type": "stream",
          "name": "stderr",
          "text": [
            "     49/250      2.23G      2.061      2.018      2.553          3        640: 100%|██████████| 8/8 [00:01<00:00,  4.13it/s]\n",
            "                 Class     Images  Instances      Box(P          R      mAP50  mAP50-95): 100%|██████████| 4/4 [00:02<00:00,  1.77it/s]"
          ]
        },
        {
          "output_type": "stream",
          "name": "stdout",
          "text": [
            "                   all        113        253      0.476      0.458      0.398      0.165\n"
          ]
        },
        {
          "output_type": "stream",
          "name": "stderr",
          "text": [
            "\n"
          ]
        },
        {
          "output_type": "stream",
          "name": "stdout",
          "text": [
            "\n",
            "      Epoch    GPU_mem   box_loss   cls_loss   dfl_loss  Instances       Size\n"
          ]
        },
        {
          "output_type": "stream",
          "name": "stderr",
          "text": [
            "     50/250      2.32G      2.057      1.888      2.608          3        640: 100%|██████████| 8/8 [00:02<00:00,  2.84it/s]\n",
            "                 Class     Images  Instances      Box(P          R      mAP50  mAP50-95): 100%|██████████| 4/4 [00:02<00:00,  1.39it/s]"
          ]
        },
        {
          "output_type": "stream",
          "name": "stdout",
          "text": [
            "                   all        113        253      0.237      0.383      0.177     0.0651\n"
          ]
        },
        {
          "output_type": "stream",
          "name": "stderr",
          "text": [
            "\n"
          ]
        },
        {
          "output_type": "stream",
          "name": "stdout",
          "text": [
            "\n",
            "      Epoch    GPU_mem   box_loss   cls_loss   dfl_loss  Instances       Size\n"
          ]
        },
        {
          "output_type": "stream",
          "name": "stderr",
          "text": [
            "     51/250      2.22G      2.113      2.014      2.595          6        640: 100%|██████████| 8/8 [00:01<00:00,  4.30it/s]\n",
            "                 Class     Images  Instances      Box(P          R      mAP50  mAP50-95): 100%|██████████| 4/4 [00:02<00:00,  1.76it/s]\n"
          ]
        },
        {
          "output_type": "stream",
          "name": "stdout",
          "text": [
            "                   all        113        253      0.439      0.411      0.326      0.144\n",
            "\n",
            "      Epoch    GPU_mem   box_loss   cls_loss   dfl_loss  Instances       Size\n"
          ]
        },
        {
          "output_type": "stream",
          "name": "stderr",
          "text": [
            "     52/250      2.33G      1.993      2.081        2.5          1        640: 100%|██████████| 8/8 [00:02<00:00,  3.84it/s]\n",
            "                 Class     Images  Instances      Box(P          R      mAP50  mAP50-95): 100%|██████████| 4/4 [00:03<00:00,  1.14it/s]"
          ]
        },
        {
          "output_type": "stream",
          "name": "stdout",
          "text": [
            "                   all        113        253      0.488       0.49       0.39      0.178\n"
          ]
        },
        {
          "output_type": "stream",
          "name": "stderr",
          "text": [
            "\n"
          ]
        },
        {
          "output_type": "stream",
          "name": "stdout",
          "text": [
            "\n",
            "      Epoch    GPU_mem   box_loss   cls_loss   dfl_loss  Instances       Size\n"
          ]
        },
        {
          "output_type": "stream",
          "name": "stderr",
          "text": [
            "     53/250      2.23G      1.991       1.85      2.482          7        640: 100%|██████████| 8/8 [00:01<00:00,  4.05it/s]\n",
            "                 Class     Images  Instances      Box(P          R      mAP50  mAP50-95): 100%|██████████| 4/4 [00:02<00:00,  1.81it/s]\n"
          ]
        },
        {
          "output_type": "stream",
          "name": "stdout",
          "text": [
            "                   all        113        253      0.445      0.565      0.381       0.17\n",
            "\n",
            "      Epoch    GPU_mem   box_loss   cls_loss   dfl_loss  Instances       Size\n"
          ]
        },
        {
          "output_type": "stream",
          "name": "stderr",
          "text": [
            "     54/250      2.34G      2.035      1.976      2.496          6        640: 100%|██████████| 8/8 [00:02<00:00,  3.69it/s]\n",
            "                 Class     Images  Instances      Box(P          R      mAP50  mAP50-95): 100%|██████████| 4/4 [00:02<00:00,  1.76it/s]"
          ]
        },
        {
          "output_type": "stream",
          "name": "stdout",
          "text": [
            "                   all        113        253      0.589      0.522      0.487      0.217\n"
          ]
        },
        {
          "output_type": "stream",
          "name": "stderr",
          "text": [
            "\n"
          ]
        },
        {
          "output_type": "stream",
          "name": "stdout",
          "text": [
            "\n",
            "      Epoch    GPU_mem   box_loss   cls_loss   dfl_loss  Instances       Size\n"
          ]
        },
        {
          "output_type": "stream",
          "name": "stderr",
          "text": [
            "     55/250      2.32G      2.022      1.939       2.53          4        640: 100%|██████████| 8/8 [00:02<00:00,  2.85it/s]\n",
            "                 Class     Images  Instances      Box(P          R      mAP50  mAP50-95): 100%|██████████| 4/4 [00:01<00:00,  2.03it/s]"
          ]
        },
        {
          "output_type": "stream",
          "name": "stdout",
          "text": [
            "                   all        113        253      0.634      0.527      0.546      0.243\n"
          ]
        },
        {
          "output_type": "stream",
          "name": "stderr",
          "text": [
            "\n"
          ]
        },
        {
          "output_type": "stream",
          "name": "stdout",
          "text": [
            "\n",
            "      Epoch    GPU_mem   box_loss   cls_loss   dfl_loss  Instances       Size\n"
          ]
        },
        {
          "output_type": "stream",
          "name": "stderr",
          "text": [
            "     56/250      2.35G       1.98      1.797      2.524          4        640: 100%|██████████| 8/8 [00:01<00:00,  4.24it/s]\n",
            "                 Class     Images  Instances      Box(P          R      mAP50  mAP50-95): 100%|██████████| 4/4 [00:01<00:00,  2.03it/s]"
          ]
        },
        {
          "output_type": "stream",
          "name": "stdout",
          "text": [
            "                   all        113        253      0.475      0.387      0.386      0.173\n"
          ]
        },
        {
          "output_type": "stream",
          "name": "stderr",
          "text": [
            "\n"
          ]
        },
        {
          "output_type": "stream",
          "name": "stdout",
          "text": [
            "\n",
            "      Epoch    GPU_mem   box_loss   cls_loss   dfl_loss  Instances       Size\n"
          ]
        },
        {
          "output_type": "stream",
          "name": "stderr",
          "text": [
            "     57/250      2.32G      1.833      1.917      2.406          2        640: 100%|██████████| 8/8 [00:03<00:00,  2.56it/s]\n",
            "                 Class     Images  Instances      Box(P          R      mAP50  mAP50-95): 100%|██████████| 4/4 [00:03<00:00,  1.25it/s]"
          ]
        },
        {
          "output_type": "stream",
          "name": "stdout",
          "text": [
            "                   all        113        253       0.45      0.352      0.316      0.123\n"
          ]
        },
        {
          "output_type": "stream",
          "name": "stderr",
          "text": [
            "\n"
          ]
        },
        {
          "output_type": "stream",
          "name": "stdout",
          "text": [
            "\n",
            "      Epoch    GPU_mem   box_loss   cls_loss   dfl_loss  Instances       Size\n"
          ]
        },
        {
          "output_type": "stream",
          "name": "stderr",
          "text": [
            "     58/250      2.23G      1.903      1.746      2.384          4        640: 100%|██████████| 8/8 [00:02<00:00,  3.98it/s]\n",
            "                 Class     Images  Instances      Box(P          R      mAP50  mAP50-95): 100%|██████████| 4/4 [00:02<00:00,  1.77it/s]"
          ]
        },
        {
          "output_type": "stream",
          "name": "stdout",
          "text": [
            "                   all        113        253      0.517      0.496      0.462      0.212\n"
          ]
        },
        {
          "output_type": "stream",
          "name": "stderr",
          "text": [
            "\n"
          ]
        },
        {
          "output_type": "stream",
          "name": "stdout",
          "text": [
            "\n",
            "      Epoch    GPU_mem   box_loss   cls_loss   dfl_loss  Instances       Size\n"
          ]
        },
        {
          "output_type": "stream",
          "name": "stderr",
          "text": [
            "     59/250      2.35G      1.887      1.813       2.45          5        640: 100%|██████████| 8/8 [00:02<00:00,  3.80it/s]\n",
            "                 Class     Images  Instances      Box(P          R      mAP50  mAP50-95): 100%|██████████| 4/4 [00:03<00:00,  1.11it/s]"
          ]
        },
        {
          "output_type": "stream",
          "name": "stdout",
          "text": [
            "                   all        113        253      0.434      0.553      0.368      0.163\n"
          ]
        },
        {
          "output_type": "stream",
          "name": "stderr",
          "text": [
            "\n"
          ]
        },
        {
          "output_type": "stream",
          "name": "stdout",
          "text": [
            "\n",
            "      Epoch    GPU_mem   box_loss   cls_loss   dfl_loss  Instances       Size\n"
          ]
        },
        {
          "output_type": "stream",
          "name": "stderr",
          "text": [
            "     60/250      2.21G      2.005      1.841      2.458          3        640: 100%|██████████| 8/8 [00:02<00:00,  3.79it/s]\n",
            "                 Class     Images  Instances      Box(P          R      mAP50  mAP50-95): 100%|██████████| 4/4 [00:02<00:00,  1.62it/s]\n"
          ]
        },
        {
          "output_type": "stream",
          "name": "stdout",
          "text": [
            "                   all        113        253      0.556      0.514      0.447      0.216\n",
            "\n",
            "      Epoch    GPU_mem   box_loss   cls_loss   dfl_loss  Instances       Size\n"
          ]
        },
        {
          "output_type": "stream",
          "name": "stderr",
          "text": [
            "     61/250      2.25G       1.95      1.808      2.465          4        640: 100%|██████████| 8/8 [00:02<00:00,  3.83it/s]\n",
            "                 Class     Images  Instances      Box(P          R      mAP50  mAP50-95): 100%|██████████| 4/4 [00:02<00:00,  1.68it/s]"
          ]
        },
        {
          "output_type": "stream",
          "name": "stdout",
          "text": [
            "                   all        113        253       0.58      0.557      0.468      0.217\n"
          ]
        },
        {
          "output_type": "stream",
          "name": "stderr",
          "text": [
            "\n"
          ]
        },
        {
          "output_type": "stream",
          "name": "stdout",
          "text": [
            "\n",
            "      Epoch    GPU_mem   box_loss   cls_loss   dfl_loss  Instances       Size\n"
          ]
        },
        {
          "output_type": "stream",
          "name": "stderr",
          "text": [
            "     62/250      2.21G      1.893      1.668      2.382          5        640: 100%|██████████| 8/8 [00:03<00:00,  2.59it/s]\n",
            "                 Class     Images  Instances      Box(P          R      mAP50  mAP50-95): 100%|██████████| 4/4 [00:02<00:00,  1.58it/s]"
          ]
        },
        {
          "output_type": "stream",
          "name": "stdout",
          "text": [
            "                   all        113        253      0.679      0.482      0.539      0.264\n"
          ]
        },
        {
          "output_type": "stream",
          "name": "stderr",
          "text": [
            "\n"
          ]
        },
        {
          "output_type": "stream",
          "name": "stdout",
          "text": [
            "\n",
            "      Epoch    GPU_mem   box_loss   cls_loss   dfl_loss  Instances       Size\n"
          ]
        },
        {
          "output_type": "stream",
          "name": "stderr",
          "text": [
            "     63/250      2.32G      1.841        1.8      2.274          2        640: 100%|██████████| 8/8 [00:01<00:00,  4.03it/s]\n",
            "                 Class     Images  Instances      Box(P          R      mAP50  mAP50-95): 100%|██████████| 4/4 [00:01<00:00,  2.03it/s]\n"
          ]
        },
        {
          "output_type": "stream",
          "name": "stdout",
          "text": [
            "                   all        113        253      0.779      0.494      0.585      0.293\n",
            "\n",
            "      Epoch    GPU_mem   box_loss   cls_loss   dfl_loss  Instances       Size\n"
          ]
        },
        {
          "output_type": "stream",
          "name": "stderr",
          "text": [
            "     64/250      2.32G      1.901      1.788      2.495          5        640: 100%|██████████| 8/8 [00:02<00:00,  3.07it/s]\n",
            "                 Class     Images  Instances      Box(P          R      mAP50  mAP50-95): 100%|██████████| 4/4 [00:03<00:00,  1.18it/s]"
          ]
        },
        {
          "output_type": "stream",
          "name": "stdout",
          "text": [
            "                   all        113        253      0.652      0.478      0.544      0.266\n"
          ]
        },
        {
          "output_type": "stream",
          "name": "stderr",
          "text": [
            "\n"
          ]
        },
        {
          "output_type": "stream",
          "name": "stdout",
          "text": [
            "\n",
            "      Epoch    GPU_mem   box_loss   cls_loss   dfl_loss  Instances       Size\n"
          ]
        },
        {
          "output_type": "stream",
          "name": "stderr",
          "text": [
            "     65/250      2.33G      1.961      1.799      2.503          1        640: 100%|██████████| 8/8 [00:02<00:00,  3.86it/s]\n",
            "                 Class     Images  Instances      Box(P          R      mAP50  mAP50-95): 100%|██████████| 4/4 [00:02<00:00,  1.75it/s]\n"
          ]
        },
        {
          "output_type": "stream",
          "name": "stdout",
          "text": [
            "                   all        113        253      0.582      0.526      0.511      0.242\n",
            "\n",
            "      Epoch    GPU_mem   box_loss   cls_loss   dfl_loss  Instances       Size\n"
          ]
        },
        {
          "output_type": "stream",
          "name": "stderr",
          "text": [
            "     66/250      2.24G      1.949      1.717      2.225          1        640: 100%|██████████| 8/8 [00:01<00:00,  4.04it/s]\n",
            "                 Class     Images  Instances      Box(P          R      mAP50  mAP50-95): 100%|██████████| 4/4 [00:03<00:00,  1.26it/s]"
          ]
        },
        {
          "output_type": "stream",
          "name": "stdout",
          "text": [
            "                   all        113        253      0.428      0.504      0.428      0.194\n"
          ]
        },
        {
          "output_type": "stream",
          "name": "stderr",
          "text": [
            "\n"
          ]
        },
        {
          "output_type": "stream",
          "name": "stdout",
          "text": [
            "\n",
            "      Epoch    GPU_mem   box_loss   cls_loss   dfl_loss  Instances       Size\n"
          ]
        },
        {
          "output_type": "stream",
          "name": "stderr",
          "text": [
            "     67/250      2.35G      1.976      1.782      2.446          2        640: 100%|██████████| 8/8 [00:02<00:00,  3.66it/s]\n",
            "                 Class     Images  Instances      Box(P          R      mAP50  mAP50-95): 100%|██████████| 4/4 [00:02<00:00,  1.57it/s]"
          ]
        },
        {
          "output_type": "stream",
          "name": "stdout",
          "text": [
            "                   all        113        253      0.565       0.55      0.506      0.257\n"
          ]
        },
        {
          "output_type": "stream",
          "name": "stderr",
          "text": [
            "\n"
          ]
        },
        {
          "output_type": "stream",
          "name": "stdout",
          "text": [
            "\n",
            "      Epoch    GPU_mem   box_loss   cls_loss   dfl_loss  Instances       Size\n"
          ]
        },
        {
          "output_type": "stream",
          "name": "stderr",
          "text": [
            "     68/250      2.24G      2.099      1.818       2.43         15        640: 100%|██████████| 8/8 [00:02<00:00,  3.87it/s]\n",
            "                 Class     Images  Instances      Box(P          R      mAP50  mAP50-95): 100%|██████████| 4/4 [00:02<00:00,  1.90it/s]"
          ]
        },
        {
          "output_type": "stream",
          "name": "stdout",
          "text": [
            "                   all        113        253      0.762      0.519      0.583      0.259\n"
          ]
        },
        {
          "output_type": "stream",
          "name": "stderr",
          "text": [
            "\n"
          ]
        },
        {
          "output_type": "stream",
          "name": "stdout",
          "text": [
            "\n",
            "      Epoch    GPU_mem   box_loss   cls_loss   dfl_loss  Instances       Size\n"
          ]
        },
        {
          "output_type": "stream",
          "name": "stderr",
          "text": [
            "     69/250      2.34G      1.978      1.804      2.357         18        640: 100%|██████████| 8/8 [00:03<00:00,  2.52it/s]\n",
            "                 Class     Images  Instances      Box(P          R      mAP50  mAP50-95): 100%|██████████| 4/4 [00:02<00:00,  1.61it/s]"
          ]
        },
        {
          "output_type": "stream",
          "name": "stdout",
          "text": [
            "                   all        113        253       0.77      0.565      0.641      0.309\n"
          ]
        },
        {
          "output_type": "stream",
          "name": "stderr",
          "text": [
            "\n"
          ]
        },
        {
          "output_type": "stream",
          "name": "stdout",
          "text": [
            "\n",
            "      Epoch    GPU_mem   box_loss   cls_loss   dfl_loss  Instances       Size\n"
          ]
        },
        {
          "output_type": "stream",
          "name": "stderr",
          "text": [
            "     70/250      2.23G      1.969      1.806      2.424          2        640: 100%|██████████| 8/8 [00:01<00:00,  4.02it/s]\n",
            "                 Class     Images  Instances      Box(P          R      mAP50  mAP50-95): 100%|██████████| 4/4 [00:01<00:00,  2.11it/s]\n"
          ]
        },
        {
          "output_type": "stream",
          "name": "stdout",
          "text": [
            "                   all        113        253      0.683      0.561      0.571      0.284\n",
            "\n",
            "      Epoch    GPU_mem   box_loss   cls_loss   dfl_loss  Instances       Size\n"
          ]
        },
        {
          "output_type": "stream",
          "name": "stderr",
          "text": [
            "     71/250      2.34G      1.865      1.619      2.204         23        640: 100%|██████████| 8/8 [00:03<00:00,  2.57it/s]\n",
            "                 Class     Images  Instances      Box(P          R      mAP50  mAP50-95): 100%|██████████| 4/4 [00:02<00:00,  1.43it/s]"
          ]
        },
        {
          "output_type": "stream",
          "name": "stdout",
          "text": [
            "                   all        113        253      0.647      0.672      0.606      0.285\n"
          ]
        },
        {
          "output_type": "stream",
          "name": "stderr",
          "text": [
            "\n"
          ]
        },
        {
          "output_type": "stream",
          "name": "stdout",
          "text": [
            "\n",
            "      Epoch    GPU_mem   box_loss   cls_loss   dfl_loss  Instances       Size\n"
          ]
        },
        {
          "output_type": "stream",
          "name": "stderr",
          "text": [
            "     72/250      2.35G      1.764      1.627      2.223          4        640: 100%|██████████| 8/8 [00:02<00:00,  3.87it/s]\n",
            "                 Class     Images  Instances      Box(P          R      mAP50  mAP50-95): 100%|██████████| 4/4 [00:02<00:00,  1.78it/s]\n"
          ]
        },
        {
          "output_type": "stream",
          "name": "stdout",
          "text": [
            "                   all        113        253      0.678      0.557      0.542      0.229\n",
            "\n",
            "      Epoch    GPU_mem   box_loss   cls_loss   dfl_loss  Instances       Size\n"
          ]
        },
        {
          "output_type": "stream",
          "name": "stderr",
          "text": [
            "     73/250      2.24G      1.866      1.717      2.285         12        640: 100%|██████████| 8/8 [00:02<00:00,  3.46it/s]\n",
            "                 Class     Images  Instances      Box(P          R      mAP50  mAP50-95): 100%|██████████| 4/4 [00:03<00:00,  1.33it/s]"
          ]
        },
        {
          "output_type": "stream",
          "name": "stdout",
          "text": [
            "                   all        113        253      0.572      0.533        0.5      0.215\n"
          ]
        },
        {
          "output_type": "stream",
          "name": "stderr",
          "text": [
            "\n"
          ]
        },
        {
          "output_type": "stream",
          "name": "stdout",
          "text": [
            "\n",
            "      Epoch    GPU_mem   box_loss   cls_loss   dfl_loss  Instances       Size\n"
          ]
        },
        {
          "output_type": "stream",
          "name": "stderr",
          "text": [
            "     74/250      2.22G       1.86      1.645      2.374          3        640: 100%|██████████| 8/8 [00:02<00:00,  3.54it/s]\n",
            "                 Class     Images  Instances      Box(P          R      mAP50  mAP50-95): 100%|██████████| 4/4 [00:02<00:00,  1.73it/s]"
          ]
        },
        {
          "output_type": "stream",
          "name": "stdout",
          "text": [
            "                   all        113        253      0.651      0.597       0.62      0.325\n"
          ]
        },
        {
          "output_type": "stream",
          "name": "stderr",
          "text": [
            "\n"
          ]
        },
        {
          "output_type": "stream",
          "name": "stdout",
          "text": [
            "\n",
            "      Epoch    GPU_mem   box_loss   cls_loss   dfl_loss  Instances       Size\n"
          ]
        },
        {
          "output_type": "stream",
          "name": "stderr",
          "text": [
            "     75/250      2.23G      1.742      1.541      2.228          4        640: 100%|██████████| 8/8 [00:02<00:00,  3.45it/s]\n",
            "                 Class     Images  Instances      Box(P          R      mAP50  mAP50-95): 100%|██████████| 4/4 [00:01<00:00,  2.44it/s]"
          ]
        },
        {
          "output_type": "stream",
          "name": "stdout",
          "text": [
            "                   all        113        253      0.775      0.625      0.659      0.338\n"
          ]
        },
        {
          "output_type": "stream",
          "name": "stderr",
          "text": [
            "\n"
          ]
        },
        {
          "output_type": "stream",
          "name": "stdout",
          "text": [
            "\n",
            "      Epoch    GPU_mem   box_loss   cls_loss   dfl_loss  Instances       Size\n"
          ]
        },
        {
          "output_type": "stream",
          "name": "stderr",
          "text": [
            "     76/250      2.32G      1.807       1.69      2.294          1        640: 100%|██████████| 8/8 [00:03<00:00,  2.57it/s]\n",
            "                 Class     Images  Instances      Box(P          R      mAP50  mAP50-95): 100%|██████████| 4/4 [00:02<00:00,  1.58it/s]"
          ]
        },
        {
          "output_type": "stream",
          "name": "stdout",
          "text": [
            "                   all        113        253      0.705       0.64      0.677      0.326\n"
          ]
        },
        {
          "output_type": "stream",
          "name": "stderr",
          "text": [
            "\n"
          ]
        },
        {
          "output_type": "stream",
          "name": "stdout",
          "text": [
            "\n",
            "      Epoch    GPU_mem   box_loss   cls_loss   dfl_loss  Instances       Size\n"
          ]
        },
        {
          "output_type": "stream",
          "name": "stderr",
          "text": [
            "     77/250      2.32G      1.731      1.551      2.197          4        640: 100%|██████████| 8/8 [00:02<00:00,  3.84it/s]\n",
            "                 Class     Images  Instances      Box(P          R      mAP50  mAP50-95): 100%|██████████| 4/4 [00:02<00:00,  1.95it/s]"
          ]
        },
        {
          "output_type": "stream",
          "name": "stdout",
          "text": [
            "                   all        113        253      0.691      0.581      0.661      0.354\n"
          ]
        },
        {
          "output_type": "stream",
          "name": "stderr",
          "text": [
            "\n"
          ]
        },
        {
          "output_type": "stream",
          "name": "stdout",
          "text": [
            "\n",
            "      Epoch    GPU_mem   box_loss   cls_loss   dfl_loss  Instances       Size\n"
          ]
        },
        {
          "output_type": "stream",
          "name": "stderr",
          "text": [
            "     78/250       2.3G      1.766      1.616      2.188          2        640: 100%|██████████| 8/8 [00:03<00:00,  2.65it/s]\n",
            "                 Class     Images  Instances      Box(P          R      mAP50  mAP50-95): 100%|██████████| 4/4 [00:02<00:00,  1.48it/s]"
          ]
        },
        {
          "output_type": "stream",
          "name": "stdout",
          "text": [
            "                   all        113        253      0.745      0.577      0.691      0.365\n"
          ]
        },
        {
          "output_type": "stream",
          "name": "stderr",
          "text": [
            "\n"
          ]
        },
        {
          "output_type": "stream",
          "name": "stdout",
          "text": [
            "\n",
            "      Epoch    GPU_mem   box_loss   cls_loss   dfl_loss  Instances       Size\n"
          ]
        },
        {
          "output_type": "stream",
          "name": "stderr",
          "text": [
            "     79/250      2.33G      1.835      1.611      2.258          2        640: 100%|██████████| 8/8 [00:01<00:00,  4.15it/s]\n",
            "                 Class     Images  Instances      Box(P          R      mAP50  mAP50-95): 100%|██████████| 4/4 [00:02<00:00,  1.87it/s]\n"
          ]
        },
        {
          "output_type": "stream",
          "name": "stdout",
          "text": [
            "                   all        113        253      0.736      0.621      0.683      0.352\n",
            "\n",
            "      Epoch    GPU_mem   box_loss   cls_loss   dfl_loss  Instances       Size\n"
          ]
        },
        {
          "output_type": "stream",
          "name": "stderr",
          "text": [
            "     80/250      2.35G      1.883      1.606       2.25          4        640: 100%|██████████| 8/8 [00:02<00:00,  3.25it/s]\n",
            "                 Class     Images  Instances      Box(P          R      mAP50  mAP50-95): 100%|██████████| 4/4 [00:03<00:00,  1.07it/s]"
          ]
        },
        {
          "output_type": "stream",
          "name": "stdout",
          "text": [
            "                   all        113        253      0.716      0.625      0.669      0.314\n"
          ]
        },
        {
          "output_type": "stream",
          "name": "stderr",
          "text": [
            "\n"
          ]
        },
        {
          "output_type": "stream",
          "name": "stdout",
          "text": [
            "\n",
            "      Epoch    GPU_mem   box_loss   cls_loss   dfl_loss  Instances       Size\n"
          ]
        },
        {
          "output_type": "stream",
          "name": "stderr",
          "text": [
            "     81/250      2.23G      1.784      1.626      2.153         23        640: 100%|██████████| 8/8 [00:02<00:00,  3.98it/s]\n",
            "                 Class     Images  Instances      Box(P          R      mAP50  mAP50-95): 100%|██████████| 4/4 [00:02<00:00,  1.79it/s]"
          ]
        },
        {
          "output_type": "stream",
          "name": "stdout",
          "text": [
            "                   all        113        253      0.744      0.553      0.632      0.349\n"
          ]
        },
        {
          "output_type": "stream",
          "name": "stderr",
          "text": [
            "\n"
          ]
        },
        {
          "output_type": "stream",
          "name": "stdout",
          "text": [
            "\n",
            "      Epoch    GPU_mem   box_loss   cls_loss   dfl_loss  Instances       Size\n"
          ]
        },
        {
          "output_type": "stream",
          "name": "stderr",
          "text": [
            "     82/250      2.22G      1.728      1.503      2.133          6        640: 100%|██████████| 8/8 [00:02<00:00,  3.76it/s]\n",
            "                 Class     Images  Instances      Box(P          R      mAP50  mAP50-95): 100%|██████████| 4/4 [00:02<00:00,  1.62it/s]"
          ]
        },
        {
          "output_type": "stream",
          "name": "stdout",
          "text": [
            "                   all        113        253      0.646      0.613       0.64      0.335\n"
          ]
        },
        {
          "output_type": "stream",
          "name": "stderr",
          "text": [
            "\n"
          ]
        },
        {
          "output_type": "stream",
          "name": "stdout",
          "text": [
            "\n",
            "      Epoch    GPU_mem   box_loss   cls_loss   dfl_loss  Instances       Size\n"
          ]
        },
        {
          "output_type": "stream",
          "name": "stderr",
          "text": [
            "     83/250      2.35G      1.759      1.461      2.167          3        640: 100%|██████████| 8/8 [00:02<00:00,  2.78it/s]\n",
            "                 Class     Images  Instances      Box(P          R      mAP50  mAP50-95): 100%|██████████| 4/4 [00:01<00:00,  2.12it/s]\n"
          ]
        },
        {
          "output_type": "stream",
          "name": "stdout",
          "text": [
            "                   all        113        253      0.641      0.644      0.646      0.318\n",
            "\n",
            "      Epoch    GPU_mem   box_loss   cls_loss   dfl_loss  Instances       Size\n"
          ]
        },
        {
          "output_type": "stream",
          "name": "stderr",
          "text": [
            "     84/250      2.23G      1.799      1.586      2.212          2        640: 100%|██████████| 8/8 [00:02<00:00,  3.76it/s]\n",
            "                 Class     Images  Instances      Box(P          R      mAP50  mAP50-95): 100%|██████████| 4/4 [00:02<00:00,  1.75it/s]\n"
          ]
        },
        {
          "output_type": "stream",
          "name": "stdout",
          "text": [
            "                   all        113        253      0.673      0.569      0.629      0.334\n",
            "\n",
            "      Epoch    GPU_mem   box_loss   cls_loss   dfl_loss  Instances       Size\n"
          ]
        },
        {
          "output_type": "stream",
          "name": "stderr",
          "text": [
            "     85/250      2.32G      1.703      1.486      2.146          2        640: 100%|██████████| 8/8 [00:02<00:00,  2.90it/s]\n",
            "                 Class     Images  Instances      Box(P          R      mAP50  mAP50-95): 100%|██████████| 4/4 [00:02<00:00,  1.37it/s]"
          ]
        },
        {
          "output_type": "stream",
          "name": "stdout",
          "text": [
            "                   all        113        253      0.764      0.593      0.649       0.34\n"
          ]
        },
        {
          "output_type": "stream",
          "name": "stderr",
          "text": [
            "\n"
          ]
        },
        {
          "output_type": "stream",
          "name": "stdout",
          "text": [
            "\n",
            "      Epoch    GPU_mem   box_loss   cls_loss   dfl_loss  Instances       Size\n"
          ]
        },
        {
          "output_type": "stream",
          "name": "stderr",
          "text": [
            "     86/250      2.32G      1.721      1.466      2.178          3        640: 100%|██████████| 8/8 [00:01<00:00,  4.26it/s]\n",
            "                 Class     Images  Instances      Box(P          R      mAP50  mAP50-95): 100%|██████████| 4/4 [00:02<00:00,  2.00it/s]"
          ]
        },
        {
          "output_type": "stream",
          "name": "stdout",
          "text": [
            "                   all        113        253       0.77      0.673      0.704      0.345\n"
          ]
        },
        {
          "output_type": "stream",
          "name": "stderr",
          "text": [
            "\n"
          ]
        },
        {
          "output_type": "stream",
          "name": "stdout",
          "text": [
            "\n",
            "      Epoch    GPU_mem   box_loss   cls_loss   dfl_loss  Instances       Size\n"
          ]
        },
        {
          "output_type": "stream",
          "name": "stderr",
          "text": [
            "     87/250       2.3G      1.664      1.452      2.096         12        640: 100%|██████████| 8/8 [00:01<00:00,  4.06it/s]\n",
            "                 Class     Images  Instances      Box(P          R      mAP50  mAP50-95): 100%|██████████| 4/4 [00:03<00:00,  1.09it/s]"
          ]
        },
        {
          "output_type": "stream",
          "name": "stdout",
          "text": [
            "                   all        113        253      0.723      0.632      0.715       0.37\n"
          ]
        },
        {
          "output_type": "stream",
          "name": "stderr",
          "text": [
            "\n"
          ]
        },
        {
          "output_type": "stream",
          "name": "stdout",
          "text": [
            "\n",
            "      Epoch    GPU_mem   box_loss   cls_loss   dfl_loss  Instances       Size\n"
          ]
        },
        {
          "output_type": "stream",
          "name": "stderr",
          "text": [
            "     88/250      2.23G      1.739      1.533      2.072          4        640: 100%|██████████| 8/8 [00:02<00:00,  3.91it/s]\n",
            "                 Class     Images  Instances      Box(P          R      mAP50  mAP50-95): 100%|██████████| 4/4 [00:01<00:00,  2.19it/s]\n"
          ]
        },
        {
          "output_type": "stream",
          "name": "stdout",
          "text": [
            "                   all        113        253      0.812      0.596      0.683      0.381\n",
            "\n",
            "      Epoch    GPU_mem   box_loss   cls_loss   dfl_loss  Instances       Size\n"
          ]
        },
        {
          "output_type": "stream",
          "name": "stderr",
          "text": [
            "     89/250      2.21G      1.885      1.475      2.213          3        640: 100%|██████████| 8/8 [00:02<00:00,  3.86it/s]\n",
            "                 Class     Images  Instances      Box(P          R      mAP50  mAP50-95): 100%|██████████| 4/4 [00:01<00:00,  2.43it/s]"
          ]
        },
        {
          "output_type": "stream",
          "name": "stdout",
          "text": [
            "                   all        113        253      0.715      0.609      0.649      0.348\n"
          ]
        },
        {
          "output_type": "stream",
          "name": "stderr",
          "text": [
            "\n"
          ]
        },
        {
          "output_type": "stream",
          "name": "stdout",
          "text": [
            "\n",
            "      Epoch    GPU_mem   box_loss   cls_loss   dfl_loss  Instances       Size\n"
          ]
        },
        {
          "output_type": "stream",
          "name": "stderr",
          "text": [
            "     90/250      2.23G      1.668      1.404      2.118          4        640: 100%|██████████| 8/8 [00:03<00:00,  2.17it/s]\n",
            "                 Class     Images  Instances      Box(P          R      mAP50  mAP50-95): 100%|██████████| 4/4 [00:02<00:00,  1.68it/s]"
          ]
        },
        {
          "output_type": "stream",
          "name": "stdout",
          "text": [
            "                   all        113        253      0.736       0.64      0.687      0.381\n"
          ]
        },
        {
          "output_type": "stream",
          "name": "stderr",
          "text": [
            "\n"
          ]
        },
        {
          "output_type": "stream",
          "name": "stdout",
          "text": [
            "\n",
            "      Epoch    GPU_mem   box_loss   cls_loss   dfl_loss  Instances       Size\n"
          ]
        },
        {
          "output_type": "stream",
          "name": "stderr",
          "text": [
            "     91/250      2.22G      1.674      1.326      2.083          3        640: 100%|██████████| 8/8 [00:02<00:00,  3.30it/s]\n",
            "                 Class     Images  Instances      Box(P          R      mAP50  mAP50-95): 100%|██████████| 4/4 [00:01<00:00,  2.29it/s]"
          ]
        },
        {
          "output_type": "stream",
          "name": "stdout",
          "text": [
            "                   all        113        253      0.788      0.689      0.734      0.397\n"
          ]
        },
        {
          "output_type": "stream",
          "name": "stderr",
          "text": [
            "\n"
          ]
        },
        {
          "output_type": "stream",
          "name": "stdout",
          "text": [
            "\n",
            "      Epoch    GPU_mem   box_loss   cls_loss   dfl_loss  Instances       Size\n"
          ]
        },
        {
          "output_type": "stream",
          "name": "stderr",
          "text": [
            "     92/250      2.32G       1.75       1.53      2.187          1        640: 100%|██████████| 8/8 [00:02<00:00,  3.46it/s]\n",
            "                 Class     Images  Instances      Box(P          R      mAP50  mAP50-95): 100%|██████████| 4/4 [00:03<00:00,  1.12it/s]"
          ]
        },
        {
          "output_type": "stream",
          "name": "stdout",
          "text": [
            "                   all        113        253      0.833      0.672      0.727      0.397\n"
          ]
        },
        {
          "output_type": "stream",
          "name": "stderr",
          "text": [
            "\n"
          ]
        },
        {
          "output_type": "stream",
          "name": "stdout",
          "text": [
            "\n",
            "      Epoch    GPU_mem   box_loss   cls_loss   dfl_loss  Instances       Size\n"
          ]
        },
        {
          "output_type": "stream",
          "name": "stderr",
          "text": [
            "     93/250      2.23G      1.791      1.462      2.116          2        640: 100%|██████████| 8/8 [00:02<00:00,  3.97it/s]\n",
            "                 Class     Images  Instances      Box(P          R      mAP50  mAP50-95): 100%|██████████| 4/4 [00:02<00:00,  1.92it/s]"
          ]
        },
        {
          "output_type": "stream",
          "name": "stdout",
          "text": [
            "                   all        113        253      0.821      0.676      0.742      0.414\n"
          ]
        },
        {
          "output_type": "stream",
          "name": "stderr",
          "text": [
            "\n"
          ]
        },
        {
          "output_type": "stream",
          "name": "stdout",
          "text": [
            "\n",
            "      Epoch    GPU_mem   box_loss   cls_loss   dfl_loss  Instances       Size\n"
          ]
        },
        {
          "output_type": "stream",
          "name": "stderr",
          "text": [
            "     94/250       2.3G      1.751      1.367      2.114          3        640: 100%|██████████| 8/8 [00:02<00:00,  3.46it/s]\n",
            "                 Class     Images  Instances      Box(P          R      mAP50  mAP50-95): 100%|██████████| 4/4 [00:02<00:00,  1.57it/s]"
          ]
        },
        {
          "output_type": "stream",
          "name": "stdout",
          "text": [
            "                   all        113        253      0.851       0.68      0.748        0.4\n"
          ]
        },
        {
          "output_type": "stream",
          "name": "stderr",
          "text": [
            "\n"
          ]
        },
        {
          "output_type": "stream",
          "name": "stdout",
          "text": [
            "\n",
            "      Epoch    GPU_mem   box_loss   cls_loss   dfl_loss  Instances       Size\n"
          ]
        },
        {
          "output_type": "stream",
          "name": "stderr",
          "text": [
            "     95/250      2.32G      1.662      1.328      2.091          4        640: 100%|██████████| 8/8 [00:02<00:00,  3.13it/s]\n",
            "                 Class     Images  Instances      Box(P          R      mAP50  mAP50-95): 100%|██████████| 4/4 [00:02<00:00,  1.67it/s]"
          ]
        },
        {
          "output_type": "stream",
          "name": "stdout",
          "text": [
            "                   all        113        253      0.843       0.64      0.708      0.355\n"
          ]
        },
        {
          "output_type": "stream",
          "name": "stderr",
          "text": [
            "\n"
          ]
        },
        {
          "output_type": "stream",
          "name": "stdout",
          "text": [
            "\n",
            "      Epoch    GPU_mem   box_loss   cls_loss   dfl_loss  Instances       Size\n"
          ]
        },
        {
          "output_type": "stream",
          "name": "stderr",
          "text": [
            "     96/250      2.22G      1.719      1.499      2.149          4        640: 100%|██████████| 8/8 [00:02<00:00,  3.52it/s]\n",
            "                 Class     Images  Instances      Box(P          R      mAP50  mAP50-95): 100%|██████████| 4/4 [00:01<00:00,  2.04it/s]"
          ]
        },
        {
          "output_type": "stream",
          "name": "stdout",
          "text": [
            "                   all        113        253      0.831      0.668      0.757      0.413\n"
          ]
        },
        {
          "output_type": "stream",
          "name": "stderr",
          "text": [
            "\n"
          ]
        },
        {
          "output_type": "stream",
          "name": "stdout",
          "text": [
            "\n",
            "      Epoch    GPU_mem   box_loss   cls_loss   dfl_loss  Instances       Size\n"
          ]
        },
        {
          "output_type": "stream",
          "name": "stderr",
          "text": [
            "     97/250      2.22G       1.72      1.419      2.157          3        640: 100%|██████████| 8/8 [00:03<00:00,  2.57it/s]\n",
            "                 Class     Images  Instances      Box(P          R      mAP50  mAP50-95): 100%|██████████| 4/4 [00:01<00:00,  2.07it/s]"
          ]
        },
        {
          "output_type": "stream",
          "name": "stdout",
          "text": [
            "                   all        113        253      0.616      0.474      0.527      0.238\n"
          ]
        },
        {
          "output_type": "stream",
          "name": "stderr",
          "text": [
            "\n"
          ]
        },
        {
          "output_type": "stream",
          "name": "stdout",
          "text": [
            "\n",
            "      Epoch    GPU_mem   box_loss   cls_loss   dfl_loss  Instances       Size\n"
          ]
        },
        {
          "output_type": "stream",
          "name": "stderr",
          "text": [
            "     98/250      2.33G      1.725      1.439      2.037         22        640: 100%|██████████| 8/8 [00:02<00:00,  3.43it/s]\n",
            "                 Class     Images  Instances      Box(P          R      mAP50  mAP50-95): 100%|██████████| 4/4 [00:01<00:00,  2.08it/s]\n"
          ]
        },
        {
          "output_type": "stream",
          "name": "stdout",
          "text": [
            "                   all        113        253      0.715      0.581      0.669      0.345\n",
            "\n",
            "      Epoch    GPU_mem   box_loss   cls_loss   dfl_loss  Instances       Size\n"
          ]
        },
        {
          "output_type": "stream",
          "name": "stderr",
          "text": [
            "     99/250      2.22G      1.818       1.45      2.197          2        640: 100%|██████████| 8/8 [00:02<00:00,  2.82it/s]\n",
            "                 Class     Images  Instances      Box(P          R      mAP50  mAP50-95): 100%|██████████| 4/4 [00:03<00:00,  1.12it/s]"
          ]
        },
        {
          "output_type": "stream",
          "name": "stdout",
          "text": [
            "                   all        113        253      0.765      0.683      0.747      0.409\n"
          ]
        },
        {
          "output_type": "stream",
          "name": "stderr",
          "text": [
            "\n"
          ]
        },
        {
          "output_type": "stream",
          "name": "stdout",
          "text": [
            "\n",
            "      Epoch    GPU_mem   box_loss   cls_loss   dfl_loss  Instances       Size\n"
          ]
        },
        {
          "output_type": "stream",
          "name": "stderr",
          "text": [
            "    100/250      2.23G       1.72      1.409      2.071          7        640: 100%|██████████| 8/8 [00:02<00:00,  3.96it/s]\n",
            "                 Class     Images  Instances      Box(P          R      mAP50  mAP50-95): 100%|██████████| 4/4 [00:02<00:00,  1.92it/s]\n"
          ]
        },
        {
          "output_type": "stream",
          "name": "stdout",
          "text": [
            "                   all        113        253      0.841      0.589       0.72      0.409\n",
            "\n",
            "      Epoch    GPU_mem   box_loss   cls_loss   dfl_loss  Instances       Size\n"
          ]
        },
        {
          "output_type": "stream",
          "name": "stderr",
          "text": [
            "    101/250      2.32G      1.583      1.332      1.956          5        640: 100%|██████████| 8/8 [00:02<00:00,  3.98it/s]\n",
            "                 Class     Images  Instances      Box(P          R      mAP50  mAP50-95): 100%|██████████| 4/4 [00:03<00:00,  1.17it/s]"
          ]
        },
        {
          "output_type": "stream",
          "name": "stdout",
          "text": [
            "                   all        113        253      0.829      0.653      0.738      0.428\n"
          ]
        },
        {
          "output_type": "stream",
          "name": "stderr",
          "text": [
            "\n"
          ]
        },
        {
          "output_type": "stream",
          "name": "stdout",
          "text": [
            "\n",
            "      Epoch    GPU_mem   box_loss   cls_loss   dfl_loss  Instances       Size\n"
          ]
        },
        {
          "output_type": "stream",
          "name": "stderr",
          "text": [
            "    102/250      2.23G      1.713      1.361      2.064          4        640: 100%|██████████| 8/8 [00:01<00:00,  4.03it/s]\n",
            "                 Class     Images  Instances      Box(P          R      mAP50  mAP50-95): 100%|██████████| 4/4 [00:01<00:00,  2.24it/s]"
          ]
        },
        {
          "output_type": "stream",
          "name": "stdout",
          "text": [
            "                   all        113        253      0.859      0.676      0.777      0.425\n"
          ]
        },
        {
          "output_type": "stream",
          "name": "stderr",
          "text": [
            "\n"
          ]
        },
        {
          "output_type": "stream",
          "name": "stdout",
          "text": [
            "\n",
            "      Epoch    GPU_mem   box_loss   cls_loss   dfl_loss  Instances       Size\n"
          ]
        },
        {
          "output_type": "stream",
          "name": "stderr",
          "text": [
            "    103/250      2.33G      1.709      1.395      2.051          8        640: 100%|██████████| 8/8 [00:02<00:00,  3.92it/s]\n",
            "                 Class     Images  Instances      Box(P          R      mAP50  mAP50-95): 100%|██████████| 4/4 [00:01<00:00,  2.44it/s]"
          ]
        },
        {
          "output_type": "stream",
          "name": "stdout",
          "text": [
            "                   all        113        253      0.868      0.668      0.771      0.393\n"
          ]
        },
        {
          "output_type": "stream",
          "name": "stderr",
          "text": [
            "\n"
          ]
        },
        {
          "output_type": "stream",
          "name": "stdout",
          "text": [
            "\n",
            "      Epoch    GPU_mem   box_loss   cls_loss   dfl_loss  Instances       Size\n"
          ]
        },
        {
          "output_type": "stream",
          "name": "stderr",
          "text": [
            "    104/250      2.21G      1.721      1.327      2.089          4        640: 100%|██████████| 8/8 [00:03<00:00,  2.06it/s]\n",
            "                 Class     Images  Instances      Box(P          R      mAP50  mAP50-95): 100%|██████████| 4/4 [00:02<00:00,  1.65it/s]"
          ]
        },
        {
          "output_type": "stream",
          "name": "stdout",
          "text": [
            "                   all        113        253      0.851      0.655      0.741      0.397\n"
          ]
        },
        {
          "output_type": "stream",
          "name": "stderr",
          "text": [
            "\n"
          ]
        },
        {
          "output_type": "stream",
          "name": "stdout",
          "text": [
            "\n",
            "      Epoch    GPU_mem   box_loss   cls_loss   dfl_loss  Instances       Size\n"
          ]
        },
        {
          "output_type": "stream",
          "name": "stderr",
          "text": [
            "    105/250      2.32G      1.634      1.261      1.979          6        640: 100%|██████████| 8/8 [00:02<00:00,  3.92it/s]\n",
            "                 Class     Images  Instances      Box(P          R      mAP50  mAP50-95): 100%|██████████| 4/4 [00:02<00:00,  1.79it/s]"
          ]
        },
        {
          "output_type": "stream",
          "name": "stdout",
          "text": [
            "                   all        113        253      0.853      0.664      0.763      0.428\n"
          ]
        },
        {
          "output_type": "stream",
          "name": "stderr",
          "text": [
            "\n"
          ]
        },
        {
          "output_type": "stream",
          "name": "stdout",
          "text": [
            "\n",
            "      Epoch    GPU_mem   box_loss   cls_loss   dfl_loss  Instances       Size\n"
          ]
        },
        {
          "output_type": "stream",
          "name": "stderr",
          "text": [
            "    106/250      2.21G      1.646      1.365      1.988          1        640: 100%|██████████| 8/8 [00:02<00:00,  3.55it/s]\n",
            "                 Class     Images  Instances      Box(P          R      mAP50  mAP50-95): 100%|██████████| 4/4 [00:03<00:00,  1.14it/s]"
          ]
        },
        {
          "output_type": "stream",
          "name": "stdout",
          "text": [
            "                   all        113        253      0.762      0.709      0.747      0.407\n"
          ]
        },
        {
          "output_type": "stream",
          "name": "stderr",
          "text": [
            "\n"
          ]
        },
        {
          "output_type": "stream",
          "name": "stdout",
          "text": [
            "\n",
            "      Epoch    GPU_mem   box_loss   cls_loss   dfl_loss  Instances       Size\n"
          ]
        },
        {
          "output_type": "stream",
          "name": "stderr",
          "text": [
            "    107/250      2.32G      1.542      1.213       1.92          7        640: 100%|██████████| 8/8 [00:02<00:00,  3.81it/s]\n",
            "                 Class     Images  Instances      Box(P          R      mAP50  mAP50-95): 100%|██████████| 4/4 [00:02<00:00,  1.53it/s]"
          ]
        },
        {
          "output_type": "stream",
          "name": "stdout",
          "text": [
            "                   all        113        253      0.841      0.688      0.766       0.45\n"
          ]
        },
        {
          "output_type": "stream",
          "name": "stderr",
          "text": [
            "\n"
          ]
        },
        {
          "output_type": "stream",
          "name": "stdout",
          "text": [
            "\n",
            "      Epoch    GPU_mem   box_loss   cls_loss   dfl_loss  Instances       Size\n"
          ]
        },
        {
          "output_type": "stream",
          "name": "stderr",
          "text": [
            "    108/250      2.32G      1.639      1.542      2.108          3        640: 100%|██████████| 8/8 [00:02<00:00,  3.93it/s]\n",
            "                 Class     Images  Instances      Box(P          R      mAP50  mAP50-95): 100%|██████████| 4/4 [00:03<00:00,  1.33it/s]"
          ]
        },
        {
          "output_type": "stream",
          "name": "stdout",
          "text": [
            "                   all        113        253      0.816      0.621       0.73      0.375\n"
          ]
        },
        {
          "output_type": "stream",
          "name": "stderr",
          "text": [
            "\n"
          ]
        },
        {
          "output_type": "stream",
          "name": "stdout",
          "text": [
            "\n",
            "      Epoch    GPU_mem   box_loss   cls_loss   dfl_loss  Instances       Size\n"
          ]
        },
        {
          "output_type": "stream",
          "name": "stderr",
          "text": [
            "    109/250      2.35G      1.586      1.531          2          1        640: 100%|██████████| 8/8 [00:02<00:00,  3.44it/s]\n",
            "                 Class     Images  Instances      Box(P          R      mAP50  mAP50-95): 100%|██████████| 4/4 [00:02<00:00,  1.64it/s]"
          ]
        },
        {
          "output_type": "stream",
          "name": "stdout",
          "text": [
            "                   all        113        253      0.863      0.704      0.778      0.462\n"
          ]
        },
        {
          "output_type": "stream",
          "name": "stderr",
          "text": [
            "\n"
          ]
        },
        {
          "output_type": "stream",
          "name": "stdout",
          "text": [
            "\n",
            "      Epoch    GPU_mem   box_loss   cls_loss   dfl_loss  Instances       Size\n"
          ]
        },
        {
          "output_type": "stream",
          "name": "stderr",
          "text": [
            "    110/250      2.24G       1.52      1.259      1.904          4        640: 100%|██████████| 8/8 [00:02<00:00,  3.91it/s]\n",
            "                 Class     Images  Instances      Box(P          R      mAP50  mAP50-95): 100%|██████████| 4/4 [00:02<00:00,  1.80it/s]"
          ]
        },
        {
          "output_type": "stream",
          "name": "stdout",
          "text": [
            "                   all        113        253      0.829      0.727      0.793      0.458\n"
          ]
        },
        {
          "output_type": "stream",
          "name": "stderr",
          "text": [
            "\n"
          ]
        },
        {
          "output_type": "stream",
          "name": "stdout",
          "text": [
            "\n",
            "      Epoch    GPU_mem   box_loss   cls_loss   dfl_loss  Instances       Size\n"
          ]
        },
        {
          "output_type": "stream",
          "name": "stderr",
          "text": [
            "    111/250      2.32G      1.609      1.292      1.979          5        640: 100%|██████████| 8/8 [00:02<00:00,  2.93it/s]\n",
            "                 Class     Images  Instances      Box(P          R      mAP50  mAP50-95): 100%|██████████| 4/4 [00:01<00:00,  2.04it/s]"
          ]
        },
        {
          "output_type": "stream",
          "name": "stdout",
          "text": [
            "                   all        113        253      0.838      0.693      0.779      0.444\n"
          ]
        },
        {
          "output_type": "stream",
          "name": "stderr",
          "text": [
            "\n"
          ]
        },
        {
          "output_type": "stream",
          "name": "stdout",
          "text": [
            "\n",
            "      Epoch    GPU_mem   box_loss   cls_loss   dfl_loss  Instances       Size\n"
          ]
        },
        {
          "output_type": "stream",
          "name": "stderr",
          "text": [
            "    112/250      2.32G      1.671      1.362      1.957         13        640: 100%|██████████| 8/8 [00:02<00:00,  3.63it/s]\n",
            "                 Class     Images  Instances      Box(P          R      mAP50  mAP50-95): 100%|██████████| 4/4 [00:02<00:00,  1.63it/s]"
          ]
        },
        {
          "output_type": "stream",
          "name": "stdout",
          "text": [
            "                   all        113        253      0.827      0.698      0.767      0.415\n"
          ]
        },
        {
          "output_type": "stream",
          "name": "stderr",
          "text": [
            "\n"
          ]
        },
        {
          "output_type": "stream",
          "name": "stdout",
          "text": [
            "\n",
            "      Epoch    GPU_mem   box_loss   cls_loss   dfl_loss  Instances       Size\n"
          ]
        },
        {
          "output_type": "stream",
          "name": "stderr",
          "text": [
            "    113/250      2.33G      1.737      1.304      2.014          5        640: 100%|██████████| 8/8 [00:02<00:00,  3.26it/s]\n",
            "                 Class     Images  Instances      Box(P          R      mAP50  mAP50-95): 100%|██████████| 4/4 [00:03<00:00,  1.08it/s]"
          ]
        },
        {
          "output_type": "stream",
          "name": "stdout",
          "text": [
            "                   all        113        253      0.878      0.676      0.785      0.472\n"
          ]
        },
        {
          "output_type": "stream",
          "name": "stderr",
          "text": [
            "\n"
          ]
        },
        {
          "output_type": "stream",
          "name": "stdout",
          "text": [
            "\n",
            "      Epoch    GPU_mem   box_loss   cls_loss   dfl_loss  Instances       Size\n"
          ]
        },
        {
          "output_type": "stream",
          "name": "stderr",
          "text": [
            "    114/250      2.33G      1.559      1.258      1.915          4        640: 100%|██████████| 8/8 [00:02<00:00,  3.90it/s]\n",
            "                 Class     Images  Instances      Box(P          R      mAP50  mAP50-95): 100%|██████████| 4/4 [00:02<00:00,  1.81it/s]"
          ]
        },
        {
          "output_type": "stream",
          "name": "stdout",
          "text": [
            "                   all        113        253      0.873      0.707      0.798      0.449\n"
          ]
        },
        {
          "output_type": "stream",
          "name": "stderr",
          "text": [
            "\n"
          ]
        },
        {
          "output_type": "stream",
          "name": "stdout",
          "text": [
            "\n",
            "      Epoch    GPU_mem   box_loss   cls_loss   dfl_loss  Instances       Size\n"
          ]
        },
        {
          "output_type": "stream",
          "name": "stderr",
          "text": [
            "    115/250      2.21G      1.612      1.228      1.959          5        640: 100%|██████████| 8/8 [00:02<00:00,  3.46it/s]\n",
            "                 Class     Images  Instances      Box(P          R      mAP50  mAP50-95): 100%|██████████| 4/4 [00:02<00:00,  1.34it/s]"
          ]
        },
        {
          "output_type": "stream",
          "name": "stdout",
          "text": [
            "                   all        113        253      0.813      0.719      0.777      0.423\n"
          ]
        },
        {
          "output_type": "stream",
          "name": "stderr",
          "text": [
            "\n"
          ]
        },
        {
          "output_type": "stream",
          "name": "stdout",
          "text": [
            "\n",
            "      Epoch    GPU_mem   box_loss   cls_loss   dfl_loss  Instances       Size\n"
          ]
        },
        {
          "output_type": "stream",
          "name": "stderr",
          "text": [
            "    116/250      2.23G      1.628      1.345      2.021          6        640: 100%|██████████| 8/8 [00:02<00:00,  3.99it/s]\n",
            "                 Class     Images  Instances      Box(P          R      mAP50  mAP50-95): 100%|██████████| 4/4 [00:02<00:00,  1.80it/s]"
          ]
        },
        {
          "output_type": "stream",
          "name": "stdout",
          "text": [
            "                   all        113        253      0.852       0.66      0.746      0.414\n"
          ]
        },
        {
          "output_type": "stream",
          "name": "stderr",
          "text": [
            "\n"
          ]
        },
        {
          "output_type": "stream",
          "name": "stdout",
          "text": [
            "\n",
            "      Epoch    GPU_mem   box_loss   cls_loss   dfl_loss  Instances       Size\n"
          ]
        },
        {
          "output_type": "stream",
          "name": "stderr",
          "text": [
            "    117/250      2.24G      1.668      1.262      2.033          5        640: 100%|██████████| 8/8 [00:02<00:00,  3.84it/s]\n",
            "                 Class     Images  Instances      Box(P          R      mAP50  mAP50-95): 100%|██████████| 4/4 [00:01<00:00,  2.08it/s]"
          ]
        },
        {
          "output_type": "stream",
          "name": "stdout",
          "text": [
            "                   all        113        253      0.859       0.64      0.754      0.422\n"
          ]
        },
        {
          "output_type": "stream",
          "name": "stderr",
          "text": [
            "\n"
          ]
        },
        {
          "output_type": "stream",
          "name": "stdout",
          "text": [
            "\n",
            "      Epoch    GPU_mem   box_loss   cls_loss   dfl_loss  Instances       Size\n"
          ]
        },
        {
          "output_type": "stream",
          "name": "stderr",
          "text": [
            "    118/250      2.21G      1.601      1.368      2.083          2        640: 100%|██████████| 8/8 [00:03<00:00,  2.31it/s]\n",
            "                 Class     Images  Instances      Box(P          R      mAP50  mAP50-95): 100%|██████████| 4/4 [00:02<00:00,  1.67it/s]"
          ]
        },
        {
          "output_type": "stream",
          "name": "stdout",
          "text": [
            "                   all        113        253        0.9      0.674      0.793      0.475\n"
          ]
        },
        {
          "output_type": "stream",
          "name": "stderr",
          "text": [
            "\n"
          ]
        },
        {
          "output_type": "stream",
          "name": "stdout",
          "text": [
            "\n",
            "      Epoch    GPU_mem   box_loss   cls_loss   dfl_loss  Instances       Size\n"
          ]
        },
        {
          "output_type": "stream",
          "name": "stderr",
          "text": [
            "    119/250       2.3G      1.499      1.149      1.928          4        640: 100%|██████████| 8/8 [00:01<00:00,  4.03it/s]\n",
            "                 Class     Images  Instances      Box(P          R      mAP50  mAP50-95): 100%|██████████| 4/4 [00:02<00:00,  1.94it/s]"
          ]
        },
        {
          "output_type": "stream",
          "name": "stdout",
          "text": [
            "                   all        113        253      0.865       0.66       0.77      0.449\n"
          ]
        },
        {
          "output_type": "stream",
          "name": "stderr",
          "text": [
            "\n"
          ]
        },
        {
          "output_type": "stream",
          "name": "stdout",
          "text": [
            "\n",
            "      Epoch    GPU_mem   box_loss   cls_loss   dfl_loss  Instances       Size\n"
          ]
        },
        {
          "output_type": "stream",
          "name": "stderr",
          "text": [
            "    120/250      2.26G      1.657      1.523      1.899          5        640: 100%|██████████| 8/8 [00:02<00:00,  3.13it/s]\n",
            "                 Class     Images  Instances      Box(P          R      mAP50  mAP50-95): 100%|██████████| 4/4 [00:03<00:00,  1.18it/s]"
          ]
        },
        {
          "output_type": "stream",
          "name": "stdout",
          "text": [
            "                   all        113        253      0.849      0.692       0.79      0.468\n"
          ]
        },
        {
          "output_type": "stream",
          "name": "stderr",
          "text": [
            "\n"
          ]
        },
        {
          "output_type": "stream",
          "name": "stdout",
          "text": [
            "\n",
            "      Epoch    GPU_mem   box_loss   cls_loss   dfl_loss  Instances       Size\n"
          ]
        },
        {
          "output_type": "stream",
          "name": "stderr",
          "text": [
            "    121/250      2.32G      1.664      1.276      2.097          2        640: 100%|██████████| 8/8 [00:01<00:00,  4.02it/s]\n",
            "                 Class     Images  Instances      Box(P          R      mAP50  mAP50-95): 100%|██████████| 4/4 [00:01<00:00,  2.26it/s]"
          ]
        },
        {
          "output_type": "stream",
          "name": "stdout",
          "text": [
            "                   all        113        253      0.824      0.704      0.794      0.457\n"
          ]
        },
        {
          "output_type": "stream",
          "name": "stderr",
          "text": [
            "\n"
          ]
        },
        {
          "output_type": "stream",
          "name": "stdout",
          "text": [
            "\n",
            "      Epoch    GPU_mem   box_loss   cls_loss   dfl_loss  Instances       Size\n"
          ]
        },
        {
          "output_type": "stream",
          "name": "stderr",
          "text": [
            "    122/250      2.32G      1.614      1.409      1.895          2        640: 100%|██████████| 8/8 [00:02<00:00,  3.30it/s]\n",
            "                 Class     Images  Instances      Box(P          R      mAP50  mAP50-95): 100%|██████████| 4/4 [00:03<00:00,  1.22it/s]\n"
          ]
        },
        {
          "output_type": "stream",
          "name": "stdout",
          "text": [
            "                   all        113        253      0.913      0.664      0.801      0.497\n",
            "\n",
            "      Epoch    GPU_mem   box_loss   cls_loss   dfl_loss  Instances       Size\n"
          ]
        },
        {
          "output_type": "stream",
          "name": "stderr",
          "text": [
            "    123/250      2.32G      1.529      1.153      1.868          4        640: 100%|██████████| 8/8 [00:01<00:00,  4.02it/s]\n",
            "                 Class     Images  Instances      Box(P          R      mAP50  mAP50-95): 100%|██████████| 4/4 [00:02<00:00,  1.80it/s]\n"
          ]
        },
        {
          "output_type": "stream",
          "name": "stdout",
          "text": [
            "                   all        113        253       0.88      0.692      0.789      0.449\n",
            "\n",
            "      Epoch    GPU_mem   box_loss   cls_loss   dfl_loss  Instances       Size\n"
          ]
        },
        {
          "output_type": "stream",
          "name": "stderr",
          "text": [
            "    124/250      2.32G      1.575      1.182      1.937          2        640: 100%|██████████| 8/8 [00:02<00:00,  3.74it/s]\n",
            "                 Class     Images  Instances      Box(P          R      mAP50  mAP50-95): 100%|██████████| 4/4 [00:02<00:00,  1.94it/s]"
          ]
        },
        {
          "output_type": "stream",
          "name": "stdout",
          "text": [
            "                   all        113        253      0.861      0.692      0.783      0.454\n"
          ]
        },
        {
          "output_type": "stream",
          "name": "stderr",
          "text": [
            "\n"
          ]
        },
        {
          "output_type": "stream",
          "name": "stdout",
          "text": [
            "\n",
            "      Epoch    GPU_mem   box_loss   cls_loss   dfl_loss  Instances       Size\n"
          ]
        },
        {
          "output_type": "stream",
          "name": "stderr",
          "text": [
            "    125/250       2.3G      1.546      1.188      1.945          4        640: 100%|██████████| 8/8 [00:03<00:00,  2.35it/s]\n",
            "                 Class     Images  Instances      Box(P          R      mAP50  mAP50-95): 100%|██████████| 4/4 [00:02<00:00,  1.49it/s]"
          ]
        },
        {
          "output_type": "stream",
          "name": "stdout",
          "text": [
            "                   all        113        253      0.875      0.696      0.807      0.481\n"
          ]
        },
        {
          "output_type": "stream",
          "name": "stderr",
          "text": [
            "\n"
          ]
        },
        {
          "output_type": "stream",
          "name": "stdout",
          "text": [
            "\n",
            "      Epoch    GPU_mem   box_loss   cls_loss   dfl_loss  Instances       Size\n"
          ]
        },
        {
          "output_type": "stream",
          "name": "stderr",
          "text": [
            "    126/250      2.24G      1.664      1.319      1.898          3        640: 100%|██████████| 8/8 [00:02<00:00,  3.35it/s]\n",
            "                 Class     Images  Instances      Box(P          R      mAP50  mAP50-95): 100%|██████████| 4/4 [00:01<00:00,  2.30it/s]"
          ]
        },
        {
          "output_type": "stream",
          "name": "stdout",
          "text": [
            "                   all        113        253      0.889      0.725      0.826       0.48\n"
          ]
        },
        {
          "output_type": "stream",
          "name": "stderr",
          "text": [
            "\n"
          ]
        },
        {
          "output_type": "stream",
          "name": "stdout",
          "text": [
            "\n",
            "      Epoch    GPU_mem   box_loss   cls_loss   dfl_loss  Instances       Size\n"
          ]
        },
        {
          "output_type": "stream",
          "name": "stderr",
          "text": [
            "    127/250      2.23G       1.63      1.308      1.966         16        640: 100%|██████████| 8/8 [00:02<00:00,  3.03it/s]\n",
            "                 Class     Images  Instances      Box(P          R      mAP50  mAP50-95): 100%|██████████| 4/4 [00:03<00:00,  1.06it/s]"
          ]
        },
        {
          "output_type": "stream",
          "name": "stdout",
          "text": [
            "                   all        113        253      0.847      0.751      0.819      0.469\n"
          ]
        },
        {
          "output_type": "stream",
          "name": "stderr",
          "text": [
            "\n"
          ]
        },
        {
          "output_type": "stream",
          "name": "stdout",
          "text": [
            "\n",
            "      Epoch    GPU_mem   box_loss   cls_loss   dfl_loss  Instances       Size\n"
          ]
        },
        {
          "output_type": "stream",
          "name": "stderr",
          "text": [
            "    128/250      2.24G      1.604      1.137      1.906          4        640: 100%|██████████| 8/8 [00:02<00:00,  3.70it/s]\n",
            "                 Class     Images  Instances      Box(P          R      mAP50  mAP50-95): 100%|██████████| 4/4 [00:01<00:00,  2.01it/s]"
          ]
        },
        {
          "output_type": "stream",
          "name": "stdout",
          "text": [
            "                   all        113        253      0.894      0.703      0.818      0.506\n"
          ]
        },
        {
          "output_type": "stream",
          "name": "stderr",
          "text": [
            "\n"
          ]
        },
        {
          "output_type": "stream",
          "name": "stdout",
          "text": [
            "\n",
            "      Epoch    GPU_mem   box_loss   cls_loss   dfl_loss  Instances       Size\n"
          ]
        },
        {
          "output_type": "stream",
          "name": "stderr",
          "text": [
            "    129/250      2.32G      1.546      1.219      1.898          4        640: 100%|██████████| 8/8 [00:02<00:00,  3.78it/s]\n",
            "                 Class     Images  Instances      Box(P          R      mAP50  mAP50-95): 100%|██████████| 4/4 [00:02<00:00,  1.45it/s]"
          ]
        },
        {
          "output_type": "stream",
          "name": "stdout",
          "text": [
            "                   all        113        253      0.882      0.711      0.811      0.485\n"
          ]
        },
        {
          "output_type": "stream",
          "name": "stderr",
          "text": [
            "\n"
          ]
        },
        {
          "output_type": "stream",
          "name": "stdout",
          "text": [
            "\n",
            "      Epoch    GPU_mem   box_loss   cls_loss   dfl_loss  Instances       Size\n"
          ]
        },
        {
          "output_type": "stream",
          "name": "stderr",
          "text": [
            "    130/250      2.33G      1.481      1.116      1.905          4        640: 100%|██████████| 8/8 [00:02<00:00,  3.36it/s]\n",
            "                 Class     Images  Instances      Box(P          R      mAP50  mAP50-95): 100%|██████████| 4/4 [00:02<00:00,  1.76it/s]"
          ]
        },
        {
          "output_type": "stream",
          "name": "stdout",
          "text": [
            "                   all        113        253      0.862      0.711      0.801      0.476\n"
          ]
        },
        {
          "output_type": "stream",
          "name": "stderr",
          "text": [
            "\n"
          ]
        },
        {
          "output_type": "stream",
          "name": "stdout",
          "text": [
            "\n",
            "      Epoch    GPU_mem   box_loss   cls_loss   dfl_loss  Instances       Size\n"
          ]
        },
        {
          "output_type": "stream",
          "name": "stderr",
          "text": [
            "    131/250      2.25G      1.618      1.293      1.896         27        640: 100%|██████████| 8/8 [00:01<00:00,  4.02it/s]\n",
            "                 Class     Images  Instances      Box(P          R      mAP50  mAP50-95): 100%|██████████| 4/4 [00:02<00:00,  2.00it/s]"
          ]
        },
        {
          "output_type": "stream",
          "name": "stdout",
          "text": [
            "                   all        113        253      0.904       0.71      0.818      0.502\n"
          ]
        },
        {
          "output_type": "stream",
          "name": "stderr",
          "text": [
            "\n"
          ]
        },
        {
          "output_type": "stream",
          "name": "stdout",
          "text": [
            "\n",
            "      Epoch    GPU_mem   box_loss   cls_loss   dfl_loss  Instances       Size\n"
          ]
        },
        {
          "output_type": "stream",
          "name": "stderr",
          "text": [
            "    132/250      2.23G      1.595      1.311      1.966          5        640: 100%|██████████| 8/8 [00:03<00:00,  2.36it/s]\n",
            "                 Class     Images  Instances      Box(P          R      mAP50  mAP50-95): 100%|██████████| 4/4 [00:02<00:00,  1.71it/s]"
          ]
        },
        {
          "output_type": "stream",
          "name": "stdout",
          "text": [
            "                   all        113        253      0.871      0.719      0.812      0.502\n"
          ]
        },
        {
          "output_type": "stream",
          "name": "stderr",
          "text": [
            "\n"
          ]
        },
        {
          "output_type": "stream",
          "name": "stdout",
          "text": [
            "\n",
            "      Epoch    GPU_mem   box_loss   cls_loss   dfl_loss  Instances       Size\n"
          ]
        },
        {
          "output_type": "stream",
          "name": "stderr",
          "text": [
            "    133/250      2.22G      1.501      1.155      1.929          5        640: 100%|██████████| 8/8 [00:02<00:00,  3.82it/s]\n",
            "                 Class     Images  Instances      Box(P          R      mAP50  mAP50-95): 100%|██████████| 4/4 [00:02<00:00,  1.64it/s]"
          ]
        },
        {
          "output_type": "stream",
          "name": "stdout",
          "text": [
            "                   all        113        253      0.889      0.711      0.811      0.495\n"
          ]
        },
        {
          "output_type": "stream",
          "name": "stderr",
          "text": [
            "\n"
          ]
        },
        {
          "output_type": "stream",
          "name": "stdout",
          "text": [
            "\n",
            "      Epoch    GPU_mem   box_loss   cls_loss   dfl_loss  Instances       Size\n"
          ]
        },
        {
          "output_type": "stream",
          "name": "stderr",
          "text": [
            "    134/250       2.3G      1.444      1.221       1.87          1        640: 100%|██████████| 8/8 [00:02<00:00,  3.75it/s]\n",
            "                 Class     Images  Instances      Box(P          R      mAP50  mAP50-95): 100%|██████████| 4/4 [00:03<00:00,  1.06it/s]"
          ]
        },
        {
          "output_type": "stream",
          "name": "stdout",
          "text": [
            "                   all        113        253      0.904      0.743      0.837      0.529\n"
          ]
        },
        {
          "output_type": "stream",
          "name": "stderr",
          "text": [
            "\n"
          ]
        },
        {
          "output_type": "stream",
          "name": "stdout",
          "text": [
            "\n",
            "      Epoch    GPU_mem   box_loss   cls_loss   dfl_loss  Instances       Size\n"
          ]
        },
        {
          "output_type": "stream",
          "name": "stderr",
          "text": [
            "    135/250      2.32G      1.483      1.143      1.952          2        640: 100%|██████████| 8/8 [00:02<00:00,  3.88it/s]\n",
            "                 Class     Images  Instances      Box(P          R      mAP50  mAP50-95): 100%|██████████| 4/4 [00:01<00:00,  2.02it/s]"
          ]
        },
        {
          "output_type": "stream",
          "name": "stdout",
          "text": [
            "                   all        113        253      0.887      0.759      0.831      0.516\n"
          ]
        },
        {
          "output_type": "stream",
          "name": "stderr",
          "text": [
            "\n"
          ]
        },
        {
          "output_type": "stream",
          "name": "stdout",
          "text": [
            "\n",
            "      Epoch    GPU_mem   box_loss   cls_loss   dfl_loss  Instances       Size\n"
          ]
        },
        {
          "output_type": "stream",
          "name": "stderr",
          "text": [
            "    136/250      2.22G      1.576      1.199      1.926          3        640: 100%|██████████| 8/8 [00:02<00:00,  3.69it/s]\n",
            "                 Class     Images  Instances      Box(P          R      mAP50  mAP50-95): 100%|██████████| 4/4 [00:03<00:00,  1.32it/s]"
          ]
        },
        {
          "output_type": "stream",
          "name": "stdout",
          "text": [
            "                   all        113        253      0.852      0.754      0.826       0.51\n"
          ]
        },
        {
          "output_type": "stream",
          "name": "stderr",
          "text": [
            "\n"
          ]
        },
        {
          "output_type": "stream",
          "name": "stdout",
          "text": [
            "\n",
            "      Epoch    GPU_mem   box_loss   cls_loss   dfl_loss  Instances       Size\n"
          ]
        },
        {
          "output_type": "stream",
          "name": "stderr",
          "text": [
            "    137/250      2.32G      1.657      1.342      1.916         17        640: 100%|██████████| 8/8 [00:02<00:00,  3.09it/s]\n",
            "                 Class     Images  Instances      Box(P          R      mAP50  mAP50-95): 100%|██████████| 4/4 [00:02<00:00,  1.55it/s]"
          ]
        },
        {
          "output_type": "stream",
          "name": "stdout",
          "text": [
            "                   all        113        253      0.863      0.747      0.823      0.512\n"
          ]
        },
        {
          "output_type": "stream",
          "name": "stderr",
          "text": [
            "\n"
          ]
        },
        {
          "output_type": "stream",
          "name": "stdout",
          "text": [
            "\n",
            "      Epoch    GPU_mem   box_loss   cls_loss   dfl_loss  Instances       Size\n"
          ]
        },
        {
          "output_type": "stream",
          "name": "stderr",
          "text": [
            "    138/250      2.35G      1.496      1.307      1.874          7        640: 100%|██████████| 8/8 [00:02<00:00,  3.98it/s]\n",
            "                 Class     Images  Instances      Box(P          R      mAP50  mAP50-95): 100%|██████████| 4/4 [00:02<00:00,  1.78it/s]"
          ]
        },
        {
          "output_type": "stream",
          "name": "stdout",
          "text": [
            "                   all        113        253      0.889      0.726      0.802      0.504\n"
          ]
        },
        {
          "output_type": "stream",
          "name": "stderr",
          "text": [
            "\n"
          ]
        },
        {
          "output_type": "stream",
          "name": "stdout",
          "text": [
            "\n",
            "      Epoch    GPU_mem   box_loss   cls_loss   dfl_loss  Instances       Size\n"
          ]
        },
        {
          "output_type": "stream",
          "name": "stderr",
          "text": [
            "    139/250      2.32G      1.465       1.23      1.924          2        640: 100%|██████████| 8/8 [00:02<00:00,  2.85it/s]\n",
            "                 Class     Images  Instances      Box(P          R      mAP50  mAP50-95): 100%|██████████| 4/4 [00:03<00:00,  1.20it/s]"
          ]
        },
        {
          "output_type": "stream",
          "name": "stdout",
          "text": [
            "                   all        113        253      0.873      0.735      0.821      0.506\n"
          ]
        },
        {
          "output_type": "stream",
          "name": "stderr",
          "text": [
            "\n"
          ]
        },
        {
          "output_type": "stream",
          "name": "stdout",
          "text": [
            "\n",
            "      Epoch    GPU_mem   box_loss   cls_loss   dfl_loss  Instances       Size\n"
          ]
        },
        {
          "output_type": "stream",
          "name": "stderr",
          "text": [
            "    140/250      2.23G      1.605      1.119      1.858         13        640: 100%|██████████| 8/8 [00:02<00:00,  3.81it/s]\n",
            "                 Class     Images  Instances      Box(P          R      mAP50  mAP50-95): 100%|██████████| 4/4 [00:02<00:00,  1.96it/s]"
          ]
        },
        {
          "output_type": "stream",
          "name": "stdout",
          "text": [
            "                   all        113        253      0.854      0.727      0.817      0.512\n"
          ]
        },
        {
          "output_type": "stream",
          "name": "stderr",
          "text": [
            "\n"
          ]
        },
        {
          "output_type": "stream",
          "name": "stdout",
          "text": [
            "\n",
            "      Epoch    GPU_mem   box_loss   cls_loss   dfl_loss  Instances       Size\n"
          ]
        },
        {
          "output_type": "stream",
          "name": "stderr",
          "text": [
            "    141/250      2.24G       1.57      1.238      1.958          1        640: 100%|██████████| 8/8 [00:01<00:00,  4.09it/s]\n",
            "                 Class     Images  Instances      Box(P          R      mAP50  mAP50-95): 100%|██████████| 4/4 [00:03<00:00,  1.16it/s]"
          ]
        },
        {
          "output_type": "stream",
          "name": "stdout",
          "text": [
            "                   all        113        253       0.93      0.719      0.833      0.493\n"
          ]
        },
        {
          "output_type": "stream",
          "name": "stderr",
          "text": [
            "\n"
          ]
        },
        {
          "output_type": "stream",
          "name": "stdout",
          "text": [
            "\n",
            "      Epoch    GPU_mem   box_loss   cls_loss   dfl_loss  Instances       Size\n"
          ]
        },
        {
          "output_type": "stream",
          "name": "stderr",
          "text": [
            "    142/250      2.23G      1.539      1.192       1.87         17        640: 100%|██████████| 8/8 [00:02<00:00,  3.29it/s]\n",
            "                 Class     Images  Instances      Box(P          R      mAP50  mAP50-95): 100%|██████████| 4/4 [00:02<00:00,  1.75it/s]"
          ]
        },
        {
          "output_type": "stream",
          "name": "stdout",
          "text": [
            "                   all        113        253      0.905      0.747      0.846      0.529\n"
          ]
        },
        {
          "output_type": "stream",
          "name": "stderr",
          "text": [
            "\n"
          ]
        },
        {
          "output_type": "stream",
          "name": "stdout",
          "text": [
            "\n",
            "      Epoch    GPU_mem   box_loss   cls_loss   dfl_loss  Instances       Size\n"
          ]
        },
        {
          "output_type": "stream",
          "name": "stderr",
          "text": [
            "    143/250      2.33G      1.427      1.097      1.779          2        640: 100%|██████████| 8/8 [00:02<00:00,  3.63it/s]\n",
            "                 Class     Images  Instances      Box(P          R      mAP50  mAP50-95): 100%|██████████| 4/4 [00:02<00:00,  1.75it/s]"
          ]
        },
        {
          "output_type": "stream",
          "name": "stdout",
          "text": [
            "                   all        113        253      0.909      0.739      0.836      0.534\n"
          ]
        },
        {
          "output_type": "stream",
          "name": "stderr",
          "text": [
            "\n"
          ]
        },
        {
          "output_type": "stream",
          "name": "stdout",
          "text": [
            "\n",
            "      Epoch    GPU_mem   box_loss   cls_loss   dfl_loss  Instances       Size\n"
          ]
        },
        {
          "output_type": "stream",
          "name": "stderr",
          "text": [
            "    144/250      2.32G       1.43      1.122      1.853          3        640: 100%|██████████| 8/8 [00:02<00:00,  3.21it/s]\n",
            "                 Class     Images  Instances      Box(P          R      mAP50  mAP50-95): 100%|██████████| 4/4 [00:02<00:00,  1.62it/s]"
          ]
        },
        {
          "output_type": "stream",
          "name": "stdout",
          "text": [
            "                   all        113        253      0.921      0.737       0.84      0.539\n"
          ]
        },
        {
          "output_type": "stream",
          "name": "stderr",
          "text": [
            "\n"
          ]
        },
        {
          "output_type": "stream",
          "name": "stdout",
          "text": [
            "\n",
            "      Epoch    GPU_mem   box_loss   cls_loss   dfl_loss  Instances       Size\n"
          ]
        },
        {
          "output_type": "stream",
          "name": "stderr",
          "text": [
            "    145/250      2.32G      1.522      1.222      1.823         24        640: 100%|██████████| 8/8 [00:02<00:00,  4.00it/s]\n",
            "                 Class     Images  Instances      Box(P          R      mAP50  mAP50-95): 100%|██████████| 4/4 [00:01<00:00,  2.16it/s]"
          ]
        },
        {
          "output_type": "stream",
          "name": "stdout",
          "text": [
            "                   all        113        253      0.886       0.71      0.821      0.492\n"
          ]
        },
        {
          "output_type": "stream",
          "name": "stderr",
          "text": [
            "\n"
          ]
        },
        {
          "output_type": "stream",
          "name": "stdout",
          "text": [
            "\n",
            "      Epoch    GPU_mem   box_loss   cls_loss   dfl_loss  Instances       Size\n"
          ]
        },
        {
          "output_type": "stream",
          "name": "stderr",
          "text": [
            "    146/250      2.22G      1.468      1.101      1.834          3        640: 100%|██████████| 8/8 [00:03<00:00,  2.38it/s]\n",
            "                 Class     Images  Instances      Box(P          R      mAP50  mAP50-95): 100%|██████████| 4/4 [00:03<00:00,  1.30it/s]"
          ]
        },
        {
          "output_type": "stream",
          "name": "stdout",
          "text": [
            "                   all        113        253      0.908      0.723      0.831      0.528\n"
          ]
        },
        {
          "output_type": "stream",
          "name": "stderr",
          "text": [
            "\n"
          ]
        },
        {
          "output_type": "stream",
          "name": "stdout",
          "text": [
            "\n",
            "      Epoch    GPU_mem   box_loss   cls_loss   dfl_loss  Instances       Size\n"
          ]
        },
        {
          "output_type": "stream",
          "name": "stderr",
          "text": [
            "    147/250      2.21G      1.543      1.255       1.85          1        640: 100%|██████████| 8/8 [00:01<00:00,  4.06it/s]\n",
            "                 Class     Images  Instances      Box(P          R      mAP50  mAP50-95): 100%|██████████| 4/4 [00:02<00:00,  1.75it/s]"
          ]
        },
        {
          "output_type": "stream",
          "name": "stdout",
          "text": [
            "                   all        113        253      0.912      0.743      0.839      0.504\n"
          ]
        },
        {
          "output_type": "stream",
          "name": "stderr",
          "text": [
            "\n"
          ]
        },
        {
          "output_type": "stream",
          "name": "stdout",
          "text": [
            "\n",
            "      Epoch    GPU_mem   box_loss   cls_loss   dfl_loss  Instances       Size\n"
          ]
        },
        {
          "output_type": "stream",
          "name": "stderr",
          "text": [
            "    148/250      2.23G      1.449      1.154      1.815          1        640: 100%|██████████| 8/8 [00:02<00:00,  3.74it/s]\n",
            "                 Class     Images  Instances      Box(P          R      mAP50  mAP50-95): 100%|██████████| 4/4 [00:03<00:00,  1.14it/s]"
          ]
        },
        {
          "output_type": "stream",
          "name": "stdout",
          "text": [
            "                   all        113        253      0.905       0.75      0.835      0.504\n"
          ]
        },
        {
          "output_type": "stream",
          "name": "stderr",
          "text": [
            "\n"
          ]
        },
        {
          "output_type": "stream",
          "name": "stdout",
          "text": [
            "\n",
            "      Epoch    GPU_mem   box_loss   cls_loss   dfl_loss  Instances       Size\n"
          ]
        },
        {
          "output_type": "stream",
          "name": "stderr",
          "text": [
            "    149/250      2.23G       1.47      1.112      1.795          3        640: 100%|██████████| 8/8 [00:02<00:00,  3.47it/s]\n",
            "                 Class     Images  Instances      Box(P          R      mAP50  mAP50-95): 100%|██████████| 4/4 [00:02<00:00,  1.69it/s]\n"
          ]
        },
        {
          "output_type": "stream",
          "name": "stdout",
          "text": [
            "                   all        113        253      0.884      0.751      0.843      0.522\n",
            "\n",
            "      Epoch    GPU_mem   box_loss   cls_loss   dfl_loss  Instances       Size\n"
          ]
        },
        {
          "output_type": "stream",
          "name": "stderr",
          "text": [
            "    150/250      2.22G      1.486      1.142      1.801          9        640: 100%|██████████| 8/8 [00:02<00:00,  3.81it/s]\n",
            "                 Class     Images  Instances      Box(P          R      mAP50  mAP50-95): 100%|██████████| 4/4 [00:02<00:00,  1.74it/s]\n"
          ]
        },
        {
          "output_type": "stream",
          "name": "stdout",
          "text": [
            "                   all        113        253      0.899      0.759      0.846      0.534\n",
            "\n",
            "      Epoch    GPU_mem   box_loss   cls_loss   dfl_loss  Instances       Size\n"
          ]
        },
        {
          "output_type": "stream",
          "name": "stderr",
          "text": [
            "    151/250      2.35G      1.528      1.271      1.901         12        640: 100%|██████████| 8/8 [00:02<00:00,  3.71it/s]\n",
            "                 Class     Images  Instances      Box(P          R      mAP50  mAP50-95): 100%|██████████| 4/4 [00:01<00:00,  2.14it/s]"
          ]
        },
        {
          "output_type": "stream",
          "name": "stdout",
          "text": [
            "                   all        113        253      0.883      0.771      0.839      0.525\n"
          ]
        },
        {
          "output_type": "stream",
          "name": "stderr",
          "text": [
            "\n"
          ]
        },
        {
          "output_type": "stream",
          "name": "stdout",
          "text": [
            "\n",
            "      Epoch    GPU_mem   box_loss   cls_loss   dfl_loss  Instances       Size\n"
          ]
        },
        {
          "output_type": "stream",
          "name": "stderr",
          "text": [
            "    152/250      2.22G      1.427      1.132      1.815          2        640: 100%|██████████| 8/8 [00:02<00:00,  3.61it/s]\n",
            "                 Class     Images  Instances      Box(P          R      mAP50  mAP50-95): 100%|██████████| 4/4 [00:02<00:00,  1.64it/s]"
          ]
        },
        {
          "output_type": "stream",
          "name": "stdout",
          "text": [
            "                   all        113        253      0.871      0.731      0.816      0.507\n"
          ]
        },
        {
          "output_type": "stream",
          "name": "stderr",
          "text": [
            "\n"
          ]
        },
        {
          "output_type": "stream",
          "name": "stdout",
          "text": [
            "\n",
            "      Epoch    GPU_mem   box_loss   cls_loss   dfl_loss  Instances       Size\n"
          ]
        },
        {
          "output_type": "stream",
          "name": "stderr",
          "text": [
            "    153/250      2.23G      1.388      1.128      1.722          2        640: 100%|██████████| 8/8 [00:03<00:00,  2.59it/s]\n",
            "                 Class     Images  Instances      Box(P          R      mAP50  mAP50-95): 100%|██████████| 4/4 [00:02<00:00,  1.36it/s]"
          ]
        },
        {
          "output_type": "stream",
          "name": "stdout",
          "text": [
            "                   all        113        253      0.887      0.744      0.836      0.542\n"
          ]
        },
        {
          "output_type": "stream",
          "name": "stderr",
          "text": [
            "\n"
          ]
        },
        {
          "output_type": "stream",
          "name": "stdout",
          "text": [
            "\n",
            "      Epoch    GPU_mem   box_loss   cls_loss   dfl_loss  Instances       Size\n"
          ]
        },
        {
          "output_type": "stream",
          "name": "stderr",
          "text": [
            "    154/250      2.24G      1.444      1.089      1.829          7        640: 100%|██████████| 8/8 [00:01<00:00,  4.06it/s]\n",
            "                 Class     Images  Instances      Box(P          R      mAP50  mAP50-95): 100%|██████████| 4/4 [00:02<00:00,  1.72it/s]"
          ]
        },
        {
          "output_type": "stream",
          "name": "stdout",
          "text": [
            "                   all        113        253      0.929      0.767      0.853      0.543\n"
          ]
        },
        {
          "output_type": "stream",
          "name": "stderr",
          "text": [
            "\n"
          ]
        },
        {
          "output_type": "stream",
          "name": "stdout",
          "text": [
            "\n",
            "      Epoch    GPU_mem   box_loss   cls_loss   dfl_loss  Instances       Size\n"
          ]
        },
        {
          "output_type": "stream",
          "name": "stderr",
          "text": [
            "    155/250      2.35G      1.442      1.104       1.83          4        640: 100%|██████████| 8/8 [00:02<00:00,  3.54it/s]\n",
            "                 Class     Images  Instances      Box(P          R      mAP50  mAP50-95): 100%|██████████| 4/4 [00:03<00:00,  1.09it/s]"
          ]
        },
        {
          "output_type": "stream",
          "name": "stdout",
          "text": [
            "                   all        113        253      0.946      0.747      0.848      0.544\n"
          ]
        },
        {
          "output_type": "stream",
          "name": "stderr",
          "text": [
            "\n"
          ]
        },
        {
          "output_type": "stream",
          "name": "stdout",
          "text": [
            "\n",
            "      Epoch    GPU_mem   box_loss   cls_loss   dfl_loss  Instances       Size\n"
          ]
        },
        {
          "output_type": "stream",
          "name": "stderr",
          "text": [
            "    156/250      2.33G      1.423      1.025      1.763          4        640: 100%|██████████| 8/8 [00:02<00:00,  3.64it/s]\n",
            "                 Class     Images  Instances      Box(P          R      mAP50  mAP50-95): 100%|██████████| 4/4 [00:02<00:00,  1.60it/s]"
          ]
        },
        {
          "output_type": "stream",
          "name": "stdout",
          "text": [
            "                   all        113        253      0.925      0.729      0.849      0.534\n"
          ]
        },
        {
          "output_type": "stream",
          "name": "stderr",
          "text": [
            "\n"
          ]
        },
        {
          "output_type": "stream",
          "name": "stdout",
          "text": [
            "\n",
            "      Epoch    GPU_mem   box_loss   cls_loss   dfl_loss  Instances       Size\n"
          ]
        },
        {
          "output_type": "stream",
          "name": "stderr",
          "text": [
            "    157/250      2.32G      1.478      1.089      1.829          4        640: 100%|██████████| 8/8 [00:01<00:00,  4.26it/s]\n",
            "                 Class     Images  Instances      Box(P          R      mAP50  mAP50-95): 100%|██████████| 4/4 [00:03<00:00,  1.17it/s]"
          ]
        },
        {
          "output_type": "stream",
          "name": "stdout",
          "text": [
            "                   all        113        253       0.89      0.766       0.84      0.543\n"
          ]
        },
        {
          "output_type": "stream",
          "name": "stderr",
          "text": [
            "\n"
          ]
        },
        {
          "output_type": "stream",
          "name": "stdout",
          "text": [
            "\n",
            "      Epoch    GPU_mem   box_loss   cls_loss   dfl_loss  Instances       Size\n"
          ]
        },
        {
          "output_type": "stream",
          "name": "stderr",
          "text": [
            "    158/250      2.23G      1.578       1.05      1.999          3        640: 100%|██████████| 8/8 [00:02<00:00,  3.57it/s]\n",
            "                 Class     Images  Instances      Box(P          R      mAP50  mAP50-95): 100%|██████████| 4/4 [00:02<00:00,  1.55it/s]"
          ]
        },
        {
          "output_type": "stream",
          "name": "stdout",
          "text": [
            "                   all        113        253      0.889      0.793      0.854      0.535\n"
          ]
        },
        {
          "output_type": "stream",
          "name": "stderr",
          "text": [
            "\n"
          ]
        },
        {
          "output_type": "stream",
          "name": "stdout",
          "text": [
            "\n",
            "      Epoch    GPU_mem   box_loss   cls_loss   dfl_loss  Instances       Size\n"
          ]
        },
        {
          "output_type": "stream",
          "name": "stderr",
          "text": [
            "    159/250      2.33G      1.484      1.213      1.819          2        640: 100%|██████████| 8/8 [00:02<00:00,  3.85it/s]\n",
            "                 Class     Images  Instances      Box(P          R      mAP50  mAP50-95): 100%|██████████| 4/4 [00:02<00:00,  1.61it/s]\n"
          ]
        },
        {
          "output_type": "stream",
          "name": "stdout",
          "text": [
            "                   all        113        253      0.902      0.804      0.858      0.539\n",
            "\n",
            "      Epoch    GPU_mem   box_loss   cls_loss   dfl_loss  Instances       Size\n"
          ]
        },
        {
          "output_type": "stream",
          "name": "stderr",
          "text": [
            "    160/250      2.24G      1.391      1.023      1.763          4        640: 100%|██████████| 8/8 [00:02<00:00,  2.74it/s]\n",
            "                 Class     Images  Instances      Box(P          R      mAP50  mAP50-95): 100%|██████████| 4/4 [00:02<00:00,  1.52it/s]"
          ]
        },
        {
          "output_type": "stream",
          "name": "stdout",
          "text": [
            "                   all        113        253      0.933      0.768      0.854      0.562\n"
          ]
        },
        {
          "output_type": "stream",
          "name": "stderr",
          "text": [
            "\n"
          ]
        },
        {
          "output_type": "stream",
          "name": "stdout",
          "text": [
            "\n",
            "      Epoch    GPU_mem   box_loss   cls_loss   dfl_loss  Instances       Size\n"
          ]
        },
        {
          "output_type": "stream",
          "name": "stderr",
          "text": [
            "    161/250      2.22G      1.492      1.202      1.756         25        640: 100%|██████████| 8/8 [00:02<00:00,  3.99it/s]\n",
            "                 Class     Images  Instances      Box(P          R      mAP50  mAP50-95): 100%|██████████| 4/4 [00:01<00:00,  2.64it/s]"
          ]
        },
        {
          "output_type": "stream",
          "name": "stdout",
          "text": [
            "                   all        113        253      0.914       0.76      0.853      0.532\n"
          ]
        },
        {
          "output_type": "stream",
          "name": "stderr",
          "text": [
            "\n"
          ]
        },
        {
          "output_type": "stream",
          "name": "stdout",
          "text": [
            "\n",
            "      Epoch    GPU_mem   box_loss   cls_loss   dfl_loss  Instances       Size\n"
          ]
        },
        {
          "output_type": "stream",
          "name": "stderr",
          "text": [
            "    162/250      2.21G      1.374      1.049      1.804          4        640: 100%|██████████| 8/8 [00:02<00:00,  3.25it/s]\n",
            "                 Class     Images  Instances      Box(P          R      mAP50  mAP50-95): 100%|██████████| 4/4 [00:03<00:00,  1.13it/s]"
          ]
        },
        {
          "output_type": "stream",
          "name": "stdout",
          "text": [
            "                   all        113        253      0.907       0.77      0.856      0.547\n"
          ]
        },
        {
          "output_type": "stream",
          "name": "stderr",
          "text": [
            "\n"
          ]
        },
        {
          "output_type": "stream",
          "name": "stdout",
          "text": [
            "\n",
            "      Epoch    GPU_mem   box_loss   cls_loss   dfl_loss  Instances       Size\n"
          ]
        },
        {
          "output_type": "stream",
          "name": "stderr",
          "text": [
            "    163/250      2.24G      1.562       1.23      1.732         24        640: 100%|██████████| 8/8 [00:02<00:00,  3.99it/s]\n",
            "                 Class     Images  Instances      Box(P          R      mAP50  mAP50-95): 100%|██████████| 4/4 [00:02<00:00,  1.80it/s]"
          ]
        },
        {
          "output_type": "stream",
          "name": "stdout",
          "text": [
            "                   all        113        253      0.922      0.753      0.854      0.564\n"
          ]
        },
        {
          "output_type": "stream",
          "name": "stderr",
          "text": [
            "\n"
          ]
        },
        {
          "output_type": "stream",
          "name": "stdout",
          "text": [
            "\n",
            "      Epoch    GPU_mem   box_loss   cls_loss   dfl_loss  Instances       Size\n"
          ]
        },
        {
          "output_type": "stream",
          "name": "stderr",
          "text": [
            "    164/250      2.22G      1.508      1.101      1.736         23        640: 100%|██████████| 8/8 [00:02<00:00,  3.71it/s]\n",
            "                 Class     Images  Instances      Box(P          R      mAP50  mAP50-95): 100%|██████████| 4/4 [00:01<00:00,  2.11it/s]"
          ]
        },
        {
          "output_type": "stream",
          "name": "stdout",
          "text": [
            "                   all        113        253      0.915      0.767      0.855      0.562\n"
          ]
        },
        {
          "output_type": "stream",
          "name": "stderr",
          "text": [
            "\n"
          ]
        },
        {
          "output_type": "stream",
          "name": "stdout",
          "text": [
            "\n",
            "      Epoch    GPU_mem   box_loss   cls_loss   dfl_loss  Instances       Size\n"
          ]
        },
        {
          "output_type": "stream",
          "name": "stderr",
          "text": [
            "    165/250      2.35G      1.464      1.094      1.753          4        640: 100%|██████████| 8/8 [00:03<00:00,  2.45it/s]\n",
            "                 Class     Images  Instances      Box(P          R      mAP50  mAP50-95): 100%|██████████| 4/4 [00:02<00:00,  1.70it/s]\n"
          ]
        },
        {
          "output_type": "stream",
          "name": "stdout",
          "text": [
            "                   all        113        253      0.913      0.785      0.857      0.576\n",
            "\n",
            "      Epoch    GPU_mem   box_loss   cls_loss   dfl_loss  Instances       Size\n"
          ]
        },
        {
          "output_type": "stream",
          "name": "stderr",
          "text": [
            "    166/250      2.33G      1.514       1.22      1.798         15        640: 100%|██████████| 8/8 [00:02<00:00,  3.84it/s]\n",
            "                 Class     Images  Instances      Box(P          R      mAP50  mAP50-95): 100%|██████████| 4/4 [00:02<00:00,  1.95it/s]"
          ]
        },
        {
          "output_type": "stream",
          "name": "stdout",
          "text": [
            "                   all        113        253      0.925      0.779      0.861      0.562\n"
          ]
        },
        {
          "output_type": "stream",
          "name": "stderr",
          "text": [
            "\n"
          ]
        },
        {
          "output_type": "stream",
          "name": "stdout",
          "text": [
            "\n",
            "      Epoch    GPU_mem   box_loss   cls_loss   dfl_loss  Instances       Size\n"
          ]
        },
        {
          "output_type": "stream",
          "name": "stderr",
          "text": [
            "    167/250      2.32G      1.299     0.9762      1.675          2        640: 100%|██████████| 8/8 [00:02<00:00,  2.71it/s]\n",
            "                 Class     Images  Instances      Box(P          R      mAP50  mAP50-95): 100%|██████████| 4/4 [00:02<00:00,  1.35it/s]"
          ]
        },
        {
          "output_type": "stream",
          "name": "stdout",
          "text": [
            "                   all        113        253      0.917      0.775      0.858      0.562\n"
          ]
        },
        {
          "output_type": "stream",
          "name": "stderr",
          "text": [
            "\n"
          ]
        },
        {
          "output_type": "stream",
          "name": "stdout",
          "text": [
            "\n",
            "      Epoch    GPU_mem   box_loss   cls_loss   dfl_loss  Instances       Size\n"
          ]
        },
        {
          "output_type": "stream",
          "name": "stderr",
          "text": [
            "    168/250      2.22G      1.325      1.001      1.715          1        640: 100%|██████████| 8/8 [00:02<00:00,  4.00it/s]\n",
            "                 Class     Images  Instances      Box(P          R      mAP50  mAP50-95): 100%|██████████| 4/4 [00:02<00:00,  1.79it/s]"
          ]
        },
        {
          "output_type": "stream",
          "name": "stdout",
          "text": [
            "                   all        113        253      0.941      0.758      0.862      0.571\n"
          ]
        },
        {
          "output_type": "stream",
          "name": "stderr",
          "text": [
            "\n"
          ]
        },
        {
          "output_type": "stream",
          "name": "stdout",
          "text": [
            "\n",
            "      Epoch    GPU_mem   box_loss   cls_loss   dfl_loss  Instances       Size\n"
          ]
        },
        {
          "output_type": "stream",
          "name": "stderr",
          "text": [
            "    169/250       2.3G      1.342     0.9778      1.714          9        640: 100%|██████████| 8/8 [00:02<00:00,  3.80it/s]\n",
            "                 Class     Images  Instances      Box(P          R      mAP50  mAP50-95): 100%|██████████| 4/4 [00:03<00:00,  1.10it/s]"
          ]
        },
        {
          "output_type": "stream",
          "name": "stdout",
          "text": [
            "                   all        113        253      0.882      0.787      0.865      0.566\n"
          ]
        },
        {
          "output_type": "stream",
          "name": "stderr",
          "text": [
            "\n"
          ]
        },
        {
          "output_type": "stream",
          "name": "stdout",
          "text": [
            "\n",
            "      Epoch    GPU_mem   box_loss   cls_loss   dfl_loss  Instances       Size\n"
          ]
        },
        {
          "output_type": "stream",
          "name": "stderr",
          "text": [
            "    170/250      2.22G      1.606      1.296       1.86         18        640: 100%|██████████| 8/8 [00:02<00:00,  3.90it/s]\n",
            "                 Class     Images  Instances      Box(P          R      mAP50  mAP50-95): 100%|██████████| 4/4 [00:01<00:00,  2.23it/s]"
          ]
        },
        {
          "output_type": "stream",
          "name": "stdout",
          "text": [
            "                   all        113        253      0.911      0.772      0.865      0.563\n"
          ]
        },
        {
          "output_type": "stream",
          "name": "stderr",
          "text": [
            "\n"
          ]
        },
        {
          "output_type": "stream",
          "name": "stdout",
          "text": [
            "\n",
            "      Epoch    GPU_mem   box_loss   cls_loss   dfl_loss  Instances       Size\n"
          ]
        },
        {
          "output_type": "stream",
          "name": "stderr",
          "text": [
            "    171/250      2.22G      1.417       1.03      1.766          5        640: 100%|██████████| 8/8 [00:02<00:00,  3.52it/s]\n",
            "                 Class     Images  Instances      Box(P          R      mAP50  mAP50-95): 100%|██████████| 4/4 [00:02<00:00,  1.64it/s]"
          ]
        },
        {
          "output_type": "stream",
          "name": "stdout",
          "text": [
            "                   all        113        253      0.894      0.779      0.861      0.567\n"
          ]
        },
        {
          "output_type": "stream",
          "name": "stderr",
          "text": [
            "\n"
          ]
        },
        {
          "output_type": "stream",
          "name": "stdout",
          "text": [
            "\n",
            "      Epoch    GPU_mem   box_loss   cls_loss   dfl_loss  Instances       Size\n"
          ]
        },
        {
          "output_type": "stream",
          "name": "stderr",
          "text": [
            "    172/250      2.23G      1.453      1.075      1.667          1        640: 100%|██████████| 8/8 [00:03<00:00,  2.57it/s]\n",
            "                 Class     Images  Instances      Box(P          R      mAP50  mAP50-95): 100%|██████████| 4/4 [00:02<00:00,  1.73it/s]"
          ]
        },
        {
          "output_type": "stream",
          "name": "stdout",
          "text": [
            "                   all        113        253      0.908      0.777      0.859      0.577\n"
          ]
        },
        {
          "output_type": "stream",
          "name": "stderr",
          "text": [
            "\n"
          ]
        },
        {
          "output_type": "stream",
          "name": "stdout",
          "text": [
            "\n",
            "      Epoch    GPU_mem   box_loss   cls_loss   dfl_loss  Instances       Size\n"
          ]
        },
        {
          "output_type": "stream",
          "name": "stderr",
          "text": [
            "    173/250      2.34G      1.348      0.949      1.783          2        640: 100%|██████████| 8/8 [00:01<00:00,  4.12it/s]\n",
            "                 Class     Images  Instances      Box(P          R      mAP50  mAP50-95): 100%|██████████| 4/4 [00:02<00:00,  1.93it/s]"
          ]
        },
        {
          "output_type": "stream",
          "name": "stdout",
          "text": [
            "                   all        113        253      0.928      0.779      0.867      0.581\n"
          ]
        },
        {
          "output_type": "stream",
          "name": "stderr",
          "text": [
            "\n"
          ]
        },
        {
          "output_type": "stream",
          "name": "stdout",
          "text": [
            "\n",
            "      Epoch    GPU_mem   box_loss   cls_loss   dfl_loss  Instances       Size\n"
          ]
        },
        {
          "output_type": "stream",
          "name": "stderr",
          "text": [
            "    174/250      2.21G      1.405       1.04      1.814          3        640: 100%|██████████| 8/8 [00:02<00:00,  3.21it/s]\n",
            "                 Class     Images  Instances      Box(P          R      mAP50  mAP50-95): 100%|██████████| 4/4 [00:03<00:00,  1.23it/s]"
          ]
        },
        {
          "output_type": "stream",
          "name": "stdout",
          "text": [
            "                   all        113        253      0.934       0.78      0.873      0.564\n"
          ]
        },
        {
          "output_type": "stream",
          "name": "stderr",
          "text": [
            "\n"
          ]
        },
        {
          "output_type": "stream",
          "name": "stdout",
          "text": [
            "\n",
            "      Epoch    GPU_mem   box_loss   cls_loss   dfl_loss  Instances       Size\n"
          ]
        },
        {
          "output_type": "stream",
          "name": "stderr",
          "text": [
            "    175/250      2.21G      1.373      1.047      1.714          2        640: 100%|██████████| 8/8 [00:02<00:00,  3.93it/s]\n",
            "                 Class     Images  Instances      Box(P          R      mAP50  mAP50-95): 100%|██████████| 4/4 [00:02<00:00,  1.73it/s]"
          ]
        },
        {
          "output_type": "stream",
          "name": "stdout",
          "text": [
            "                   all        113        253      0.956      0.775      0.872      0.576\n"
          ]
        },
        {
          "output_type": "stream",
          "name": "stderr",
          "text": [
            "\n"
          ]
        },
        {
          "output_type": "stream",
          "name": "stdout",
          "text": [
            "\n",
            "      Epoch    GPU_mem   box_loss   cls_loss   dfl_loss  Instances       Size\n"
          ]
        },
        {
          "output_type": "stream",
          "name": "stderr",
          "text": [
            "    176/250      2.22G      1.472      1.058      1.731         22        640: 100%|██████████| 8/8 [00:02<00:00,  3.38it/s]\n",
            "                 Class     Images  Instances      Box(P          R      mAP50  mAP50-95): 100%|██████████| 4/4 [00:03<00:00,  1.19it/s]"
          ]
        },
        {
          "output_type": "stream",
          "name": "stdout",
          "text": [
            "                   all        113        253      0.929      0.763      0.859      0.584\n"
          ]
        },
        {
          "output_type": "stream",
          "name": "stderr",
          "text": [
            "\n"
          ]
        },
        {
          "output_type": "stream",
          "name": "stdout",
          "text": [
            "\n",
            "      Epoch    GPU_mem   box_loss   cls_loss   dfl_loss  Instances       Size\n"
          ]
        },
        {
          "output_type": "stream",
          "name": "stderr",
          "text": [
            "    177/250      2.32G      1.443      1.033      1.894          2        640: 100%|██████████| 8/8 [00:02<00:00,  3.74it/s]\n",
            "                 Class     Images  Instances      Box(P          R      mAP50  mAP50-95): 100%|██████████| 4/4 [00:01<00:00,  2.07it/s]\n"
          ]
        },
        {
          "output_type": "stream",
          "name": "stdout",
          "text": [
            "                   all        113        253      0.926      0.791      0.865      0.581\n",
            "\n",
            "      Epoch    GPU_mem   box_loss   cls_loss   dfl_loss  Instances       Size\n"
          ]
        },
        {
          "output_type": "stream",
          "name": "stderr",
          "text": [
            "    178/250      2.32G      1.356       1.01       1.68          6        640: 100%|██████████| 8/8 [00:02<00:00,  3.88it/s]\n",
            "                 Class     Images  Instances      Box(P          R      mAP50  mAP50-95): 100%|██████████| 4/4 [00:02<00:00,  1.82it/s]\n"
          ]
        },
        {
          "output_type": "stream",
          "name": "stdout",
          "text": [
            "                   all        113        253      0.909      0.791       0.86      0.564\n",
            "\n",
            "      Epoch    GPU_mem   box_loss   cls_loss   dfl_loss  Instances       Size\n"
          ]
        },
        {
          "output_type": "stream",
          "name": "stderr",
          "text": [
            "    179/250      2.22G      1.442       1.22      1.794          2        640: 100%|██████████| 8/8 [00:03<00:00,  2.45it/s]\n",
            "                 Class     Images  Instances      Box(P          R      mAP50  mAP50-95): 100%|██████████| 4/4 [00:02<00:00,  1.60it/s]"
          ]
        },
        {
          "output_type": "stream",
          "name": "stdout",
          "text": [
            "                   all        113        253      0.921      0.786       0.87      0.586\n"
          ]
        },
        {
          "output_type": "stream",
          "name": "stderr",
          "text": [
            "\n"
          ]
        },
        {
          "output_type": "stream",
          "name": "stdout",
          "text": [
            "\n",
            "      Epoch    GPU_mem   box_loss   cls_loss   dfl_loss  Instances       Size\n"
          ]
        },
        {
          "output_type": "stream",
          "name": "stderr",
          "text": [
            "    180/250      2.24G      1.368      1.039      1.813          3        640: 100%|██████████| 8/8 [00:01<00:00,  4.15it/s]\n",
            "                 Class     Images  Instances      Box(P          R      mAP50  mAP50-95): 100%|██████████| 4/4 [00:01<00:00,  2.60it/s]"
          ]
        },
        {
          "output_type": "stream",
          "name": "stdout",
          "text": [
            "                   all        113        253      0.929      0.794      0.866      0.579\n"
          ]
        },
        {
          "output_type": "stream",
          "name": "stderr",
          "text": [
            "\n"
          ]
        },
        {
          "output_type": "stream",
          "name": "stdout",
          "text": [
            "\n",
            "      Epoch    GPU_mem   box_loss   cls_loss   dfl_loss  Instances       Size\n"
          ]
        },
        {
          "output_type": "stream",
          "name": "stderr",
          "text": [
            "    181/250      2.32G      1.271       0.94      1.657          3        640: 100%|██████████| 8/8 [00:02<00:00,  2.75it/s]\n",
            "                 Class     Images  Instances      Box(P          R      mAP50  mAP50-95): 100%|██████████| 4/4 [00:03<00:00,  1.18it/s]"
          ]
        },
        {
          "output_type": "stream",
          "name": "stdout",
          "text": [
            "                   all        113        253      0.931      0.783      0.866      0.596\n"
          ]
        },
        {
          "output_type": "stream",
          "name": "stderr",
          "text": [
            "\n"
          ]
        },
        {
          "output_type": "stream",
          "name": "stdout",
          "text": [
            "\n",
            "      Epoch    GPU_mem   box_loss   cls_loss   dfl_loss  Instances       Size\n"
          ]
        },
        {
          "output_type": "stream",
          "name": "stderr",
          "text": [
            "    182/250      2.24G      1.462     0.9481      1.699          2        640: 100%|██████████| 8/8 [00:02<00:00,  3.78it/s]\n",
            "                 Class     Images  Instances      Box(P          R      mAP50  mAP50-95): 100%|██████████| 4/4 [00:01<00:00,  2.16it/s]"
          ]
        },
        {
          "output_type": "stream",
          "name": "stdout",
          "text": [
            "                   all        113        253      0.913      0.798      0.868      0.582\n"
          ]
        },
        {
          "output_type": "stream",
          "name": "stderr",
          "text": [
            "\n"
          ]
        },
        {
          "output_type": "stream",
          "name": "stdout",
          "text": [
            "\n",
            "      Epoch    GPU_mem   box_loss   cls_loss   dfl_loss  Instances       Size\n"
          ]
        },
        {
          "output_type": "stream",
          "name": "stderr",
          "text": [
            "    183/250      2.33G      1.366      1.016       1.77          4        640: 100%|██████████| 8/8 [00:02<00:00,  3.67it/s]\n",
            "                 Class     Images  Instances      Box(P          R      mAP50  mAP50-95): 100%|██████████| 4/4 [00:03<00:00,  1.07it/s]"
          ]
        },
        {
          "output_type": "stream",
          "name": "stdout",
          "text": [
            "                   all        113        253      0.911      0.814      0.867      0.566\n"
          ]
        },
        {
          "output_type": "stream",
          "name": "stderr",
          "text": [
            "\n"
          ]
        },
        {
          "output_type": "stream",
          "name": "stdout",
          "text": [
            "\n",
            "      Epoch    GPU_mem   box_loss   cls_loss   dfl_loss  Instances       Size\n"
          ]
        },
        {
          "output_type": "stream",
          "name": "stderr",
          "text": [
            "    184/250      2.24G      1.588      1.086       1.93          2        640: 100%|██████████| 8/8 [00:02<00:00,  3.90it/s]\n",
            "                 Class     Images  Instances      Box(P          R      mAP50  mAP50-95): 100%|██████████| 4/4 [00:02<00:00,  1.68it/s]\n"
          ]
        },
        {
          "output_type": "stream",
          "name": "stdout",
          "text": [
            "                   all        113        253       0.96      0.763      0.876      0.573\n",
            "\n",
            "      Epoch    GPU_mem   box_loss   cls_loss   dfl_loss  Instances       Size\n"
          ]
        },
        {
          "output_type": "stream",
          "name": "stderr",
          "text": [
            "    185/250      2.35G      1.311      1.002      1.688          3        640: 100%|██████████| 8/8 [00:02<00:00,  3.90it/s]\n",
            "                 Class     Images  Instances      Box(P          R      mAP50  mAP50-95): 100%|██████████| 4/4 [00:02<00:00,  1.51it/s]"
          ]
        },
        {
          "output_type": "stream",
          "name": "stdout",
          "text": [
            "                   all        113        253      0.919      0.775      0.866      0.584\n"
          ]
        },
        {
          "output_type": "stream",
          "name": "stderr",
          "text": [
            "\n"
          ]
        },
        {
          "output_type": "stream",
          "name": "stdout",
          "text": [
            "\n",
            "      Epoch    GPU_mem   box_loss   cls_loss   dfl_loss  Instances       Size\n"
          ]
        },
        {
          "output_type": "stream",
          "name": "stderr",
          "text": [
            "    186/250       2.3G      1.413      1.071       1.75          3        640: 100%|██████████| 8/8 [00:02<00:00,  2.90it/s]\n",
            "                 Class     Images  Instances      Box(P          R      mAP50  mAP50-95): 100%|██████████| 4/4 [00:02<00:00,  1.61it/s]"
          ]
        },
        {
          "output_type": "stream",
          "name": "stdout",
          "text": [
            "                   all        113        253      0.912      0.776      0.871      0.587\n"
          ]
        },
        {
          "output_type": "stream",
          "name": "stderr",
          "text": [
            "\n"
          ]
        },
        {
          "output_type": "stream",
          "name": "stdout",
          "text": [
            "\n",
            "      Epoch    GPU_mem   box_loss   cls_loss   dfl_loss  Instances       Size\n"
          ]
        },
        {
          "output_type": "stream",
          "name": "stderr",
          "text": [
            "    187/250      2.35G      1.373     0.9642      1.742          4        640: 100%|██████████| 8/8 [00:01<00:00,  4.13it/s]\n",
            "                 Class     Images  Instances      Box(P          R      mAP50  mAP50-95): 100%|██████████| 4/4 [00:02<00:00,  1.53it/s]\n"
          ]
        },
        {
          "output_type": "stream",
          "name": "stdout",
          "text": [
            "                   all        113        253      0.944      0.794      0.881      0.601\n",
            "\n",
            "      Epoch    GPU_mem   box_loss   cls_loss   dfl_loss  Instances       Size\n"
          ]
        },
        {
          "output_type": "stream",
          "name": "stderr",
          "text": [
            "    188/250      2.21G      1.283     0.9285      1.659          6        640: 100%|██████████| 8/8 [00:02<00:00,  2.76it/s]\n",
            "                 Class     Images  Instances      Box(P          R      mAP50  mAP50-95): 100%|██████████| 4/4 [00:02<00:00,  1.37it/s]\n"
          ]
        },
        {
          "output_type": "stream",
          "name": "stdout",
          "text": [
            "                   all        113        253       0.94      0.798      0.884      0.602\n",
            "\n",
            "      Epoch    GPU_mem   box_loss   cls_loss   dfl_loss  Instances       Size\n"
          ]
        },
        {
          "output_type": "stream",
          "name": "stderr",
          "text": [
            "    189/250      2.23G      1.238     0.9238      1.603          6        640: 100%|██████████| 8/8 [00:02<00:00,  3.96it/s]\n",
            "                 Class     Images  Instances      Box(P          R      mAP50  mAP50-95): 100%|██████████| 4/4 [00:01<00:00,  2.02it/s]"
          ]
        },
        {
          "output_type": "stream",
          "name": "stdout",
          "text": [
            "                   all        113        253      0.941      0.794      0.885      0.598\n"
          ]
        },
        {
          "output_type": "stream",
          "name": "stderr",
          "text": [
            "\n"
          ]
        },
        {
          "output_type": "stream",
          "name": "stdout",
          "text": [
            "\n",
            "      Epoch    GPU_mem   box_loss   cls_loss   dfl_loss  Instances       Size\n"
          ]
        },
        {
          "output_type": "stream",
          "name": "stderr",
          "text": [
            "    190/250      2.22G      1.418      1.371      1.773          6        640: 100%|██████████| 8/8 [00:02<00:00,  3.80it/s]\n",
            "                 Class     Images  Instances      Box(P          R      mAP50  mAP50-95): 100%|██████████| 4/4 [00:04<00:00,  1.01s/it]\n"
          ]
        },
        {
          "output_type": "stream",
          "name": "stdout",
          "text": [
            "                   all        113        253      0.934      0.802      0.879      0.608\n",
            "\n",
            "      Epoch    GPU_mem   box_loss   cls_loss   dfl_loss  Instances       Size\n"
          ]
        },
        {
          "output_type": "stream",
          "name": "stderr",
          "text": [
            "    191/250      2.33G      1.296     0.9684      1.697          5        640: 100%|██████████| 8/8 [00:02<00:00,  3.97it/s]\n",
            "                 Class     Images  Instances      Box(P          R      mAP50  mAP50-95): 100%|██████████| 4/4 [00:02<00:00,  1.88it/s]\n"
          ]
        },
        {
          "output_type": "stream",
          "name": "stdout",
          "text": [
            "                   all        113        253      0.941      0.798      0.878        0.6\n",
            "\n",
            "      Epoch    GPU_mem   box_loss   cls_loss   dfl_loss  Instances       Size\n"
          ]
        },
        {
          "output_type": "stream",
          "name": "stderr",
          "text": [
            "    192/250      2.33G      1.259      1.088      1.676          2        640: 100%|██████████| 8/8 [00:02<00:00,  3.74it/s]\n",
            "                 Class     Images  Instances      Box(P          R      mAP50  mAP50-95): 100%|██████████| 4/4 [00:03<00:00,  1.19it/s]"
          ]
        },
        {
          "output_type": "stream",
          "name": "stdout",
          "text": [
            "                   all        113        253      0.944      0.793      0.874      0.608\n"
          ]
        },
        {
          "output_type": "stream",
          "name": "stderr",
          "text": [
            "\n"
          ]
        },
        {
          "output_type": "stream",
          "name": "stdout",
          "text": [
            "\n",
            "      Epoch    GPU_mem   box_loss   cls_loss   dfl_loss  Instances       Size\n"
          ]
        },
        {
          "output_type": "stream",
          "name": "stderr",
          "text": [
            "    193/250      2.21G      1.261     0.9178      1.648          4        640: 100%|██████████| 8/8 [00:02<00:00,  3.70it/s]\n",
            "                 Class     Images  Instances      Box(P          R      mAP50  mAP50-95): 100%|██████████| 4/4 [00:02<00:00,  1.93it/s]\n"
          ]
        },
        {
          "output_type": "stream",
          "name": "stdout",
          "text": [
            "                   all        113        253      0.939      0.785      0.865      0.599\n",
            "\n",
            "      Epoch    GPU_mem   box_loss   cls_loss   dfl_loss  Instances       Size\n"
          ]
        },
        {
          "output_type": "stream",
          "name": "stderr",
          "text": [
            "    194/250      2.26G      1.372     0.9264      1.805          2        640: 100%|██████████| 8/8 [00:02<00:00,  3.99it/s]\n",
            "                 Class     Images  Instances      Box(P          R      mAP50  mAP50-95): 100%|██████████| 4/4 [00:02<00:00,  1.62it/s]"
          ]
        },
        {
          "output_type": "stream",
          "name": "stdout",
          "text": [
            "                   all        113        253      0.925      0.778      0.868       0.61\n"
          ]
        },
        {
          "output_type": "stream",
          "name": "stderr",
          "text": [
            "\n"
          ]
        },
        {
          "output_type": "stream",
          "name": "stdout",
          "text": [
            "\n",
            "      Epoch    GPU_mem   box_loss   cls_loss   dfl_loss  Instances       Size\n"
          ]
        },
        {
          "output_type": "stream",
          "name": "stderr",
          "text": [
            "    195/250      2.23G      1.288      1.092      1.712          1        640: 100%|██████████| 8/8 [00:03<00:00,  2.56it/s]\n",
            "                 Class     Images  Instances      Box(P          R      mAP50  mAP50-95): 100%|██████████| 4/4 [00:02<00:00,  1.84it/s]"
          ]
        },
        {
          "output_type": "stream",
          "name": "stdout",
          "text": [
            "                   all        113        253      0.948      0.779      0.871      0.593\n"
          ]
        },
        {
          "output_type": "stream",
          "name": "stderr",
          "text": [
            "\n"
          ]
        },
        {
          "output_type": "stream",
          "name": "stdout",
          "text": [
            "\n",
            "      Epoch    GPU_mem   box_loss   cls_loss   dfl_loss  Instances       Size\n"
          ]
        },
        {
          "output_type": "stream",
          "name": "stderr",
          "text": [
            "    196/250      2.23G      1.279     0.9658      1.649          2        640: 100%|██████████| 8/8 [00:02<00:00,  3.82it/s]\n",
            "                 Class     Images  Instances      Box(P          R      mAP50  mAP50-95): 100%|██████████| 4/4 [00:02<00:00,  1.87it/s]"
          ]
        },
        {
          "output_type": "stream",
          "name": "stdout",
          "text": [
            "                   all        113        253      0.951      0.783      0.874      0.592\n"
          ]
        },
        {
          "output_type": "stream",
          "name": "stderr",
          "text": [
            "\n"
          ]
        },
        {
          "output_type": "stream",
          "name": "stdout",
          "text": [
            "\n",
            "      Epoch    GPU_mem   box_loss   cls_loss   dfl_loss  Instances       Size\n"
          ]
        },
        {
          "output_type": "stream",
          "name": "stderr",
          "text": [
            "    197/250      2.21G      1.346      1.037      1.724          1        640: 100%|██████████| 8/8 [00:02<00:00,  3.25it/s]\n",
            "                 Class     Images  Instances      Box(P          R      mAP50  mAP50-95): 100%|██████████| 4/4 [00:03<00:00,  1.18it/s]"
          ]
        },
        {
          "output_type": "stream",
          "name": "stdout",
          "text": [
            "                   all        113        253      0.928      0.771      0.873      0.559\n"
          ]
        },
        {
          "output_type": "stream",
          "name": "stderr",
          "text": [
            "\n"
          ]
        },
        {
          "output_type": "stream",
          "name": "stdout",
          "text": [
            "\n",
            "      Epoch    GPU_mem   box_loss   cls_loss   dfl_loss  Instances       Size\n"
          ]
        },
        {
          "output_type": "stream",
          "name": "stderr",
          "text": [
            "    198/250      2.21G      1.415      1.046       1.66         25        640: 100%|██████████| 8/8 [00:02<00:00,  3.92it/s]\n",
            "                 Class     Images  Instances      Box(P          R      mAP50  mAP50-95): 100%|██████████| 4/4 [00:02<00:00,  1.65it/s]"
          ]
        },
        {
          "output_type": "stream",
          "name": "stdout",
          "text": [
            "                   all        113        253      0.942       0.81      0.885      0.604\n"
          ]
        },
        {
          "output_type": "stream",
          "name": "stderr",
          "text": [
            "\n"
          ]
        },
        {
          "output_type": "stream",
          "name": "stdout",
          "text": [
            "\n",
            "      Epoch    GPU_mem   box_loss   cls_loss   dfl_loss  Instances       Size\n"
          ]
        },
        {
          "output_type": "stream",
          "name": "stderr",
          "text": [
            "    199/250      2.22G      1.393      1.115      1.751          5        640: 100%|██████████| 8/8 [00:02<00:00,  3.26it/s]\n",
            "                 Class     Images  Instances      Box(P          R      mAP50  mAP50-95): 100%|██████████| 4/4 [00:02<00:00,  1.90it/s]"
          ]
        },
        {
          "output_type": "stream",
          "name": "stdout",
          "text": [
            "                   all        113        253      0.943       0.81      0.886      0.601\n"
          ]
        },
        {
          "output_type": "stream",
          "name": "stderr",
          "text": [
            "\n"
          ]
        },
        {
          "output_type": "stream",
          "name": "stdout",
          "text": [
            "\n",
            "      Epoch    GPU_mem   box_loss   cls_loss   dfl_loss  Instances       Size\n"
          ]
        },
        {
          "output_type": "stream",
          "name": "stderr",
          "text": [
            "    200/250      2.22G       1.21     0.8616      1.593          5        640: 100%|██████████| 8/8 [00:02<00:00,  2.92it/s]\n",
            "                 Class     Images  Instances      Box(P          R      mAP50  mAP50-95): 100%|██████████| 4/4 [00:02<00:00,  1.66it/s]"
          ]
        },
        {
          "output_type": "stream",
          "name": "stdout",
          "text": [
            "                   all        113        253      0.948       0.81      0.886      0.616\n"
          ]
        },
        {
          "output_type": "stream",
          "name": "stderr",
          "text": [
            "\n"
          ]
        },
        {
          "output_type": "stream",
          "name": "stdout",
          "text": [
            "\n",
            "      Epoch    GPU_mem   box_loss   cls_loss   dfl_loss  Instances       Size\n"
          ]
        },
        {
          "output_type": "stream",
          "name": "stderr",
          "text": [
            "    201/250       2.3G      1.354     0.9487      1.805          3        640: 100%|██████████| 8/8 [00:01<00:00,  4.04it/s]\n",
            "                 Class     Images  Instances      Box(P          R      mAP50  mAP50-95): 100%|██████████| 4/4 [00:02<00:00,  1.71it/s]"
          ]
        },
        {
          "output_type": "stream",
          "name": "stdout",
          "text": [
            "                   all        113        253      0.947      0.806      0.887      0.619\n"
          ]
        },
        {
          "output_type": "stream",
          "name": "stderr",
          "text": [
            "\n"
          ]
        },
        {
          "output_type": "stream",
          "name": "stdout",
          "text": [
            "\n",
            "      Epoch    GPU_mem   box_loss   cls_loss   dfl_loss  Instances       Size\n"
          ]
        },
        {
          "output_type": "stream",
          "name": "stderr",
          "text": [
            "    202/250      2.23G      1.281      0.874      1.628         21        640: 100%|██████████| 8/8 [00:02<00:00,  3.05it/s]\n",
            "                 Class     Images  Instances      Box(P          R      mAP50  mAP50-95): 100%|██████████| 4/4 [00:01<00:00,  2.01it/s]"
          ]
        },
        {
          "output_type": "stream",
          "name": "stdout",
          "text": [
            "                   all        113        253      0.936      0.805      0.881      0.611\n"
          ]
        },
        {
          "output_type": "stream",
          "name": "stderr",
          "text": [
            "\n"
          ]
        },
        {
          "output_type": "stream",
          "name": "stdout",
          "text": [
            "\n",
            "      Epoch    GPU_mem   box_loss   cls_loss   dfl_loss  Instances       Size\n"
          ]
        },
        {
          "output_type": "stream",
          "name": "stderr",
          "text": [
            "    203/250      2.24G      1.231     0.8677      1.605          4        640: 100%|██████████| 8/8 [00:02<00:00,  3.58it/s]\n",
            "                 Class     Images  Instances      Box(P          R      mAP50  mAP50-95): 100%|██████████| 4/4 [00:02<00:00,  1.76it/s]"
          ]
        },
        {
          "output_type": "stream",
          "name": "stdout",
          "text": [
            "                   all        113        253      0.926      0.818      0.888      0.622\n"
          ]
        },
        {
          "output_type": "stream",
          "name": "stderr",
          "text": [
            "\n"
          ]
        },
        {
          "output_type": "stream",
          "name": "stdout",
          "text": [
            "\n",
            "      Epoch    GPU_mem   box_loss   cls_loss   dfl_loss  Instances       Size\n"
          ]
        },
        {
          "output_type": "stream",
          "name": "stderr",
          "text": [
            "    204/250      2.23G      1.232     0.8739      1.659          7        640: 100%|██████████| 8/8 [00:03<00:00,  2.61it/s]\n",
            "                 Class     Images  Instances      Box(P          R      mAP50  mAP50-95): 100%|██████████| 4/4 [00:02<00:00,  1.52it/s]"
          ]
        },
        {
          "output_type": "stream",
          "name": "stdout",
          "text": [
            "                   all        113        253      0.894      0.835      0.889      0.612\n"
          ]
        },
        {
          "output_type": "stream",
          "name": "stderr",
          "text": [
            "\n"
          ]
        },
        {
          "output_type": "stream",
          "name": "stdout",
          "text": [
            "\n",
            "      Epoch    GPU_mem   box_loss   cls_loss   dfl_loss  Instances       Size\n"
          ]
        },
        {
          "output_type": "stream",
          "name": "stderr",
          "text": [
            "    205/250      2.23G      1.226     0.9423      1.635          1        640: 100%|██████████| 8/8 [00:02<00:00,  3.87it/s]\n",
            "                 Class     Images  Instances      Box(P          R      mAP50  mAP50-95): 100%|██████████| 4/4 [00:02<00:00,  1.55it/s]"
          ]
        },
        {
          "output_type": "stream",
          "name": "stdout",
          "text": [
            "                   all        113        253      0.948      0.788      0.883      0.607\n"
          ]
        },
        {
          "output_type": "stream",
          "name": "stderr",
          "text": [
            "\n"
          ]
        },
        {
          "output_type": "stream",
          "name": "stdout",
          "text": [
            "\n",
            "      Epoch    GPU_mem   box_loss   cls_loss   dfl_loss  Instances       Size\n"
          ]
        },
        {
          "output_type": "stream",
          "name": "stderr",
          "text": [
            "    206/250      2.35G      1.341     0.9386      1.664          2        640: 100%|██████████| 8/8 [00:02<00:00,  3.53it/s]\n",
            "                 Class     Images  Instances      Box(P          R      mAP50  mAP50-95): 100%|██████████| 4/4 [00:03<00:00,  1.01it/s]"
          ]
        },
        {
          "output_type": "stream",
          "name": "stdout",
          "text": [
            "                   all        113        253      0.954      0.794      0.887      0.618\n"
          ]
        },
        {
          "output_type": "stream",
          "name": "stderr",
          "text": [
            "\n"
          ]
        },
        {
          "output_type": "stream",
          "name": "stdout",
          "text": [
            "\n",
            "      Epoch    GPU_mem   box_loss   cls_loss   dfl_loss  Instances       Size\n"
          ]
        },
        {
          "output_type": "stream",
          "name": "stderr",
          "text": [
            "    207/250       2.3G      1.295     0.9585      1.653          6        640: 100%|██████████| 8/8 [00:02<00:00,  3.85it/s]\n",
            "                 Class     Images  Instances      Box(P          R      mAP50  mAP50-95): 100%|██████████| 4/4 [00:02<00:00,  1.48it/s]"
          ]
        },
        {
          "output_type": "stream",
          "name": "stdout",
          "text": [
            "                   all        113        253      0.924      0.811      0.887       0.63\n"
          ]
        },
        {
          "output_type": "stream",
          "name": "stderr",
          "text": [
            "\n"
          ]
        },
        {
          "output_type": "stream",
          "name": "stdout",
          "text": [
            "\n",
            "      Epoch    GPU_mem   box_loss   cls_loss   dfl_loss  Instances       Size\n"
          ]
        },
        {
          "output_type": "stream",
          "name": "stderr",
          "text": [
            "    208/250      2.33G      1.297       1.15      1.743          6        640: 100%|██████████| 8/8 [00:02<00:00,  3.88it/s]\n",
            "                 Class     Images  Instances      Box(P          R      mAP50  mAP50-95): 100%|██████████| 4/4 [00:02<00:00,  1.40it/s]"
          ]
        },
        {
          "output_type": "stream",
          "name": "stdout",
          "text": [
            "                   all        113        253      0.929      0.825       0.89      0.634\n"
          ]
        },
        {
          "output_type": "stream",
          "name": "stderr",
          "text": [
            "\n"
          ]
        },
        {
          "output_type": "stream",
          "name": "stdout",
          "text": [
            "\n",
            "      Epoch    GPU_mem   box_loss   cls_loss   dfl_loss  Instances       Size\n"
          ]
        },
        {
          "output_type": "stream",
          "name": "stderr",
          "text": [
            "    209/250      2.32G      1.198     0.8568      1.579          4        640: 100%|██████████| 8/8 [00:02<00:00,  3.41it/s]\n",
            "                 Class     Images  Instances      Box(P          R      mAP50  mAP50-95): 100%|██████████| 4/4 [00:02<00:00,  1.83it/s]"
          ]
        },
        {
          "output_type": "stream",
          "name": "stdout",
          "text": [
            "                   all        113        253      0.932      0.814      0.893      0.639\n"
          ]
        },
        {
          "output_type": "stream",
          "name": "stderr",
          "text": [
            "\n"
          ]
        },
        {
          "output_type": "stream",
          "name": "stdout",
          "text": [
            "\n",
            "      Epoch    GPU_mem   box_loss   cls_loss   dfl_loss  Instances       Size\n"
          ]
        },
        {
          "output_type": "stream",
          "name": "stderr",
          "text": [
            "    210/250      2.23G      1.401      1.078      1.643          6        640: 100%|██████████| 8/8 [00:02<00:00,  3.62it/s]\n",
            "                 Class     Images  Instances      Box(P          R      mAP50  mAP50-95): 100%|██████████| 4/4 [00:02<00:00,  1.73it/s]"
          ]
        },
        {
          "output_type": "stream",
          "name": "stdout",
          "text": [
            "                   all        113        253      0.954      0.814      0.894      0.634\n"
          ]
        },
        {
          "output_type": "stream",
          "name": "stderr",
          "text": [
            "\n"
          ]
        },
        {
          "output_type": "stream",
          "name": "stdout",
          "text": [
            "\n",
            "      Epoch    GPU_mem   box_loss   cls_loss   dfl_loss  Instances       Size\n"
          ]
        },
        {
          "output_type": "stream",
          "name": "stderr",
          "text": [
            "    211/250      2.21G      1.372      1.023      1.634         23        640: 100%|██████████| 8/8 [00:02<00:00,  2.72it/s]\n",
            "                 Class     Images  Instances      Box(P          R      mAP50  mAP50-95): 100%|██████████| 4/4 [00:02<00:00,  1.60it/s]\n"
          ]
        },
        {
          "output_type": "stream",
          "name": "stdout",
          "text": [
            "                   all        113        253      0.958      0.812      0.893      0.621\n",
            "\n",
            "      Epoch    GPU_mem   box_loss   cls_loss   dfl_loss  Instances       Size\n"
          ]
        },
        {
          "output_type": "stream",
          "name": "stderr",
          "text": [
            "    212/250      2.24G      1.196     0.9918      1.591          2        640: 100%|██████████| 8/8 [00:01<00:00,  4.01it/s]\n",
            "                 Class     Images  Instances      Box(P          R      mAP50  mAP50-95): 100%|██████████| 4/4 [00:02<00:00,  1.59it/s]"
          ]
        },
        {
          "output_type": "stream",
          "name": "stdout",
          "text": [
            "                   all        113        253      0.962      0.814      0.891      0.617\n"
          ]
        },
        {
          "output_type": "stream",
          "name": "stderr",
          "text": [
            "\n"
          ]
        },
        {
          "output_type": "stream",
          "name": "stdout",
          "text": [
            "\n",
            "      Epoch    GPU_mem   box_loss   cls_loss   dfl_loss  Instances       Size\n"
          ]
        },
        {
          "output_type": "stream",
          "name": "stderr",
          "text": [
            "    213/250      2.26G      1.257     0.9594      1.678          1        640: 100%|██████████| 8/8 [00:02<00:00,  2.71it/s]\n",
            "                 Class     Images  Instances      Box(P          R      mAP50  mAP50-95): 100%|██████████| 4/4 [00:02<00:00,  1.36it/s]"
          ]
        },
        {
          "output_type": "stream",
          "name": "stdout",
          "text": [
            "                   all        113        253      0.932      0.814      0.888      0.633\n"
          ]
        },
        {
          "output_type": "stream",
          "name": "stderr",
          "text": [
            "\n"
          ]
        },
        {
          "output_type": "stream",
          "name": "stdout",
          "text": [
            "\n",
            "      Epoch    GPU_mem   box_loss   cls_loss   dfl_loss  Instances       Size\n"
          ]
        },
        {
          "output_type": "stream",
          "name": "stderr",
          "text": [
            "    214/250      2.21G      1.303     0.9718      1.598          2        640: 100%|██████████| 8/8 [00:02<00:00,  3.76it/s]\n",
            "                 Class     Images  Instances      Box(P          R      mAP50  mAP50-95): 100%|██████████| 4/4 [00:02<00:00,  1.76it/s]"
          ]
        },
        {
          "output_type": "stream",
          "name": "stdout",
          "text": [
            "                   all        113        253      0.914       0.81      0.884       0.63\n"
          ]
        },
        {
          "output_type": "stream",
          "name": "stderr",
          "text": [
            "\n"
          ]
        },
        {
          "output_type": "stream",
          "name": "stdout",
          "text": [
            "\n",
            "      Epoch    GPU_mem   box_loss   cls_loss   dfl_loss  Instances       Size\n"
          ]
        },
        {
          "output_type": "stream",
          "name": "stderr",
          "text": [
            "    215/250      2.32G      1.204     0.9979      1.591          1        640: 100%|██████████| 8/8 [00:01<00:00,  4.02it/s]\n",
            "                 Class     Images  Instances      Box(P          R      mAP50  mAP50-95): 100%|██████████| 4/4 [00:04<00:00,  1.03s/it]"
          ]
        },
        {
          "output_type": "stream",
          "name": "stdout",
          "text": [
            "                   all        113        253      0.918      0.814      0.886      0.627\n"
          ]
        },
        {
          "output_type": "stream",
          "name": "stderr",
          "text": [
            "\n"
          ]
        },
        {
          "output_type": "stream",
          "name": "stdout",
          "text": [
            "\n",
            "      Epoch    GPU_mem   box_loss   cls_loss   dfl_loss  Instances       Size\n"
          ]
        },
        {
          "output_type": "stream",
          "name": "stderr",
          "text": [
            "    216/250      2.23G      1.238     0.9609      1.691          3        640: 100%|██████████| 8/8 [00:02<00:00,  3.97it/s]\n",
            "                 Class     Images  Instances      Box(P          R      mAP50  mAP50-95): 100%|██████████| 4/4 [00:02<00:00,  1.80it/s]"
          ]
        },
        {
          "output_type": "stream",
          "name": "stdout",
          "text": [
            "                   all        113        253      0.929      0.822      0.888       0.64\n"
          ]
        },
        {
          "output_type": "stream",
          "name": "stderr",
          "text": [
            "\n"
          ]
        },
        {
          "output_type": "stream",
          "name": "stdout",
          "text": [
            "\n",
            "      Epoch    GPU_mem   box_loss   cls_loss   dfl_loss  Instances       Size\n"
          ]
        },
        {
          "output_type": "stream",
          "name": "stderr",
          "text": [
            "    217/250      2.26G      1.362     0.9896      1.818          2        640: 100%|██████████| 8/8 [00:02<00:00,  3.88it/s]\n",
            "                 Class     Images  Instances      Box(P          R      mAP50  mAP50-95): 100%|██████████| 4/4 [00:02<00:00,  1.91it/s]"
          ]
        },
        {
          "output_type": "stream",
          "name": "stdout",
          "text": [
            "                   all        113        253      0.929      0.818      0.887      0.637\n"
          ]
        },
        {
          "output_type": "stream",
          "name": "stderr",
          "text": [
            "\n"
          ]
        },
        {
          "output_type": "stream",
          "name": "stdout",
          "text": [
            "\n",
            "      Epoch    GPU_mem   box_loss   cls_loss   dfl_loss  Instances       Size\n"
          ]
        },
        {
          "output_type": "stream",
          "name": "stderr",
          "text": [
            "    218/250      2.32G      1.421     0.9831       1.77          2        640: 100%|██████████| 8/8 [00:02<00:00,  3.59it/s]\n",
            "                 Class     Images  Instances      Box(P          R      mAP50  mAP50-95): 100%|██████████| 4/4 [00:02<00:00,  1.99it/s]"
          ]
        },
        {
          "output_type": "stream",
          "name": "stdout",
          "text": [
            "                   all        113        253      0.926      0.818      0.891      0.632\n"
          ]
        },
        {
          "output_type": "stream",
          "name": "stderr",
          "text": [
            "\n"
          ]
        },
        {
          "output_type": "stream",
          "name": "stdout",
          "text": [
            "\n",
            "      Epoch    GPU_mem   box_loss   cls_loss   dfl_loss  Instances       Size\n"
          ]
        },
        {
          "output_type": "stream",
          "name": "stderr",
          "text": [
            "    219/250      2.35G      1.123      0.866       1.59          1        640: 100%|██████████| 8/8 [00:02<00:00,  3.51it/s]\n",
            "                 Class     Images  Instances      Box(P          R      mAP50  mAP50-95): 100%|██████████| 4/4 [00:01<00:00,  2.01it/s]"
          ]
        },
        {
          "output_type": "stream",
          "name": "stdout",
          "text": [
            "                   all        113        253      0.941      0.806       0.89      0.625\n"
          ]
        },
        {
          "output_type": "stream",
          "name": "stderr",
          "text": [
            "\n"
          ]
        },
        {
          "output_type": "stream",
          "name": "stdout",
          "text": [
            "\n",
            "      Epoch    GPU_mem   box_loss   cls_loss   dfl_loss  Instances       Size\n"
          ]
        },
        {
          "output_type": "stream",
          "name": "stderr",
          "text": [
            "    220/250      2.21G      1.273     0.9132      1.607         10        640: 100%|██████████| 8/8 [00:03<00:00,  2.28it/s]\n",
            "                 Class     Images  Instances      Box(P          R      mAP50  mAP50-95): 100%|██████████| 4/4 [00:02<00:00,  1.48it/s]"
          ]
        },
        {
          "output_type": "stream",
          "name": "stdout",
          "text": [
            "                   all        113        253      0.935      0.802      0.887      0.624\n"
          ]
        },
        {
          "output_type": "stream",
          "name": "stderr",
          "text": [
            "\n"
          ]
        },
        {
          "output_type": "stream",
          "name": "stdout",
          "text": [
            "\n",
            "      Epoch    GPU_mem   box_loss   cls_loss   dfl_loss  Instances       Size\n"
          ]
        },
        {
          "output_type": "stream",
          "name": "stderr",
          "text": [
            "    221/250      2.33G      1.205     0.8543      1.567          6        640: 100%|██████████| 8/8 [00:01<00:00,  4.07it/s]\n",
            "                 Class     Images  Instances      Box(P          R      mAP50  mAP50-95): 100%|██████████| 4/4 [00:02<00:00,  1.99it/s]"
          ]
        },
        {
          "output_type": "stream",
          "name": "stdout",
          "text": [
            "                   all        113        253      0.932      0.814       0.89      0.631\n"
          ]
        },
        {
          "output_type": "stream",
          "name": "stderr",
          "text": [
            "\n"
          ]
        },
        {
          "output_type": "stream",
          "name": "stdout",
          "text": [
            "\n",
            "      Epoch    GPU_mem   box_loss   cls_loss   dfl_loss  Instances       Size\n"
          ]
        },
        {
          "output_type": "stream",
          "name": "stderr",
          "text": [
            "    222/250      2.22G      1.358     0.9497      1.581         28        640: 100%|██████████| 8/8 [00:02<00:00,  3.63it/s]\n",
            "                 Class     Images  Instances      Box(P          R      mAP50  mAP50-95): 100%|██████████| 4/4 [00:03<00:00,  1.01it/s]"
          ]
        },
        {
          "output_type": "stream",
          "name": "stdout",
          "text": [
            "                   all        113        253      0.936      0.816      0.888      0.637\n"
          ]
        },
        {
          "output_type": "stream",
          "name": "stderr",
          "text": [
            "\n"
          ]
        },
        {
          "output_type": "stream",
          "name": "stdout",
          "text": [
            "\n",
            "      Epoch    GPU_mem   box_loss   cls_loss   dfl_loss  Instances       Size\n"
          ]
        },
        {
          "output_type": "stream",
          "name": "stderr",
          "text": [
            "    223/250      2.22G      1.237     0.8675      1.614          7        640: 100%|██████████| 8/8 [00:02<00:00,  3.56it/s]\n",
            "                 Class     Images  Instances      Box(P          R      mAP50  mAP50-95): 100%|██████████| 4/4 [00:02<00:00,  1.93it/s]"
          ]
        },
        {
          "output_type": "stream",
          "name": "stdout",
          "text": [
            "                   all        113        253      0.937      0.818      0.889      0.645\n"
          ]
        },
        {
          "output_type": "stream",
          "name": "stderr",
          "text": [
            "\n"
          ]
        },
        {
          "output_type": "stream",
          "name": "stdout",
          "text": [
            "\n",
            "      Epoch    GPU_mem   box_loss   cls_loss   dfl_loss  Instances       Size\n"
          ]
        },
        {
          "output_type": "stream",
          "name": "stderr",
          "text": [
            "    224/250      2.33G      1.139     0.8441      1.598          4        640: 100%|██████████| 8/8 [00:02<00:00,  3.89it/s]\n",
            "                 Class     Images  Instances      Box(P          R      mAP50  mAP50-95): 100%|██████████| 4/4 [00:02<00:00,  1.60it/s]"
          ]
        },
        {
          "output_type": "stream",
          "name": "stdout",
          "text": [
            "                   all        113        253      0.923      0.822      0.887      0.647\n"
          ]
        },
        {
          "output_type": "stream",
          "name": "stderr",
          "text": [
            "\n"
          ]
        },
        {
          "output_type": "stream",
          "name": "stdout",
          "text": [
            "\n",
            "      Epoch    GPU_mem   box_loss   cls_loss   dfl_loss  Instances       Size\n"
          ]
        },
        {
          "output_type": "stream",
          "name": "stderr",
          "text": [
            "    225/250      2.23G      1.168     0.8651      1.555          3        640: 100%|██████████| 8/8 [00:02<00:00,  3.34it/s]\n",
            "                 Class     Images  Instances      Box(P          R      mAP50  mAP50-95): 100%|██████████| 4/4 [00:01<00:00,  2.04it/s]"
          ]
        },
        {
          "output_type": "stream",
          "name": "stdout",
          "text": [
            "                   all        113        253      0.931      0.822       0.89      0.654\n"
          ]
        },
        {
          "output_type": "stream",
          "name": "stderr",
          "text": [
            "\n"
          ]
        },
        {
          "output_type": "stream",
          "name": "stdout",
          "text": [
            "\n",
            "      Epoch    GPU_mem   box_loss   cls_loss   dfl_loss  Instances       Size\n"
          ]
        },
        {
          "output_type": "stream",
          "name": "stderr",
          "text": [
            "    226/250       2.3G      1.246     0.8758      1.649          6        640: 100%|██████████| 8/8 [00:02<00:00,  3.87it/s]\n",
            "                 Class     Images  Instances      Box(P          R      mAP50  mAP50-95): 100%|██████████| 4/4 [00:01<00:00,  2.43it/s]\n"
          ]
        },
        {
          "output_type": "stream",
          "name": "stdout",
          "text": [
            "                   all        113        253      0.937      0.819      0.892      0.663\n",
            "\n",
            "      Epoch    GPU_mem   box_loss   cls_loss   dfl_loss  Instances       Size\n"
          ]
        },
        {
          "output_type": "stream",
          "name": "stderr",
          "text": [
            "    227/250      2.21G      1.276     0.9538      1.646         12        640: 100%|██████████| 8/8 [00:03<00:00,  2.54it/s]\n",
            "                 Class     Images  Instances      Box(P          R      mAP50  mAP50-95): 100%|██████████| 4/4 [00:02<00:00,  1.97it/s]"
          ]
        },
        {
          "output_type": "stream",
          "name": "stdout",
          "text": [
            "                   all        113        253      0.961      0.822      0.897      0.657\n"
          ]
        },
        {
          "output_type": "stream",
          "name": "stderr",
          "text": [
            "\n"
          ]
        },
        {
          "output_type": "stream",
          "name": "stdout",
          "text": [
            "\n",
            "      Epoch    GPU_mem   box_loss   cls_loss   dfl_loss  Instances       Size\n"
          ]
        },
        {
          "output_type": "stream",
          "name": "stderr",
          "text": [
            "    228/250      2.32G      1.211     0.9748      1.643          1        640: 100%|██████████| 8/8 [00:02<00:00,  3.99it/s]\n",
            "                 Class     Images  Instances      Box(P          R      mAP50  mAP50-95): 100%|██████████| 4/4 [00:02<00:00,  1.50it/s]\n"
          ]
        },
        {
          "output_type": "stream",
          "name": "stdout",
          "text": [
            "                   all        113        253      0.969      0.818        0.9      0.643\n",
            "\n",
            "      Epoch    GPU_mem   box_loss   cls_loss   dfl_loss  Instances       Size\n"
          ]
        },
        {
          "output_type": "stream",
          "name": "stderr",
          "text": [
            "    229/250      2.33G      1.186     0.8467       1.62          3        640: 100%|██████████| 8/8 [00:02<00:00,  3.27it/s]\n",
            "                 Class     Images  Instances      Box(P          R      mAP50  mAP50-95): 100%|██████████| 4/4 [00:03<00:00,  1.18it/s]"
          ]
        },
        {
          "output_type": "stream",
          "name": "stdout",
          "text": [
            "                   all        113        253      0.972      0.818      0.898      0.651\n"
          ]
        },
        {
          "output_type": "stream",
          "name": "stderr",
          "text": [
            "\n"
          ]
        },
        {
          "output_type": "stream",
          "name": "stdout",
          "text": [
            "\n",
            "      Epoch    GPU_mem   box_loss   cls_loss   dfl_loss  Instances       Size\n"
          ]
        },
        {
          "output_type": "stream",
          "name": "stderr",
          "text": [
            "    230/250      2.33G      1.366     0.9494      1.889          2        640: 100%|██████████| 8/8 [00:02<00:00,  3.87it/s]\n",
            "                 Class     Images  Instances      Box(P          R      mAP50  mAP50-95): 100%|██████████| 4/4 [00:02<00:00,  1.78it/s]"
          ]
        },
        {
          "output_type": "stream",
          "name": "stdout",
          "text": [
            "                   all        113        253      0.967      0.822      0.897       0.65\n"
          ]
        },
        {
          "output_type": "stream",
          "name": "stderr",
          "text": [
            "\n"
          ]
        },
        {
          "output_type": "stream",
          "name": "stdout",
          "text": [
            "\n",
            "      Epoch    GPU_mem   box_loss   cls_loss   dfl_loss  Instances       Size\n"
          ]
        },
        {
          "output_type": "stream",
          "name": "stderr",
          "text": [
            "    231/250      2.24G      1.215     0.8497      1.541          4        640: 100%|██████████| 8/8 [00:02<00:00,  3.85it/s]\n",
            "                 Class     Images  Instances      Box(P          R      mAP50  mAP50-95): 100%|██████████| 4/4 [00:02<00:00,  1.44it/s]"
          ]
        },
        {
          "output_type": "stream",
          "name": "stdout",
          "text": [
            "                   all        113        253      0.967      0.811      0.895      0.652\n"
          ]
        },
        {
          "output_type": "stream",
          "name": "stderr",
          "text": [
            "\n"
          ]
        },
        {
          "output_type": "stream",
          "name": "stdout",
          "text": [
            "\n",
            "      Epoch    GPU_mem   box_loss   cls_loss   dfl_loss  Instances       Size\n"
          ]
        },
        {
          "output_type": "stream",
          "name": "stderr",
          "text": [
            "    232/250      2.23G      1.178     0.8616       1.62          2        640: 100%|██████████| 8/8 [00:02<00:00,  3.46it/s]\n",
            "                 Class     Images  Instances      Box(P          R      mAP50  mAP50-95): 100%|██████████| 4/4 [00:02<00:00,  1.61it/s]"
          ]
        },
        {
          "output_type": "stream",
          "name": "stdout",
          "text": [
            "                   all        113        253      0.967      0.806      0.896      0.649\n"
          ]
        },
        {
          "output_type": "stream",
          "name": "stderr",
          "text": [
            "\n"
          ]
        },
        {
          "output_type": "stream",
          "name": "stdout",
          "text": [
            "\n",
            "      Epoch    GPU_mem   box_loss   cls_loss   dfl_loss  Instances       Size\n"
          ]
        },
        {
          "output_type": "stream",
          "name": "stderr",
          "text": [
            "    233/250      2.22G       1.24     0.9318      1.622          6        640: 100%|██████████| 8/8 [00:02<00:00,  3.76it/s]\n",
            "                 Class     Images  Instances      Box(P          R      mAP50  mAP50-95): 100%|██████████| 4/4 [00:01<00:00,  2.09it/s]"
          ]
        },
        {
          "output_type": "stream",
          "name": "stdout",
          "text": [
            "                   all        113        253      0.963      0.806      0.898      0.654\n"
          ]
        },
        {
          "output_type": "stream",
          "name": "stderr",
          "text": [
            "\n"
          ]
        },
        {
          "output_type": "stream",
          "name": "stdout",
          "text": [
            "\n",
            "      Epoch    GPU_mem   box_loss   cls_loss   dfl_loss  Instances       Size\n"
          ]
        },
        {
          "output_type": "stream",
          "name": "stderr",
          "text": [
            "    234/250      2.22G       1.28     0.9331      1.655          5        640: 100%|██████████| 8/8 [00:02<00:00,  2.72it/s]\n",
            "                 Class     Images  Instances      Box(P          R      mAP50  mAP50-95): 100%|██████████| 4/4 [00:03<00:00,  1.30it/s]"
          ]
        },
        {
          "output_type": "stream",
          "name": "stdout",
          "text": [
            "                   all        113        253      0.976      0.795      0.897      0.642\n"
          ]
        },
        {
          "output_type": "stream",
          "name": "stderr",
          "text": [
            "\n"
          ]
        },
        {
          "output_type": "stream",
          "name": "stdout",
          "text": [
            "\n",
            "      Epoch    GPU_mem   box_loss   cls_loss   dfl_loss  Instances       Size\n"
          ]
        },
        {
          "output_type": "stream",
          "name": "stderr",
          "text": [
            "    235/250      2.24G      1.189     0.7979      1.552          4        640: 100%|██████████| 8/8 [00:02<00:00,  3.72it/s]\n",
            "                 Class     Images  Instances      Box(P          R      mAP50  mAP50-95): 100%|██████████| 4/4 [00:02<00:00,  1.74it/s]"
          ]
        },
        {
          "output_type": "stream",
          "name": "stdout",
          "text": [
            "                   all        113        253      0.969      0.814      0.897      0.647\n"
          ]
        },
        {
          "output_type": "stream",
          "name": "stderr",
          "text": [
            "\n"
          ]
        },
        {
          "output_type": "stream",
          "name": "stdout",
          "text": [
            "\n",
            "      Epoch    GPU_mem   box_loss   cls_loss   dfl_loss  Instances       Size\n"
          ]
        },
        {
          "output_type": "stream",
          "name": "stderr",
          "text": [
            "    236/250      2.22G      1.264      1.047      1.752          3        640: 100%|██████████| 8/8 [00:02<00:00,  3.47it/s]\n",
            "                 Class     Images  Instances      Box(P          R      mAP50  mAP50-95): 100%|██████████| 4/4 [00:03<00:00,  1.10it/s]"
          ]
        },
        {
          "output_type": "stream",
          "name": "stdout",
          "text": [
            "                   all        113        253      0.962      0.822      0.903      0.657\n"
          ]
        },
        {
          "output_type": "stream",
          "name": "stderr",
          "text": [
            "\n"
          ]
        },
        {
          "output_type": "stream",
          "name": "stdout",
          "text": [
            "\n",
            "      Epoch    GPU_mem   box_loss   cls_loss   dfl_loss  Instances       Size\n"
          ]
        },
        {
          "output_type": "stream",
          "name": "stderr",
          "text": [
            "    237/250      2.35G      1.173     0.8284      1.588          5        640: 100%|██████████| 8/8 [00:02<00:00,  3.94it/s]\n",
            "                 Class     Images  Instances      Box(P          R      mAP50  mAP50-95): 100%|██████████| 4/4 [00:02<00:00,  2.00it/s]"
          ]
        },
        {
          "output_type": "stream",
          "name": "stdout",
          "text": [
            "                   all        113        253      0.969      0.818      0.904      0.666\n"
          ]
        },
        {
          "output_type": "stream",
          "name": "stderr",
          "text": [
            "\n"
          ]
        },
        {
          "output_type": "stream",
          "name": "stdout",
          "text": [
            "\n",
            "      Epoch    GPU_mem   box_loss   cls_loss   dfl_loss  Instances       Size\n"
          ]
        },
        {
          "output_type": "stream",
          "name": "stderr",
          "text": [
            "    238/250      2.32G      1.032     0.7821      1.546          1        640: 100%|██████████| 8/8 [00:02<00:00,  3.75it/s]\n",
            "                 Class     Images  Instances      Box(P          R      mAP50  mAP50-95): 100%|██████████| 4/4 [00:03<00:00,  1.11it/s]"
          ]
        },
        {
          "output_type": "stream",
          "name": "stdout",
          "text": [
            "                   all        113        253      0.967       0.82      0.904      0.668\n"
          ]
        },
        {
          "output_type": "stream",
          "name": "stderr",
          "text": [
            "\n"
          ]
        },
        {
          "output_type": "stream",
          "name": "stdout",
          "text": [
            "\n",
            "      Epoch    GPU_mem   box_loss   cls_loss   dfl_loss  Instances       Size\n"
          ]
        },
        {
          "output_type": "stream",
          "name": "stderr",
          "text": [
            "    239/250      2.32G      1.237     0.8152       1.55          4        640: 100%|██████████| 8/8 [00:02<00:00,  3.98it/s]\n",
            "                 Class     Images  Instances      Box(P          R      mAP50  mAP50-95): 100%|██████████| 4/4 [00:02<00:00,  1.86it/s]"
          ]
        },
        {
          "output_type": "stream",
          "name": "stdout",
          "text": [
            "                   all        113        253      0.963       0.83      0.902       0.68\n"
          ]
        },
        {
          "output_type": "stream",
          "name": "stderr",
          "text": [
            "\n"
          ]
        },
        {
          "output_type": "stream",
          "name": "stdout",
          "text": [
            "\n",
            "      Epoch    GPU_mem   box_loss   cls_loss   dfl_loss  Instances       Size\n"
          ]
        },
        {
          "output_type": "stream",
          "name": "stderr",
          "text": [
            "    240/250      2.25G      1.184     0.8195      1.488          6        640: 100%|██████████| 8/8 [00:02<00:00,  3.82it/s]\n",
            "                 Class     Images  Instances      Box(P          R      mAP50  mAP50-95): 100%|██████████| 4/4 [00:02<00:00,  1.43it/s]"
          ]
        },
        {
          "output_type": "stream",
          "name": "stdout",
          "text": [
            "                   all        113        253      0.953       0.83      0.902      0.679\n"
          ]
        },
        {
          "output_type": "stream",
          "name": "stderr",
          "text": [
            "\n"
          ]
        },
        {
          "output_type": "stream",
          "name": "stdout",
          "text": [
            "Closing dataloader mosaic\n",
            "\u001b[34m\u001b[1malbumentations: \u001b[0mBlur(p=0.01, blur_limit=(3, 7)), MedianBlur(p=0.01, blur_limit=(3, 7)), ToGray(p=0.01), CLAHE(p=0.01, clip_limit=(1, 4.0), tile_grid_size=(8, 8))\n",
            "\n",
            "      Epoch    GPU_mem   box_loss   cls_loss   dfl_loss  Instances       Size\n"
          ]
        },
        {
          "output_type": "stream",
          "name": "stderr",
          "text": [
            "    241/250       2.3G      1.047      0.909      1.529          1        640: 100%|██████████| 8/8 [00:07<00:00,  1.06it/s]\n",
            "                 Class     Images  Instances      Box(P          R      mAP50  mAP50-95): 100%|██████████| 4/4 [00:01<00:00,  2.62it/s]"
          ]
        },
        {
          "output_type": "stream",
          "name": "stdout",
          "text": [
            "                   all        113        253      0.967      0.822      0.901      0.674\n"
          ]
        },
        {
          "output_type": "stream",
          "name": "stderr",
          "text": [
            "\n"
          ]
        },
        {
          "output_type": "stream",
          "name": "stdout",
          "text": [
            "\n",
            "      Epoch    GPU_mem   box_loss   cls_loss   dfl_loss  Instances       Size\n"
          ]
        },
        {
          "output_type": "stream",
          "name": "stderr",
          "text": [
            "    242/250      2.32G      1.112     0.8338      1.503          4        640: 100%|██████████| 8/8 [00:04<00:00,  1.69it/s]\n",
            "                 Class     Images  Instances      Box(P          R      mAP50  mAP50-95): 100%|██████████| 4/4 [00:01<00:00,  2.13it/s]\n"
          ]
        },
        {
          "output_type": "stream",
          "name": "stdout",
          "text": [
            "                   all        113        253       0.97      0.822      0.901       0.67\n",
            "\n",
            "      Epoch    GPU_mem   box_loss   cls_loss   dfl_loss  Instances       Size\n"
          ]
        },
        {
          "output_type": "stream",
          "name": "stderr",
          "text": [
            "    243/250      2.22G      1.167     0.9204      1.596          1        640: 100%|██████████| 8/8 [00:03<00:00,  2.28it/s]\n",
            "                 Class     Images  Instances      Box(P          R      mAP50  mAP50-95): 100%|██████████| 4/4 [00:01<00:00,  2.66it/s]\n"
          ]
        },
        {
          "output_type": "stream",
          "name": "stdout",
          "text": [
            "                   all        113        253      0.959      0.822      0.897      0.662\n",
            "\n",
            "      Epoch    GPU_mem   box_loss   cls_loss   dfl_loss  Instances       Size\n"
          ]
        },
        {
          "output_type": "stream",
          "name": "stderr",
          "text": [
            "    244/250      2.22G      1.122     0.7508       1.51          1        640: 100%|██████████| 8/8 [00:03<00:00,  2.18it/s]\n",
            "                 Class     Images  Instances      Box(P          R      mAP50  mAP50-95): 100%|██████████| 4/4 [00:02<00:00,  1.34it/s]\n"
          ]
        },
        {
          "output_type": "stream",
          "name": "stdout",
          "text": [
            "                   all        113        253       0.95      0.827      0.901      0.656\n",
            "\n",
            "      Epoch    GPU_mem   box_loss   cls_loss   dfl_loss  Instances       Size\n"
          ]
        },
        {
          "output_type": "stream",
          "name": "stderr",
          "text": [
            "    245/250      2.32G      1.284      1.194      1.761          1        640: 100%|██████████| 8/8 [00:02<00:00,  3.64it/s]\n",
            "                 Class     Images  Instances      Box(P          R      mAP50  mAP50-95): 100%|██████████| 4/4 [00:02<00:00,  1.73it/s]"
          ]
        },
        {
          "output_type": "stream",
          "name": "stdout",
          "text": [
            "                   all        113        253      0.933      0.828      0.901      0.658\n"
          ]
        },
        {
          "output_type": "stream",
          "name": "stderr",
          "text": [
            "\n"
          ]
        },
        {
          "output_type": "stream",
          "name": "stdout",
          "text": [
            "\n",
            "      Epoch    GPU_mem   box_loss   cls_loss   dfl_loss  Instances       Size\n"
          ]
        },
        {
          "output_type": "stream",
          "name": "stderr",
          "text": [
            "    246/250      2.35G      1.045     0.6924      1.486          1        640: 100%|██████████| 8/8 [00:02<00:00,  3.67it/s]\n",
            "                 Class     Images  Instances      Box(P          R      mAP50  mAP50-95): 100%|██████████| 4/4 [00:03<00:00,  1.19it/s]"
          ]
        },
        {
          "output_type": "stream",
          "name": "stdout",
          "text": [
            "                   all        113        253      0.946      0.832      0.901      0.659\n"
          ]
        },
        {
          "output_type": "stream",
          "name": "stderr",
          "text": [
            "\n"
          ]
        },
        {
          "output_type": "stream",
          "name": "stdout",
          "text": [
            "\n",
            "      Epoch    GPU_mem   box_loss   cls_loss   dfl_loss  Instances       Size\n"
          ]
        },
        {
          "output_type": "stream",
          "name": "stderr",
          "text": [
            "    247/250      2.22G      1.197      1.308      1.786          1        640: 100%|██████████| 8/8 [00:01<00:00,  4.06it/s]\n",
            "                 Class     Images  Instances      Box(P          R      mAP50  mAP50-95): 100%|██████████| 4/4 [00:01<00:00,  2.32it/s]"
          ]
        },
        {
          "output_type": "stream",
          "name": "stdout",
          "text": [
            "                   all        113        253      0.942       0.83        0.9      0.658\n"
          ]
        },
        {
          "output_type": "stream",
          "name": "stderr",
          "text": [
            "\n"
          ]
        },
        {
          "output_type": "stream",
          "name": "stdout",
          "text": [
            "\n",
            "      Epoch    GPU_mem   box_loss   cls_loss   dfl_loss  Instances       Size\n"
          ]
        },
        {
          "output_type": "stream",
          "name": "stderr",
          "text": [
            "    248/250      2.32G      1.067     0.7031      1.475          1        640: 100%|██████████| 8/8 [00:02<00:00,  3.31it/s]\n",
            "                 Class     Images  Instances      Box(P          R      mAP50  mAP50-95): 100%|██████████| 4/4 [00:02<00:00,  1.66it/s]"
          ]
        },
        {
          "output_type": "stream",
          "name": "stdout",
          "text": [
            "                   all        113        253      0.968      0.806      0.895       0.66\n"
          ]
        },
        {
          "output_type": "stream",
          "name": "stderr",
          "text": [
            "\n"
          ]
        },
        {
          "output_type": "stream",
          "name": "stdout",
          "text": [
            "\n",
            "      Epoch    GPU_mem   box_loss   cls_loss   dfl_loss  Instances       Size\n"
          ]
        },
        {
          "output_type": "stream",
          "name": "stderr",
          "text": [
            "    249/250      2.21G      1.093     0.7152      1.433          1        640: 100%|██████████| 8/8 [00:02<00:00,  2.80it/s]\n",
            "                 Class     Images  Instances      Box(P          R      mAP50  mAP50-95): 100%|██████████| 4/4 [00:02<00:00,  1.67it/s]"
          ]
        },
        {
          "output_type": "stream",
          "name": "stdout",
          "text": [
            "                   all        113        253      0.972      0.806      0.895      0.663\n"
          ]
        },
        {
          "output_type": "stream",
          "name": "stderr",
          "text": [
            "\n"
          ]
        },
        {
          "output_type": "stream",
          "name": "stdout",
          "text": [
            "\n",
            "      Epoch    GPU_mem   box_loss   cls_loss   dfl_loss  Instances       Size\n"
          ]
        },
        {
          "output_type": "stream",
          "name": "stderr",
          "text": [
            "    250/250      2.22G      1.021     0.7109       1.43          1        640: 100%|██████████| 8/8 [00:02<00:00,  3.74it/s]\n",
            "                 Class     Images  Instances      Box(P          R      mAP50  mAP50-95): 100%|██████████| 4/4 [00:02<00:00,  1.86it/s]"
          ]
        },
        {
          "output_type": "stream",
          "name": "stdout",
          "text": [
            "                   all        113        253      0.977      0.806      0.898       0.66\n"
          ]
        },
        {
          "output_type": "stream",
          "name": "stderr",
          "text": [
            "\n"
          ]
        },
        {
          "output_type": "stream",
          "name": "stdout",
          "text": [
            "\n",
            "250 epochs completed in 0.431 hours.\n",
            "Optimizer stripped from runs/detect/train/weights/last.pt, 6.3MB\n",
            "Optimizer stripped from runs/detect/train/weights/best.pt, 6.3MB\n",
            "\n",
            "Validating runs/detect/train/weights/best.pt...\n",
            "Ultralytics YOLOv8.1.23 🚀 Python-3.10.12 torch-2.1.0+cu121 CUDA:0 (Tesla T4, 15102MiB)\n",
            "YOLOv8n summary (fused): 168 layers, 3005843 parameters, 0 gradients, 8.1 GFLOPs\n"
          ]
        },
        {
          "output_type": "stream",
          "name": "stderr",
          "text": [
            "                 Class     Images  Instances      Box(P          R      mAP50  mAP50-95): 100%|██████████| 4/4 [00:05<00:00,  1.36s/it]\n"
          ]
        },
        {
          "output_type": "stream",
          "name": "stdout",
          "text": [
            "                   all        113        253      0.963       0.83      0.902      0.677\n",
            "Speed: 0.2ms preprocess, 2.1ms inference, 0.0ms loss, 2.9ms postprocess per image\n",
            "Results saved to \u001b[1mruns/detect/train\u001b[0m\n"
          ]
        }
      ],
      "source": [
        "# train the model\n",
        "import os\n",
        "\n",
        "from ultralytics import YOLO\n",
        "\n",
        "model = YOLO(\"yolov8n.yaml\")\n",
        "\n",
        "results = model.train(data=os.path.join(ROOT_DIR,\"colab-f1.yaml\"),epochs=250)"
      ]
    },
    {
      "cell_type": "code",
      "execution_count": null,
      "metadata": {
        "id": "2JQgPPpY3CKD",
        "colab": {
          "base_uri": "https://localhost:8080/",
          "height": 321
        },
        "outputId": "ca48a5c2-bac5-4100-e119-541e91d3a400"
      },
      "outputs": [
        {
          "output_type": "error",
          "ename": "NotImplementedError",
          "evalue": "A UTF-8 locale is required. Got ANSI_X3.4-1968",
          "traceback": [
            "\u001b[0;31m---------------------------------------------------------------------------\u001b[0m",
            "\u001b[0;31mNotImplementedError\u001b[0m                       Traceback (most recent call last)",
            "\u001b[0;32m<ipython-input-8-9e43ca09a092>\u001b[0m in \u001b[0;36m<cell line: 2>\u001b[0;34m()\u001b[0m\n\u001b[1;32m      1\u001b[0m \u001b[0;31m# copy results to gdrive\u001b[0m\u001b[0;34m\u001b[0m\u001b[0;34m\u001b[0m\u001b[0m\n\u001b[0;32m----> 2\u001b[0;31m \u001b[0mget_ipython\u001b[0m\u001b[0;34m(\u001b[0m\u001b[0;34m)\u001b[0m\u001b[0;34m.\u001b[0m\u001b[0msystem\u001b[0m\u001b[0;34m(\u001b[0m\u001b[0;34m\"scp -r /content/runs '/content/gdrive/MyDrive/formula1-model'\"\u001b[0m\u001b[0;34m)\u001b[0m\u001b[0;34m\u001b[0m\u001b[0;34m\u001b[0m\u001b[0m\n\u001b[0m",
            "\u001b[0;32m/usr/local/lib/python3.10/dist-packages/google/colab/_shell.py\u001b[0m in \u001b[0;36msystem\u001b[0;34m(self, *args, **kwargs)\u001b[0m\n\u001b[1;32m     97\u001b[0m       \u001b[0mkwargs\u001b[0m\u001b[0;34m.\u001b[0m\u001b[0mupdate\u001b[0m\u001b[0;34m(\u001b[0m\u001b[0;34m{\u001b[0m\u001b[0;34m'also_return_output'\u001b[0m\u001b[0;34m:\u001b[0m \u001b[0;32mTrue\u001b[0m\u001b[0;34m}\u001b[0m\u001b[0;34m)\u001b[0m\u001b[0;34m\u001b[0m\u001b[0;34m\u001b[0m\u001b[0m\n\u001b[1;32m     98\u001b[0m \u001b[0;34m\u001b[0m\u001b[0m\n\u001b[0;32m---> 99\u001b[0;31m     \u001b[0moutput\u001b[0m \u001b[0;34m=\u001b[0m \u001b[0m_system_commands\u001b[0m\u001b[0;34m.\u001b[0m\u001b[0m_system_compat\u001b[0m\u001b[0;34m(\u001b[0m\u001b[0mself\u001b[0m\u001b[0;34m,\u001b[0m \u001b[0;34m*\u001b[0m\u001b[0margs\u001b[0m\u001b[0;34m,\u001b[0m \u001b[0;34m**\u001b[0m\u001b[0mkwargs\u001b[0m\u001b[0;34m)\u001b[0m  \u001b[0;31m# pylint:disable=protected-access\u001b[0m\u001b[0;34m\u001b[0m\u001b[0;34m\u001b[0m\u001b[0m\n\u001b[0m\u001b[1;32m    100\u001b[0m \u001b[0;34m\u001b[0m\u001b[0m\n\u001b[1;32m    101\u001b[0m     \u001b[0;32mif\u001b[0m \u001b[0mpip_warn\u001b[0m\u001b[0;34m:\u001b[0m\u001b[0;34m\u001b[0m\u001b[0;34m\u001b[0m\u001b[0m\n",
            "\u001b[0;32m/usr/local/lib/python3.10/dist-packages/google/colab/_system_commands.py\u001b[0m in \u001b[0;36m_system_compat\u001b[0;34m(shell, cmd, also_return_output)\u001b[0m\n\u001b[1;32m    452\u001b[0m   \u001b[0;31m# is expected to call this function, thus adding one level of nesting to the\u001b[0m\u001b[0;34m\u001b[0m\u001b[0;34m\u001b[0m\u001b[0m\n\u001b[1;32m    453\u001b[0m   \u001b[0;31m# stack.\u001b[0m\u001b[0;34m\u001b[0m\u001b[0;34m\u001b[0m\u001b[0m\n\u001b[0;32m--> 454\u001b[0;31m   result = _run_command(\n\u001b[0m\u001b[1;32m    455\u001b[0m       \u001b[0mshell\u001b[0m\u001b[0;34m.\u001b[0m\u001b[0mvar_expand\u001b[0m\u001b[0;34m(\u001b[0m\u001b[0mcmd\u001b[0m\u001b[0;34m,\u001b[0m \u001b[0mdepth\u001b[0m\u001b[0;34m=\u001b[0m\u001b[0;36m2\u001b[0m\u001b[0;34m)\u001b[0m\u001b[0;34m,\u001b[0m \u001b[0mclear_streamed_output\u001b[0m\u001b[0;34m=\u001b[0m\u001b[0;32mFalse\u001b[0m\u001b[0;34m\u001b[0m\u001b[0;34m\u001b[0m\u001b[0m\n\u001b[1;32m    456\u001b[0m   )\n",
            "\u001b[0;32m/usr/local/lib/python3.10/dist-packages/google/colab/_system_commands.py\u001b[0m in \u001b[0;36m_run_command\u001b[0;34m(cmd, clear_streamed_output)\u001b[0m\n\u001b[1;32m    166\u001b[0m     \u001b[0mlocale_encoding\u001b[0m \u001b[0;34m=\u001b[0m \u001b[0mlocale\u001b[0m\u001b[0;34m.\u001b[0m\u001b[0mgetpreferredencoding\u001b[0m\u001b[0;34m(\u001b[0m\u001b[0;34m)\u001b[0m\u001b[0;34m\u001b[0m\u001b[0;34m\u001b[0m\u001b[0m\n\u001b[1;32m    167\u001b[0m     \u001b[0;32mif\u001b[0m \u001b[0mlocale_encoding\u001b[0m \u001b[0;34m!=\u001b[0m \u001b[0m_ENCODING\u001b[0m\u001b[0;34m:\u001b[0m\u001b[0;34m\u001b[0m\u001b[0;34m\u001b[0m\u001b[0m\n\u001b[0;32m--> 168\u001b[0;31m       raise NotImplementedError(\n\u001b[0m\u001b[1;32m    169\u001b[0m           \u001b[0;34m'A UTF-8 locale is required. Got {}'\u001b[0m\u001b[0;34m.\u001b[0m\u001b[0mformat\u001b[0m\u001b[0;34m(\u001b[0m\u001b[0mlocale_encoding\u001b[0m\u001b[0;34m)\u001b[0m\u001b[0;34m\u001b[0m\u001b[0;34m\u001b[0m\u001b[0m\n\u001b[1;32m    170\u001b[0m       )\n",
            "\u001b[0;31mNotImplementedError\u001b[0m: A UTF-8 locale is required. Got ANSI_X3.4-1968"
          ]
        }
      ],
      "source": [
        "# copy results to gdrive\n",
        "export LC_ALL=C.UTF-8\n",
        "!scp -r /content/runs '/content/gdrive/MyDrive/formula1-model'"
      ]
    },
    {
      "cell_type": "code",
      "execution_count": null,
      "metadata": {
        "colab": {
          "base_uri": "https://localhost:8080/"
        },
        "id": "hHf1nn6iLPbB",
        "outputId": "6acd5c66-436b-4424-ff40-dd8c81fcd2bb"
      },
      "outputs": [
        {
          "output_type": "stream",
          "name": "stdout",
          "text": [
            "Ultralytics YOLOv8.1.23 🚀 Python-3.10.12 torch-2.1.0+cu121 CUDA:0 (Tesla T4, 15102MiB)\n",
            "YOLOv8n summary (fused): 168 layers, 3005843 parameters, 0 gradients, 8.1 GFLOPs\n"
          ]
        },
        {
          "output_type": "stream",
          "name": "stderr",
          "text": [
            "\u001b[34m\u001b[1mval: \u001b[0mScanning /content/gdrive/MyDrive/formula1-model/labels/train.cache... 113 images, 0 backgrounds, 0 corrupt: 100%|██████████| 113/113 [00:00<?, ?it/s]\n",
            "                 Class     Images  Instances      Box(P          R      mAP50  mAP50-95): 100%|██████████| 8/8 [00:07<00:00,  1.02it/s]\n"
          ]
        },
        {
          "output_type": "stream",
          "name": "stdout",
          "text": [
            "                   all        113        253      0.963       0.83      0.902      0.676\n",
            "Speed: 1.3ms preprocess, 18.6ms inference, 0.0ms loss, 4.7ms postprocess per image\n",
            "Results saved to \u001b[1mruns/detect/train2\u001b[0m\n"
          ]
        },
        {
          "output_type": "execute_result",
          "data": {
            "text/plain": [
              "array([    0.67647])"
            ]
          },
          "metadata": {},
          "execution_count": 7
        }
      ],
      "source": [
        "# validate model\n",
        "# get the confidence score, will be displayed as array\n",
        "metrics = model.val()  # no arguments needed, dataset and settings remembered\n",
        "metrics.box.map    # map50-95\n",
        "metrics.box.map50  # map50\n",
        "metrics.box.map75  # map75\n",
        "metrics.box.maps   # a list contains map50-95 of each category"
      ]
    },
    {
      "cell_type": "code",
      "execution_count": null,
      "metadata": {
        "colab": {
          "base_uri": "https://localhost:8080/"
        },
        "id": "h56SKmWHJv4w",
        "outputId": "58ab21b8-d1b4-4d76-f6c2-cd5f863f4964"
      },
      "outputs": [
        {
          "output_type": "stream",
          "name": "stdout",
          "text": [
            "\n",
            "Downloading https://media.formula1.com/image/upload/content/dam/fom-website/manual/Misc/2022manual/WinterMarch/BahrainGP/GettyImages-1384157919.jpg.transform/9col/image.jpg to 'image.jpg'...\n"
          ]
        },
        {
          "output_type": "stream",
          "name": "stderr",
          "text": [
            "100%|██████████| 91.8k/91.8k [00:00<00:00, 3.80MB/s]\n"
          ]
        },
        {
          "output_type": "stream",
          "name": "stdout",
          "text": [
            "image 1/1 /content/image.jpg: 192x320 1 car, 104.6ms\n",
            "Speed: 1.4ms preprocess, 104.6ms inference, 1.5ms postprocess per image at shape (1, 3, 192, 320)\n",
            "Results saved to \u001b[1mruns/detect/train3\u001b[0m\n"
          ]
        }
      ],
      "source": [
        "# Predict an image with the model\n",
        "results = model('https://media.formula1.com/image/upload/content/dam/fom-website/manual/Misc/2022manual/WinterMarch/BahrainGP/GettyImages-1384157919.jpg.transform/9col/image.jpg',save=True, imgsz=320, conf=0.05)  # predict on an image"
      ]
    },
    {
      "cell_type": "code",
      "execution_count": null,
      "metadata": {
        "colab": {
          "base_uri": "https://localhost:8080/",
          "height": 1000
        },
        "id": "VylYLTq3g1Oy",
        "outputId": "11fcd1d4-d48c-4713-c1cc-9402c0dcd607"
      },
      "outputs": [
        {
          "output_type": "display_data",
          "data": {
            "text/plain": [
              "<IPython.core.display.HTML object>"
            ],
            "text/html": [
              "\n",
              "     <input type=\"file\" id=\"files-a43fa76b-c728-48e0-87b8-230438df5342\" name=\"files[]\" multiple disabled\n",
              "        style=\"border:none\" />\n",
              "     <output id=\"result-a43fa76b-c728-48e0-87b8-230438df5342\">\n",
              "      Upload widget is only available when the cell has been executed in the\n",
              "      current browser session. Please rerun this cell to enable.\n",
              "      </output>\n",
              "      <script>// Copyright 2017 Google LLC\n",
              "//\n",
              "// Licensed under the Apache License, Version 2.0 (the \"License\");\n",
              "// you may not use this file except in compliance with the License.\n",
              "// You may obtain a copy of the License at\n",
              "//\n",
              "//      http://www.apache.org/licenses/LICENSE-2.0\n",
              "//\n",
              "// Unless required by applicable law or agreed to in writing, software\n",
              "// distributed under the License is distributed on an \"AS IS\" BASIS,\n",
              "// WITHOUT WARRANTIES OR CONDITIONS OF ANY KIND, either express or implied.\n",
              "// See the License for the specific language governing permissions and\n",
              "// limitations under the License.\n",
              "\n",
              "/**\n",
              " * @fileoverview Helpers for google.colab Python module.\n",
              " */\n",
              "(function(scope) {\n",
              "function span(text, styleAttributes = {}) {\n",
              "  const element = document.createElement('span');\n",
              "  element.textContent = text;\n",
              "  for (const key of Object.keys(styleAttributes)) {\n",
              "    element.style[key] = styleAttributes[key];\n",
              "  }\n",
              "  return element;\n",
              "}\n",
              "\n",
              "// Max number of bytes which will be uploaded at a time.\n",
              "const MAX_PAYLOAD_SIZE = 100 * 1024;\n",
              "\n",
              "function _uploadFiles(inputId, outputId) {\n",
              "  const steps = uploadFilesStep(inputId, outputId);\n",
              "  const outputElement = document.getElementById(outputId);\n",
              "  // Cache steps on the outputElement to make it available for the next call\n",
              "  // to uploadFilesContinue from Python.\n",
              "  outputElement.steps = steps;\n",
              "\n",
              "  return _uploadFilesContinue(outputId);\n",
              "}\n",
              "\n",
              "// This is roughly an async generator (not supported in the browser yet),\n",
              "// where there are multiple asynchronous steps and the Python side is going\n",
              "// to poll for completion of each step.\n",
              "// This uses a Promise to block the python side on completion of each step,\n",
              "// then passes the result of the previous step as the input to the next step.\n",
              "function _uploadFilesContinue(outputId) {\n",
              "  const outputElement = document.getElementById(outputId);\n",
              "  const steps = outputElement.steps;\n",
              "\n",
              "  const next = steps.next(outputElement.lastPromiseValue);\n",
              "  return Promise.resolve(next.value.promise).then((value) => {\n",
              "    // Cache the last promise value to make it available to the next\n",
              "    // step of the generator.\n",
              "    outputElement.lastPromiseValue = value;\n",
              "    return next.value.response;\n",
              "  });\n",
              "}\n",
              "\n",
              "/**\n",
              " * Generator function which is called between each async step of the upload\n",
              " * process.\n",
              " * @param {string} inputId Element ID of the input file picker element.\n",
              " * @param {string} outputId Element ID of the output display.\n",
              " * @return {!Iterable<!Object>} Iterable of next steps.\n",
              " */\n",
              "function* uploadFilesStep(inputId, outputId) {\n",
              "  const inputElement = document.getElementById(inputId);\n",
              "  inputElement.disabled = false;\n",
              "\n",
              "  const outputElement = document.getElementById(outputId);\n",
              "  outputElement.innerHTML = '';\n",
              "\n",
              "  const pickedPromise = new Promise((resolve) => {\n",
              "    inputElement.addEventListener('change', (e) => {\n",
              "      resolve(e.target.files);\n",
              "    });\n",
              "  });\n",
              "\n",
              "  const cancel = document.createElement('button');\n",
              "  inputElement.parentElement.appendChild(cancel);\n",
              "  cancel.textContent = 'Cancel upload';\n",
              "  const cancelPromise = new Promise((resolve) => {\n",
              "    cancel.onclick = () => {\n",
              "      resolve(null);\n",
              "    };\n",
              "  });\n",
              "\n",
              "  // Wait for the user to pick the files.\n",
              "  const files = yield {\n",
              "    promise: Promise.race([pickedPromise, cancelPromise]),\n",
              "    response: {\n",
              "      action: 'starting',\n",
              "    }\n",
              "  };\n",
              "\n",
              "  cancel.remove();\n",
              "\n",
              "  // Disable the input element since further picks are not allowed.\n",
              "  inputElement.disabled = true;\n",
              "\n",
              "  if (!files) {\n",
              "    return {\n",
              "      response: {\n",
              "        action: 'complete',\n",
              "      }\n",
              "    };\n",
              "  }\n",
              "\n",
              "  for (const file of files) {\n",
              "    const li = document.createElement('li');\n",
              "    li.append(span(file.name, {fontWeight: 'bold'}));\n",
              "    li.append(span(\n",
              "        `(${file.type || 'n/a'}) - ${file.size} bytes, ` +\n",
              "        `last modified: ${\n",
              "            file.lastModifiedDate ? file.lastModifiedDate.toLocaleDateString() :\n",
              "                                    'n/a'} - `));\n",
              "    const percent = span('0% done');\n",
              "    li.appendChild(percent);\n",
              "\n",
              "    outputElement.appendChild(li);\n",
              "\n",
              "    const fileDataPromise = new Promise((resolve) => {\n",
              "      const reader = new FileReader();\n",
              "      reader.onload = (e) => {\n",
              "        resolve(e.target.result);\n",
              "      };\n",
              "      reader.readAsArrayBuffer(file);\n",
              "    });\n",
              "    // Wait for the data to be ready.\n",
              "    let fileData = yield {\n",
              "      promise: fileDataPromise,\n",
              "      response: {\n",
              "        action: 'continue',\n",
              "      }\n",
              "    };\n",
              "\n",
              "    // Use a chunked sending to avoid message size limits. See b/62115660.\n",
              "    let position = 0;\n",
              "    do {\n",
              "      const length = Math.min(fileData.byteLength - position, MAX_PAYLOAD_SIZE);\n",
              "      const chunk = new Uint8Array(fileData, position, length);\n",
              "      position += length;\n",
              "\n",
              "      const base64 = btoa(String.fromCharCode.apply(null, chunk));\n",
              "      yield {\n",
              "        response: {\n",
              "          action: 'append',\n",
              "          file: file.name,\n",
              "          data: base64,\n",
              "        },\n",
              "      };\n",
              "\n",
              "      let percentDone = fileData.byteLength === 0 ?\n",
              "          100 :\n",
              "          Math.round((position / fileData.byteLength) * 100);\n",
              "      percent.textContent = `${percentDone}% done`;\n",
              "\n",
              "    } while (position < fileData.byteLength);\n",
              "  }\n",
              "\n",
              "  // All done.\n",
              "  yield {\n",
              "    response: {\n",
              "      action: 'complete',\n",
              "    }\n",
              "  };\n",
              "}\n",
              "\n",
              "scope.google = scope.google || {};\n",
              "scope.google.colab = scope.google.colab || {};\n",
              "scope.google.colab._files = {\n",
              "  _uploadFiles,\n",
              "  _uploadFilesContinue,\n",
              "};\n",
              "})(self);\n",
              "</script> "
            ]
          },
          "metadata": {}
        },
        {
          "output_type": "stream",
          "name": "stdout",
          "text": [
            "Saving main.mp4 to main (1).mp4\n",
            "\n",
            "\n",
            "WARNING ⚠️ inference results will accumulate in RAM unless `stream=True` is passed, causing potential out-of-memory\n",
            "errors for large sources or long-running streams and videos. See https://docs.ultralytics.com/modes/predict/ for help.\n",
            "\n",
            "Example:\n",
            "    results = model(source=..., stream=True)  # generator of Results objects\n",
            "    for r in results:\n",
            "        boxes = r.boxes  # Boxes object for bbox outputs\n",
            "        masks = r.masks  # Masks object for segment masks outputs\n",
            "        probs = r.probs  # Class probabilities for classification outputs\n",
            "\n",
            "video 1/1 (1/2632) /content/main (1).mp4: 384x640 1 car, 15.0ms\n",
            "video 1/1 (2/2632) /content/main (1).mp4: 384x640 1 car, 15.4ms\n",
            "video 1/1 (3/2632) /content/main (1).mp4: 384x640 1 car, 12.3ms\n",
            "video 1/1 (4/2632) /content/main (1).mp4: 384x640 1 car, 9.6ms\n",
            "video 1/1 (5/2632) /content/main (1).mp4: 384x640 1 car, 9.9ms\n",
            "video 1/1 (6/2632) /content/main (1).mp4: 384x640 1 car, 9.0ms\n",
            "video 1/1 (7/2632) /content/main (1).mp4: 384x640 1 car, 9.7ms\n",
            "video 1/1 (8/2632) /content/main (1).mp4: 384x640 1 car, 8.4ms\n",
            "video 1/1 (9/2632) /content/main (1).mp4: 384x640 1 car, 10.3ms\n",
            "video 1/1 (10/2632) /content/main (1).mp4: 384x640 1 car, 8.7ms\n",
            "video 1/1 (11/2632) /content/main (1).mp4: 384x640 1 car, 11.0ms\n",
            "video 1/1 (12/2632) /content/main (1).mp4: 384x640 1 car, 10.8ms\n",
            "video 1/1 (13/2632) /content/main (1).mp4: 384x640 1 car, 15.8ms\n",
            "video 1/1 (14/2632) /content/main (1).mp4: 384x640 1 car, 11.4ms\n",
            "video 1/1 (15/2632) /content/main (1).mp4: 384x640 1 car, 9.3ms\n",
            "video 1/1 (16/2632) /content/main (1).mp4: 384x640 1 car, 10.2ms\n",
            "video 1/1 (17/2632) /content/main (1).mp4: 384x640 1 car, 9.3ms\n",
            "video 1/1 (18/2632) /content/main (1).mp4: 384x640 1 car, 9.6ms\n",
            "video 1/1 (19/2632) /content/main (1).mp4: 384x640 1 car, 16.5ms\n",
            "video 1/1 (20/2632) /content/main (1).mp4: 384x640 1 car, 10.1ms\n",
            "video 1/1 (21/2632) /content/main (1).mp4: 384x640 1 car, 9.2ms\n",
            "video 1/1 (22/2632) /content/main (1).mp4: 384x640 1 car, 9.6ms\n",
            "video 1/1 (23/2632) /content/main (1).mp4: 384x640 1 car, 9.0ms\n",
            "video 1/1 (24/2632) /content/main (1).mp4: 384x640 1 car, 10.0ms\n",
            "video 1/1 (25/2632) /content/main (1).mp4: 384x640 1 car, 8.9ms\n",
            "video 1/1 (26/2632) /content/main (1).mp4: 384x640 1 car, 9.7ms\n",
            "video 1/1 (27/2632) /content/main (1).mp4: 384x640 1 car, 9.0ms\n",
            "video 1/1 (28/2632) /content/main (1).mp4: 384x640 1 car, 9.5ms\n",
            "video 1/1 (29/2632) /content/main (1).mp4: 384x640 1 car, 10.2ms\n",
            "video 1/1 (30/2632) /content/main (1).mp4: 384x640 1 car, 9.2ms\n",
            "video 1/1 (31/2632) /content/main (1).mp4: 384x640 1 car, 16.4ms\n",
            "video 1/1 (32/2632) /content/main (1).mp4: 384x640 1 car, 16.9ms\n",
            "video 1/1 (33/2632) /content/main (1).mp4: 384x640 1 car, 18.4ms\n",
            "video 1/1 (34/2632) /content/main (1).mp4: 384x640 1 car, 17.9ms\n",
            "video 1/1 (35/2632) /content/main (1).mp4: 384x640 1 car, 11.9ms\n",
            "video 1/1 (36/2632) /content/main (1).mp4: 384x640 1 car, 19.4ms\n",
            "video 1/1 (37/2632) /content/main (1).mp4: 384x640 1 car, 13.8ms\n",
            "video 1/1 (38/2632) /content/main (1).mp4: 384x640 1 car, 11.3ms\n",
            "video 1/1 (39/2632) /content/main (1).mp4: 384x640 1 car, 12.1ms\n",
            "video 1/1 (40/2632) /content/main (1).mp4: 384x640 1 car, 14.6ms\n",
            "video 1/1 (41/2632) /content/main (1).mp4: 384x640 1 car, 12.3ms\n",
            "video 1/1 (42/2632) /content/main (1).mp4: 384x640 1 car, 13.5ms\n",
            "video 1/1 (43/2632) /content/main (1).mp4: 384x640 1 car, 12.0ms\n",
            "video 1/1 (44/2632) /content/main (1).mp4: 384x640 1 car, 10.9ms\n",
            "video 1/1 (45/2632) /content/main (1).mp4: 384x640 1 car, 12.1ms\n",
            "video 1/1 (46/2632) /content/main (1).mp4: 384x640 1 car, 13.2ms\n",
            "video 1/1 (47/2632) /content/main (1).mp4: 384x640 1 car, 11.7ms\n",
            "video 1/1 (48/2632) /content/main (1).mp4: 384x640 1 car, 12.7ms\n",
            "video 1/1 (49/2632) /content/main (1).mp4: 384x640 1 car, 11.6ms\n",
            "video 1/1 (50/2632) /content/main (1).mp4: 384x640 1 car, 11.2ms\n",
            "video 1/1 (51/2632) /content/main (1).mp4: 384x640 1 car, 12.8ms\n",
            "video 1/1 (52/2632) /content/main (1).mp4: 384x640 1 car, 11.0ms\n",
            "video 1/1 (53/2632) /content/main (1).mp4: 384x640 1 car, 12.3ms\n",
            "video 1/1 (54/2632) /content/main (1).mp4: 384x640 1 car, 11.3ms\n",
            "video 1/1 (55/2632) /content/main (1).mp4: 384x640 1 car, 12.1ms\n",
            "video 1/1 (56/2632) /content/main (1).mp4: 384x640 1 car, 10.3ms\n",
            "video 1/1 (57/2632) /content/main (1).mp4: 384x640 1 car, 13.6ms\n",
            "video 1/1 (58/2632) /content/main (1).mp4: 384x640 1 car, 15.7ms\n",
            "video 1/1 (59/2632) /content/main (1).mp4: 384x640 1 car, 18.7ms\n",
            "video 1/1 (60/2632) /content/main (1).mp4: 384x640 1 car, 12.1ms\n",
            "video 1/1 (61/2632) /content/main (1).mp4: 384x640 1 car, 11.7ms\n",
            "video 1/1 (62/2632) /content/main (1).mp4: 384x640 1 car, 15.4ms\n",
            "video 1/1 (63/2632) /content/main (1).mp4: 384x640 1 car, 15.2ms\n",
            "video 1/1 (64/2632) /content/main (1).mp4: 384x640 1 car, 11.6ms\n",
            "video 1/1 (65/2632) /content/main (1).mp4: 384x640 1 car, 13.1ms\n",
            "video 1/1 (66/2632) /content/main (1).mp4: 384x640 1 car, 12.0ms\n",
            "video 1/1 (67/2632) /content/main (1).mp4: 384x640 1 car, 13.0ms\n",
            "video 1/1 (68/2632) /content/main (1).mp4: 384x640 1 car, 11.6ms\n",
            "video 1/1 (69/2632) /content/main (1).mp4: 384x640 1 car, 11.3ms\n",
            "video 1/1 (70/2632) /content/main (1).mp4: 384x640 1 car, 12.2ms\n",
            "video 1/1 (71/2632) /content/main (1).mp4: 384x640 1 car, 24.9ms\n",
            "video 1/1 (72/2632) /content/main (1).mp4: 384x640 1 car, 11.1ms\n",
            "video 1/1 (73/2632) /content/main (1).mp4: 384x640 1 car, 11.0ms\n",
            "video 1/1 (74/2632) /content/main (1).mp4: 384x640 1 car, 11.7ms\n",
            "video 1/1 (75/2632) /content/main (1).mp4: 384x640 1 car, 11.2ms\n",
            "video 1/1 (76/2632) /content/main (1).mp4: 384x640 1 car, 11.8ms\n",
            "video 1/1 (77/2632) /content/main (1).mp4: 384x640 1 car, 15.7ms\n",
            "video 1/1 (78/2632) /content/main (1).mp4: 384x640 1 car, 10.8ms\n",
            "video 1/1 (79/2632) /content/main (1).mp4: 384x640 1 car, 11.0ms\n",
            "video 1/1 (80/2632) /content/main (1).mp4: 384x640 1 car, 13.0ms\n",
            "video 1/1 (81/2632) /content/main (1).mp4: 384x640 1 car, 11.0ms\n",
            "video 1/1 (82/2632) /content/main (1).mp4: 384x640 1 car, 13.9ms\n",
            "video 1/1 (83/2632) /content/main (1).mp4: 384x640 1 car, 10.5ms\n",
            "video 1/1 (84/2632) /content/main (1).mp4: 384x640 1 car, 11.0ms\n",
            "video 1/1 (85/2632) /content/main (1).mp4: 384x640 1 car, 13.2ms\n",
            "video 1/1 (86/2632) /content/main (1).mp4: 384x640 1 car, 10.8ms\n",
            "video 1/1 (87/2632) /content/main (1).mp4: 384x640 1 car, 13.9ms\n",
            "video 1/1 (88/2632) /content/main (1).mp4: 384x640 1 car, 10.7ms\n",
            "video 1/1 (89/2632) /content/main (1).mp4: 384x640 1 car, 13.9ms\n",
            "video 1/1 (90/2632) /content/main (1).mp4: 384x640 1 car, 11.6ms\n",
            "video 1/1 (91/2632) /content/main (1).mp4: 384x640 1 car, 15.0ms\n",
            "video 1/1 (92/2632) /content/main (1).mp4: 384x640 1 car, 18.7ms\n",
            "video 1/1 (93/2632) /content/main (1).mp4: 384x640 1 car, 17.7ms\n",
            "video 1/1 (94/2632) /content/main (1).mp4: 384x640 1 car, 14.5ms\n",
            "video 1/1 (95/2632) /content/main (1).mp4: 384x640 1 car, 12.9ms\n",
            "video 1/1 (96/2632) /content/main (1).mp4: 384x640 1 car, 16.5ms\n",
            "video 1/1 (97/2632) /content/main (1).mp4: 384x640 1 car, 17.8ms\n",
            "video 1/1 (98/2632) /content/main (1).mp4: 384x640 1 car, 15.6ms\n",
            "video 1/1 (99/2632) /content/main (1).mp4: 384x640 1 car, 11.3ms\n",
            "video 1/1 (100/2632) /content/main (1).mp4: 384x640 1 car, 14.9ms\n",
            "video 1/1 (101/2632) /content/main (1).mp4: 384x640 1 car, 14.2ms\n",
            "video 1/1 (102/2632) /content/main (1).mp4: 384x640 1 car, 14.3ms\n",
            "video 1/1 (103/2632) /content/main (1).mp4: 384x640 1 car, 18.9ms\n",
            "video 1/1 (104/2632) /content/main (1).mp4: 384x640 1 car, 18.4ms\n",
            "video 1/1 (105/2632) /content/main (1).mp4: 384x640 1 car, 17.8ms\n",
            "video 1/1 (106/2632) /content/main (1).mp4: 384x640 1 car, 18.4ms\n",
            "video 1/1 (107/2632) /content/main (1).mp4: 384x640 1 car, 17.6ms\n",
            "video 1/1 (108/2632) /content/main (1).mp4: 384x640 1 car, 16.4ms\n",
            "video 1/1 (109/2632) /content/main (1).mp4: 384x640 1 car, 9.6ms\n",
            "video 1/1 (110/2632) /content/main (1).mp4: 384x640 1 car, 11.0ms\n",
            "video 1/1 (111/2632) /content/main (1).mp4: 384x640 1 car, 12.8ms\n",
            "video 1/1 (112/2632) /content/main (1).mp4: 384x640 1 car, 10.6ms\n",
            "video 1/1 (113/2632) /content/main (1).mp4: 384x640 1 car, 11.3ms\n",
            "video 1/1 (114/2632) /content/main (1).mp4: 384x640 1 car, 12.5ms\n",
            "video 1/1 (115/2632) /content/main (1).mp4: 384x640 1 car, 12.2ms\n",
            "video 1/1 (116/2632) /content/main (1).mp4: 384x640 1 car, 10.0ms\n",
            "video 1/1 (117/2632) /content/main (1).mp4: 384x640 1 car, 9.2ms\n",
            "video 1/1 (118/2632) /content/main (1).mp4: 384x640 1 car, 9.2ms\n",
            "video 1/1 (119/2632) /content/main (1).mp4: 384x640 1 car, 9.1ms\n",
            "video 1/1 (120/2632) /content/main (1).mp4: 384x640 1 car, 11.2ms\n",
            "video 1/1 (121/2632) /content/main (1).mp4: 384x640 1 car, 9.7ms\n",
            "video 1/1 (122/2632) /content/main (1).mp4: 384x640 1 car, 11.2ms\n",
            "video 1/1 (123/2632) /content/main (1).mp4: 384x640 1 car, 9.4ms\n",
            "video 1/1 (124/2632) /content/main (1).mp4: 384x640 1 car, 9.4ms\n",
            "video 1/1 (125/2632) /content/main (1).mp4: 384x640 1 car, 8.7ms\n",
            "video 1/1 (126/2632) /content/main (1).mp4: 384x640 1 car, 11.8ms\n",
            "video 1/1 (127/2632) /content/main (1).mp4: 384x640 1 car, 8.5ms\n",
            "video 1/1 (128/2632) /content/main (1).mp4: 384x640 1 car, 14.3ms\n",
            "video 1/1 (129/2632) /content/main (1).mp4: 384x640 1 car, 11.8ms\n",
            "video 1/1 (130/2632) /content/main (1).mp4: 384x640 1 car, 9.9ms\n",
            "video 1/1 (131/2632) /content/main (1).mp4: 384x640 1 car, 9.1ms\n",
            "video 1/1 (132/2632) /content/main (1).mp4: 384x640 1 car, 12.4ms\n",
            "video 1/1 (133/2632) /content/main (1).mp4: 384x640 1 car, 10.5ms\n",
            "video 1/1 (134/2632) /content/main (1).mp4: 384x640 1 car, 9.7ms\n",
            "video 1/1 (135/2632) /content/main (1).mp4: 384x640 1 car, 9.7ms\n",
            "video 1/1 (136/2632) /content/main (1).mp4: 384x640 1 car, 9.4ms\n",
            "video 1/1 (137/2632) /content/main (1).mp4: 384x640 1 car, 9.9ms\n",
            "video 1/1 (138/2632) /content/main (1).mp4: 384x640 1 car, 9.9ms\n",
            "video 1/1 (139/2632) /content/main (1).mp4: 384x640 1 car, 9.2ms\n",
            "video 1/1 (140/2632) /content/main (1).mp4: 384x640 1 car, 10.3ms\n",
            "video 1/1 (141/2632) /content/main (1).mp4: 384x640 1 car, 9.3ms\n",
            "video 1/1 (142/2632) /content/main (1).mp4: 384x640 (no detections), 14.9ms\n",
            "video 1/1 (143/2632) /content/main (1).mp4: 384x640 1 car, 9.1ms\n",
            "video 1/1 (144/2632) /content/main (1).mp4: 384x640 1 car, 10.1ms\n",
            "video 1/1 (145/2632) /content/main (1).mp4: 384x640 1 car, 9.1ms\n",
            "video 1/1 (146/2632) /content/main (1).mp4: 384x640 1 car, 10.2ms\n",
            "video 1/1 (147/2632) /content/main (1).mp4: 384x640 (no detections), 8.9ms\n",
            "video 1/1 (148/2632) /content/main (1).mp4: 384x640 (no detections), 10.1ms\n",
            "video 1/1 (149/2632) /content/main (1).mp4: 384x640 (no detections), 9.4ms\n",
            "video 1/1 (150/2632) /content/main (1).mp4: 384x640 (no detections), 9.3ms\n",
            "video 1/1 (151/2632) /content/main (1).mp4: 384x640 (no detections), 9.5ms\n",
            "video 1/1 (152/2632) /content/main (1).mp4: 384x640 1 car, 10.5ms\n",
            "video 1/1 (153/2632) /content/main (1).mp4: 384x640 1 car, 8.8ms\n",
            "video 1/1 (154/2632) /content/main (1).mp4: 384x640 1 car, 16.6ms\n",
            "video 1/1 (155/2632) /content/main (1).mp4: 384x640 1 car, 8.7ms\n",
            "video 1/1 (156/2632) /content/main (1).mp4: 384x640 1 car, 11.9ms\n",
            "video 1/1 (157/2632) /content/main (1).mp4: 384x640 1 car, 11.6ms\n",
            "video 1/1 (158/2632) /content/main (1).mp4: 384x640 1 car, 10.8ms\n",
            "video 1/1 (159/2632) /content/main (1).mp4: 384x640 (no detections), 8.7ms\n",
            "video 1/1 (160/2632) /content/main (1).mp4: 384x640 (no detections), 9.4ms\n",
            "video 1/1 (161/2632) /content/main (1).mp4: 384x640 (no detections), 9.1ms\n",
            "video 1/1 (162/2632) /content/main (1).mp4: 384x640 (no detections), 9.9ms\n",
            "video 1/1 (163/2632) /content/main (1).mp4: 384x640 (no detections), 11.8ms\n",
            "video 1/1 (164/2632) /content/main (1).mp4: 384x640 (no detections), 8.9ms\n",
            "video 1/1 (165/2632) /content/main (1).mp4: 384x640 (no detections), 8.4ms\n",
            "video 1/1 (166/2632) /content/main (1).mp4: 384x640 (no detections), 8.5ms\n",
            "video 1/1 (167/2632) /content/main (1).mp4: 384x640 (no detections), 8.4ms\n",
            "video 1/1 (168/2632) /content/main (1).mp4: 384x640 (no detections), 9.6ms\n",
            "video 1/1 (169/2632) /content/main (1).mp4: 384x640 (no detections), 9.4ms\n",
            "video 1/1 (170/2632) /content/main (1).mp4: 384x640 (no detections), 11.2ms\n",
            "video 1/1 (171/2632) /content/main (1).mp4: 384x640 (no detections), 9.6ms\n",
            "video 1/1 (172/2632) /content/main (1).mp4: 384x640 (no detections), 10.7ms\n",
            "video 1/1 (173/2632) /content/main (1).mp4: 384x640 (no detections), 13.3ms\n",
            "video 1/1 (174/2632) /content/main (1).mp4: 384x640 1 car, 13.2ms\n",
            "video 1/1 (175/2632) /content/main (1).mp4: 384x640 (no detections), 9.7ms\n",
            "video 1/1 (176/2632) /content/main (1).mp4: 384x640 (no detections), 10.4ms\n",
            "video 1/1 (177/2632) /content/main (1).mp4: 384x640 (no detections), 9.4ms\n",
            "video 1/1 (178/2632) /content/main (1).mp4: 384x640 (no detections), 10.2ms\n",
            "video 1/1 (179/2632) /content/main (1).mp4: 384x640 (no detections), 9.0ms\n",
            "video 1/1 (180/2632) /content/main (1).mp4: 384x640 (no detections), 14.1ms\n",
            "video 1/1 (181/2632) /content/main (1).mp4: 384x640 1 car, 8.8ms\n",
            "video 1/1 (182/2632) /content/main (1).mp4: 384x640 (no detections), 11.7ms\n",
            "video 1/1 (183/2632) /content/main (1).mp4: 384x640 (no detections), 9.1ms\n",
            "video 1/1 (184/2632) /content/main (1).mp4: 384x640 (no detections), 11.4ms\n",
            "video 1/1 (185/2632) /content/main (1).mp4: 384x640 (no detections), 9.1ms\n",
            "video 1/1 (186/2632) /content/main (1).mp4: 384x640 (no detections), 11.0ms\n",
            "video 1/1 (187/2632) /content/main (1).mp4: 384x640 (no detections), 15.4ms\n",
            "video 1/1 (188/2632) /content/main (1).mp4: 384x640 (no detections), 9.5ms\n",
            "video 1/1 (189/2632) /content/main (1).mp4: 384x640 (no detections), 8.4ms\n",
            "video 1/1 (190/2632) /content/main (1).mp4: 384x640 (no detections), 10.9ms\n",
            "video 1/1 (191/2632) /content/main (1).mp4: 384x640 (no detections), 8.9ms\n",
            "video 1/1 (192/2632) /content/main (1).mp4: 384x640 (no detections), 12.8ms\n",
            "video 1/1 (193/2632) /content/main (1).mp4: 384x640 (no detections), 8.8ms\n",
            "video 1/1 (194/2632) /content/main (1).mp4: 384x640 (no detections), 9.9ms\n",
            "video 1/1 (195/2632) /content/main (1).mp4: 384x640 (no detections), 9.4ms\n",
            "video 1/1 (196/2632) /content/main (1).mp4: 384x640 (no detections), 12.5ms\n",
            "video 1/1 (197/2632) /content/main (1).mp4: 384x640 (no detections), 12.5ms\n",
            "video 1/1 (198/2632) /content/main (1).mp4: 384x640 (no detections), 12.0ms\n",
            "video 1/1 (199/2632) /content/main (1).mp4: 384x640 (no detections), 10.6ms\n",
            "video 1/1 (200/2632) /content/main (1).mp4: 384x640 (no detections), 8.8ms\n",
            "video 1/1 (201/2632) /content/main (1).mp4: 384x640 1 car, 11.1ms\n",
            "video 1/1 (202/2632) /content/main (1).mp4: 384x640 1 car, 9.7ms\n",
            "video 1/1 (203/2632) /content/main (1).mp4: 384x640 1 car, 11.0ms\n",
            "video 1/1 (204/2632) /content/main (1).mp4: 384x640 1 car, 9.2ms\n",
            "video 1/1 (205/2632) /content/main (1).mp4: 384x640 (no detections), 11.3ms\n",
            "video 1/1 (206/2632) /content/main (1).mp4: 384x640 2 cars, 9.2ms\n",
            "video 1/1 (207/2632) /content/main (1).mp4: 384x640 1 car, 12.0ms\n",
            "video 1/1 (208/2632) /content/main (1).mp4: 384x640 1 car, 9.1ms\n",
            "video 1/1 (209/2632) /content/main (1).mp4: 384x640 1 car, 11.6ms\n",
            "video 1/1 (210/2632) /content/main (1).mp4: 384x640 1 car, 11.8ms\n",
            "video 1/1 (211/2632) /content/main (1).mp4: 384x640 1 car, 8.9ms\n",
            "video 1/1 (212/2632) /content/main (1).mp4: 384x640 1 car, 10.9ms\n",
            "video 1/1 (213/2632) /content/main (1).mp4: 384x640 1 car, 9.1ms\n",
            "video 1/1 (214/2632) /content/main (1).mp4: 384x640 (no detections), 8.7ms\n",
            "video 1/1 (215/2632) /content/main (1).mp4: 384x640 1 car, 8.3ms\n",
            "video 1/1 (216/2632) /content/main (1).mp4: 384x640 1 car, 10.9ms\n",
            "video 1/1 (217/2632) /content/main (1).mp4: 384x640 1 car, 8.9ms\n",
            "video 1/1 (218/2632) /content/main (1).mp4: 384x640 1 car, 10.6ms\n",
            "video 1/1 (219/2632) /content/main (1).mp4: 384x640 1 car, 8.2ms\n",
            "video 1/1 (220/2632) /content/main (1).mp4: 384x640 1 car, 11.5ms\n",
            "video 1/1 (221/2632) /content/main (1).mp4: 384x640 (no detections), 15.7ms\n",
            "video 1/1 (222/2632) /content/main (1).mp4: 384x640 1 car, 8.5ms\n",
            "video 1/1 (223/2632) /content/main (1).mp4: 384x640 (no detections), 14.5ms\n",
            "video 1/1 (224/2632) /content/main (1).mp4: 384x640 (no detections), 9.1ms\n",
            "video 1/1 (225/2632) /content/main (1).mp4: 384x640 (no detections), 8.4ms\n",
            "video 1/1 (226/2632) /content/main (1).mp4: 384x640 1 car, 11.3ms\n",
            "video 1/1 (227/2632) /content/main (1).mp4: 384x640 1 car, 9.6ms\n",
            "video 1/1 (228/2632) /content/main (1).mp4: 384x640 (no detections), 9.0ms\n",
            "video 1/1 (229/2632) /content/main (1).mp4: 384x640 1 car, 9.7ms\n",
            "video 1/1 (230/2632) /content/main (1).mp4: 384x640 1 car, 8.9ms\n",
            "video 1/1 (231/2632) /content/main (1).mp4: 384x640 1 car, 10.1ms\n",
            "video 1/1 (232/2632) /content/main (1).mp4: 384x640 1 car, 9.8ms\n",
            "video 1/1 (233/2632) /content/main (1).mp4: 384x640 1 car, 8.2ms\n",
            "video 1/1 (234/2632) /content/main (1).mp4: 384x640 1 car, 10.0ms\n",
            "video 1/1 (235/2632) /content/main (1).mp4: 384x640 1 car, 13.0ms\n",
            "video 1/1 (236/2632) /content/main (1).mp4: 384x640 1 car, 9.4ms\n",
            "video 1/1 (237/2632) /content/main (1).mp4: 384x640 1 car, 8.8ms\n",
            "video 1/1 (238/2632) /content/main (1).mp4: 384x640 1 car, 11.9ms\n",
            "video 1/1 (239/2632) /content/main (1).mp4: 384x640 1 car, 9.6ms\n",
            "video 1/1 (240/2632) /content/main (1).mp4: 384x640 1 car, 11.9ms\n",
            "video 1/1 (241/2632) /content/main (1).mp4: 384x640 (no detections), 11.5ms\n",
            "video 1/1 (242/2632) /content/main (1).mp4: 384x640 1 car, 8.9ms\n",
            "video 1/1 (243/2632) /content/main (1).mp4: 384x640 (no detections), 13.4ms\n",
            "video 1/1 (244/2632) /content/main (1).mp4: 384x640 (no detections), 8.6ms\n",
            "video 1/1 (245/2632) /content/main (1).mp4: 384x640 1 car, 11.2ms\n",
            "video 1/1 (246/2632) /content/main (1).mp4: 384x640 (no detections), 8.9ms\n",
            "video 1/1 (247/2632) /content/main (1).mp4: 384x640 (no detections), 11.9ms\n",
            "video 1/1 (248/2632) /content/main (1).mp4: 384x640 (no detections), 8.7ms\n",
            "video 1/1 (249/2632) /content/main (1).mp4: 384x640 (no detections), 12.8ms\n",
            "video 1/1 (250/2632) /content/main (1).mp4: 384x640 (no detections), 8.5ms\n",
            "video 1/1 (251/2632) /content/main (1).mp4: 384x640 (no detections), 10.8ms\n",
            "video 1/1 (252/2632) /content/main (1).mp4: 384x640 (no detections), 8.7ms\n",
            "video 1/1 (253/2632) /content/main (1).mp4: 384x640 (no detections), 10.4ms\n",
            "video 1/1 (254/2632) /content/main (1).mp4: 384x640 (no detections), 8.5ms\n",
            "video 1/1 (255/2632) /content/main (1).mp4: 384x640 (no detections), 8.9ms\n",
            "video 1/1 (256/2632) /content/main (1).mp4: 384x640 (no detections), 10.9ms\n",
            "video 1/1 (257/2632) /content/main (1).mp4: 384x640 (no detections), 10.3ms\n",
            "video 1/1 (258/2632) /content/main (1).mp4: 384x640 (no detections), 10.8ms\n",
            "video 1/1 (259/2632) /content/main (1).mp4: 384x640 (no detections), 8.5ms\n",
            "video 1/1 (260/2632) /content/main (1).mp4: 384x640 (no detections), 9.4ms\n",
            "video 1/1 (261/2632) /content/main (1).mp4: 384x640 (no detections), 10.0ms\n",
            "video 1/1 (262/2632) /content/main (1).mp4: 384x640 (no detections), 10.4ms\n",
            "video 1/1 (263/2632) /content/main (1).mp4: 384x640 (no detections), 10.5ms\n",
            "video 1/1 (264/2632) /content/main (1).mp4: 384x640 (no detections), 13.5ms\n",
            "video 1/1 (265/2632) /content/main (1).mp4: 384x640 (no detections), 10.4ms\n",
            "video 1/1 (266/2632) /content/main (1).mp4: 384x640 (no detections), 10.2ms\n",
            "video 1/1 (267/2632) /content/main (1).mp4: 384x640 (no detections), 12.9ms\n",
            "video 1/1 (268/2632) /content/main (1).mp4: 384x640 (no detections), 10.3ms\n",
            "video 1/1 (269/2632) /content/main (1).mp4: 384x640 (no detections), 10.5ms\n",
            "video 1/1 (270/2632) /content/main (1).mp4: 384x640 1 car, 10.7ms\n",
            "video 1/1 (271/2632) /content/main (1).mp4: 384x640 (no detections), 10.6ms\n",
            "video 1/1 (272/2632) /content/main (1).mp4: 384x640 (no detections), 11.1ms\n",
            "video 1/1 (273/2632) /content/main (1).mp4: 384x640 (no detections), 10.0ms\n",
            "video 1/1 (274/2632) /content/main (1).mp4: 384x640 (no detections), 14.8ms\n",
            "video 1/1 (275/2632) /content/main (1).mp4: 384x640 (no detections), 8.9ms\n",
            "video 1/1 (276/2632) /content/main (1).mp4: 384x640 (no detections), 9.2ms\n",
            "video 1/1 (277/2632) /content/main (1).mp4: 384x640 1 car, 8.7ms\n",
            "video 1/1 (278/2632) /content/main (1).mp4: 384x640 1 car, 11.5ms\n",
            "video 1/1 (279/2632) /content/main (1).mp4: 384x640 1 car, 9.0ms\n",
            "video 1/1 (280/2632) /content/main (1).mp4: 384x640 1 car, 10.6ms\n",
            "video 1/1 (281/2632) /content/main (1).mp4: 384x640 1 car, 8.5ms\n",
            "video 1/1 (282/2632) /content/main (1).mp4: 384x640 (no detections), 10.5ms\n",
            "video 1/1 (283/2632) /content/main (1).mp4: 384x640 (no detections), 9.0ms\n",
            "video 1/1 (284/2632) /content/main (1).mp4: 384x640 1 car, 10.5ms\n",
            "video 1/1 (285/2632) /content/main (1).mp4: 384x640 1 car, 9.1ms\n",
            "video 1/1 (286/2632) /content/main (1).mp4: 384x640 1 car, 11.1ms\n",
            "video 1/1 (287/2632) /content/main (1).mp4: 384x640 1 car, 9.2ms\n",
            "video 1/1 (288/2632) /content/main (1).mp4: 384x640 1 car, 10.6ms\n",
            "video 1/1 (289/2632) /content/main (1).mp4: 384x640 1 car, 15.8ms\n",
            "video 1/1 (290/2632) /content/main (1).mp4: 384x640 (no detections), 12.1ms\n",
            "video 1/1 (291/2632) /content/main (1).mp4: 384x640 1 car, 9.2ms\n",
            "video 1/1 (292/2632) /content/main (1).mp4: 384x640 1 car, 13.3ms\n",
            "video 1/1 (293/2632) /content/main (1).mp4: 384x640 1 car, 8.7ms\n",
            "video 1/1 (294/2632) /content/main (1).mp4: 384x640 1 car, 11.5ms\n",
            "video 1/1 (295/2632) /content/main (1).mp4: 384x640 1 car, 14.0ms\n",
            "video 1/1 (296/2632) /content/main (1).mp4: 384x640 1 car, 12.3ms\n",
            "video 1/1 (297/2632) /content/main (1).mp4: 384x640 1 car, 9.2ms\n",
            "video 1/1 (298/2632) /content/main (1).mp4: 384x640 1 car, 9.4ms\n",
            "video 1/1 (299/2632) /content/main (1).mp4: 384x640 1 car, 9.0ms\n",
            "video 1/1 (300/2632) /content/main (1).mp4: 384x640 1 car, 9.8ms\n",
            "video 1/1 (301/2632) /content/main (1).mp4: 384x640 1 car, 11.1ms\n",
            "video 1/1 (302/2632) /content/main (1).mp4: 384x640 (no detections), 9.7ms\n",
            "video 1/1 (303/2632) /content/main (1).mp4: 384x640 (no detections), 11.9ms\n",
            "video 1/1 (304/2632) /content/main (1).mp4: 384x640 (no detections), 8.7ms\n",
            "video 1/1 (305/2632) /content/main (1).mp4: 384x640 (no detections), 10.6ms\n",
            "video 1/1 (306/2632) /content/main (1).mp4: 384x640 1 car, 8.7ms\n",
            "video 1/1 (307/2632) /content/main (1).mp4: 384x640 1 car, 11.0ms\n",
            "video 1/1 (308/2632) /content/main (1).mp4: 384x640 1 car, 8.5ms\n",
            "video 1/1 (309/2632) /content/main (1).mp4: 384x640 1 car, 10.2ms\n",
            "video 1/1 (310/2632) /content/main (1).mp4: 384x640 1 car, 8.4ms\n",
            "video 1/1 (311/2632) /content/main (1).mp4: 384x640 (no detections), 13.7ms\n",
            "video 1/1 (312/2632) /content/main (1).mp4: 384x640 1 car, 9.4ms\n",
            "video 1/1 (313/2632) /content/main (1).mp4: 384x640 (no detections), 11.2ms\n",
            "video 1/1 (314/2632) /content/main (1).mp4: 384x640 (no detections), 8.5ms\n",
            "video 1/1 (315/2632) /content/main (1).mp4: 384x640 (no detections), 10.4ms\n",
            "video 1/1 (316/2632) /content/main (1).mp4: 384x640 (no detections), 8.5ms\n",
            "video 1/1 (317/2632) /content/main (1).mp4: 384x640 (no detections), 10.6ms\n",
            "video 1/1 (318/2632) /content/main (1).mp4: 384x640 (no detections), 9.2ms\n",
            "video 1/1 (319/2632) /content/main (1).mp4: 384x640 (no detections), 10.1ms\n",
            "video 1/1 (320/2632) /content/main (1).mp4: 384x640 (no detections), 8.7ms\n",
            "video 1/1 (321/2632) /content/main (1).mp4: 384x640 (no detections), 10.0ms\n",
            "video 1/1 (322/2632) /content/main (1).mp4: 384x640 (no detections), 11.6ms\n",
            "video 1/1 (323/2632) /content/main (1).mp4: 384x640 (no detections), 11.3ms\n",
            "video 1/1 (324/2632) /content/main (1).mp4: 384x640 1 car, 8.4ms\n",
            "video 1/1 (325/2632) /content/main (1).mp4: 384x640 (no detections), 13.5ms\n",
            "video 1/1 (326/2632) /content/main (1).mp4: 384x640 (no detections), 8.3ms\n",
            "video 1/1 (327/2632) /content/main (1).mp4: 384x640 (no detections), 10.9ms\n",
            "video 1/1 (328/2632) /content/main (1).mp4: 384x640 (no detections), 8.4ms\n",
            "video 1/1 (329/2632) /content/main (1).mp4: 384x640 (no detections), 11.5ms\n",
            "video 1/1 (330/2632) /content/main (1).mp4: 384x640 (no detections), 9.5ms\n",
            "video 1/1 (331/2632) /content/main (1).mp4: 384x640 (no detections), 9.9ms\n",
            "video 1/1 (332/2632) /content/main (1).mp4: 384x640 (no detections), 9.6ms\n",
            "video 1/1 (333/2632) /content/main (1).mp4: 384x640 (no detections), 13.4ms\n",
            "video 1/1 (334/2632) /content/main (1).mp4: 384x640 (no detections), 8.6ms\n",
            "video 1/1 (335/2632) /content/main (1).mp4: 384x640 (no detections), 10.9ms\n",
            "video 1/1 (336/2632) /content/main (1).mp4: 384x640 (no detections), 8.4ms\n",
            "video 1/1 (337/2632) /content/main (1).mp4: 384x640 (no detections), 10.6ms\n",
            "video 1/1 (338/2632) /content/main (1).mp4: 384x640 (no detections), 10.4ms\n",
            "video 1/1 (339/2632) /content/main (1).mp4: 384x640 (no detections), 11.5ms\n",
            "video 1/1 (340/2632) /content/main (1).mp4: 384x640 (no detections), 11.7ms\n",
            "video 1/1 (341/2632) /content/main (1).mp4: 384x640 (no detections), 12.4ms\n",
            "video 1/1 (342/2632) /content/main (1).mp4: 384x640 (no detections), 11.0ms\n",
            "video 1/1 (343/2632) /content/main (1).mp4: 384x640 (no detections), 11.8ms\n",
            "video 1/1 (344/2632) /content/main (1).mp4: 384x640 (no detections), 10.8ms\n",
            "video 1/1 (345/2632) /content/main (1).mp4: 384x640 (no detections), 11.2ms\n",
            "video 1/1 (346/2632) /content/main (1).mp4: 384x640 (no detections), 10.8ms\n",
            "video 1/1 (347/2632) /content/main (1).mp4: 384x640 (no detections), 10.9ms\n",
            "video 1/1 (348/2632) /content/main (1).mp4: 384x640 1 car, 11.5ms\n",
            "video 1/1 (349/2632) /content/main (1).mp4: 384x640 (no detections), 10.7ms\n",
            "video 1/1 (350/2632) /content/main (1).mp4: 384x640 (no detections), 10.3ms\n",
            "video 1/1 (351/2632) /content/main (1).mp4: 384x640 (no detections), 10.0ms\n",
            "video 1/1 (352/2632) /content/main (1).mp4: 384x640 (no detections), 10.1ms\n",
            "video 1/1 (353/2632) /content/main (1).mp4: 384x640 (no detections), 9.6ms\n",
            "video 1/1 (354/2632) /content/main (1).mp4: 384x640 (no detections), 9.0ms\n",
            "video 1/1 (355/2632) /content/main (1).mp4: 384x640 (no detections), 8.6ms\n",
            "video 1/1 (356/2632) /content/main (1).mp4: 384x640 (no detections), 8.7ms\n",
            "video 1/1 (357/2632) /content/main (1).mp4: 384x640 (no detections), 9.8ms\n",
            "video 1/1 (358/2632) /content/main (1).mp4: 384x640 (no detections), 10.6ms\n",
            "video 1/1 (359/2632) /content/main (1).mp4: 384x640 (no detections), 9.6ms\n",
            "video 1/1 (360/2632) /content/main (1).mp4: 384x640 (no detections), 8.9ms\n",
            "video 1/1 (361/2632) /content/main (1).mp4: 384x640 (no detections), 11.8ms\n",
            "video 1/1 (362/2632) /content/main (1).mp4: 384x640 (no detections), 10.5ms\n",
            "video 1/1 (363/2632) /content/main (1).mp4: 384x640 (no detections), 10.7ms\n",
            "video 1/1 (364/2632) /content/main (1).mp4: 384x640 (no detections), 8.4ms\n",
            "video 1/1 (365/2632) /content/main (1).mp4: 384x640 (no detections), 12.2ms\n",
            "video 1/1 (366/2632) /content/main (1).mp4: 384x640 1 car, 11.6ms\n",
            "video 1/1 (367/2632) /content/main (1).mp4: 384x640 (no detections), 10.9ms\n",
            "video 1/1 (368/2632) /content/main (1).mp4: 384x640 (no detections), 8.9ms\n",
            "video 1/1 (369/2632) /content/main (1).mp4: 384x640 (no detections), 10.9ms\n",
            "video 1/1 (370/2632) /content/main (1).mp4: 384x640 (no detections), 8.7ms\n",
            "video 1/1 (371/2632) /content/main (1).mp4: 384x640 (no detections), 11.3ms\n",
            "video 1/1 (372/2632) /content/main (1).mp4: 384x640 (no detections), 9.3ms\n",
            "video 1/1 (373/2632) /content/main (1).mp4: 384x640 1 car, 10.6ms\n",
            "video 1/1 (374/2632) /content/main (1).mp4: 384x640 2 cars, 10.6ms\n",
            "video 1/1 (375/2632) /content/main (1).mp4: 384x640 1 car, 10.8ms\n",
            "video 1/1 (376/2632) /content/main (1).mp4: 384x640 1 car, 10.6ms\n",
            "video 1/1 (377/2632) /content/main (1).mp4: 384x640 (no detections), 9.0ms\n",
            "video 1/1 (378/2632) /content/main (1).mp4: 384x640 2 cars, 10.5ms\n",
            "video 1/1 (379/2632) /content/main (1).mp4: 384x640 1 car, 8.8ms\n",
            "video 1/1 (380/2632) /content/main (1).mp4: 384x640 1 car, 10.4ms\n",
            "video 1/1 (381/2632) /content/main (1).mp4: 384x640 (no detections), 8.4ms\n",
            "video 1/1 (382/2632) /content/main (1).mp4: 384x640 (no detections), 9.9ms\n",
            "video 1/1 (383/2632) /content/main (1).mp4: 384x640 (no detections), 8.4ms\n",
            "video 1/1 (384/2632) /content/main (1).mp4: 384x640 1 car, 9.4ms\n",
            "video 1/1 (385/2632) /content/main (1).mp4: 384x640 2 cars, 11.0ms\n",
            "video 1/1 (386/2632) /content/main (1).mp4: 384x640 2 cars, 8.8ms\n",
            "video 1/1 (387/2632) /content/main (1).mp4: 384x640 1 car, 8.4ms\n",
            "video 1/1 (388/2632) /content/main (1).mp4: 384x640 1 car, 10.5ms\n",
            "video 1/1 (389/2632) /content/main (1).mp4: 384x640 1 car, 8.3ms\n",
            "video 1/1 (390/2632) /content/main (1).mp4: 384x640 1 car, 8.3ms\n",
            "video 1/1 (391/2632) /content/main (1).mp4: 384x640 2 cars, 8.5ms\n",
            "video 1/1 (392/2632) /content/main (1).mp4: 384x640 1 car, 9.5ms\n",
            "video 1/1 (393/2632) /content/main (1).mp4: 384x640 1 car, 9.7ms\n",
            "video 1/1 (394/2632) /content/main (1).mp4: 384x640 1 car, 10.9ms\n",
            "video 1/1 (395/2632) /content/main (1).mp4: 384x640 1 car, 10.2ms\n",
            "video 1/1 (396/2632) /content/main (1).mp4: 384x640 1 car, 10.9ms\n",
            "video 1/1 (397/2632) /content/main (1).mp4: 384x640 1 car, 10.4ms\n",
            "video 1/1 (398/2632) /content/main (1).mp4: 384x640 1 car, 8.8ms\n",
            "video 1/1 (399/2632) /content/main (1).mp4: 384x640 1 car, 10.1ms\n",
            "video 1/1 (400/2632) /content/main (1).mp4: 384x640 2 cars, 8.7ms\n",
            "video 1/1 (401/2632) /content/main (1).mp4: 384x640 2 cars, 10.0ms\n",
            "video 1/1 (402/2632) /content/main (1).mp4: 384x640 2 cars, 8.5ms\n",
            "video 1/1 (403/2632) /content/main (1).mp4: 384x640 2 cars, 8.4ms\n",
            "video 1/1 (404/2632) /content/main (1).mp4: 384x640 2 cars, 10.3ms\n",
            "video 1/1 (405/2632) /content/main (1).mp4: 384x640 2 cars, 8.8ms\n",
            "video 1/1 (406/2632) /content/main (1).mp4: 384x640 2 cars, 9.9ms\n",
            "video 1/1 (407/2632) /content/main (1).mp4: 384x640 2 cars, 8.9ms\n",
            "video 1/1 (408/2632) /content/main (1).mp4: 384x640 2 cars, 11.1ms\n",
            "video 1/1 (409/2632) /content/main (1).mp4: 384x640 2 cars, 8.7ms\n",
            "video 1/1 (410/2632) /content/main (1).mp4: 384x640 2 cars, 11.4ms\n",
            "video 1/1 (411/2632) /content/main (1).mp4: 384x640 2 cars, 9.6ms\n",
            "video 1/1 (412/2632) /content/main (1).mp4: 384x640 2 cars, 12.2ms\n",
            "video 1/1 (413/2632) /content/main (1).mp4: 384x640 1 car, 9.3ms\n",
            "video 1/1 (414/2632) /content/main (1).mp4: 384x640 2 cars, 11.2ms\n",
            "video 1/1 (415/2632) /content/main (1).mp4: 384x640 2 cars, 9.0ms\n",
            "video 1/1 (416/2632) /content/main (1).mp4: 384x640 (no detections), 13.6ms\n",
            "video 1/1 (417/2632) /content/main (1).mp4: 384x640 1 car, 8.5ms\n",
            "video 1/1 (418/2632) /content/main (1).mp4: 384x640 (no detections), 10.9ms\n",
            "video 1/1 (419/2632) /content/main (1).mp4: 384x640 (no detections), 8.4ms\n",
            "video 1/1 (420/2632) /content/main (1).mp4: 384x640 (no detections), 9.5ms\n",
            "video 1/1 (421/2632) /content/main (1).mp4: 384x640 1 car, 9.0ms\n",
            "video 1/1 (422/2632) /content/main (1).mp4: 384x640 (no detections), 10.5ms\n",
            "video 1/1 (423/2632) /content/main (1).mp4: 384x640 (no detections), 8.6ms\n",
            "video 1/1 (424/2632) /content/main (1).mp4: 384x640 (no detections), 12.8ms\n",
            "video 1/1 (425/2632) /content/main (1).mp4: 384x640 (no detections), 8.3ms\n",
            "video 1/1 (426/2632) /content/main (1).mp4: 384x640 (no detections), 9.0ms\n",
            "video 1/1 (427/2632) /content/main (1).mp4: 384x640 (no detections), 8.7ms\n",
            "video 1/1 (428/2632) /content/main (1).mp4: 384x640 (no detections), 9.9ms\n",
            "video 1/1 (429/2632) /content/main (1).mp4: 384x640 (no detections), 8.7ms\n",
            "video 1/1 (430/2632) /content/main (1).mp4: 384x640 (no detections), 12.7ms\n",
            "video 1/1 (431/2632) /content/main (1).mp4: 384x640 (no detections), 9.1ms\n",
            "video 1/1 (432/2632) /content/main (1).mp4: 384x640 (no detections), 10.6ms\n",
            "video 1/1 (433/2632) /content/main (1).mp4: 384x640 (no detections), 9.8ms\n",
            "video 1/1 (434/2632) /content/main (1).mp4: 384x640 (no detections), 10.0ms\n",
            "video 1/1 (435/2632) /content/main (1).mp4: 384x640 (no detections), 8.7ms\n",
            "video 1/1 (436/2632) /content/main (1).mp4: 384x640 (no detections), 11.8ms\n",
            "video 1/1 (437/2632) /content/main (1).mp4: 384x640 (no detections), 9.6ms\n",
            "video 1/1 (438/2632) /content/main (1).mp4: 384x640 1 car, 9.7ms\n",
            "video 1/1 (439/2632) /content/main (1).mp4: 384x640 2 cars, 19.5ms\n",
            "video 1/1 (440/2632) /content/main (1).mp4: 384x640 1 car, 15.5ms\n",
            "video 1/1 (441/2632) /content/main (1).mp4: 384x640 1 car, 22.5ms\n",
            "video 1/1 (442/2632) /content/main (1).mp4: 384x640 1 car, 14.4ms\n",
            "video 1/1 (443/2632) /content/main (1).mp4: 384x640 1 car, 11.1ms\n",
            "video 1/1 (444/2632) /content/main (1).mp4: 384x640 (no detections), 17.2ms\n",
            "video 1/1 (445/2632) /content/main (1).mp4: 384x640 1 car, 15.8ms\n",
            "video 1/1 (446/2632) /content/main (1).mp4: 384x640 1 car, 13.5ms\n",
            "video 1/1 (447/2632) /content/main (1).mp4: 384x640 1 car, 10.9ms\n",
            "video 1/1 (448/2632) /content/main (1).mp4: 384x640 1 car, 11.4ms\n",
            "video 1/1 (449/2632) /content/main (1).mp4: 384x640 1 car, 14.5ms\n",
            "video 1/1 (450/2632) /content/main (1).mp4: 384x640 1 car, 14.1ms\n",
            "video 1/1 (451/2632) /content/main (1).mp4: 384x640 (no detections), 14.3ms\n",
            "video 1/1 (452/2632) /content/main (1).mp4: 384x640 (no detections), 13.6ms\n",
            "video 1/1 (453/2632) /content/main (1).mp4: 384x640 (no detections), 13.2ms\n",
            "video 1/1 (454/2632) /content/main (1).mp4: 384x640 (no detections), 22.4ms\n",
            "video 1/1 (455/2632) /content/main (1).mp4: 384x640 (no detections), 15.2ms\n",
            "video 1/1 (456/2632) /content/main (1).mp4: 384x640 (no detections), 19.0ms\n",
            "video 1/1 (457/2632) /content/main (1).mp4: 384x640 (no detections), 11.3ms\n",
            "video 1/1 (458/2632) /content/main (1).mp4: 384x640 (no detections), 11.6ms\n",
            "video 1/1 (459/2632) /content/main (1).mp4: 384x640 (no detections), 11.3ms\n",
            "video 1/1 (460/2632) /content/main (1).mp4: 384x640 (no detections), 11.7ms\n",
            "video 1/1 (461/2632) /content/main (1).mp4: 384x640 (no detections), 10.4ms\n",
            "video 1/1 (462/2632) /content/main (1).mp4: 384x640 (no detections), 12.7ms\n",
            "video 1/1 (463/2632) /content/main (1).mp4: 384x640 (no detections), 10.8ms\n",
            "video 1/1 (464/2632) /content/main (1).mp4: 384x640 (no detections), 13.0ms\n",
            "video 1/1 (465/2632) /content/main (1).mp4: 384x640 (no detections), 12.1ms\n",
            "video 1/1 (466/2632) /content/main (1).mp4: 384x640 (no detections), 19.9ms\n",
            "video 1/1 (467/2632) /content/main (1).mp4: 384x640 (no detections), 15.0ms\n",
            "video 1/1 (468/2632) /content/main (1).mp4: 384x640 (no detections), 18.3ms\n",
            "video 1/1 (469/2632) /content/main (1).mp4: 384x640 (no detections), 12.1ms\n",
            "video 1/1 (470/2632) /content/main (1).mp4: 384x640 (no detections), 16.7ms\n",
            "video 1/1 (471/2632) /content/main (1).mp4: 384x640 (no detections), 17.7ms\n",
            "video 1/1 (472/2632) /content/main (1).mp4: 384x640 (no detections), 12.1ms\n",
            "video 1/1 (473/2632) /content/main (1).mp4: 384x640 (no detections), 17.5ms\n",
            "video 1/1 (474/2632) /content/main (1).mp4: 384x640 (no detections), 11.1ms\n",
            "video 1/1 (475/2632) /content/main (1).mp4: 384x640 (no detections), 14.9ms\n",
            "video 1/1 (476/2632) /content/main (1).mp4: 384x640 (no detections), 13.2ms\n",
            "video 1/1 (477/2632) /content/main (1).mp4: 384x640 (no detections), 12.2ms\n",
            "video 1/1 (478/2632) /content/main (1).mp4: 384x640 (no detections), 15.5ms\n",
            "video 1/1 (479/2632) /content/main (1).mp4: 384x640 (no detections), 12.4ms\n",
            "video 1/1 (480/2632) /content/main (1).mp4: 384x640 (no detections), 11.7ms\n",
            "video 1/1 (481/2632) /content/main (1).mp4: 384x640 (no detections), 13.1ms\n",
            "video 1/1 (482/2632) /content/main (1).mp4: 384x640 (no detections), 12.3ms\n",
            "video 1/1 (483/2632) /content/main (1).mp4: 384x640 (no detections), 13.6ms\n",
            "video 1/1 (484/2632) /content/main (1).mp4: 384x640 (no detections), 12.1ms\n",
            "video 1/1 (485/2632) /content/main (1).mp4: 384x640 (no detections), 13.5ms\n",
            "video 1/1 (486/2632) /content/main (1).mp4: 384x640 (no detections), 15.6ms\n",
            "video 1/1 (487/2632) /content/main (1).mp4: 384x640 (no detections), 13.6ms\n",
            "video 1/1 (488/2632) /content/main (1).mp4: 384x640 (no detections), 18.0ms\n",
            "video 1/1 (489/2632) /content/main (1).mp4: 384x640 (no detections), 11.0ms\n",
            "video 1/1 (490/2632) /content/main (1).mp4: 384x640 (no detections), 11.1ms\n",
            "video 1/1 (491/2632) /content/main (1).mp4: 384x640 (no detections), 10.6ms\n",
            "video 1/1 (492/2632) /content/main (1).mp4: 384x640 (no detections), 10.9ms\n",
            "video 1/1 (493/2632) /content/main (1).mp4: 384x640 (no detections), 13.4ms\n",
            "video 1/1 (494/2632) /content/main (1).mp4: 384x640 (no detections), 11.5ms\n",
            "video 1/1 (495/2632) /content/main (1).mp4: 384x640 (no detections), 11.0ms\n",
            "video 1/1 (496/2632) /content/main (1).mp4: 384x640 (no detections), 10.9ms\n",
            "video 1/1 (497/2632) /content/main (1).mp4: 384x640 (no detections), 11.0ms\n",
            "video 1/1 (498/2632) /content/main (1).mp4: 384x640 (no detections), 10.9ms\n",
            "video 1/1 (499/2632) /content/main (1).mp4: 384x640 (no detections), 14.7ms\n",
            "video 1/1 (500/2632) /content/main (1).mp4: 384x640 (no detections), 22.0ms\n",
            "video 1/1 (501/2632) /content/main (1).mp4: 384x640 (no detections), 18.7ms\n",
            "video 1/1 (502/2632) /content/main (1).mp4: 384x640 (no detections), 11.2ms\n",
            "video 1/1 (503/2632) /content/main (1).mp4: 384x640 (no detections), 12.8ms\n",
            "video 1/1 (504/2632) /content/main (1).mp4: 384x640 (no detections), 18.3ms\n",
            "video 1/1 (505/2632) /content/main (1).mp4: 384x640 (no detections), 19.3ms\n",
            "video 1/1 (506/2632) /content/main (1).mp4: 384x640 (no detections), 17.4ms\n",
            "video 1/1 (507/2632) /content/main (1).mp4: 384x640 (no detections), 17.5ms\n",
            "video 1/1 (508/2632) /content/main (1).mp4: 384x640 (no detections), 12.6ms\n",
            "video 1/1 (509/2632) /content/main (1).mp4: 384x640 (no detections), 15.8ms\n",
            "video 1/1 (510/2632) /content/main (1).mp4: 384x640 (no detections), 15.9ms\n",
            "video 1/1 (511/2632) /content/main (1).mp4: 384x640 (no detections), 15.1ms\n",
            "video 1/1 (512/2632) /content/main (1).mp4: 384x640 (no detections), 19.3ms\n",
            "video 1/1 (513/2632) /content/main (1).mp4: 384x640 (no detections), 16.6ms\n",
            "video 1/1 (514/2632) /content/main (1).mp4: 384x640 (no detections), 16.1ms\n",
            "video 1/1 (515/2632) /content/main (1).mp4: 384x640 (no detections), 18.1ms\n",
            "video 1/1 (516/2632) /content/main (1).mp4: 384x640 (no detections), 16.4ms\n",
            "video 1/1 (517/2632) /content/main (1).mp4: 384x640 (no detections), 18.0ms\n",
            "video 1/1 (518/2632) /content/main (1).mp4: 384x640 (no detections), 9.2ms\n",
            "video 1/1 (519/2632) /content/main (1).mp4: 384x640 (no detections), 9.7ms\n",
            "video 1/1 (520/2632) /content/main (1).mp4: 384x640 (no detections), 9.0ms\n",
            "video 1/1 (521/2632) /content/main (1).mp4: 384x640 (no detections), 8.6ms\n",
            "video 1/1 (522/2632) /content/main (1).mp4: 384x640 (no detections), 8.8ms\n",
            "video 1/1 (523/2632) /content/main (1).mp4: 384x640 (no detections), 9.2ms\n",
            "video 1/1 (524/2632) /content/main (1).mp4: 384x640 (no detections), 8.7ms\n",
            "video 1/1 (525/2632) /content/main (1).mp4: 384x640 (no detections), 10.4ms\n",
            "video 1/1 (526/2632) /content/main (1).mp4: 384x640 (no detections), 9.2ms\n",
            "video 1/1 (527/2632) /content/main (1).mp4: 384x640 (no detections), 9.2ms\n",
            "video 1/1 (528/2632) /content/main (1).mp4: 384x640 (no detections), 11.0ms\n",
            "video 1/1 (529/2632) /content/main (1).mp4: 384x640 (no detections), 9.6ms\n",
            "video 1/1 (530/2632) /content/main (1).mp4: 384x640 (no detections), 8.7ms\n",
            "video 1/1 (531/2632) /content/main (1).mp4: 384x640 (no detections), 10.0ms\n",
            "video 1/1 (532/2632) /content/main (1).mp4: 384x640 (no detections), 17.4ms\n",
            "video 1/1 (533/2632) /content/main (1).mp4: 384x640 (no detections), 9.6ms\n",
            "video 1/1 (534/2632) /content/main (1).mp4: 384x640 (no detections), 11.0ms\n",
            "video 1/1 (535/2632) /content/main (1).mp4: 384x640 (no detections), 8.8ms\n",
            "video 1/1 (536/2632) /content/main (1).mp4: 384x640 (no detections), 9.2ms\n",
            "video 1/1 (537/2632) /content/main (1).mp4: 384x640 (no detections), 8.8ms\n",
            "video 1/1 (538/2632) /content/main (1).mp4: 384x640 (no detections), 9.3ms\n",
            "video 1/1 (539/2632) /content/main (1).mp4: 384x640 (no detections), 9.2ms\n",
            "video 1/1 (540/2632) /content/main (1).mp4: 384x640 (no detections), 9.0ms\n",
            "video 1/1 (541/2632) /content/main (1).mp4: 384x640 (no detections), 8.9ms\n",
            "video 1/1 (542/2632) /content/main (1).mp4: 384x640 (no detections), 8.6ms\n",
            "video 1/1 (543/2632) /content/main (1).mp4: 384x640 (no detections), 8.6ms\n",
            "video 1/1 (544/2632) /content/main (1).mp4: 384x640 (no detections), 9.3ms\n",
            "video 1/1 (545/2632) /content/main (1).mp4: 384x640 (no detections), 8.4ms\n",
            "video 1/1 (546/2632) /content/main (1).mp4: 384x640 (no detections), 8.9ms\n",
            "video 1/1 (547/2632) /content/main (1).mp4: 384x640 (no detections), 8.4ms\n",
            "video 1/1 (548/2632) /content/main (1).mp4: 384x640 (no detections), 10.8ms\n",
            "video 1/1 (549/2632) /content/main (1).mp4: 384x640 (no detections), 8.7ms\n",
            "video 1/1 (550/2632) /content/main (1).mp4: 384x640 (no detections), 10.0ms\n",
            "video 1/1 (551/2632) /content/main (1).mp4: 384x640 (no detections), 11.0ms\n",
            "video 1/1 (552/2632) /content/main (1).mp4: 384x640 (no detections), 9.4ms\n",
            "video 1/1 (553/2632) /content/main (1).mp4: 384x640 (no detections), 11.8ms\n",
            "video 1/1 (554/2632) /content/main (1).mp4: 384x640 (no detections), 10.3ms\n",
            "video 1/1 (555/2632) /content/main (1).mp4: 384x640 (no detections), 11.1ms\n",
            "video 1/1 (556/2632) /content/main (1).mp4: 384x640 (no detections), 8.7ms\n",
            "video 1/1 (557/2632) /content/main (1).mp4: 384x640 (no detections), 8.9ms\n",
            "video 1/1 (558/2632) /content/main (1).mp4: 384x640 (no detections), 11.2ms\n",
            "video 1/1 (559/2632) /content/main (1).mp4: 384x640 (no detections), 10.1ms\n",
            "video 1/1 (560/2632) /content/main (1).mp4: 384x640 (no detections), 12.4ms\n",
            "video 1/1 (561/2632) /content/main (1).mp4: 384x640 (no detections), 11.4ms\n",
            "video 1/1 (562/2632) /content/main (1).mp4: 384x640 (no detections), 9.8ms\n",
            "video 1/1 (563/2632) /content/main (1).mp4: 384x640 (no detections), 8.8ms\n",
            "video 1/1 (564/2632) /content/main (1).mp4: 384x640 (no detections), 10.4ms\n",
            "video 1/1 (565/2632) /content/main (1).mp4: 384x640 (no detections), 9.9ms\n",
            "video 1/1 (566/2632) /content/main (1).mp4: 384x640 (no detections), 8.7ms\n",
            "video 1/1 (567/2632) /content/main (1).mp4: 384x640 (no detections), 20.5ms\n",
            "video 1/1 (568/2632) /content/main (1).mp4: 384x640 (no detections), 10.0ms\n",
            "video 1/1 (569/2632) /content/main (1).mp4: 384x640 (no detections), 11.3ms\n",
            "video 1/1 (570/2632) /content/main (1).mp4: 384x640 (no detections), 10.7ms\n",
            "video 1/1 (571/2632) /content/main (1).mp4: 384x640 (no detections), 9.1ms\n",
            "video 1/1 (572/2632) /content/main (1).mp4: 384x640 (no detections), 11.1ms\n",
            "video 1/1 (573/2632) /content/main (1).mp4: 384x640 (no detections), 9.0ms\n",
            "video 1/1 (574/2632) /content/main (1).mp4: 384x640 (no detections), 9.9ms\n",
            "video 1/1 (575/2632) /content/main (1).mp4: 384x640 (no detections), 9.1ms\n",
            "video 1/1 (576/2632) /content/main (1).mp4: 384x640 (no detections), 9.2ms\n",
            "video 1/1 (577/2632) /content/main (1).mp4: 384x640 (no detections), 13.0ms\n",
            "video 1/1 (578/2632) /content/main (1).mp4: 384x640 (no detections), 9.4ms\n",
            "video 1/1 (579/2632) /content/main (1).mp4: 384x640 (no detections), 10.4ms\n",
            "video 1/1 (580/2632) /content/main (1).mp4: 384x640 (no detections), 9.4ms\n",
            "video 1/1 (581/2632) /content/main (1).mp4: 384x640 (no detections), 10.7ms\n",
            "video 1/1 (582/2632) /content/main (1).mp4: 384x640 (no detections), 11.6ms\n",
            "video 1/1 (583/2632) /content/main (1).mp4: 384x640 (no detections), 9.1ms\n",
            "video 1/1 (584/2632) /content/main (1).mp4: 384x640 (no detections), 8.7ms\n",
            "video 1/1 (585/2632) /content/main (1).mp4: 384x640 (no detections), 8.9ms\n",
            "video 1/1 (586/2632) /content/main (1).mp4: 384x640 (no detections), 8.9ms\n",
            "video 1/1 (587/2632) /content/main (1).mp4: 384x640 (no detections), 8.8ms\n",
            "video 1/1 (588/2632) /content/main (1).mp4: 384x640 (no detections), 8.8ms\n",
            "video 1/1 (589/2632) /content/main (1).mp4: 384x640 (no detections), 8.5ms\n",
            "video 1/1 (590/2632) /content/main (1).mp4: 384x640 (no detections), 9.2ms\n",
            "video 1/1 (591/2632) /content/main (1).mp4: 384x640 (no detections), 8.8ms\n",
            "video 1/1 (592/2632) /content/main (1).mp4: 384x640 (no detections), 8.6ms\n",
            "video 1/1 (593/2632) /content/main (1).mp4: 384x640 (no detections), 9.0ms\n",
            "video 1/1 (594/2632) /content/main (1).mp4: 384x640 (no detections), 9.4ms\n",
            "video 1/1 (595/2632) /content/main (1).mp4: 384x640 (no detections), 8.9ms\n",
            "video 1/1 (596/2632) /content/main (1).mp4: 384x640 (no detections), 9.9ms\n",
            "video 1/1 (597/2632) /content/main (1).mp4: 384x640 (no detections), 11.1ms\n",
            "video 1/1 (598/2632) /content/main (1).mp4: 384x640 (no detections), 9.8ms\n",
            "video 1/1 (599/2632) /content/main (1).mp4: 384x640 (no detections), 11.2ms\n",
            "video 1/1 (600/2632) /content/main (1).mp4: 384x640 (no detections), 15.3ms\n",
            "video 1/1 (601/2632) /content/main (1).mp4: 384x640 (no detections), 13.4ms\n",
            "video 1/1 (602/2632) /content/main (1).mp4: 384x640 (no detections), 11.1ms\n",
            "video 1/1 (603/2632) /content/main (1).mp4: 384x640 (no detections), 8.9ms\n",
            "video 1/1 (604/2632) /content/main (1).mp4: 384x640 (no detections), 9.1ms\n",
            "video 1/1 (605/2632) /content/main (1).mp4: 384x640 (no detections), 9.0ms\n",
            "video 1/1 (606/2632) /content/main (1).mp4: 384x640 (no detections), 8.7ms\n",
            "video 1/1 (607/2632) /content/main (1).mp4: 384x640 (no detections), 8.7ms\n",
            "video 1/1 (608/2632) /content/main (1).mp4: 384x640 (no detections), 10.1ms\n",
            "video 1/1 (609/2632) /content/main (1).mp4: 384x640 (no detections), 11.9ms\n",
            "video 1/1 (610/2632) /content/main (1).mp4: 384x640 (no detections), 10.0ms\n",
            "video 1/1 (611/2632) /content/main (1).mp4: 384x640 (no detections), 9.3ms\n",
            "video 1/1 (612/2632) /content/main (1).mp4: 384x640 (no detections), 11.8ms\n",
            "video 1/1 (613/2632) /content/main (1).mp4: 384x640 (no detections), 9.3ms\n",
            "video 1/1 (614/2632) /content/main (1).mp4: 384x640 (no detections), 8.8ms\n",
            "video 1/1 (615/2632) /content/main (1).mp4: 384x640 (no detections), 8.7ms\n",
            "video 1/1 (616/2632) /content/main (1).mp4: 384x640 (no detections), 11.1ms\n",
            "video 1/1 (617/2632) /content/main (1).mp4: 384x640 (no detections), 8.6ms\n",
            "video 1/1 (618/2632) /content/main (1).mp4: 384x640 (no detections), 8.5ms\n",
            "video 1/1 (619/2632) /content/main (1).mp4: 384x640 (no detections), 8.8ms\n",
            "video 1/1 (620/2632) /content/main (1).mp4: 384x640 (no detections), 8.8ms\n",
            "video 1/1 (621/2632) /content/main (1).mp4: 384x640 (no detections), 8.7ms\n",
            "video 1/1 (622/2632) /content/main (1).mp4: 384x640 (no detections), 9.1ms\n",
            "video 1/1 (623/2632) /content/main (1).mp4: 384x640 (no detections), 8.9ms\n",
            "video 1/1 (624/2632) /content/main (1).mp4: 384x640 (no detections), 8.7ms\n",
            "video 1/1 (625/2632) /content/main (1).mp4: 384x640 (no detections), 8.6ms\n",
            "video 1/1 (626/2632) /content/main (1).mp4: 384x640 (no detections), 8.8ms\n",
            "video 1/1 (627/2632) /content/main (1).mp4: 384x640 (no detections), 9.1ms\n",
            "video 1/1 (628/2632) /content/main (1).mp4: 384x640 (no detections), 8.7ms\n",
            "video 1/1 (629/2632) /content/main (1).mp4: 384x640 (no detections), 8.6ms\n",
            "video 1/1 (630/2632) /content/main (1).mp4: 384x640 (no detections), 8.7ms\n",
            "video 1/1 (631/2632) /content/main (1).mp4: 384x640 (no detections), 11.9ms\n",
            "video 1/1 (632/2632) /content/main (1).mp4: 384x640 (no detections), 8.4ms\n",
            "video 1/1 (633/2632) /content/main (1).mp4: 384x640 (no detections), 8.6ms\n",
            "video 1/1 (634/2632) /content/main (1).mp4: 384x640 (no detections), 8.9ms\n",
            "video 1/1 (635/2632) /content/main (1).mp4: 384x640 (no detections), 8.7ms\n",
            "video 1/1 (636/2632) /content/main (1).mp4: 384x640 (no detections), 8.8ms\n",
            "video 1/1 (637/2632) /content/main (1).mp4: 384x640 (no detections), 8.8ms\n",
            "video 1/1 (638/2632) /content/main (1).mp4: 384x640 (no detections), 15.4ms\n",
            "video 1/1 (639/2632) /content/main (1).mp4: 384x640 (no detections), 10.1ms\n",
            "video 1/1 (640/2632) /content/main (1).mp4: 384x640 (no detections), 8.8ms\n",
            "video 1/1 (641/2632) /content/main (1).mp4: 384x640 (no detections), 8.6ms\n",
            "video 1/1 (642/2632) /content/main (1).mp4: 384x640 (no detections), 9.0ms\n",
            "video 1/1 (643/2632) /content/main (1).mp4: 384x640 (no detections), 8.4ms\n",
            "video 1/1 (644/2632) /content/main (1).mp4: 384x640 (no detections), 8.7ms\n",
            "video 1/1 (645/2632) /content/main (1).mp4: 384x640 (no detections), 8.7ms\n",
            "video 1/1 (646/2632) /content/main (1).mp4: 384x640 (no detections), 11.3ms\n",
            "video 1/1 (647/2632) /content/main (1).mp4: 384x640 (no detections), 11.2ms\n",
            "video 1/1 (648/2632) /content/main (1).mp4: 384x640 (no detections), 11.1ms\n",
            "video 1/1 (649/2632) /content/main (1).mp4: 384x640 (no detections), 8.5ms\n",
            "video 1/1 (650/2632) /content/main (1).mp4: 384x640 (no detections), 8.9ms\n",
            "video 1/1 (651/2632) /content/main (1).mp4: 384x640 (no detections), 10.1ms\n",
            "video 1/1 (652/2632) /content/main (1).mp4: 384x640 (no detections), 8.8ms\n",
            "video 1/1 (653/2632) /content/main (1).mp4: 384x640 (no detections), 11.2ms\n",
            "video 1/1 (654/2632) /content/main (1).mp4: 384x640 (no detections), 9.4ms\n",
            "video 1/1 (655/2632) /content/main (1).mp4: 384x640 (no detections), 8.9ms\n",
            "video 1/1 (656/2632) /content/main (1).mp4: 384x640 (no detections), 8.5ms\n",
            "video 1/1 (657/2632) /content/main (1).mp4: 384x640 (no detections), 8.9ms\n",
            "video 1/1 (658/2632) /content/main (1).mp4: 384x640 (no detections), 8.6ms\n",
            "video 1/1 (659/2632) /content/main (1).mp4: 384x640 (no detections), 8.7ms\n",
            "video 1/1 (660/2632) /content/main (1).mp4: 384x640 (no detections), 8.5ms\n",
            "video 1/1 (661/2632) /content/main (1).mp4: 384x640 (no detections), 9.0ms\n",
            "video 1/1 (662/2632) /content/main (1).mp4: 384x640 (no detections), 9.5ms\n",
            "video 1/1 (663/2632) /content/main (1).mp4: 384x640 (no detections), 8.6ms\n",
            "video 1/1 (664/2632) /content/main (1).mp4: 384x640 (no detections), 8.4ms\n",
            "video 1/1 (665/2632) /content/main (1).mp4: 384x640 (no detections), 8.9ms\n",
            "video 1/1 (666/2632) /content/main (1).mp4: 384x640 (no detections), 9.6ms\n",
            "video 1/1 (667/2632) /content/main (1).mp4: 384x640 (no detections), 10.4ms\n",
            "video 1/1 (668/2632) /content/main (1).mp4: 384x640 (no detections), 9.1ms\n",
            "video 1/1 (669/2632) /content/main (1).mp4: 384x640 (no detections), 9.1ms\n",
            "video 1/1 (670/2632) /content/main (1).mp4: 384x640 (no detections), 8.5ms\n",
            "video 1/1 (671/2632) /content/main (1).mp4: 384x640 (no detections), 9.0ms\n",
            "video 1/1 (672/2632) /content/main (1).mp4: 384x640 (no detections), 8.6ms\n",
            "video 1/1 (673/2632) /content/main (1).mp4: 384x640 (no detections), 9.2ms\n",
            "video 1/1 (674/2632) /content/main (1).mp4: 384x640 (no detections), 8.8ms\n",
            "video 1/1 (675/2632) /content/main (1).mp4: 384x640 (no detections), 9.6ms\n",
            "video 1/1 (676/2632) /content/main (1).mp4: 384x640 (no detections), 9.0ms\n",
            "video 1/1 (677/2632) /content/main (1).mp4: 384x640 (no detections), 8.6ms\n",
            "video 1/1 (678/2632) /content/main (1).mp4: 384x640 (no detections), 8.7ms\n",
            "video 1/1 (679/2632) /content/main (1).mp4: 384x640 (no detections), 8.7ms\n",
            "video 1/1 (680/2632) /content/main (1).mp4: 384x640 (no detections), 8.7ms\n",
            "video 1/1 (681/2632) /content/main (1).mp4: 384x640 (no detections), 8.9ms\n",
            "video 1/1 (682/2632) /content/main (1).mp4: 384x640 (no detections), 12.5ms\n",
            "video 1/1 (683/2632) /content/main (1).mp4: 384x640 (no detections), 10.1ms\n",
            "video 1/1 (684/2632) /content/main (1).mp4: 384x640 (no detections), 9.4ms\n",
            "video 1/1 (685/2632) /content/main (1).mp4: 384x640 (no detections), 11.2ms\n",
            "video 1/1 (686/2632) /content/main (1).mp4: 384x640 (no detections), 9.2ms\n",
            "video 1/1 (687/2632) /content/main (1).mp4: 384x640 (no detections), 9.5ms\n",
            "video 1/1 (688/2632) /content/main (1).mp4: 384x640 (no detections), 12.7ms\n",
            "video 1/1 (689/2632) /content/main (1).mp4: 384x640 (no detections), 9.6ms\n",
            "video 1/1 (690/2632) /content/main (1).mp4: 384x640 (no detections), 10.0ms\n",
            "video 1/1 (691/2632) /content/main (1).mp4: 384x640 (no detections), 9.5ms\n",
            "video 1/1 (692/2632) /content/main (1).mp4: 384x640 (no detections), 10.1ms\n",
            "video 1/1 (693/2632) /content/main (1).mp4: 384x640 (no detections), 9.9ms\n",
            "video 1/1 (694/2632) /content/main (1).mp4: 384x640 (no detections), 11.0ms\n",
            "video 1/1 (695/2632) /content/main (1).mp4: 384x640 (no detections), 9.6ms\n",
            "video 1/1 (696/2632) /content/main (1).mp4: 384x640 (no detections), 8.4ms\n",
            "video 1/1 (697/2632) /content/main (1).mp4: 384x640 (no detections), 12.5ms\n",
            "video 1/1 (698/2632) /content/main (1).mp4: 384x640 (no detections), 8.5ms\n",
            "video 1/1 (699/2632) /content/main (1).mp4: 384x640 (no detections), 10.1ms\n",
            "video 1/1 (700/2632) /content/main (1).mp4: 384x640 (no detections), 8.8ms\n",
            "video 1/1 (701/2632) /content/main (1).mp4: 384x640 (no detections), 8.6ms\n",
            "video 1/1 (702/2632) /content/main (1).mp4: 384x640 (no detections), 8.5ms\n",
            "video 1/1 (703/2632) /content/main (1).mp4: 384x640 (no detections), 9.8ms\n",
            "video 1/1 (704/2632) /content/main (1).mp4: 384x640 (no detections), 8.6ms\n",
            "video 1/1 (705/2632) /content/main (1).mp4: 384x640 (no detections), 9.1ms\n",
            "video 1/1 (706/2632) /content/main (1).mp4: 384x640 (no detections), 13.9ms\n",
            "video 1/1 (707/2632) /content/main (1).mp4: 384x640 (no detections), 9.2ms\n",
            "video 1/1 (708/2632) /content/main (1).mp4: 384x640 (no detections), 9.2ms\n",
            "video 1/1 (709/2632) /content/main (1).mp4: 384x640 (no detections), 10.0ms\n",
            "video 1/1 (710/2632) /content/main (1).mp4: 384x640 (no detections), 9.9ms\n",
            "video 1/1 (711/2632) /content/main (1).mp4: 384x640 (no detections), 10.6ms\n",
            "video 1/1 (712/2632) /content/main (1).mp4: 384x640 (no detections), 9.1ms\n",
            "video 1/1 (713/2632) /content/main (1).mp4: 384x640 (no detections), 10.8ms\n",
            "video 1/1 (714/2632) /content/main (1).mp4: 384x640 (no detections), 9.0ms\n",
            "video 1/1 (715/2632) /content/main (1).mp4: 384x640 (no detections), 10.0ms\n",
            "video 1/1 (716/2632) /content/main (1).mp4: 384x640 (no detections), 9.2ms\n",
            "video 1/1 (717/2632) /content/main (1).mp4: 384x640 (no detections), 10.9ms\n",
            "video 1/1 (718/2632) /content/main (1).mp4: 384x640 (no detections), 10.8ms\n",
            "video 1/1 (719/2632) /content/main (1).mp4: 384x640 (no detections), 11.7ms\n",
            "video 1/1 (720/2632) /content/main (1).mp4: 384x640 (no detections), 11.7ms\n",
            "video 1/1 (721/2632) /content/main (1).mp4: 384x640 (no detections), 8.5ms\n",
            "video 1/1 (722/2632) /content/main (1).mp4: 384x640 (no detections), 8.7ms\n",
            "video 1/1 (723/2632) /content/main (1).mp4: 384x640 (no detections), 8.8ms\n",
            "video 1/1 (724/2632) /content/main (1).mp4: 384x640 (no detections), 8.5ms\n",
            "video 1/1 (725/2632) /content/main (1).mp4: 384x640 (no detections), 9.7ms\n",
            "video 1/1 (726/2632) /content/main (1).mp4: 384x640 (no detections), 8.9ms\n",
            "video 1/1 (727/2632) /content/main (1).mp4: 384x640 (no detections), 8.6ms\n",
            "video 1/1 (728/2632) /content/main (1).mp4: 384x640 (no detections), 9.1ms\n",
            "video 1/1 (729/2632) /content/main (1).mp4: 384x640 (no detections), 8.6ms\n",
            "video 1/1 (730/2632) /content/main (1).mp4: 384x640 (no detections), 8.7ms\n",
            "video 1/1 (731/2632) /content/main (1).mp4: 384x640 (no detections), 8.4ms\n",
            "video 1/1 (732/2632) /content/main (1).mp4: 384x640 (no detections), 9.9ms\n",
            "video 1/1 (733/2632) /content/main (1).mp4: 384x640 (no detections), 10.4ms\n",
            "video 1/1 (734/2632) /content/main (1).mp4: 384x640 (no detections), 15.8ms\n",
            "video 1/1 (735/2632) /content/main (1).mp4: 384x640 (no detections), 10.5ms\n",
            "video 1/1 (736/2632) /content/main (1).mp4: 384x640 (no detections), 9.0ms\n",
            "video 1/1 (737/2632) /content/main (1).mp4: 384x640 (no detections), 9.0ms\n",
            "video 1/1 (738/2632) /content/main (1).mp4: 384x640 (no detections), 9.6ms\n",
            "video 1/1 (739/2632) /content/main (1).mp4: 384x640 (no detections), 8.9ms\n",
            "video 1/1 (740/2632) /content/main (1).mp4: 384x640 (no detections), 9.1ms\n",
            "video 1/1 (741/2632) /content/main (1).mp4: 384x640 (no detections), 8.9ms\n",
            "video 1/1 (742/2632) /content/main (1).mp4: 384x640 (no detections), 8.8ms\n",
            "video 1/1 (743/2632) /content/main (1).mp4: 384x640 (no detections), 9.5ms\n",
            "video 1/1 (744/2632) /content/main (1).mp4: 384x640 (no detections), 10.8ms\n",
            "video 1/1 (745/2632) /content/main (1).mp4: 384x640 (no detections), 9.6ms\n",
            "video 1/1 (746/2632) /content/main (1).mp4: 384x640 (no detections), 16.5ms\n",
            "video 1/1 (747/2632) /content/main (1).mp4: 384x640 (no detections), 11.3ms\n",
            "video 1/1 (748/2632) /content/main (1).mp4: 384x640 (no detections), 9.2ms\n",
            "video 1/1 (749/2632) /content/main (1).mp4: 384x640 (no detections), 10.8ms\n",
            "video 1/1 (750/2632) /content/main (1).mp4: 384x640 (no detections), 10.5ms\n",
            "video 1/1 (751/2632) /content/main (1).mp4: 384x640 (no detections), 11.7ms\n",
            "video 1/1 (752/2632) /content/main (1).mp4: 384x640 (no detections), 12.8ms\n",
            "video 1/1 (753/2632) /content/main (1).mp4: 384x640 (no detections), 10.0ms\n",
            "video 1/1 (754/2632) /content/main (1).mp4: 384x640 (no detections), 10.4ms\n",
            "video 1/1 (755/2632) /content/main (1).mp4: 384x640 (no detections), 8.4ms\n",
            "video 1/1 (756/2632) /content/main (1).mp4: 384x640 (no detections), 8.8ms\n",
            "video 1/1 (757/2632) /content/main (1).mp4: 384x640 (no detections), 8.5ms\n",
            "video 1/1 (758/2632) /content/main (1).mp4: 384x640 (no detections), 8.3ms\n",
            "video 1/1 (759/2632) /content/main (1).mp4: 384x640 (no detections), 11.0ms\n",
            "video 1/1 (760/2632) /content/main (1).mp4: 384x640 (no detections), 8.7ms\n",
            "video 1/1 (761/2632) /content/main (1).mp4: 384x640 (no detections), 9.8ms\n",
            "video 1/1 (762/2632) /content/main (1).mp4: 384x640 (no detections), 8.5ms\n",
            "video 1/1 (763/2632) /content/main (1).mp4: 384x640 (no detections), 8.4ms\n",
            "video 1/1 (764/2632) /content/main (1).mp4: 384x640 (no detections), 11.0ms\n",
            "video 1/1 (765/2632) /content/main (1).mp4: 384x640 (no detections), 11.7ms\n",
            "video 1/1 (766/2632) /content/main (1).mp4: 384x640 (no detections), 8.9ms\n",
            "video 1/1 (767/2632) /content/main (1).mp4: 384x640 (no detections), 11.7ms\n",
            "video 1/1 (768/2632) /content/main (1).mp4: 384x640 (no detections), 11.7ms\n",
            "video 1/1 (769/2632) /content/main (1).mp4: 384x640 (no detections), 12.5ms\n",
            "video 1/1 (770/2632) /content/main (1).mp4: 384x640 (no detections), 8.5ms\n",
            "video 1/1 (771/2632) /content/main (1).mp4: 384x640 (no detections), 8.7ms\n",
            "video 1/1 (772/2632) /content/main (1).mp4: 384x640 (no detections), 8.4ms\n",
            "video 1/1 (773/2632) /content/main (1).mp4: 384x640 (no detections), 8.7ms\n",
            "video 1/1 (774/2632) /content/main (1).mp4: 384x640 (no detections), 8.9ms\n",
            "video 1/1 (775/2632) /content/main (1).mp4: 384x640 (no detections), 9.2ms\n",
            "video 1/1 (776/2632) /content/main (1).mp4: 384x640 (no detections), 8.6ms\n",
            "video 1/1 (777/2632) /content/main (1).mp4: 384x640 (no detections), 9.0ms\n",
            "video 1/1 (778/2632) /content/main (1).mp4: 384x640 (no detections), 12.1ms\n",
            "video 1/1 (779/2632) /content/main (1).mp4: 384x640 (no detections), 9.0ms\n",
            "video 1/1 (780/2632) /content/main (1).mp4: 384x640 (no detections), 9.1ms\n",
            "video 1/1 (781/2632) /content/main (1).mp4: 384x640 (no detections), 9.9ms\n",
            "video 1/1 (782/2632) /content/main (1).mp4: 384x640 (no detections), 9.4ms\n",
            "video 1/1 (783/2632) /content/main (1).mp4: 384x640 (no detections), 9.5ms\n",
            "video 1/1 (784/2632) /content/main (1).mp4: 384x640 (no detections), 9.2ms\n",
            "video 1/1 (785/2632) /content/main (1).mp4: 384x640 (no detections), 11.5ms\n",
            "video 1/1 (786/2632) /content/main (1).mp4: 384x640 (no detections), 11.7ms\n",
            "video 1/1 (787/2632) /content/main (1).mp4: 384x640 (no detections), 10.9ms\n",
            "video 1/1 (788/2632) /content/main (1).mp4: 384x640 (no detections), 9.6ms\n",
            "video 1/1 (789/2632) /content/main (1).mp4: 384x640 (no detections), 9.1ms\n",
            "video 1/1 (790/2632) /content/main (1).mp4: 384x640 (no detections), 8.7ms\n",
            "video 1/1 (791/2632) /content/main (1).mp4: 384x640 (no detections), 8.4ms\n",
            "video 1/1 (792/2632) /content/main (1).mp4: 384x640 (no detections), 9.2ms\n",
            "video 1/1 (793/2632) /content/main (1).mp4: 384x640 (no detections), 8.6ms\n",
            "video 1/1 (794/2632) /content/main (1).mp4: 384x640 (no detections), 10.9ms\n",
            "video 1/1 (795/2632) /content/main (1).mp4: 384x640 (no detections), 8.9ms\n",
            "video 1/1 (796/2632) /content/main (1).mp4: 384x640 (no detections), 9.1ms\n",
            "video 1/1 (797/2632) /content/main (1).mp4: 384x640 (no detections), 10.5ms\n",
            "video 1/1 (798/2632) /content/main (1).mp4: 384x640 (no detections), 8.8ms\n",
            "video 1/1 (799/2632) /content/main (1).mp4: 384x640 (no detections), 9.7ms\n",
            "video 1/1 (800/2632) /content/main (1).mp4: 384x640 (no detections), 10.2ms\n",
            "video 1/1 (801/2632) /content/main (1).mp4: 384x640 (no detections), 12.9ms\n",
            "video 1/1 (802/2632) /content/main (1).mp4: 384x640 (no detections), 10.9ms\n",
            "video 1/1 (803/2632) /content/main (1).mp4: 384x640 (no detections), 8.5ms\n",
            "video 1/1 (804/2632) /content/main (1).mp4: 384x640 (no detections), 9.7ms\n",
            "video 1/1 (805/2632) /content/main (1).mp4: 384x640 (no detections), 8.9ms\n",
            "video 1/1 (806/2632) /content/main (1).mp4: 384x640 (no detections), 9.1ms\n",
            "video 1/1 (807/2632) /content/main (1).mp4: 384x640 (no detections), 10.3ms\n",
            "video 1/1 (808/2632) /content/main (1).mp4: 384x640 (no detections), 8.8ms\n",
            "video 1/1 (809/2632) /content/main (1).mp4: 384x640 (no detections), 10.8ms\n",
            "video 1/1 (810/2632) /content/main (1).mp4: 384x640 (no detections), 9.2ms\n",
            "video 1/1 (811/2632) /content/main (1).mp4: 384x640 (no detections), 10.9ms\n",
            "video 1/1 (812/2632) /content/main (1).mp4: 384x640 (no detections), 8.6ms\n",
            "video 1/1 (813/2632) /content/main (1).mp4: 384x640 (no detections), 9.9ms\n",
            "video 1/1 (814/2632) /content/main (1).mp4: 384x640 (no detections), 10.1ms\n",
            "video 1/1 (815/2632) /content/main (1).mp4: 384x640 (no detections), 10.1ms\n",
            "video 1/1 (816/2632) /content/main (1).mp4: 384x640 (no detections), 11.6ms\n",
            "video 1/1 (817/2632) /content/main (1).mp4: 384x640 (no detections), 19.4ms\n",
            "video 1/1 (818/2632) /content/main (1).mp4: 384x640 (no detections), 9.3ms\n",
            "video 1/1 (819/2632) /content/main (1).mp4: 384x640 (no detections), 10.0ms\n",
            "video 1/1 (820/2632) /content/main (1).mp4: 384x640 (no detections), 9.9ms\n",
            "video 1/1 (821/2632) /content/main (1).mp4: 384x640 (no detections), 12.1ms\n",
            "video 1/1 (822/2632) /content/main (1).mp4: 384x640 (no detections), 9.0ms\n",
            "video 1/1 (823/2632) /content/main (1).mp4: 384x640 (no detections), 9.2ms\n",
            "video 1/1 (824/2632) /content/main (1).mp4: 384x640 (no detections), 8.9ms\n",
            "video 1/1 (825/2632) /content/main (1).mp4: 384x640 (no detections), 8.5ms\n",
            "video 1/1 (826/2632) /content/main (1).mp4: 384x640 (no detections), 9.8ms\n",
            "video 1/1 (827/2632) /content/main (1).mp4: 384x640 (no detections), 8.3ms\n",
            "video 1/1 (828/2632) /content/main (1).mp4: 384x640 (no detections), 8.4ms\n",
            "video 1/1 (829/2632) /content/main (1).mp4: 384x640 (no detections), 8.5ms\n",
            "video 1/1 (830/2632) /content/main (1).mp4: 384x640 (no detections), 9.6ms\n",
            "video 1/1 (831/2632) /content/main (1).mp4: 384x640 (no detections), 10.4ms\n",
            "video 1/1 (832/2632) /content/main (1).mp4: 384x640 (no detections), 10.8ms\n",
            "video 1/1 (833/2632) /content/main (1).mp4: 384x640 (no detections), 8.5ms\n",
            "video 1/1 (834/2632) /content/main (1).mp4: 384x640 (no detections), 8.4ms\n",
            "video 1/1 (835/2632) /content/main (1).mp4: 384x640 (no detections), 8.7ms\n",
            "video 1/1 (836/2632) /content/main (1).mp4: 384x640 (no detections), 9.4ms\n",
            "video 1/1 (837/2632) /content/main (1).mp4: 384x640 (no detections), 8.7ms\n",
            "video 1/1 (838/2632) /content/main (1).mp4: 384x640 (no detections), 9.2ms\n",
            "video 1/1 (839/2632) /content/main (1).mp4: 384x640 (no detections), 9.5ms\n",
            "video 1/1 (840/2632) /content/main (1).mp4: 384x640 (no detections), 8.9ms\n",
            "video 1/1 (841/2632) /content/main (1).mp4: 384x640 (no detections), 11.1ms\n",
            "video 1/1 (842/2632) /content/main (1).mp4: 384x640 (no detections), 10.9ms\n",
            "video 1/1 (843/2632) /content/main (1).mp4: 384x640 (no detections), 10.0ms\n",
            "video 1/1 (844/2632) /content/main (1).mp4: 384x640 (no detections), 9.1ms\n",
            "video 1/1 (845/2632) /content/main (1).mp4: 384x640 (no detections), 8.8ms\n",
            "video 1/1 (846/2632) /content/main (1).mp4: 384x640 (no detections), 8.9ms\n",
            "video 1/1 (847/2632) /content/main (1).mp4: 384x640 (no detections), 10.3ms\n",
            "video 1/1 (848/2632) /content/main (1).mp4: 384x640 (no detections), 10.7ms\n",
            "video 1/1 (849/2632) /content/main (1).mp4: 384x640 (no detections), 14.6ms\n",
            "video 1/1 (850/2632) /content/main (1).mp4: 384x640 (no detections), 9.0ms\n",
            "video 1/1 (851/2632) /content/main (1).mp4: 384x640 (no detections), 9.2ms\n",
            "video 1/1 (852/2632) /content/main (1).mp4: 384x640 (no detections), 14.1ms\n",
            "video 1/1 (853/2632) /content/main (1).mp4: 384x640 (no detections), 9.6ms\n",
            "video 1/1 (854/2632) /content/main (1).mp4: 384x640 (no detections), 8.5ms\n",
            "video 1/1 (855/2632) /content/main (1).mp4: 384x640 (no detections), 8.6ms\n",
            "video 1/1 (856/2632) /content/main (1).mp4: 384x640 (no detections), 8.9ms\n",
            "video 1/1 (857/2632) /content/main (1).mp4: 384x640 (no detections), 11.7ms\n",
            "video 1/1 (858/2632) /content/main (1).mp4: 384x640 (no detections), 9.1ms\n",
            "video 1/1 (859/2632) /content/main (1).mp4: 384x640 (no detections), 9.5ms\n",
            "video 1/1 (860/2632) /content/main (1).mp4: 384x640 (no detections), 10.2ms\n",
            "video 1/1 (861/2632) /content/main (1).mp4: 384x640 (no detections), 10.6ms\n",
            "video 1/1 (862/2632) /content/main (1).mp4: 384x640 (no detections), 9.8ms\n",
            "video 1/1 (863/2632) /content/main (1).mp4: 384x640 (no detections), 15.2ms\n",
            "video 1/1 (864/2632) /content/main (1).mp4: 384x640 (no detections), 14.6ms\n",
            "video 1/1 (865/2632) /content/main (1).mp4: 384x640 (no detections), 16.0ms\n",
            "video 1/1 (866/2632) /content/main (1).mp4: 384x640 (no detections), 13.5ms\n",
            "video 1/1 (867/2632) /content/main (1).mp4: 384x640 (no detections), 12.3ms\n",
            "video 1/1 (868/2632) /content/main (1).mp4: 384x640 (no detections), 13.6ms\n",
            "video 1/1 (869/2632) /content/main (1).mp4: 384x640 (no detections), 13.4ms\n",
            "video 1/1 (870/2632) /content/main (1).mp4: 384x640 (no detections), 12.8ms\n",
            "video 1/1 (871/2632) /content/main (1).mp4: 384x640 (no detections), 12.6ms\n",
            "video 1/1 (872/2632) /content/main (1).mp4: 384x640 (no detections), 11.0ms\n",
            "video 1/1 (873/2632) /content/main (1).mp4: 384x640 (no detections), 11.3ms\n",
            "video 1/1 (874/2632) /content/main (1).mp4: 384x640 (no detections), 15.6ms\n",
            "video 1/1 (875/2632) /content/main (1).mp4: 384x640 (no detections), 13.8ms\n",
            "video 1/1 (876/2632) /content/main (1).mp4: 384x640 (no detections), 14.6ms\n",
            "video 1/1 (877/2632) /content/main (1).mp4: 384x640 (no detections), 11.2ms\n",
            "video 1/1 (878/2632) /content/main (1).mp4: 384x640 (no detections), 20.5ms\n",
            "video 1/1 (879/2632) /content/main (1).mp4: 384x640 (no detections), 20.4ms\n",
            "video 1/1 (880/2632) /content/main (1).mp4: 384x640 (no detections), 14.0ms\n",
            "video 1/1 (881/2632) /content/main (1).mp4: 384x640 (no detections), 16.8ms\n",
            "video 1/1 (882/2632) /content/main (1).mp4: 384x640 (no detections), 12.3ms\n",
            "video 1/1 (883/2632) /content/main (1).mp4: 384x640 (no detections), 11.3ms\n",
            "video 1/1 (884/2632) /content/main (1).mp4: 384x640 (no detections), 10.8ms\n",
            "video 1/1 (885/2632) /content/main (1).mp4: 384x640 (no detections), 10.6ms\n",
            "video 1/1 (886/2632) /content/main (1).mp4: 384x640 (no detections), 10.6ms\n",
            "video 1/1 (887/2632) /content/main (1).mp4: 384x640 (no detections), 12.8ms\n",
            "video 1/1 (888/2632) /content/main (1).mp4: 384x640 (no detections), 11.3ms\n",
            "video 1/1 (889/2632) /content/main (1).mp4: 384x640 (no detections), 11.3ms\n",
            "video 1/1 (890/2632) /content/main (1).mp4: 384x640 (no detections), 17.0ms\n",
            "video 1/1 (891/2632) /content/main (1).mp4: 384x640 (no detections), 13.8ms\n",
            "video 1/1 (892/2632) /content/main (1).mp4: 384x640 (no detections), 12.2ms\n",
            "video 1/1 (893/2632) /content/main (1).mp4: 384x640 (no detections), 20.1ms\n",
            "video 1/1 (894/2632) /content/main (1).mp4: 384x640 (no detections), 17.1ms\n",
            "video 1/1 (895/2632) /content/main (1).mp4: 384x640 (no detections), 14.8ms\n",
            "video 1/1 (896/2632) /content/main (1).mp4: 384x640 (no detections), 18.2ms\n",
            "video 1/1 (897/2632) /content/main (1).mp4: 384x640 (no detections), 24.3ms\n",
            "video 1/1 (898/2632) /content/main (1).mp4: 384x640 (no detections), 17.6ms\n",
            "video 1/1 (899/2632) /content/main (1).mp4: 384x640 (no detections), 13.7ms\n",
            "video 1/1 (900/2632) /content/main (1).mp4: 384x640 (no detections), 13.7ms\n",
            "video 1/1 (901/2632) /content/main (1).mp4: 384x640 (no detections), 12.3ms\n",
            "video 1/1 (902/2632) /content/main (1).mp4: 384x640 (no detections), 13.3ms\n",
            "video 1/1 (903/2632) /content/main (1).mp4: 384x640 (no detections), 13.1ms\n",
            "video 1/1 (904/2632) /content/main (1).mp4: 384x640 (no detections), 13.1ms\n",
            "video 1/1 (905/2632) /content/main (1).mp4: 384x640 (no detections), 17.3ms\n",
            "video 1/1 (906/2632) /content/main (1).mp4: 384x640 (no detections), 14.9ms\n",
            "video 1/1 (907/2632) /content/main (1).mp4: 384x640 (no detections), 12.5ms\n",
            "video 1/1 (908/2632) /content/main (1).mp4: 384x640 (no detections), 15.9ms\n",
            "video 1/1 (909/2632) /content/main (1).mp4: 384x640 (no detections), 13.2ms\n",
            "video 1/1 (910/2632) /content/main (1).mp4: 384x640 (no detections), 13.0ms\n",
            "video 1/1 (911/2632) /content/main (1).mp4: 384x640 (no detections), 13.9ms\n",
            "video 1/1 (912/2632) /content/main (1).mp4: 384x640 (no detections), 14.4ms\n",
            "video 1/1 (913/2632) /content/main (1).mp4: 384x640 (no detections), 13.3ms\n",
            "video 1/1 (914/2632) /content/main (1).mp4: 384x640 (no detections), 13.6ms\n",
            "video 1/1 (915/2632) /content/main (1).mp4: 384x640 (no detections), 12.4ms\n",
            "video 1/1 (916/2632) /content/main (1).mp4: 384x640 (no detections), 14.1ms\n",
            "video 1/1 (917/2632) /content/main (1).mp4: 384x640 (no detections), 11.4ms\n",
            "video 1/1 (918/2632) /content/main (1).mp4: 384x640 (no detections), 10.8ms\n",
            "video 1/1 (919/2632) /content/main (1).mp4: 384x640 (no detections), 11.9ms\n",
            "video 1/1 (920/2632) /content/main (1).mp4: 384x640 (no detections), 14.0ms\n",
            "video 1/1 (921/2632) /content/main (1).mp4: 384x640 (no detections), 12.1ms\n",
            "video 1/1 (922/2632) /content/main (1).mp4: 384x640 (no detections), 11.4ms\n",
            "video 1/1 (923/2632) /content/main (1).mp4: 384x640 (no detections), 12.3ms\n",
            "video 1/1 (924/2632) /content/main (1).mp4: 384x640 (no detections), 10.6ms\n",
            "video 1/1 (925/2632) /content/main (1).mp4: 384x640 (no detections), 10.8ms\n",
            "video 1/1 (926/2632) /content/main (1).mp4: 384x640 (no detections), 11.3ms\n",
            "video 1/1 (927/2632) /content/main (1).mp4: 384x640 (no detections), 15.4ms\n",
            "video 1/1 (928/2632) /content/main (1).mp4: 384x640 (no detections), 13.2ms\n",
            "video 1/1 (929/2632) /content/main (1).mp4: 384x640 (no detections), 14.8ms\n",
            "video 1/1 (930/2632) /content/main (1).mp4: 384x640 (no detections), 17.7ms\n",
            "video 1/1 (931/2632) /content/main (1).mp4: 384x640 (no detections), 16.1ms\n",
            "video 1/1 (932/2632) /content/main (1).mp4: 384x640 (no detections), 14.0ms\n",
            "video 1/1 (933/2632) /content/main (1).mp4: 384x640 (no detections), 14.3ms\n",
            "video 1/1 (934/2632) /content/main (1).mp4: 384x640 (no detections), 10.9ms\n",
            "video 1/1 (935/2632) /content/main (1).mp4: 384x640 (no detections), 15.6ms\n",
            "video 1/1 (936/2632) /content/main (1).mp4: 384x640 (no detections), 20.7ms\n",
            "video 1/1 (937/2632) /content/main (1).mp4: 384x640 (no detections), 15.3ms\n",
            "video 1/1 (938/2632) /content/main (1).mp4: 384x640 (no detections), 13.2ms\n",
            "video 1/1 (939/2632) /content/main (1).mp4: 384x640 (no detections), 14.7ms\n",
            "video 1/1 (940/2632) /content/main (1).mp4: 384x640 (no detections), 18.1ms\n",
            "video 1/1 (941/2632) /content/main (1).mp4: 384x640 (no detections), 15.5ms\n",
            "video 1/1 (942/2632) /content/main (1).mp4: 384x640 (no detections), 25.0ms\n",
            "video 1/1 (943/2632) /content/main (1).mp4: 384x640 (no detections), 37.0ms\n",
            "video 1/1 (944/2632) /content/main (1).mp4: 384x640 (no detections), 16.5ms\n",
            "video 1/1 (945/2632) /content/main (1).mp4: 384x640 (no detections), 16.7ms\n",
            "video 1/1 (946/2632) /content/main (1).mp4: 384x640 (no detections), 17.1ms\n",
            "video 1/1 (947/2632) /content/main (1).mp4: 384x640 (no detections), 16.7ms\n",
            "video 1/1 (948/2632) /content/main (1).mp4: 384x640 (no detections), 10.6ms\n",
            "video 1/1 (949/2632) /content/main (1).mp4: 384x640 (no detections), 8.8ms\n",
            "video 1/1 (950/2632) /content/main (1).mp4: 384x640 (no detections), 10.5ms\n",
            "video 1/1 (951/2632) /content/main (1).mp4: 384x640 (no detections), 11.0ms\n",
            "video 1/1 (952/2632) /content/main (1).mp4: 384x640 (no detections), 13.3ms\n",
            "video 1/1 (953/2632) /content/main (1).mp4: 384x640 (no detections), 9.6ms\n",
            "video 1/1 (954/2632) /content/main (1).mp4: 384x640 (no detections), 8.8ms\n",
            "video 1/1 (955/2632) /content/main (1).mp4: 384x640 (no detections), 11.7ms\n",
            "video 1/1 (956/2632) /content/main (1).mp4: 384x640 (no detections), 10.4ms\n",
            "video 1/1 (957/2632) /content/main (1).mp4: 384x640 (no detections), 14.9ms\n",
            "video 1/1 (958/2632) /content/main (1).mp4: 384x640 (no detections), 14.1ms\n",
            "video 1/1 (959/2632) /content/main (1).mp4: 384x640 (no detections), 9.3ms\n",
            "video 1/1 (960/2632) /content/main (1).mp4: 384x640 (no detections), 11.2ms\n",
            "video 1/1 (961/2632) /content/main (1).mp4: 384x640 (no detections), 10.4ms\n",
            "video 1/1 (962/2632) /content/main (1).mp4: 384x640 (no detections), 12.3ms\n",
            "video 1/1 (963/2632) /content/main (1).mp4: 384x640 (no detections), 11.2ms\n",
            "video 1/1 (964/2632) /content/main (1).mp4: 384x640 (no detections), 9.7ms\n",
            "video 1/1 (965/2632) /content/main (1).mp4: 384x640 (no detections), 8.6ms\n",
            "video 1/1 (966/2632) /content/main (1).mp4: 384x640 (no detections), 13.6ms\n",
            "video 1/1 (967/2632) /content/main (1).mp4: 384x640 (no detections), 10.5ms\n",
            "video 1/1 (968/2632) /content/main (1).mp4: 384x640 (no detections), 10.4ms\n",
            "video 1/1 (969/2632) /content/main (1).mp4: 384x640 (no detections), 8.7ms\n",
            "video 1/1 (970/2632) /content/main (1).mp4: 384x640 (no detections), 8.6ms\n",
            "video 1/1 (971/2632) /content/main (1).mp4: 384x640 (no detections), 8.8ms\n",
            "video 1/1 (972/2632) /content/main (1).mp4: 384x640 (no detections), 8.5ms\n",
            "video 1/1 (973/2632) /content/main (1).mp4: 384x640 (no detections), 9.0ms\n",
            "video 1/1 (974/2632) /content/main (1).mp4: 384x640 (no detections), 11.0ms\n",
            "video 1/1 (975/2632) /content/main (1).mp4: 384x640 (no detections), 12.6ms\n",
            "video 1/1 (976/2632) /content/main (1).mp4: 384x640 (no detections), 12.6ms\n",
            "video 1/1 (977/2632) /content/main (1).mp4: 384x640 (no detections), 9.2ms\n",
            "video 1/1 (978/2632) /content/main (1).mp4: 384x640 (no detections), 10.8ms\n",
            "video 1/1 (979/2632) /content/main (1).mp4: 384x640 (no detections), 10.3ms\n",
            "video 1/1 (980/2632) /content/main (1).mp4: 384x640 (no detections), 10.7ms\n",
            "video 1/1 (981/2632) /content/main (1).mp4: 384x640 (no detections), 13.9ms\n",
            "video 1/1 (982/2632) /content/main (1).mp4: 384x640 (no detections), 11.8ms\n",
            "video 1/1 (983/2632) /content/main (1).mp4: 384x640 (no detections), 10.5ms\n",
            "video 1/1 (984/2632) /content/main (1).mp4: 384x640 (no detections), 10.7ms\n",
            "video 1/1 (985/2632) /content/main (1).mp4: 384x640 (no detections), 11.3ms\n",
            "video 1/1 (986/2632) /content/main (1).mp4: 384x640 (no detections), 12.8ms\n",
            "video 1/1 (987/2632) /content/main (1).mp4: 384x640 (no detections), 10.9ms\n",
            "video 1/1 (988/2632) /content/main (1).mp4: 384x640 (no detections), 10.2ms\n",
            "video 1/1 (989/2632) /content/main (1).mp4: 384x640 (no detections), 15.3ms\n",
            "video 1/1 (990/2632) /content/main (1).mp4: 384x640 (no detections), 13.2ms\n",
            "video 1/1 (991/2632) /content/main (1).mp4: 384x640 (no detections), 9.4ms\n",
            "video 1/1 (992/2632) /content/main (1).mp4: 384x640 (no detections), 9.2ms\n",
            "video 1/1 (993/2632) /content/main (1).mp4: 384x640 (no detections), 8.3ms\n",
            "video 1/1 (994/2632) /content/main (1).mp4: 384x640 (no detections), 8.6ms\n",
            "video 1/1 (995/2632) /content/main (1).mp4: 384x640 (no detections), 11.0ms\n",
            "video 1/1 (996/2632) /content/main (1).mp4: 384x640 (no detections), 11.3ms\n",
            "video 1/1 (997/2632) /content/main (1).mp4: 384x640 (no detections), 12.4ms\n",
            "video 1/1 (998/2632) /content/main (1).mp4: 384x640 (no detections), 11.3ms\n",
            "video 1/1 (999/2632) /content/main (1).mp4: 384x640 (no detections), 8.9ms\n",
            "video 1/1 (1000/2632) /content/main (1).mp4: 384x640 (no detections), 8.6ms\n",
            "video 1/1 (1001/2632) /content/main (1).mp4: 384x640 (no detections), 9.6ms\n",
            "video 1/1 (1002/2632) /content/main (1).mp4: 384x640 (no detections), 8.6ms\n",
            "video 1/1 (1003/2632) /content/main (1).mp4: 384x640 (no detections), 8.8ms\n",
            "video 1/1 (1004/2632) /content/main (1).mp4: 384x640 (no detections), 9.3ms\n",
            "video 1/1 (1005/2632) /content/main (1).mp4: 384x640 (no detections), 9.0ms\n",
            "video 1/1 (1006/2632) /content/main (1).mp4: 384x640 (no detections), 10.9ms\n",
            "video 1/1 (1007/2632) /content/main (1).mp4: 384x640 (no detections), 8.5ms\n",
            "video 1/1 (1008/2632) /content/main (1).mp4: 384x640 (no detections), 10.7ms\n",
            "video 1/1 (1009/2632) /content/main (1).mp4: 384x640 (no detections), 9.1ms\n",
            "video 1/1 (1010/2632) /content/main (1).mp4: 384x640 (no detections), 8.3ms\n",
            "video 1/1 (1011/2632) /content/main (1).mp4: 384x640 (no detections), 9.5ms\n",
            "video 1/1 (1012/2632) /content/main (1).mp4: 384x640 (no detections), 8.8ms\n",
            "video 1/1 (1013/2632) /content/main (1).mp4: 384x640 (no detections), 9.3ms\n",
            "video 1/1 (1014/2632) /content/main (1).mp4: 384x640 (no detections), 9.0ms\n",
            "video 1/1 (1015/2632) /content/main (1).mp4: 384x640 (no detections), 9.2ms\n",
            "video 1/1 (1016/2632) /content/main (1).mp4: 384x640 (no detections), 8.7ms\n",
            "video 1/1 (1017/2632) /content/main (1).mp4: 384x640 (no detections), 11.2ms\n",
            "video 1/1 (1018/2632) /content/main (1).mp4: 384x640 (no detections), 8.4ms\n",
            "video 1/1 (1019/2632) /content/main (1).mp4: 384x640 (no detections), 10.9ms\n",
            "video 1/1 (1020/2632) /content/main (1).mp4: 384x640 (no detections), 9.0ms\n",
            "video 1/1 (1021/2632) /content/main (1).mp4: 384x640 (no detections), 12.3ms\n",
            "video 1/1 (1022/2632) /content/main (1).mp4: 384x640 (no detections), 9.1ms\n",
            "video 1/1 (1023/2632) /content/main (1).mp4: 384x640 (no detections), 9.3ms\n",
            "video 1/1 (1024/2632) /content/main (1).mp4: 384x640 (no detections), 8.7ms\n",
            "video 1/1 (1025/2632) /content/main (1).mp4: 384x640 (no detections), 8.5ms\n",
            "video 1/1 (1026/2632) /content/main (1).mp4: 384x640 (no detections), 12.5ms\n",
            "video 1/1 (1027/2632) /content/main (1).mp4: 384x640 (no detections), 9.4ms\n",
            "video 1/1 (1028/2632) /content/main (1).mp4: 384x640 (no detections), 9.8ms\n",
            "video 1/1 (1029/2632) /content/main (1).mp4: 384x640 (no detections), 8.9ms\n",
            "video 1/1 (1030/2632) /content/main (1).mp4: 384x640 (no detections), 10.7ms\n",
            "video 1/1 (1031/2632) /content/main (1).mp4: 384x640 (no detections), 15.2ms\n",
            "video 1/1 (1032/2632) /content/main (1).mp4: 384x640 (no detections), 9.1ms\n",
            "video 1/1 (1033/2632) /content/main (1).mp4: 384x640 (no detections), 10.2ms\n",
            "video 1/1 (1034/2632) /content/main (1).mp4: 384x640 (no detections), 9.7ms\n",
            "video 1/1 (1035/2632) /content/main (1).mp4: 384x640 (no detections), 8.8ms\n",
            "video 1/1 (1036/2632) /content/main (1).mp4: 384x640 (no detections), 8.8ms\n",
            "video 1/1 (1037/2632) /content/main (1).mp4: 384x640 (no detections), 10.0ms\n",
            "video 1/1 (1038/2632) /content/main (1).mp4: 384x640 (no detections), 13.1ms\n",
            "video 1/1 (1039/2632) /content/main (1).mp4: 384x640 (no detections), 15.1ms\n",
            "video 1/1 (1040/2632) /content/main (1).mp4: 384x640 (no detections), 10.8ms\n",
            "video 1/1 (1041/2632) /content/main (1).mp4: 384x640 (no detections), 9.1ms\n",
            "video 1/1 (1042/2632) /content/main (1).mp4: 384x640 (no detections), 11.3ms\n",
            "video 1/1 (1043/2632) /content/main (1).mp4: 384x640 (no detections), 9.5ms\n",
            "video 1/1 (1044/2632) /content/main (1).mp4: 384x640 (no detections), 8.8ms\n",
            "video 1/1 (1045/2632) /content/main (1).mp4: 384x640 (no detections), 9.5ms\n",
            "video 1/1 (1046/2632) /content/main (1).mp4: 384x640 (no detections), 9.0ms\n",
            "video 1/1 (1047/2632) /content/main (1).mp4: 384x640 (no detections), 9.0ms\n",
            "video 1/1 (1048/2632) /content/main (1).mp4: 384x640 (no detections), 9.5ms\n",
            "video 1/1 (1049/2632) /content/main (1).mp4: 384x640 (no detections), 8.9ms\n",
            "video 1/1 (1050/2632) /content/main (1).mp4: 384x640 (no detections), 9.6ms\n",
            "video 1/1 (1051/2632) /content/main (1).mp4: 384x640 (no detections), 9.1ms\n",
            "video 1/1 (1052/2632) /content/main (1).mp4: 384x640 (no detections), 9.2ms\n",
            "video 1/1 (1053/2632) /content/main (1).mp4: 384x640 (no detections), 9.8ms\n",
            "video 1/1 (1054/2632) /content/main (1).mp4: 384x640 (no detections), 9.2ms\n",
            "video 1/1 (1055/2632) /content/main (1).mp4: 384x640 (no detections), 9.3ms\n",
            "video 1/1 (1056/2632) /content/main (1).mp4: 384x640 (no detections), 9.4ms\n",
            "video 1/1 (1057/2632) /content/main (1).mp4: 384x640 (no detections), 11.2ms\n",
            "video 1/1 (1058/2632) /content/main (1).mp4: 384x640 (no detections), 12.2ms\n",
            "video 1/1 (1059/2632) /content/main (1).mp4: 384x640 (no detections), 15.1ms\n",
            "video 1/1 (1060/2632) /content/main (1).mp4: 384x640 (no detections), 10.4ms\n",
            "video 1/1 (1061/2632) /content/main (1).mp4: 384x640 (no detections), 11.8ms\n",
            "video 1/1 (1062/2632) /content/main (1).mp4: 384x640 (no detections), 9.4ms\n",
            "video 1/1 (1063/2632) /content/main (1).mp4: 384x640 (no detections), 9.1ms\n",
            "video 1/1 (1064/2632) /content/main (1).mp4: 384x640 (no detections), 11.4ms\n",
            "video 1/1 (1065/2632) /content/main (1).mp4: 384x640 (no detections), 11.6ms\n",
            "video 1/1 (1066/2632) /content/main (1).mp4: 384x640 (no detections), 11.5ms\n",
            "video 1/1 (1067/2632) /content/main (1).mp4: 384x640 (no detections), 10.7ms\n",
            "video 1/1 (1068/2632) /content/main (1).mp4: 384x640 (no detections), 9.8ms\n",
            "video 1/1 (1069/2632) /content/main (1).mp4: 384x640 (no detections), 8.6ms\n",
            "video 1/1 (1070/2632) /content/main (1).mp4: 384x640 (no detections), 9.8ms\n",
            "video 1/1 (1071/2632) /content/main (1).mp4: 384x640 (no detections), 11.1ms\n",
            "video 1/1 (1072/2632) /content/main (1).mp4: 384x640 (no detections), 10.9ms\n",
            "video 1/1 (1073/2632) /content/main (1).mp4: 384x640 (no detections), 8.6ms\n",
            "video 1/1 (1074/2632) /content/main (1).mp4: 384x640 (no detections), 11.2ms\n",
            "video 1/1 (1075/2632) /content/main (1).mp4: 384x640 (no detections), 8.5ms\n",
            "video 1/1 (1076/2632) /content/main (1).mp4: 384x640 (no detections), 14.6ms\n",
            "video 1/1 (1077/2632) /content/main (1).mp4: 384x640 (no detections), 11.5ms\n",
            "video 1/1 (1078/2632) /content/main (1).mp4: 384x640 (no detections), 11.1ms\n",
            "video 1/1 (1079/2632) /content/main (1).mp4: 384x640 (no detections), 12.2ms\n",
            "video 1/1 (1080/2632) /content/main (1).mp4: 384x640 (no detections), 11.3ms\n",
            "video 1/1 (1081/2632) /content/main (1).mp4: 384x640 (no detections), 8.6ms\n",
            "video 1/1 (1082/2632) /content/main (1).mp4: 384x640 (no detections), 11.2ms\n",
            "video 1/1 (1083/2632) /content/main (1).mp4: 384x640 (no detections), 9.6ms\n",
            "video 1/1 (1084/2632) /content/main (1).mp4: 384x640 (no detections), 9.1ms\n",
            "video 1/1 (1085/2632) /content/main (1).mp4: 384x640 (no detections), 9.0ms\n",
            "video 1/1 (1086/2632) /content/main (1).mp4: 384x640 (no detections), 9.0ms\n",
            "video 1/1 (1087/2632) /content/main (1).mp4: 384x640 (no detections), 8.9ms\n",
            "video 1/1 (1088/2632) /content/main (1).mp4: 384x640 (no detections), 9.3ms\n",
            "video 1/1 (1089/2632) /content/main (1).mp4: 384x640 (no detections), 13.0ms\n",
            "video 1/1 (1090/2632) /content/main (1).mp4: 384x640 (no detections), 10.9ms\n",
            "video 1/1 (1091/2632) /content/main (1).mp4: 384x640 (no detections), 9.6ms\n",
            "video 1/1 (1092/2632) /content/main (1).mp4: 384x640 (no detections), 9.2ms\n",
            "video 1/1 (1093/2632) /content/main (1).mp4: 384x640 (no detections), 9.8ms\n",
            "video 1/1 (1094/2632) /content/main (1).mp4: 384x640 (no detections), 12.7ms\n",
            "video 1/1 (1095/2632) /content/main (1).mp4: 384x640 (no detections), 9.0ms\n",
            "video 1/1 (1096/2632) /content/main (1).mp4: 384x640 (no detections), 8.9ms\n",
            "video 1/1 (1097/2632) /content/main (1).mp4: 384x640 (no detections), 8.8ms\n",
            "video 1/1 (1098/2632) /content/main (1).mp4: 384x640 (no detections), 9.4ms\n",
            "video 1/1 (1099/2632) /content/main (1).mp4: 384x640 (no detections), 10.9ms\n",
            "video 1/1 (1100/2632) /content/main (1).mp4: 384x640 (no detections), 9.1ms\n",
            "video 1/1 (1101/2632) /content/main (1).mp4: 384x640 (no detections), 12.5ms\n",
            "video 1/1 (1102/2632) /content/main (1).mp4: 384x640 (no detections), 9.9ms\n",
            "video 1/1 (1103/2632) /content/main (1).mp4: 384x640 (no detections), 9.3ms\n",
            "video 1/1 (1104/2632) /content/main (1).mp4: 384x640 (no detections), 9.2ms\n",
            "video 1/1 (1105/2632) /content/main (1).mp4: 384x640 (no detections), 8.6ms\n",
            "video 1/1 (1106/2632) /content/main (1).mp4: 384x640 (no detections), 8.8ms\n",
            "video 1/1 (1107/2632) /content/main (1).mp4: 384x640 (no detections), 11.0ms\n",
            "video 1/1 (1108/2632) /content/main (1).mp4: 384x640 (no detections), 9.0ms\n",
            "video 1/1 (1109/2632) /content/main (1).mp4: 384x640 (no detections), 9.9ms\n",
            "video 1/1 (1110/2632) /content/main (1).mp4: 384x640 (no detections), 8.7ms\n",
            "video 1/1 (1111/2632) /content/main (1).mp4: 384x640 (no detections), 8.8ms\n",
            "video 1/1 (1112/2632) /content/main (1).mp4: 384x640 (no detections), 10.3ms\n",
            "video 1/1 (1113/2632) /content/main (1).mp4: 384x640 (no detections), 8.8ms\n",
            "video 1/1 (1114/2632) /content/main (1).mp4: 384x640 (no detections), 9.0ms\n",
            "video 1/1 (1115/2632) /content/main (1).mp4: 384x640 (no detections), 8.9ms\n",
            "video 1/1 (1116/2632) /content/main (1).mp4: 384x640 (no detections), 8.5ms\n",
            "video 1/1 (1117/2632) /content/main (1).mp4: 384x640 (no detections), 10.0ms\n",
            "video 1/1 (1118/2632) /content/main (1).mp4: 384x640 (no detections), 8.5ms\n",
            "video 1/1 (1119/2632) /content/main (1).mp4: 384x640 (no detections), 8.9ms\n",
            "video 1/1 (1120/2632) /content/main (1).mp4: 384x640 (no detections), 10.0ms\n",
            "video 1/1 (1121/2632) /content/main (1).mp4: 384x640 (no detections), 10.3ms\n",
            "video 1/1 (1122/2632) /content/main (1).mp4: 384x640 (no detections), 10.2ms\n",
            "video 1/1 (1123/2632) /content/main (1).mp4: 384x640 (no detections), 8.7ms\n",
            "video 1/1 (1124/2632) /content/main (1).mp4: 384x640 (no detections), 10.1ms\n",
            "video 1/1 (1125/2632) /content/main (1).mp4: 384x640 (no detections), 10.4ms\n",
            "video 1/1 (1126/2632) /content/main (1).mp4: 384x640 (no detections), 9.8ms\n",
            "video 1/1 (1127/2632) /content/main (1).mp4: 384x640 (no detections), 10.2ms\n",
            "video 1/1 (1128/2632) /content/main (1).mp4: 384x640 (no detections), 9.0ms\n",
            "video 1/1 (1129/2632) /content/main (1).mp4: 384x640 (no detections), 17.9ms\n",
            "video 1/1 (1130/2632) /content/main (1).mp4: 384x640 (no detections), 9.1ms\n",
            "video 1/1 (1131/2632) /content/main (1).mp4: 384x640 (no detections), 8.8ms\n",
            "video 1/1 (1132/2632) /content/main (1).mp4: 384x640 (no detections), 8.7ms\n",
            "video 1/1 (1133/2632) /content/main (1).mp4: 384x640 (no detections), 8.6ms\n",
            "video 1/1 (1134/2632) /content/main (1).mp4: 384x640 (no detections), 9.6ms\n",
            "video 1/1 (1135/2632) /content/main (1).mp4: 384x640 (no detections), 9.0ms\n",
            "video 1/1 (1136/2632) /content/main (1).mp4: 384x640 (no detections), 10.2ms\n",
            "video 1/1 (1137/2632) /content/main (1).mp4: 384x640 (no detections), 8.9ms\n",
            "video 1/1 (1138/2632) /content/main (1).mp4: 384x640 (no detections), 11.5ms\n",
            "video 1/1 (1139/2632) /content/main (1).mp4: 384x640 (no detections), 10.1ms\n",
            "video 1/1 (1140/2632) /content/main (1).mp4: 384x640 (no detections), 9.4ms\n",
            "video 1/1 (1141/2632) /content/main (1).mp4: 384x640 (no detections), 11.0ms\n",
            "video 1/1 (1142/2632) /content/main (1).mp4: 384x640 (no detections), 9.3ms\n",
            "video 1/1 (1143/2632) /content/main (1).mp4: 384x640 (no detections), 13.5ms\n",
            "video 1/1 (1144/2632) /content/main (1).mp4: 384x640 (no detections), 10.1ms\n",
            "video 1/1 (1145/2632) /content/main (1).mp4: 384x640 (no detections), 10.8ms\n",
            "video 1/1 (1146/2632) /content/main (1).mp4: 384x640 (no detections), 9.8ms\n",
            "video 1/1 (1147/2632) /content/main (1).mp4: 384x640 (no detections), 10.4ms\n",
            "video 1/1 (1148/2632) /content/main (1).mp4: 384x640 (no detections), 9.3ms\n",
            "video 1/1 (1149/2632) /content/main (1).mp4: 384x640 (no detections), 10.1ms\n",
            "video 1/1 (1150/2632) /content/main (1).mp4: 384x640 (no detections), 9.3ms\n",
            "video 1/1 (1151/2632) /content/main (1).mp4: 384x640 (no detections), 9.9ms\n",
            "video 1/1 (1152/2632) /content/main (1).mp4: 384x640 (no detections), 12.5ms\n",
            "video 1/1 (1153/2632) /content/main (1).mp4: 384x640 (no detections), 9.2ms\n",
            "video 1/1 (1154/2632) /content/main (1).mp4: 384x640 (no detections), 9.3ms\n",
            "video 1/1 (1155/2632) /content/main (1).mp4: 384x640 (no detections), 9.1ms\n",
            "video 1/1 (1156/2632) /content/main (1).mp4: 384x640 (no detections), 9.3ms\n",
            "video 1/1 (1157/2632) /content/main (1).mp4: 384x640 (no detections), 9.8ms\n",
            "video 1/1 (1158/2632) /content/main (1).mp4: 384x640 (no detections), 9.4ms\n",
            "video 1/1 (1159/2632) /content/main (1).mp4: 384x640 (no detections), 12.1ms\n",
            "video 1/1 (1160/2632) /content/main (1).mp4: 384x640 (no detections), 9.3ms\n",
            "video 1/1 (1161/2632) /content/main (1).mp4: 384x640 (no detections), 10.0ms\n",
            "video 1/1 (1162/2632) /content/main (1).mp4: 384x640 (no detections), 9.1ms\n",
            "video 1/1 (1163/2632) /content/main (1).mp4: 384x640 (no detections), 13.4ms\n",
            "video 1/1 (1164/2632) /content/main (1).mp4: 384x640 (no detections), 11.5ms\n",
            "video 1/1 (1165/2632) /content/main (1).mp4: 384x640 (no detections), 9.8ms\n",
            "video 1/1 (1166/2632) /content/main (1).mp4: 384x640 (no detections), 9.0ms\n",
            "video 1/1 (1167/2632) /content/main (1).mp4: 384x640 (no detections), 8.9ms\n",
            "video 1/1 (1168/2632) /content/main (1).mp4: 384x640 (no detections), 13.0ms\n",
            "video 1/1 (1169/2632) /content/main (1).mp4: 384x640 (no detections), 11.2ms\n",
            "video 1/1 (1170/2632) /content/main (1).mp4: 384x640 (no detections), 8.8ms\n",
            "video 1/1 (1171/2632) /content/main (1).mp4: 384x640 (no detections), 9.2ms\n",
            "video 1/1 (1172/2632) /content/main (1).mp4: 384x640 (no detections), 9.7ms\n",
            "video 1/1 (1173/2632) /content/main (1).mp4: 384x640 (no detections), 8.8ms\n",
            "video 1/1 (1174/2632) /content/main (1).mp4: 384x640 (no detections), 9.0ms\n",
            "video 1/1 (1175/2632) /content/main (1).mp4: 384x640 (no detections), 9.3ms\n",
            "video 1/1 (1176/2632) /content/main (1).mp4: 384x640 (no detections), 9.2ms\n",
            "video 1/1 (1177/2632) /content/main (1).mp4: 384x640 (no detections), 13.2ms\n",
            "video 1/1 (1178/2632) /content/main (1).mp4: 384x640 (no detections), 10.4ms\n",
            "video 1/1 (1179/2632) /content/main (1).mp4: 384x640 (no detections), 10.5ms\n",
            "video 1/1 (1180/2632) /content/main (1).mp4: 384x640 (no detections), 9.5ms\n",
            "video 1/1 (1181/2632) /content/main (1).mp4: 384x640 (no detections), 10.1ms\n",
            "video 1/1 (1182/2632) /content/main (1).mp4: 384x640 (no detections), 9.4ms\n",
            "video 1/1 (1183/2632) /content/main (1).mp4: 384x640 (no detections), 9.0ms\n",
            "video 1/1 (1184/2632) /content/main (1).mp4: 384x640 (no detections), 9.1ms\n",
            "video 1/1 (1185/2632) /content/main (1).mp4: 384x640 (no detections), 11.6ms\n",
            "video 1/1 (1186/2632) /content/main (1).mp4: 384x640 (no detections), 12.9ms\n",
            "video 1/1 (1187/2632) /content/main (1).mp4: 384x640 (no detections), 12.4ms\n",
            "video 1/1 (1188/2632) /content/main (1).mp4: 384x640 1 car, 9.5ms\n",
            "video 1/1 (1189/2632) /content/main (1).mp4: 384x640 (no detections), 11.6ms\n",
            "video 1/1 (1190/2632) /content/main (1).mp4: 384x640 (no detections), 9.1ms\n",
            "video 1/1 (1191/2632) /content/main (1).mp4: 384x640 (no detections), 8.8ms\n",
            "video 1/1 (1192/2632) /content/main (1).mp4: 384x640 (no detections), 10.7ms\n",
            "video 1/1 (1193/2632) /content/main (1).mp4: 384x640 (no detections), 8.5ms\n",
            "video 1/1 (1194/2632) /content/main (1).mp4: 384x640 (no detections), 13.8ms\n",
            "video 1/1 (1195/2632) /content/main (1).mp4: 384x640 (no detections), 10.5ms\n",
            "video 1/1 (1196/2632) /content/main (1).mp4: 384x640 (no detections), 10.4ms\n",
            "video 1/1 (1197/2632) /content/main (1).mp4: 384x640 (no detections), 20.3ms\n",
            "video 1/1 (1198/2632) /content/main (1).mp4: 384x640 (no detections), 12.8ms\n",
            "video 1/1 (1199/2632) /content/main (1).mp4: 384x640 (no detections), 8.2ms\n",
            "video 1/1 (1200/2632) /content/main (1).mp4: 384x640 (no detections), 8.8ms\n",
            "video 1/1 (1201/2632) /content/main (1).mp4: 384x640 (no detections), 8.7ms\n",
            "video 1/1 (1202/2632) /content/main (1).mp4: 384x640 (no detections), 9.7ms\n",
            "video 1/1 (1203/2632) /content/main (1).mp4: 384x640 (no detections), 8.6ms\n",
            "video 1/1 (1204/2632) /content/main (1).mp4: 384x640 (no detections), 11.7ms\n",
            "video 1/1 (1205/2632) /content/main (1).mp4: 384x640 (no detections), 8.5ms\n",
            "video 1/1 (1206/2632) /content/main (1).mp4: 384x640 (no detections), 11.6ms\n",
            "video 1/1 (1207/2632) /content/main (1).mp4: 384x640 (no detections), 10.0ms\n",
            "video 1/1 (1208/2632) /content/main (1).mp4: 384x640 (no detections), 9.3ms\n",
            "video 1/1 (1209/2632) /content/main (1).mp4: 384x640 (no detections), 13.3ms\n",
            "video 1/1 (1210/2632) /content/main (1).mp4: 384x640 (no detections), 10.1ms\n",
            "video 1/1 (1211/2632) /content/main (1).mp4: 384x640 (no detections), 14.1ms\n",
            "video 1/1 (1212/2632) /content/main (1).mp4: 384x640 (no detections), 10.2ms\n",
            "video 1/1 (1213/2632) /content/main (1).mp4: 384x640 (no detections), 12.8ms\n",
            "video 1/1 (1214/2632) /content/main (1).mp4: 384x640 (no detections), 10.0ms\n",
            "video 1/1 (1215/2632) /content/main (1).mp4: 384x640 (no detections), 11.5ms\n",
            "video 1/1 (1216/2632) /content/main (1).mp4: 384x640 (no detections), 10.3ms\n",
            "video 1/1 (1217/2632) /content/main (1).mp4: 384x640 (no detections), 9.7ms\n",
            "video 1/1 (1218/2632) /content/main (1).mp4: 384x640 (no detections), 9.8ms\n",
            "video 1/1 (1219/2632) /content/main (1).mp4: 384x640 (no detections), 12.0ms\n",
            "video 1/1 (1220/2632) /content/main (1).mp4: 384x640 (no detections), 13.2ms\n",
            "video 1/1 (1221/2632) /content/main (1).mp4: 384x640 (no detections), 9.4ms\n",
            "video 1/1 (1222/2632) /content/main (1).mp4: 384x640 (no detections), 16.8ms\n",
            "video 1/1 (1223/2632) /content/main (1).mp4: 384x640 (no detections), 14.4ms\n",
            "video 1/1 (1224/2632) /content/main (1).mp4: 384x640 (no detections), 13.9ms\n",
            "video 1/1 (1225/2632) /content/main (1).mp4: 384x640 (no detections), 13.1ms\n",
            "video 1/1 (1226/2632) /content/main (1).mp4: 384x640 (no detections), 12.4ms\n",
            "video 1/1 (1227/2632) /content/main (1).mp4: 384x640 (no detections), 9.1ms\n",
            "video 1/1 (1228/2632) /content/main (1).mp4: 384x640 (no detections), 10.1ms\n",
            "video 1/1 (1229/2632) /content/main (1).mp4: 384x640 (no detections), 12.7ms\n",
            "video 1/1 (1230/2632) /content/main (1).mp4: 384x640 (no detections), 12.6ms\n",
            "video 1/1 (1231/2632) /content/main (1).mp4: 384x640 (no detections), 12.6ms\n",
            "video 1/1 (1232/2632) /content/main (1).mp4: 384x640 (no detections), 8.4ms\n",
            "video 1/1 (1233/2632) /content/main (1).mp4: 384x640 (no detections), 12.1ms\n",
            "video 1/1 (1234/2632) /content/main (1).mp4: 384x640 (no detections), 9.0ms\n",
            "video 1/1 (1235/2632) /content/main (1).mp4: 384x640 (no detections), 11.9ms\n",
            "video 1/1 (1236/2632) /content/main (1).mp4: 384x640 (no detections), 9.5ms\n",
            "video 1/1 (1237/2632) /content/main (1).mp4: 384x640 (no detections), 14.3ms\n",
            "video 1/1 (1238/2632) /content/main (1).mp4: 384x640 (no detections), 9.1ms\n",
            "video 1/1 (1239/2632) /content/main (1).mp4: 384x640 (no detections), 8.9ms\n",
            "video 1/1 (1240/2632) /content/main (1).mp4: 384x640 (no detections), 9.4ms\n",
            "video 1/1 (1241/2632) /content/main (1).mp4: 384x640 (no detections), 10.8ms\n",
            "video 1/1 (1242/2632) /content/main (1).mp4: 384x640 (no detections), 10.4ms\n",
            "video 1/1 (1243/2632) /content/main (1).mp4: 384x640 (no detections), 10.6ms\n",
            "video 1/1 (1244/2632) /content/main (1).mp4: 384x640 (no detections), 12.6ms\n",
            "video 1/1 (1245/2632) /content/main (1).mp4: 384x640 (no detections), 9.6ms\n",
            "video 1/1 (1246/2632) /content/main (1).mp4: 384x640 (no detections), 13.1ms\n",
            "video 1/1 (1247/2632) /content/main (1).mp4: 384x640 (no detections), 10.0ms\n",
            "video 1/1 (1248/2632) /content/main (1).mp4: 384x640 (no detections), 10.5ms\n",
            "video 1/1 (1249/2632) /content/main (1).mp4: 384x640 (no detections), 9.1ms\n",
            "video 1/1 (1250/2632) /content/main (1).mp4: 384x640 (no detections), 10.1ms\n",
            "video 1/1 (1251/2632) /content/main (1).mp4: 384x640 (no detections), 11.9ms\n",
            "video 1/1 (1252/2632) /content/main (1).mp4: 384x640 (no detections), 10.4ms\n",
            "video 1/1 (1253/2632) /content/main (1).mp4: 384x640 (no detections), 9.2ms\n",
            "video 1/1 (1254/2632) /content/main (1).mp4: 384x640 (no detections), 8.9ms\n",
            "video 1/1 (1255/2632) /content/main (1).mp4: 384x640 (no detections), 9.6ms\n",
            "video 1/1 (1256/2632) /content/main (1).mp4: 384x640 (no detections), 10.4ms\n",
            "video 1/1 (1257/2632) /content/main (1).mp4: 384x640 (no detections), 11.2ms\n",
            "video 1/1 (1258/2632) /content/main (1).mp4: 384x640 (no detections), 9.7ms\n",
            "video 1/1 (1259/2632) /content/main (1).mp4: 384x640 (no detections), 9.9ms\n",
            "video 1/1 (1260/2632) /content/main (1).mp4: 384x640 (no detections), 8.9ms\n",
            "video 1/1 (1261/2632) /content/main (1).mp4: 384x640 (no detections), 13.4ms\n",
            "video 1/1 (1262/2632) /content/main (1).mp4: 384x640 (no detections), 9.0ms\n",
            "video 1/1 (1263/2632) /content/main (1).mp4: 384x640 (no detections), 19.9ms\n",
            "video 1/1 (1264/2632) /content/main (1).mp4: 384x640 (no detections), 12.9ms\n",
            "video 1/1 (1265/2632) /content/main (1).mp4: 384x640 (no detections), 14.1ms\n",
            "video 1/1 (1266/2632) /content/main (1).mp4: 384x640 (no detections), 10.2ms\n",
            "video 1/1 (1267/2632) /content/main (1).mp4: 384x640 (no detections), 11.1ms\n",
            "video 1/1 (1268/2632) /content/main (1).mp4: 384x640 (no detections), 9.5ms\n",
            "video 1/1 (1269/2632) /content/main (1).mp4: 384x640 (no detections), 12.1ms\n",
            "video 1/1 (1270/2632) /content/main (1).mp4: 384x640 (no detections), 9.0ms\n",
            "video 1/1 (1271/2632) /content/main (1).mp4: 384x640 (no detections), 12.1ms\n",
            "video 1/1 (1272/2632) /content/main (1).mp4: 384x640 (no detections), 9.6ms\n",
            "video 1/1 (1273/2632) /content/main (1).mp4: 384x640 (no detections), 14.2ms\n",
            "video 1/1 (1274/2632) /content/main (1).mp4: 384x640 (no detections), 11.1ms\n",
            "video 1/1 (1275/2632) /content/main (1).mp4: 384x640 (no detections), 8.6ms\n",
            "video 1/1 (1276/2632) /content/main (1).mp4: 384x640 (no detections), 10.1ms\n",
            "video 1/1 (1277/2632) /content/main (1).mp4: 384x640 (no detections), 22.0ms\n",
            "video 1/1 (1278/2632) /content/main (1).mp4: 384x640 (no detections), 14.6ms\n",
            "video 1/1 (1279/2632) /content/main (1).mp4: 384x640 (no detections), 18.8ms\n",
            "video 1/1 (1280/2632) /content/main (1).mp4: 384x640 (no detections), 20.7ms\n",
            "video 1/1 (1281/2632) /content/main (1).mp4: 384x640 (no detections), 13.3ms\n",
            "video 1/1 (1282/2632) /content/main (1).mp4: 384x640 (no detections), 11.6ms\n",
            "video 1/1 (1283/2632) /content/main (1).mp4: 384x640 (no detections), 11.8ms\n",
            "video 1/1 (1284/2632) /content/main (1).mp4: 384x640 (no detections), 17.0ms\n",
            "video 1/1 (1285/2632) /content/main (1).mp4: 384x640 (no detections), 18.4ms\n",
            "video 1/1 (1286/2632) /content/main (1).mp4: 384x640 (no detections), 12.7ms\n",
            "video 1/1 (1287/2632) /content/main (1).mp4: 384x640 (no detections), 17.6ms\n",
            "video 1/1 (1288/2632) /content/main (1).mp4: 384x640 (no detections), 12.7ms\n",
            "video 1/1 (1289/2632) /content/main (1).mp4: 384x640 (no detections), 13.6ms\n",
            "video 1/1 (1290/2632) /content/main (1).mp4: 384x640 (no detections), 12.4ms\n",
            "video 1/1 (1291/2632) /content/main (1).mp4: 384x640 (no detections), 15.4ms\n",
            "video 1/1 (1292/2632) /content/main (1).mp4: 384x640 (no detections), 12.2ms\n",
            "video 1/1 (1293/2632) /content/main (1).mp4: 384x640 (no detections), 13.3ms\n",
            "video 1/1 (1294/2632) /content/main (1).mp4: 384x640 (no detections), 11.3ms\n",
            "video 1/1 (1295/2632) /content/main (1).mp4: 384x640 (no detections), 15.1ms\n",
            "video 1/1 (1296/2632) /content/main (1).mp4: 384x640 (no detections), 11.4ms\n",
            "video 1/1 (1297/2632) /content/main (1).mp4: 384x640 (no detections), 18.7ms\n",
            "video 1/1 (1298/2632) /content/main (1).mp4: 384x640 (no detections), 11.7ms\n",
            "video 1/1 (1299/2632) /content/main (1).mp4: 384x640 (no detections), 13.0ms\n",
            "video 1/1 (1300/2632) /content/main (1).mp4: 384x640 (no detections), 10.6ms\n",
            "video 1/1 (1301/2632) /content/main (1).mp4: 384x640 (no detections), 13.0ms\n",
            "video 1/1 (1302/2632) /content/main (1).mp4: 384x640 (no detections), 11.6ms\n",
            "video 1/1 (1303/2632) /content/main (1).mp4: 384x640 (no detections), 11.2ms\n",
            "video 1/1 (1304/2632) /content/main (1).mp4: 384x640 (no detections), 15.0ms\n",
            "video 1/1 (1305/2632) /content/main (1).mp4: 384x640 (no detections), 11.8ms\n",
            "video 1/1 (1306/2632) /content/main (1).mp4: 384x640 (no detections), 12.8ms\n",
            "video 1/1 (1307/2632) /content/main (1).mp4: 384x640 (no detections), 17.5ms\n",
            "video 1/1 (1308/2632) /content/main (1).mp4: 384x640 (no detections), 22.1ms\n",
            "video 1/1 (1309/2632) /content/main (1).mp4: 384x640 (no detections), 18.1ms\n",
            "video 1/1 (1310/2632) /content/main (1).mp4: 384x640 (no detections), 17.1ms\n",
            "video 1/1 (1311/2632) /content/main (1).mp4: 384x640 (no detections), 16.6ms\n",
            "video 1/1 (1312/2632) /content/main (1).mp4: 384x640 (no detections), 13.2ms\n",
            "video 1/1 (1313/2632) /content/main (1).mp4: 384x640 (no detections), 12.9ms\n",
            "video 1/1 (1314/2632) /content/main (1).mp4: 384x640 (no detections), 11.6ms\n",
            "video 1/1 (1315/2632) /content/main (1).mp4: 384x640 (no detections), 11.0ms\n",
            "video 1/1 (1316/2632) /content/main (1).mp4: 384x640 (no detections), 17.7ms\n",
            "video 1/1 (1317/2632) /content/main (1).mp4: 384x640 (no detections), 14.0ms\n",
            "video 1/1 (1318/2632) /content/main (1).mp4: 384x640 (no detections), 17.2ms\n",
            "video 1/1 (1319/2632) /content/main (1).mp4: 384x640 (no detections), 17.9ms\n",
            "video 1/1 (1320/2632) /content/main (1).mp4: 384x640 (no detections), 11.3ms\n",
            "video 1/1 (1321/2632) /content/main (1).mp4: 384x640 (no detections), 11.5ms\n",
            "video 1/1 (1322/2632) /content/main (1).mp4: 384x640 (no detections), 11.5ms\n",
            "video 1/1 (1323/2632) /content/main (1).mp4: 384x640 (no detections), 11.5ms\n",
            "video 1/1 (1324/2632) /content/main (1).mp4: 384x640 (no detections), 12.8ms\n",
            "video 1/1 (1325/2632) /content/main (1).mp4: 384x640 (no detections), 10.9ms\n",
            "video 1/1 (1326/2632) /content/main (1).mp4: 384x640 (no detections), 10.9ms\n",
            "video 1/1 (1327/2632) /content/main (1).mp4: 384x640 (no detections), 13.9ms\n",
            "video 1/1 (1328/2632) /content/main (1).mp4: 384x640 (no detections), 11.7ms\n",
            "video 1/1 (1329/2632) /content/main (1).mp4: 384x640 (no detections), 11.9ms\n",
            "video 1/1 (1330/2632) /content/main (1).mp4: 384x640 (no detections), 11.7ms\n",
            "video 1/1 (1331/2632) /content/main (1).mp4: 384x640 (no detections), 14.2ms\n",
            "video 1/1 (1332/2632) /content/main (1).mp4: 384x640 (no detections), 12.6ms\n",
            "video 1/1 (1333/2632) /content/main (1).mp4: 384x640 (no detections), 12.2ms\n",
            "video 1/1 (1334/2632) /content/main (1).mp4: 384x640 (no detections), 14.3ms\n",
            "video 1/1 (1335/2632) /content/main (1).mp4: 384x640 (no detections), 16.8ms\n",
            "video 1/1 (1336/2632) /content/main (1).mp4: 384x640 (no detections), 11.7ms\n",
            "video 1/1 (1337/2632) /content/main (1).mp4: 384x640 (no detections), 13.9ms\n",
            "video 1/1 (1338/2632) /content/main (1).mp4: 384x640 (no detections), 12.6ms\n",
            "video 1/1 (1339/2632) /content/main (1).mp4: 384x640 (no detections), 10.7ms\n",
            "video 1/1 (1340/2632) /content/main (1).mp4: 384x640 (no detections), 14.1ms\n",
            "video 1/1 (1341/2632) /content/main (1).mp4: 384x640 (no detections), 12.9ms\n",
            "video 1/1 (1342/2632) /content/main (1).mp4: 384x640 (no detections), 17.7ms\n",
            "video 1/1 (1343/2632) /content/main (1).mp4: 384x640 (no detections), 22.0ms\n",
            "video 1/1 (1344/2632) /content/main (1).mp4: 384x640 (no detections), 11.5ms\n",
            "video 1/1 (1345/2632) /content/main (1).mp4: 384x640 (no detections), 15.1ms\n",
            "video 1/1 (1346/2632) /content/main (1).mp4: 384x640 (no detections), 15.2ms\n",
            "video 1/1 (1347/2632) /content/main (1).mp4: 384x640 (no detections), 12.8ms\n",
            "video 1/1 (1348/2632) /content/main (1).mp4: 384x640 (no detections), 19.6ms\n",
            "video 1/1 (1349/2632) /content/main (1).mp4: 384x640 (no detections), 18.3ms\n",
            "video 1/1 (1350/2632) /content/main (1).mp4: 384x640 (no detections), 16.7ms\n",
            "video 1/1 (1351/2632) /content/main (1).mp4: 384x640 (no detections), 17.7ms\n",
            "video 1/1 (1352/2632) /content/main (1).mp4: 384x640 (no detections), 17.5ms\n",
            "video 1/1 (1353/2632) /content/main (1).mp4: 384x640 (no detections), 16.3ms\n",
            "video 1/1 (1354/2632) /content/main (1).mp4: 384x640 (no detections), 15.5ms\n",
            "video 1/1 (1355/2632) /content/main (1).mp4: 384x640 (no detections), 16.8ms\n",
            "video 1/1 (1356/2632) /content/main (1).mp4: 384x640 (no detections), 25.3ms\n",
            "video 1/1 (1357/2632) /content/main (1).mp4: 384x640 (no detections), 16.8ms\n",
            "video 1/1 (1358/2632) /content/main (1).mp4: 384x640 (no detections), 15.8ms\n",
            "video 1/1 (1359/2632) /content/main (1).mp4: 384x640 (no detections), 16.3ms\n",
            "video 1/1 (1360/2632) /content/main (1).mp4: 384x640 (no detections), 16.0ms\n",
            "video 1/1 (1361/2632) /content/main (1).mp4: 384x640 (no detections), 15.9ms\n",
            "video 1/1 (1362/2632) /content/main (1).mp4: 384x640 (no detections), 9.3ms\n",
            "video 1/1 (1363/2632) /content/main (1).mp4: 384x640 (no detections), 12.8ms\n",
            "video 1/1 (1364/2632) /content/main (1).mp4: 384x640 (no detections), 9.1ms\n",
            "video 1/1 (1365/2632) /content/main (1).mp4: 384x640 (no detections), 9.9ms\n",
            "video 1/1 (1366/2632) /content/main (1).mp4: 384x640 (no detections), 8.9ms\n",
            "video 1/1 (1367/2632) /content/main (1).mp4: 384x640 (no detections), 8.1ms\n",
            "video 1/1 (1368/2632) /content/main (1).mp4: 384x640 (no detections), 9.0ms\n",
            "video 1/1 (1369/2632) /content/main (1).mp4: 384x640 (no detections), 13.7ms\n",
            "video 1/1 (1370/2632) /content/main (1).mp4: 384x640 (no detections), 11.7ms\n",
            "video 1/1 (1371/2632) /content/main (1).mp4: 384x640 (no detections), 9.8ms\n",
            "video 1/1 (1372/2632) /content/main (1).mp4: 384x640 (no detections), 8.5ms\n",
            "video 1/1 (1373/2632) /content/main (1).mp4: 384x640 (no detections), 10.6ms\n",
            "video 1/1 (1374/2632) /content/main (1).mp4: 384x640 (no detections), 8.5ms\n",
            "video 1/1 (1375/2632) /content/main (1).mp4: 384x640 (no detections), 9.4ms\n",
            "video 1/1 (1376/2632) /content/main (1).mp4: 384x640 (no detections), 8.8ms\n",
            "video 1/1 (1377/2632) /content/main (1).mp4: 384x640 (no detections), 11.3ms\n",
            "video 1/1 (1378/2632) /content/main (1).mp4: 384x640 (no detections), 10.6ms\n",
            "video 1/1 (1379/2632) /content/main (1).mp4: 384x640 (no detections), 8.3ms\n",
            "video 1/1 (1380/2632) /content/main (1).mp4: 384x640 (no detections), 9.6ms\n",
            "video 1/1 (1381/2632) /content/main (1).mp4: 384x640 (no detections), 9.1ms\n",
            "video 1/1 (1382/2632) /content/main (1).mp4: 384x640 (no detections), 8.4ms\n",
            "video 1/1 (1383/2632) /content/main (1).mp4: 384x640 (no detections), 8.9ms\n",
            "video 1/1 (1384/2632) /content/main (1).mp4: 384x640 (no detections), 8.4ms\n",
            "video 1/1 (1385/2632) /content/main (1).mp4: 384x640 (no detections), 8.7ms\n",
            "video 1/1 (1386/2632) /content/main (1).mp4: 384x640 (no detections), 13.0ms\n",
            "video 1/1 (1387/2632) /content/main (1).mp4: 384x640 (no detections), 8.5ms\n",
            "video 1/1 (1388/2632) /content/main (1).mp4: 384x640 (no detections), 8.7ms\n",
            "video 1/1 (1389/2632) /content/main (1).mp4: 384x640 (no detections), 8.7ms\n",
            "video 1/1 (1390/2632) /content/main (1).mp4: 384x640 (no detections), 8.7ms\n",
            "video 1/1 (1391/2632) /content/main (1).mp4: 384x640 (no detections), 8.7ms\n",
            "video 1/1 (1392/2632) /content/main (1).mp4: 384x640 (no detections), 9.5ms\n",
            "video 1/1 (1393/2632) /content/main (1).mp4: 384x640 (no detections), 11.0ms\n",
            "video 1/1 (1394/2632) /content/main (1).mp4: 384x640 (no detections), 9.9ms\n",
            "video 1/1 (1395/2632) /content/main (1).mp4: 384x640 (no detections), 10.7ms\n",
            "video 1/1 (1396/2632) /content/main (1).mp4: 384x640 (no detections), 10.6ms\n",
            "video 1/1 (1397/2632) /content/main (1).mp4: 384x640 (no detections), 8.3ms\n",
            "video 1/1 (1398/2632) /content/main (1).mp4: 384x640 (no detections), 11.3ms\n",
            "video 1/1 (1399/2632) /content/main (1).mp4: 384x640 (no detections), 10.4ms\n",
            "video 1/1 (1400/2632) /content/main (1).mp4: 384x640 (no detections), 12.0ms\n",
            "video 1/1 (1401/2632) /content/main (1).mp4: 384x640 (no detections), 8.7ms\n",
            "video 1/1 (1402/2632) /content/main (1).mp4: 384x640 (no detections), 11.9ms\n",
            "video 1/1 (1403/2632) /content/main (1).mp4: 384x640 (no detections), 9.6ms\n",
            "video 1/1 (1404/2632) /content/main (1).mp4: 384x640 (no detections), 8.7ms\n",
            "video 1/1 (1405/2632) /content/main (1).mp4: 384x640 (no detections), 19.7ms\n",
            "video 1/1 (1406/2632) /content/main (1).mp4: 384x640 (no detections), 9.9ms\n",
            "video 1/1 (1407/2632) /content/main (1).mp4: 384x640 (no detections), 10.3ms\n",
            "video 1/1 (1408/2632) /content/main (1).mp4: 384x640 (no detections), 8.4ms\n",
            "video 1/1 (1409/2632) /content/main (1).mp4: 384x640 (no detections), 8.8ms\n",
            "video 1/1 (1410/2632) /content/main (1).mp4: 384x640 (no detections), 8.6ms\n",
            "video 1/1 (1411/2632) /content/main (1).mp4: 384x640 (no detections), 8.5ms\n",
            "video 1/1 (1412/2632) /content/main (1).mp4: 384x640 (no detections), 8.9ms\n",
            "video 1/1 (1413/2632) /content/main (1).mp4: 384x640 (no detections), 9.1ms\n",
            "video 1/1 (1414/2632) /content/main (1).mp4: 384x640 (no detections), 9.6ms\n",
            "video 1/1 (1415/2632) /content/main (1).mp4: 384x640 (no detections), 9.0ms\n",
            "video 1/1 (1416/2632) /content/main (1).mp4: 384x640 (no detections), 9.3ms\n",
            "video 1/1 (1417/2632) /content/main (1).mp4: 384x640 (no detections), 18.0ms\n",
            "video 1/1 (1418/2632) /content/main (1).mp4: 384x640 (no detections), 11.6ms\n",
            "video 1/1 (1419/2632) /content/main (1).mp4: 384x640 (no detections), 10.4ms\n",
            "video 1/1 (1420/2632) /content/main (1).mp4: 384x640 (no detections), 11.0ms\n",
            "video 1/1 (1421/2632) /content/main (1).mp4: 384x640 (no detections), 10.4ms\n",
            "video 1/1 (1422/2632) /content/main (1).mp4: 384x640 (no detections), 10.3ms\n",
            "video 1/1 (1423/2632) /content/main (1).mp4: 384x640 (no detections), 10.6ms\n",
            "video 1/1 (1424/2632) /content/main (1).mp4: 384x640 (no detections), 11.3ms\n",
            "video 1/1 (1425/2632) /content/main (1).mp4: 384x640 (no detections), 13.7ms\n",
            "video 1/1 (1426/2632) /content/main (1).mp4: 384x640 (no detections), 9.3ms\n",
            "video 1/1 (1427/2632) /content/main (1).mp4: 384x640 (no detections), 9.0ms\n",
            "video 1/1 (1428/2632) /content/main (1).mp4: 384x640 (no detections), 9.7ms\n",
            "video 1/1 (1429/2632) /content/main (1).mp4: 384x640 (no detections), 8.5ms\n",
            "video 1/1 (1430/2632) /content/main (1).mp4: 384x640 (no detections), 11.7ms\n",
            "video 1/1 (1431/2632) /content/main (1).mp4: 384x640 (no detections), 8.8ms\n",
            "video 1/1 (1432/2632) /content/main (1).mp4: 384x640 (no detections), 8.3ms\n",
            "video 1/1 (1433/2632) /content/main (1).mp4: 384x640 (no detections), 10.0ms\n",
            "video 1/1 (1434/2632) /content/main (1).mp4: 384x640 (no detections), 9.6ms\n",
            "video 1/1 (1435/2632) /content/main (1).mp4: 384x640 (no detections), 8.8ms\n",
            "video 1/1 (1436/2632) /content/main (1).mp4: 384x640 (no detections), 9.5ms\n",
            "video 1/1 (1437/2632) /content/main (1).mp4: 384x640 (no detections), 8.5ms\n",
            "video 1/1 (1438/2632) /content/main (1).mp4: 384x640 (no detections), 9.1ms\n",
            "video 1/1 (1439/2632) /content/main (1).mp4: 384x640 (no detections), 8.9ms\n",
            "video 1/1 (1440/2632) /content/main (1).mp4: 384x640 (no detections), 14.3ms\n",
            "video 1/1 (1441/2632) /content/main (1).mp4: 384x640 (no detections), 15.0ms\n",
            "video 1/1 (1442/2632) /content/main (1).mp4: 384x640 (no detections), 9.6ms\n",
            "video 1/1 (1443/2632) /content/main (1).mp4: 384x640 (no detections), 9.2ms\n",
            "video 1/1 (1444/2632) /content/main (1).mp4: 384x640 (no detections), 10.1ms\n",
            "video 1/1 (1445/2632) /content/main (1).mp4: 384x640 (no detections), 9.2ms\n",
            "video 1/1 (1446/2632) /content/main (1).mp4: 384x640 (no detections), 9.3ms\n",
            "video 1/1 (1447/2632) /content/main (1).mp4: 384x640 (no detections), 8.9ms\n",
            "video 1/1 (1448/2632) /content/main (1).mp4: 384x640 (no detections), 8.5ms\n",
            "video 1/1 (1449/2632) /content/main (1).mp4: 384x640 (no detections), 8.9ms\n",
            "video 1/1 (1450/2632) /content/main (1).mp4: 384x640 (no detections), 8.8ms\n",
            "video 1/1 (1451/2632) /content/main (1).mp4: 384x640 (no detections), 9.6ms\n",
            "video 1/1 (1452/2632) /content/main (1).mp4: 384x640 (no detections), 9.5ms\n",
            "video 1/1 (1453/2632) /content/main (1).mp4: 384x640 (no detections), 9.1ms\n",
            "video 1/1 (1454/2632) /content/main (1).mp4: 384x640 (no detections), 9.2ms\n",
            "video 1/1 (1455/2632) /content/main (1).mp4: 384x640 (no detections), 9.5ms\n",
            "video 1/1 (1456/2632) /content/main (1).mp4: 384x640 (no detections), 8.7ms\n",
            "video 1/1 (1457/2632) /content/main (1).mp4: 384x640 (no detections), 9.5ms\n",
            "video 1/1 (1458/2632) /content/main (1).mp4: 384x640 (no detections), 11.5ms\n",
            "video 1/1 (1459/2632) /content/main (1).mp4: 384x640 (no detections), 8.8ms\n",
            "video 1/1 (1460/2632) /content/main (1).mp4: 384x640 (no detections), 11.2ms\n",
            "video 1/1 (1461/2632) /content/main (1).mp4: 384x640 (no detections), 9.1ms\n",
            "video 1/1 (1462/2632) /content/main (1).mp4: 384x640 (no detections), 11.7ms\n",
            "video 1/1 (1463/2632) /content/main (1).mp4: 384x640 (no detections), 8.9ms\n",
            "video 1/1 (1464/2632) /content/main (1).mp4: 384x640 (no detections), 12.6ms\n",
            "video 1/1 (1465/2632) /content/main (1).mp4: 384x640 1 car, 9.6ms\n",
            "video 1/1 (1466/2632) /content/main (1).mp4: 384x640 1 car, 13.0ms\n",
            "video 1/1 (1467/2632) /content/main (1).mp4: 384x640 1 car, 11.6ms\n",
            "video 1/1 (1468/2632) /content/main (1).mp4: 384x640 (no detections), 8.8ms\n",
            "video 1/1 (1469/2632) /content/main (1).mp4: 384x640 (no detections), 10.2ms\n",
            "video 1/1 (1470/2632) /content/main (1).mp4: 384x640 (no detections), 13.2ms\n",
            "video 1/1 (1471/2632) /content/main (1).mp4: 384x640 (no detections), 8.6ms\n",
            "video 1/1 (1472/2632) /content/main (1).mp4: 384x640 (no detections), 9.6ms\n",
            "video 1/1 (1473/2632) /content/main (1).mp4: 384x640 (no detections), 9.0ms\n",
            "video 1/1 (1474/2632) /content/main (1).mp4: 384x640 (no detections), 10.6ms\n",
            "video 1/1 (1475/2632) /content/main (1).mp4: 384x640 (no detections), 9.0ms\n",
            "video 1/1 (1476/2632) /content/main (1).mp4: 384x640 1 car, 13.1ms\n",
            "video 1/1 (1477/2632) /content/main (1).mp4: 384x640 1 car, 8.7ms\n",
            "video 1/1 (1478/2632) /content/main (1).mp4: 384x640 1 car, 9.3ms\n",
            "video 1/1 (1479/2632) /content/main (1).mp4: 384x640 1 car, 9.3ms\n",
            "video 1/1 (1480/2632) /content/main (1).mp4: 384x640 1 car, 12.2ms\n",
            "video 1/1 (1481/2632) /content/main (1).mp4: 384x640 1 car, 9.2ms\n",
            "video 1/1 (1482/2632) /content/main (1).mp4: 384x640 1 car, 9.7ms\n",
            "video 1/1 (1483/2632) /content/main (1).mp4: 384x640 1 car, 9.1ms\n",
            "video 1/1 (1484/2632) /content/main (1).mp4: 384x640 1 car, 11.8ms\n",
            "video 1/1 (1485/2632) /content/main (1).mp4: 384x640 1 car, 11.5ms\n",
            "video 1/1 (1486/2632) /content/main (1).mp4: 384x640 2 cars, 10.1ms\n",
            "video 1/1 (1487/2632) /content/main (1).mp4: 384x640 2 cars, 12.2ms\n",
            "video 1/1 (1488/2632) /content/main (1).mp4: 384x640 1 car, 10.5ms\n",
            "video 1/1 (1489/2632) /content/main (1).mp4: 384x640 1 car, 10.8ms\n",
            "video 1/1 (1490/2632) /content/main (1).mp4: 384x640 1 car, 10.1ms\n",
            "video 1/1 (1491/2632) /content/main (1).mp4: 384x640 1 car, 14.9ms\n",
            "video 1/1 (1492/2632) /content/main (1).mp4: 384x640 1 car, 11.5ms\n",
            "video 1/1 (1493/2632) /content/main (1).mp4: 384x640 1 car, 11.2ms\n",
            "video 1/1 (1494/2632) /content/main (1).mp4: 384x640 1 car, 14.9ms\n",
            "video 1/1 (1495/2632) /content/main (1).mp4: 384x640 1 car, 10.4ms\n",
            "video 1/1 (1496/2632) /content/main (1).mp4: 384x640 1 car, 10.4ms\n",
            "video 1/1 (1497/2632) /content/main (1).mp4: 384x640 1 car, 13.3ms\n",
            "video 1/1 (1498/2632) /content/main (1).mp4: 384x640 2 cars, 14.2ms\n",
            "video 1/1 (1499/2632) /content/main (1).mp4: 384x640 2 cars, 9.4ms\n",
            "video 1/1 (1500/2632) /content/main (1).mp4: 384x640 2 cars, 12.6ms\n",
            "video 1/1 (1501/2632) /content/main (1).mp4: 384x640 2 cars, 10.1ms\n",
            "video 1/1 (1502/2632) /content/main (1).mp4: 384x640 2 cars, 8.7ms\n",
            "video 1/1 (1503/2632) /content/main (1).mp4: 384x640 1 car, 14.1ms\n",
            "video 1/1 (1504/2632) /content/main (1).mp4: 384x640 1 car, 9.8ms\n",
            "video 1/1 (1505/2632) /content/main (1).mp4: 384x640 1 car, 12.2ms\n",
            "video 1/1 (1506/2632) /content/main (1).mp4: 384x640 1 car, 10.0ms\n",
            "video 1/1 (1507/2632) /content/main (1).mp4: 384x640 1 car, 12.3ms\n",
            "video 1/1 (1508/2632) /content/main (1).mp4: 384x640 1 car, 9.0ms\n",
            "video 1/1 (1509/2632) /content/main (1).mp4: 384x640 1 car, 13.5ms\n",
            "video 1/1 (1510/2632) /content/main (1).mp4: 384x640 1 car, 9.2ms\n",
            "video 1/1 (1511/2632) /content/main (1).mp4: 384x640 (no detections), 12.6ms\n",
            "video 1/1 (1512/2632) /content/main (1).mp4: 384x640 1 car, 10.5ms\n",
            "video 1/1 (1513/2632) /content/main (1).mp4: 384x640 1 car, 12.7ms\n",
            "video 1/1 (1514/2632) /content/main (1).mp4: 384x640 (no detections), 12.6ms\n",
            "video 1/1 (1515/2632) /content/main (1).mp4: 384x640 (no detections), 13.3ms\n",
            "video 1/1 (1516/2632) /content/main (1).mp4: 384x640 1 car, 9.3ms\n",
            "video 1/1 (1517/2632) /content/main (1).mp4: 384x640 1 car, 13.1ms\n",
            "video 1/1 (1518/2632) /content/main (1).mp4: 384x640 1 car, 9.1ms\n",
            "video 1/1 (1519/2632) /content/main (1).mp4: 384x640 1 car, 10.0ms\n",
            "video 1/1 (1520/2632) /content/main (1).mp4: 384x640 1 car, 9.8ms\n",
            "video 1/1 (1521/2632) /content/main (1).mp4: 384x640 1 car, 12.1ms\n",
            "video 1/1 (1522/2632) /content/main (1).mp4: 384x640 1 car, 10.0ms\n",
            "video 1/1 (1523/2632) /content/main (1).mp4: 384x640 1 car, 10.6ms\n",
            "video 1/1 (1524/2632) /content/main (1).mp4: 384x640 1 car, 9.7ms\n",
            "video 1/1 (1525/2632) /content/main (1).mp4: 384x640 1 car, 11.2ms\n",
            "video 1/1 (1526/2632) /content/main (1).mp4: 384x640 1 car, 9.0ms\n",
            "video 1/1 (1527/2632) /content/main (1).mp4: 384x640 1 car, 12.0ms\n",
            "video 1/1 (1528/2632) /content/main (1).mp4: 384x640 1 car, 12.4ms\n",
            "video 1/1 (1529/2632) /content/main (1).mp4: 384x640 1 car, 12.1ms\n",
            "video 1/1 (1530/2632) /content/main (1).mp4: 384x640 1 car, 8.8ms\n",
            "video 1/1 (1531/2632) /content/main (1).mp4: 384x640 1 car, 10.9ms\n",
            "video 1/1 (1532/2632) /content/main (1).mp4: 384x640 1 car, 9.0ms\n",
            "video 1/1 (1533/2632) /content/main (1).mp4: 384x640 1 car, 10.6ms\n",
            "video 1/1 (1534/2632) /content/main (1).mp4: 384x640 1 car, 14.3ms\n",
            "video 1/1 (1535/2632) /content/main (1).mp4: 384x640 1 car, 9.6ms\n",
            "video 1/1 (1536/2632) /content/main (1).mp4: 384x640 1 car, 9.1ms\n",
            "video 1/1 (1537/2632) /content/main (1).mp4: 384x640 1 car, 10.8ms\n",
            "video 1/1 (1538/2632) /content/main (1).mp4: 384x640 1 car, 11.5ms\n",
            "video 1/1 (1539/2632) /content/main (1).mp4: 384x640 1 car, 11.9ms\n",
            "video 1/1 (1540/2632) /content/main (1).mp4: 384x640 1 car, 8.9ms\n",
            "video 1/1 (1541/2632) /content/main (1).mp4: 384x640 1 car, 11.5ms\n",
            "video 1/1 (1542/2632) /content/main (1).mp4: 384x640 1 car, 11.7ms\n",
            "video 1/1 (1543/2632) /content/main (1).mp4: 384x640 1 car, 9.6ms\n",
            "video 1/1 (1544/2632) /content/main (1).mp4: 384x640 1 car, 11.6ms\n",
            "video 1/1 (1545/2632) /content/main (1).mp4: 384x640 1 car, 9.0ms\n",
            "video 1/1 (1546/2632) /content/main (1).mp4: 384x640 1 car, 8.6ms\n",
            "video 1/1 (1547/2632) /content/main (1).mp4: 384x640 1 car, 9.7ms\n",
            "video 1/1 (1548/2632) /content/main (1).mp4: 384x640 1 car, 10.5ms\n",
            "video 1/1 (1549/2632) /content/main (1).mp4: 384x640 1 car, 8.7ms\n",
            "video 1/1 (1550/2632) /content/main (1).mp4: 384x640 1 car, 11.9ms\n",
            "video 1/1 (1551/2632) /content/main (1).mp4: 384x640 1 car, 9.0ms\n",
            "video 1/1 (1552/2632) /content/main (1).mp4: 384x640 1 car, 9.0ms\n",
            "video 1/1 (1553/2632) /content/main (1).mp4: 384x640 1 car, 9.7ms\n",
            "video 1/1 (1554/2632) /content/main (1).mp4: 384x640 1 car, 11.3ms\n",
            "video 1/1 (1555/2632) /content/main (1).mp4: 384x640 1 car, 12.1ms\n",
            "video 1/1 (1556/2632) /content/main (1).mp4: 384x640 1 car, 9.5ms\n",
            "video 1/1 (1557/2632) /content/main (1).mp4: 384x640 1 car, 9.0ms\n",
            "video 1/1 (1558/2632) /content/main (1).mp4: 384x640 1 car, 10.2ms\n",
            "video 1/1 (1559/2632) /content/main (1).mp4: 384x640 1 car, 8.6ms\n",
            "video 1/1 (1560/2632) /content/main (1).mp4: 384x640 1 car, 9.5ms\n",
            "video 1/1 (1561/2632) /content/main (1).mp4: 384x640 1 car, 10.2ms\n",
            "video 1/1 (1562/2632) /content/main (1).mp4: 384x640 1 car, 10.0ms\n",
            "video 1/1 (1563/2632) /content/main (1).mp4: 384x640 1 car, 9.5ms\n",
            "video 1/1 (1564/2632) /content/main (1).mp4: 384x640 1 car, 9.5ms\n",
            "video 1/1 (1565/2632) /content/main (1).mp4: 384x640 1 car, 13.5ms\n",
            "video 1/1 (1566/2632) /content/main (1).mp4: 384x640 1 car, 9.7ms\n",
            "video 1/1 (1567/2632) /content/main (1).mp4: 384x640 1 car, 10.3ms\n",
            "video 1/1 (1568/2632) /content/main (1).mp4: 384x640 1 car, 11.0ms\n",
            "video 1/1 (1569/2632) /content/main (1).mp4: 384x640 1 car, 9.1ms\n",
            "video 1/1 (1570/2632) /content/main (1).mp4: 384x640 1 car, 9.5ms\n",
            "video 1/1 (1571/2632) /content/main (1).mp4: 384x640 1 car, 9.9ms\n",
            "video 1/1 (1572/2632) /content/main (1).mp4: 384x640 1 car, 10.3ms\n",
            "video 1/1 (1573/2632) /content/main (1).mp4: 384x640 1 car, 10.4ms\n",
            "video 1/1 (1574/2632) /content/main (1).mp4: 384x640 1 car, 9.4ms\n",
            "video 1/1 (1575/2632) /content/main (1).mp4: 384x640 1 car, 11.0ms\n",
            "video 1/1 (1576/2632) /content/main (1).mp4: 384x640 1 car, 10.1ms\n",
            "video 1/1 (1577/2632) /content/main (1).mp4: 384x640 1 car, 10.2ms\n",
            "video 1/1 (1578/2632) /content/main (1).mp4: 384x640 1 car, 9.8ms\n",
            "video 1/1 (1579/2632) /content/main (1).mp4: 384x640 1 car, 10.1ms\n",
            "video 1/1 (1580/2632) /content/main (1).mp4: 384x640 1 car, 10.7ms\n",
            "video 1/1 (1581/2632) /content/main (1).mp4: 384x640 1 car, 12.0ms\n",
            "video 1/1 (1582/2632) /content/main (1).mp4: 384x640 1 car, 11.2ms\n",
            "video 1/1 (1583/2632) /content/main (1).mp4: 384x640 1 car, 10.8ms\n",
            "video 1/1 (1584/2632) /content/main (1).mp4: 384x640 1 car, 10.9ms\n",
            "video 1/1 (1585/2632) /content/main (1).mp4: 384x640 1 car, 10.9ms\n",
            "video 1/1 (1586/2632) /content/main (1).mp4: 384x640 1 car, 10.3ms\n",
            "video 1/1 (1587/2632) /content/main (1).mp4: 384x640 1 car, 10.4ms\n",
            "video 1/1 (1588/2632) /content/main (1).mp4: 384x640 1 car, 9.4ms\n",
            "video 1/1 (1589/2632) /content/main (1).mp4: 384x640 1 car, 10.1ms\n",
            "video 1/1 (1590/2632) /content/main (1).mp4: 384x640 1 car, 9.4ms\n",
            "video 1/1 (1591/2632) /content/main (1).mp4: 384x640 1 car, 12.0ms\n",
            "video 1/1 (1592/2632) /content/main (1).mp4: 384x640 1 car, 10.2ms\n",
            "video 1/1 (1593/2632) /content/main (1).mp4: 384x640 1 car, 9.9ms\n",
            "video 1/1 (1594/2632) /content/main (1).mp4: 384x640 1 car, 11.5ms\n",
            "video 1/1 (1595/2632) /content/main (1).mp4: 384x640 1 car, 10.4ms\n",
            "video 1/1 (1596/2632) /content/main (1).mp4: 384x640 1 car, 12.7ms\n",
            "video 1/1 (1597/2632) /content/main (1).mp4: 384x640 1 car, 16.3ms\n",
            "video 1/1 (1598/2632) /content/main (1).mp4: 384x640 1 car, 13.2ms\n",
            "video 1/1 (1599/2632) /content/main (1).mp4: 384x640 1 car, 11.3ms\n",
            "video 1/1 (1600/2632) /content/main (1).mp4: 384x640 1 car, 10.0ms\n",
            "video 1/1 (1601/2632) /content/main (1).mp4: 384x640 1 car, 12.4ms\n",
            "video 1/1 (1602/2632) /content/main (1).mp4: 384x640 1 car, 10.9ms\n",
            "video 1/1 (1603/2632) /content/main (1).mp4: 384x640 1 car, 10.4ms\n",
            "video 1/1 (1604/2632) /content/main (1).mp4: 384x640 1 car, 10.3ms\n",
            "video 1/1 (1605/2632) /content/main (1).mp4: 384x640 1 car, 11.5ms\n",
            "video 1/1 (1606/2632) /content/main (1).mp4: 384x640 1 car, 9.8ms\n",
            "video 1/1 (1607/2632) /content/main (1).mp4: 384x640 1 car, 10.9ms\n",
            "video 1/1 (1608/2632) /content/main (1).mp4: 384x640 1 car, 10.2ms\n",
            "video 1/1 (1609/2632) /content/main (1).mp4: 384x640 1 car, 9.4ms\n",
            "video 1/1 (1610/2632) /content/main (1).mp4: 384x640 1 car, 10.1ms\n",
            "video 1/1 (1611/2632) /content/main (1).mp4: 384x640 1 car, 9.2ms\n",
            "video 1/1 (1612/2632) /content/main (1).mp4: 384x640 1 car, 10.4ms\n",
            "video 1/1 (1613/2632) /content/main (1).mp4: 384x640 1 car, 11.0ms\n",
            "video 1/1 (1614/2632) /content/main (1).mp4: 384x640 1 car, 11.5ms\n",
            "video 1/1 (1615/2632) /content/main (1).mp4: 384x640 1 car, 12.5ms\n",
            "video 1/1 (1616/2632) /content/main (1).mp4: 384x640 1 car, 11.2ms\n",
            "video 1/1 (1617/2632) /content/main (1).mp4: 384x640 1 car, 9.7ms\n",
            "video 1/1 (1618/2632) /content/main (1).mp4: 384x640 1 car, 11.1ms\n",
            "video 1/1 (1619/2632) /content/main (1).mp4: 384x640 1 car, 11.8ms\n",
            "video 1/1 (1620/2632) /content/main (1).mp4: 384x640 1 car, 12.1ms\n",
            "video 1/1 (1621/2632) /content/main (1).mp4: 384x640 1 car, 9.7ms\n",
            "video 1/1 (1622/2632) /content/main (1).mp4: 384x640 1 car, 11.3ms\n",
            "video 1/1 (1623/2632) /content/main (1).mp4: 384x640 1 car, 8.9ms\n",
            "video 1/1 (1624/2632) /content/main (1).mp4: 384x640 1 car, 9.2ms\n",
            "video 1/1 (1625/2632) /content/main (1).mp4: 384x640 1 car, 10.9ms\n",
            "video 1/1 (1626/2632) /content/main (1).mp4: 384x640 1 car, 12.5ms\n",
            "video 1/1 (1627/2632) /content/main (1).mp4: 384x640 1 car, 8.9ms\n",
            "video 1/1 (1628/2632) /content/main (1).mp4: 384x640 1 car, 16.0ms\n",
            "video 1/1 (1629/2632) /content/main (1).mp4: 384x640 1 car, 9.5ms\n",
            "video 1/1 (1630/2632) /content/main (1).mp4: 384x640 1 car, 9.2ms\n",
            "video 1/1 (1631/2632) /content/main (1).mp4: 384x640 1 car, 10.5ms\n",
            "video 1/1 (1632/2632) /content/main (1).mp4: 384x640 1 car, 10.1ms\n",
            "video 1/1 (1633/2632) /content/main (1).mp4: 384x640 1 car, 9.4ms\n",
            "video 1/1 (1634/2632) /content/main (1).mp4: 384x640 1 car, 10.2ms\n",
            "video 1/1 (1635/2632) /content/main (1).mp4: 384x640 1 car, 11.4ms\n",
            "video 1/1 (1636/2632) /content/main (1).mp4: 384x640 1 car, 10.2ms\n",
            "video 1/1 (1637/2632) /content/main (1).mp4: 384x640 1 car, 11.2ms\n",
            "video 1/1 (1638/2632) /content/main (1).mp4: 384x640 1 car, 10.0ms\n",
            "video 1/1 (1639/2632) /content/main (1).mp4: 384x640 1 car, 9.7ms\n",
            "video 1/1 (1640/2632) /content/main (1).mp4: 384x640 1 car, 10.1ms\n",
            "video 1/1 (1641/2632) /content/main (1).mp4: 384x640 1 car, 9.6ms\n",
            "video 1/1 (1642/2632) /content/main (1).mp4: 384x640 1 car, 11.1ms\n",
            "video 1/1 (1643/2632) /content/main (1).mp4: 384x640 1 car, 9.5ms\n",
            "video 1/1 (1644/2632) /content/main (1).mp4: 384x640 1 car, 10.5ms\n",
            "video 1/1 (1645/2632) /content/main (1).mp4: 384x640 1 car, 10.2ms\n",
            "video 1/1 (1646/2632) /content/main (1).mp4: 384x640 1 car, 9.5ms\n",
            "video 1/1 (1647/2632) /content/main (1).mp4: 384x640 1 car, 9.1ms\n",
            "video 1/1 (1648/2632) /content/main (1).mp4: 384x640 1 car, 9.8ms\n",
            "video 1/1 (1649/2632) /content/main (1).mp4: 384x640 1 car, 10.5ms\n",
            "video 1/1 (1650/2632) /content/main (1).mp4: 384x640 1 car, 13.0ms\n",
            "video 1/1 (1651/2632) /content/main (1).mp4: 384x640 1 car, 9.6ms\n",
            "video 1/1 (1652/2632) /content/main (1).mp4: 384x640 1 car, 10.4ms\n",
            "video 1/1 (1653/2632) /content/main (1).mp4: 384x640 1 car, 10.6ms\n",
            "video 1/1 (1654/2632) /content/main (1).mp4: 384x640 1 car, 10.6ms\n",
            "video 1/1 (1655/2632) /content/main (1).mp4: 384x640 1 car, 13.1ms\n",
            "video 1/1 (1656/2632) /content/main (1).mp4: 384x640 1 car, 14.7ms\n",
            "video 1/1 (1657/2632) /content/main (1).mp4: 384x640 1 car, 13.8ms\n",
            "video 1/1 (1658/2632) /content/main (1).mp4: 384x640 1 car, 9.9ms\n",
            "video 1/1 (1659/2632) /content/main (1).mp4: 384x640 1 car, 10.3ms\n",
            "video 1/1 (1660/2632) /content/main (1).mp4: 384x640 1 car, 11.5ms\n",
            "video 1/1 (1661/2632) /content/main (1).mp4: 384x640 1 car, 9.2ms\n",
            "video 1/1 (1662/2632) /content/main (1).mp4: 384x640 1 car, 11.8ms\n",
            "video 1/1 (1663/2632) /content/main (1).mp4: 384x640 1 car, 9.2ms\n",
            "video 1/1 (1664/2632) /content/main (1).mp4: 384x640 1 car, 11.6ms\n",
            "video 1/1 (1665/2632) /content/main (1).mp4: 384x640 1 car, 11.6ms\n",
            "video 1/1 (1666/2632) /content/main (1).mp4: 384x640 1 car, 9.7ms\n",
            "video 1/1 (1667/2632) /content/main (1).mp4: 384x640 1 car, 9.4ms\n",
            "video 1/1 (1668/2632) /content/main (1).mp4: 384x640 1 car, 9.8ms\n",
            "video 1/1 (1669/2632) /content/main (1).mp4: 384x640 1 car, 8.9ms\n",
            "video 1/1 (1670/2632) /content/main (1).mp4: 384x640 1 car, 9.9ms\n",
            "video 1/1 (1671/2632) /content/main (1).mp4: 384x640 1 car, 9.7ms\n",
            "video 1/1 (1672/2632) /content/main (1).mp4: 384x640 1 car, 9.2ms\n",
            "video 1/1 (1673/2632) /content/main (1).mp4: 384x640 1 car, 10.7ms\n",
            "video 1/1 (1674/2632) /content/main (1).mp4: 384x640 1 car, 8.7ms\n",
            "video 1/1 (1675/2632) /content/main (1).mp4: 384x640 1 car, 10.2ms\n",
            "video 1/1 (1676/2632) /content/main (1).mp4: 384x640 1 car, 11.5ms\n",
            "video 1/1 (1677/2632) /content/main (1).mp4: 384x640 1 car, 15.3ms\n",
            "video 1/1 (1678/2632) /content/main (1).mp4: 384x640 1 car, 14.9ms\n",
            "video 1/1 (1679/2632) /content/main (1).mp4: 384x640 1 car, 15.0ms\n",
            "video 1/1 (1680/2632) /content/main (1).mp4: 384x640 1 car, 13.6ms\n",
            "video 1/1 (1681/2632) /content/main (1).mp4: 384x640 1 car, 17.6ms\n",
            "video 1/1 (1682/2632) /content/main (1).mp4: 384x640 1 car, 10.9ms\n",
            "video 1/1 (1683/2632) /content/main (1).mp4: 384x640 1 car, 22.1ms\n",
            "video 1/1 (1684/2632) /content/main (1).mp4: 384x640 1 car, 15.2ms\n",
            "video 1/1 (1685/2632) /content/main (1).mp4: 384x640 1 car, 15.5ms\n",
            "video 1/1 (1686/2632) /content/main (1).mp4: 384x640 1 car, 12.9ms\n",
            "video 1/1 (1687/2632) /content/main (1).mp4: 384x640 1 car, 17.4ms\n",
            "video 1/1 (1688/2632) /content/main (1).mp4: 384x640 1 car, 15.0ms\n",
            "video 1/1 (1689/2632) /content/main (1).mp4: 384x640 1 car, 12.0ms\n",
            "video 1/1 (1690/2632) /content/main (1).mp4: 384x640 1 car, 11.7ms\n",
            "video 1/1 (1691/2632) /content/main (1).mp4: 384x640 1 car, 11.9ms\n",
            "video 1/1 (1692/2632) /content/main (1).mp4: 384x640 1 car, 15.2ms\n",
            "video 1/1 (1693/2632) /content/main (1).mp4: 384x640 1 car, 11.1ms\n",
            "video 1/1 (1694/2632) /content/main (1).mp4: 384x640 1 car, 10.9ms\n",
            "video 1/1 (1695/2632) /content/main (1).mp4: 384x640 1 car, 11.2ms\n",
            "video 1/1 (1696/2632) /content/main (1).mp4: 384x640 1 car, 10.9ms\n",
            "video 1/1 (1697/2632) /content/main (1).mp4: 384x640 1 car, 12.1ms\n",
            "video 1/1 (1698/2632) /content/main (1).mp4: 384x640 1 car, 12.0ms\n",
            "video 1/1 (1699/2632) /content/main (1).mp4: 384x640 1 car, 11.1ms\n",
            "video 1/1 (1700/2632) /content/main (1).mp4: 384x640 1 car, 11.3ms\n",
            "video 1/1 (1701/2632) /content/main (1).mp4: 384x640 1 car, 12.9ms\n",
            "video 1/1 (1702/2632) /content/main (1).mp4: 384x640 1 car, 11.0ms\n",
            "video 1/1 (1703/2632) /content/main (1).mp4: 384x640 1 car, 12.5ms\n",
            "video 1/1 (1704/2632) /content/main (1).mp4: 384x640 1 car, 11.9ms\n",
            "video 1/1 (1705/2632) /content/main (1).mp4: 384x640 1 car, 18.4ms\n",
            "video 1/1 (1706/2632) /content/main (1).mp4: 384x640 1 car, 12.6ms\n",
            "video 1/1 (1707/2632) /content/main (1).mp4: 384x640 1 car, 16.5ms\n",
            "video 1/1 (1708/2632) /content/main (1).mp4: 384x640 1 car, 15.1ms\n",
            "video 1/1 (1709/2632) /content/main (1).mp4: 384x640 1 car, 18.2ms\n",
            "video 1/1 (1710/2632) /content/main (1).mp4: 384x640 1 car, 16.7ms\n",
            "video 1/1 (1711/2632) /content/main (1).mp4: 384x640 1 car, 21.4ms\n",
            "video 1/1 (1712/2632) /content/main (1).mp4: 384x640 1 car, 12.6ms\n",
            "video 1/1 (1713/2632) /content/main (1).mp4: 384x640 1 car, 13.1ms\n",
            "video 1/1 (1714/2632) /content/main (1).mp4: 384x640 1 car, 11.9ms\n",
            "video 1/1 (1715/2632) /content/main (1).mp4: 384x640 1 car, 12.0ms\n",
            "video 1/1 (1716/2632) /content/main (1).mp4: 384x640 1 car, 12.8ms\n",
            "video 1/1 (1717/2632) /content/main (1).mp4: 384x640 1 car, 13.8ms\n",
            "video 1/1 (1718/2632) /content/main (1).mp4: 384x640 1 car, 11.6ms\n",
            "video 1/1 (1719/2632) /content/main (1).mp4: 384x640 1 car, 11.8ms\n",
            "video 1/1 (1720/2632) /content/main (1).mp4: 384x640 1 car, 14.0ms\n",
            "video 1/1 (1721/2632) /content/main (1).mp4: 384x640 1 car, 14.0ms\n",
            "video 1/1 (1722/2632) /content/main (1).mp4: 384x640 1 car, 11.8ms\n",
            "video 1/1 (1723/2632) /content/main (1).mp4: 384x640 1 car, 11.2ms\n",
            "video 1/1 (1724/2632) /content/main (1).mp4: 384x640 1 car, 11.9ms\n",
            "video 1/1 (1725/2632) /content/main (1).mp4: 384x640 1 car, 12.4ms\n",
            "video 1/1 (1726/2632) /content/main (1).mp4: 384x640 1 car, 11.6ms\n",
            "video 1/1 (1727/2632) /content/main (1).mp4: 384x640 1 car, 11.5ms\n",
            "video 1/1 (1728/2632) /content/main (1).mp4: 384x640 1 car, 14.1ms\n",
            "video 1/1 (1729/2632) /content/main (1).mp4: 384x640 1 car, 10.7ms\n",
            "video 1/1 (1730/2632) /content/main (1).mp4: 384x640 1 car, 18.3ms\n",
            "video 1/1 (1731/2632) /content/main (1).mp4: 384x640 1 car, 11.5ms\n",
            "video 1/1 (1732/2632) /content/main (1).mp4: 384x640 1 car, 11.0ms\n",
            "video 1/1 (1733/2632) /content/main (1).mp4: 384x640 1 car, 11.3ms\n",
            "video 1/1 (1734/2632) /content/main (1).mp4: 384x640 1 car, 10.6ms\n",
            "video 1/1 (1735/2632) /content/main (1).mp4: 384x640 1 car, 11.8ms\n",
            "video 1/1 (1736/2632) /content/main (1).mp4: 384x640 1 car, 15.0ms\n",
            "video 1/1 (1737/2632) /content/main (1).mp4: 384x640 1 car, 12.3ms\n",
            "video 1/1 (1738/2632) /content/main (1).mp4: 384x640 1 car, 13.0ms\n",
            "video 1/1 (1739/2632) /content/main (1).mp4: 384x640 1 car, 17.9ms\n",
            "video 1/1 (1740/2632) /content/main (1).mp4: 384x640 1 car, 16.8ms\n",
            "video 1/1 (1741/2632) /content/main (1).mp4: 384x640 1 car, 12.3ms\n",
            "video 1/1 (1742/2632) /content/main (1).mp4: 384x640 1 car, 12.1ms\n",
            "video 1/1 (1743/2632) /content/main (1).mp4: 384x640 1 car, 12.8ms\n",
            "video 1/1 (1744/2632) /content/main (1).mp4: 384x640 1 car, 11.8ms\n",
            "video 1/1 (1745/2632) /content/main (1).mp4: 384x640 1 car, 18.0ms\n",
            "video 1/1 (1746/2632) /content/main (1).mp4: 384x640 1 car, 14.8ms\n",
            "video 1/1 (1747/2632) /content/main (1).mp4: 384x640 1 car, 11.5ms\n",
            "video 1/1 (1748/2632) /content/main (1).mp4: 384x640 1 car, 14.0ms\n",
            "video 1/1 (1749/2632) /content/main (1).mp4: 384x640 1 car, 15.0ms\n",
            "video 1/1 (1750/2632) /content/main (1).mp4: 384x640 1 car, 14.6ms\n",
            "video 1/1 (1751/2632) /content/main (1).mp4: 384x640 1 car, 15.7ms\n",
            "video 1/1 (1752/2632) /content/main (1).mp4: 384x640 1 car, 16.4ms\n",
            "video 1/1 (1753/2632) /content/main (1).mp4: 384x640 1 car, 17.0ms\n",
            "video 1/1 (1754/2632) /content/main (1).mp4: 384x640 1 car, 15.0ms\n",
            "video 1/1 (1755/2632) /content/main (1).mp4: 384x640 1 car, 16.1ms\n",
            "video 1/1 (1756/2632) /content/main (1).mp4: 384x640 1 car, 18.7ms\n",
            "video 1/1 (1757/2632) /content/main (1).mp4: 384x640 1 car, 12.2ms\n",
            "video 1/1 (1758/2632) /content/main (1).mp4: 384x640 1 car, 10.1ms\n",
            "video 1/1 (1759/2632) /content/main (1).mp4: 384x640 1 car, 13.5ms\n",
            "video 1/1 (1760/2632) /content/main (1).mp4: 384x640 1 car, 10.6ms\n",
            "video 1/1 (1761/2632) /content/main (1).mp4: 384x640 1 car, 10.1ms\n",
            "video 1/1 (1762/2632) /content/main (1).mp4: 384x640 1 car, 9.6ms\n",
            "video 1/1 (1763/2632) /content/main (1).mp4: 384x640 1 car, 8.9ms\n",
            "video 1/1 (1764/2632) /content/main (1).mp4: 384x640 1 car, 10.1ms\n",
            "video 1/1 (1765/2632) /content/main (1).mp4: 384x640 1 car, 8.9ms\n",
            "video 1/1 (1766/2632) /content/main (1).mp4: 384x640 1 car, 10.2ms\n",
            "video 1/1 (1767/2632) /content/main (1).mp4: 384x640 1 car, 8.7ms\n",
            "video 1/1 (1768/2632) /content/main (1).mp4: 384x640 1 car, 11.8ms\n",
            "video 1/1 (1769/2632) /content/main (1).mp4: 384x640 1 car, 10.8ms\n",
            "video 1/1 (1770/2632) /content/main (1).mp4: 384x640 1 car, 10.4ms\n",
            "video 1/1 (1771/2632) /content/main (1).mp4: 384x640 1 car, 10.2ms\n",
            "video 1/1 (1772/2632) /content/main (1).mp4: 384x640 1 car, 9.1ms\n",
            "video 1/1 (1773/2632) /content/main (1).mp4: 384x640 1 car, 10.9ms\n",
            "video 1/1 (1774/2632) /content/main (1).mp4: 384x640 1 car, 10.1ms\n",
            "video 1/1 (1775/2632) /content/main (1).mp4: 384x640 1 car, 9.0ms\n",
            "video 1/1 (1776/2632) /content/main (1).mp4: 384x640 1 car, 13.8ms\n",
            "video 1/1 (1777/2632) /content/main (1).mp4: 384x640 1 car, 10.2ms\n",
            "video 1/1 (1778/2632) /content/main (1).mp4: 384x640 1 car, 9.6ms\n",
            "video 1/1 (1779/2632) /content/main (1).mp4: 384x640 1 car, 10.4ms\n",
            "video 1/1 (1780/2632) /content/main (1).mp4: 384x640 1 car, 8.9ms\n",
            "video 1/1 (1781/2632) /content/main (1).mp4: 384x640 1 car, 16.3ms\n",
            "video 1/1 (1782/2632) /content/main (1).mp4: 384x640 1 car, 12.4ms\n",
            "video 1/1 (1783/2632) /content/main (1).mp4: 384x640 1 car, 12.6ms\n",
            "video 1/1 (1784/2632) /content/main (1).mp4: 384x640 1 car, 12.0ms\n",
            "video 1/1 (1785/2632) /content/main (1).mp4: 384x640 1 car, 8.8ms\n",
            "video 1/1 (1786/2632) /content/main (1).mp4: 384x640 1 car, 9.7ms\n",
            "video 1/1 (1787/2632) /content/main (1).mp4: 384x640 1 car, 9.3ms\n",
            "video 1/1 (1788/2632) /content/main (1).mp4: 384x640 1 car, 10.3ms\n",
            "video 1/1 (1789/2632) /content/main (1).mp4: 384x640 1 car, 12.5ms\n",
            "video 1/1 (1790/2632) /content/main (1).mp4: 384x640 1 car, 14.0ms\n",
            "video 1/1 (1791/2632) /content/main (1).mp4: 384x640 1 car, 15.8ms\n",
            "video 1/1 (1792/2632) /content/main (1).mp4: 384x640 1 car, 12.1ms\n",
            "video 1/1 (1793/2632) /content/main (1).mp4: 384x640 1 car, 10.1ms\n",
            "video 1/1 (1794/2632) /content/main (1).mp4: 384x640 1 car, 10.3ms\n",
            "video 1/1 (1795/2632) /content/main (1).mp4: 384x640 1 car, 9.6ms\n",
            "video 1/1 (1796/2632) /content/main (1).mp4: 384x640 1 car, 9.7ms\n",
            "video 1/1 (1797/2632) /content/main (1).mp4: 384x640 1 car, 12.3ms\n",
            "video 1/1 (1798/2632) /content/main (1).mp4: 384x640 1 car, 9.2ms\n",
            "video 1/1 (1799/2632) /content/main (1).mp4: 384x640 1 car, 11.3ms\n",
            "video 1/1 (1800/2632) /content/main (1).mp4: 384x640 1 car, 10.5ms\n",
            "video 1/1 (1801/2632) /content/main (1).mp4: 384x640 1 car, 9.7ms\n",
            "video 1/1 (1802/2632) /content/main (1).mp4: 384x640 1 car, 10.7ms\n",
            "video 1/1 (1803/2632) /content/main (1).mp4: 384x640 1 car, 10.5ms\n",
            "video 1/1 (1804/2632) /content/main (1).mp4: 384x640 1 car, 9.0ms\n",
            "video 1/1 (1805/2632) /content/main (1).mp4: 384x640 1 car, 10.6ms\n",
            "video 1/1 (1806/2632) /content/main (1).mp4: 384x640 1 car, 11.3ms\n",
            "video 1/1 (1807/2632) /content/main (1).mp4: 384x640 1 car, 11.9ms\n",
            "video 1/1 (1808/2632) /content/main (1).mp4: 384x640 1 car, 9.8ms\n",
            "video 1/1 (1809/2632) /content/main (1).mp4: 384x640 1 car, 9.1ms\n",
            "video 1/1 (1810/2632) /content/main (1).mp4: 384x640 1 car, 12.4ms\n",
            "video 1/1 (1811/2632) /content/main (1).mp4: 384x640 1 car, 14.0ms\n",
            "video 1/1 (1812/2632) /content/main (1).mp4: 384x640 1 car, 11.4ms\n",
            "video 1/1 (1813/2632) /content/main (1).mp4: 384x640 1 car, 10.2ms\n",
            "video 1/1 (1814/2632) /content/main (1).mp4: 384x640 1 car, 10.2ms\n",
            "video 1/1 (1815/2632) /content/main (1).mp4: 384x640 1 car, 9.5ms\n",
            "video 1/1 (1816/2632) /content/main (1).mp4: 384x640 (no detections), 11.2ms\n",
            "video 1/1 (1817/2632) /content/main (1).mp4: 384x640 (no detections), 11.5ms\n",
            "video 1/1 (1818/2632) /content/main (1).mp4: 384x640 (no detections), 8.9ms\n",
            "video 1/1 (1819/2632) /content/main (1).mp4: 384x640 (no detections), 10.8ms\n",
            "video 1/1 (1820/2632) /content/main (1).mp4: 384x640 (no detections), 10.2ms\n",
            "video 1/1 (1821/2632) /content/main (1).mp4: 384x640 (no detections), 10.6ms\n",
            "video 1/1 (1822/2632) /content/main (1).mp4: 384x640 (no detections), 13.5ms\n",
            "video 1/1 (1823/2632) /content/main (1).mp4: 384x640 (no detections), 10.6ms\n",
            "video 1/1 (1824/2632) /content/main (1).mp4: 384x640 (no detections), 9.5ms\n",
            "video 1/1 (1825/2632) /content/main (1).mp4: 384x640 (no detections), 11.3ms\n",
            "video 1/1 (1826/2632) /content/main (1).mp4: 384x640 (no detections), 9.7ms\n",
            "video 1/1 (1827/2632) /content/main (1).mp4: 384x640 (no detections), 12.2ms\n",
            "video 1/1 (1828/2632) /content/main (1).mp4: 384x640 (no detections), 8.9ms\n",
            "video 1/1 (1829/2632) /content/main (1).mp4: 384x640 (no detections), 12.1ms\n",
            "video 1/1 (1830/2632) /content/main (1).mp4: 384x640 (no detections), 9.2ms\n",
            "video 1/1 (1831/2632) /content/main (1).mp4: 384x640 (no detections), 10.3ms\n",
            "video 1/1 (1832/2632) /content/main (1).mp4: 384x640 (no detections), 9.9ms\n",
            "video 1/1 (1833/2632) /content/main (1).mp4: 384x640 (no detections), 10.5ms\n",
            "video 1/1 (1834/2632) /content/main (1).mp4: 384x640 (no detections), 9.3ms\n",
            "video 1/1 (1835/2632) /content/main (1).mp4: 384x640 (no detections), 13.2ms\n",
            "video 1/1 (1836/2632) /content/main (1).mp4: 384x640 (no detections), 9.3ms\n",
            "video 1/1 (1837/2632) /content/main (1).mp4: 384x640 (no detections), 9.6ms\n",
            "video 1/1 (1838/2632) /content/main (1).mp4: 384x640 (no detections), 12.6ms\n",
            "video 1/1 (1839/2632) /content/main (1).mp4: 384x640 (no detections), 11.1ms\n",
            "video 1/1 (1840/2632) /content/main (1).mp4: 384x640 (no detections), 8.6ms\n",
            "video 1/1 (1841/2632) /content/main (1).mp4: 384x640 (no detections), 12.1ms\n",
            "video 1/1 (1842/2632) /content/main (1).mp4: 384x640 (no detections), 9.0ms\n",
            "video 1/1 (1843/2632) /content/main (1).mp4: 384x640 (no detections), 12.6ms\n",
            "video 1/1 (1844/2632) /content/main (1).mp4: 384x640 (no detections), 13.6ms\n",
            "video 1/1 (1845/2632) /content/main (1).mp4: 384x640 (no detections), 9.1ms\n",
            "video 1/1 (1846/2632) /content/main (1).mp4: 384x640 (no detections), 9.9ms\n",
            "video 1/1 (1847/2632) /content/main (1).mp4: 384x640 (no detections), 9.0ms\n",
            "video 1/1 (1848/2632) /content/main (1).mp4: 384x640 (no detections), 11.0ms\n",
            "video 1/1 (1849/2632) /content/main (1).mp4: 384x640 (no detections), 11.5ms\n",
            "video 1/1 (1850/2632) /content/main (1).mp4: 384x640 (no detections), 8.6ms\n",
            "video 1/1 (1851/2632) /content/main (1).mp4: 384x640 (no detections), 11.8ms\n",
            "video 1/1 (1852/2632) /content/main (1).mp4: 384x640 (no detections), 11.6ms\n",
            "video 1/1 (1853/2632) /content/main (1).mp4: 384x640 (no detections), 10.0ms\n",
            "video 1/1 (1854/2632) /content/main (1).mp4: 384x640 (no detections), 16.7ms\n",
            "video 1/1 (1855/2632) /content/main (1).mp4: 384x640 (no detections), 9.1ms\n",
            "video 1/1 (1856/2632) /content/main (1).mp4: 384x640 (no detections), 10.4ms\n",
            "video 1/1 (1857/2632) /content/main (1).mp4: 384x640 (no detections), 11.6ms\n",
            "video 1/1 (1858/2632) /content/main (1).mp4: 384x640 (no detections), 11.6ms\n",
            "video 1/1 (1859/2632) /content/main (1).mp4: 384x640 (no detections), 10.1ms\n",
            "video 1/1 (1860/2632) /content/main (1).mp4: 384x640 (no detections), 13.2ms\n",
            "video 1/1 (1861/2632) /content/main (1).mp4: 384x640 (no detections), 16.8ms\n",
            "video 1/1 (1862/2632) /content/main (1).mp4: 384x640 (no detections), 9.2ms\n",
            "video 1/1 (1863/2632) /content/main (1).mp4: 384x640 (no detections), 10.0ms\n",
            "video 1/1 (1864/2632) /content/main (1).mp4: 384x640 (no detections), 10.1ms\n",
            "video 1/1 (1865/2632) /content/main (1).mp4: 384x640 (no detections), 11.0ms\n",
            "video 1/1 (1866/2632) /content/main (1).mp4: 384x640 (no detections), 9.4ms\n",
            "video 1/1 (1867/2632) /content/main (1).mp4: 384x640 (no detections), 14.7ms\n",
            "video 1/1 (1868/2632) /content/main (1).mp4: 384x640 (no detections), 13.4ms\n",
            "video 1/1 (1869/2632) /content/main (1).mp4: 384x640 (no detections), 9.8ms\n",
            "video 1/1 (1870/2632) /content/main (1).mp4: 384x640 (no detections), 9.7ms\n",
            "video 1/1 (1871/2632) /content/main (1).mp4: 384x640 (no detections), 9.7ms\n",
            "video 1/1 (1872/2632) /content/main (1).mp4: 384x640 (no detections), 8.6ms\n",
            "video 1/1 (1873/2632) /content/main (1).mp4: 384x640 (no detections), 10.2ms\n",
            "video 1/1 (1874/2632) /content/main (1).mp4: 384x640 (no detections), 9.2ms\n",
            "video 1/1 (1875/2632) /content/main (1).mp4: 384x640 (no detections), 10.5ms\n",
            "video 1/1 (1876/2632) /content/main (1).mp4: 384x640 (no detections), 16.3ms\n",
            "video 1/1 (1877/2632) /content/main (1).mp4: 384x640 (no detections), 9.1ms\n",
            "video 1/1 (1878/2632) /content/main (1).mp4: 384x640 1 car, 8.8ms\n",
            "video 1/1 (1879/2632) /content/main (1).mp4: 384x640 (no detections), 9.1ms\n",
            "video 1/1 (1880/2632) /content/main (1).mp4: 384x640 (no detections), 12.8ms\n",
            "video 1/1 (1881/2632) /content/main (1).mp4: 384x640 (no detections), 8.9ms\n",
            "video 1/1 (1882/2632) /content/main (1).mp4: 384x640 (no detections), 8.3ms\n",
            "video 1/1 (1883/2632) /content/main (1).mp4: 384x640 (no detections), 9.1ms\n",
            "video 1/1 (1884/2632) /content/main (1).mp4: 384x640 (no detections), 11.2ms\n",
            "video 1/1 (1885/2632) /content/main (1).mp4: 384x640 (no detections), 8.8ms\n",
            "video 1/1 (1886/2632) /content/main (1).mp4: 384x640 (no detections), 15.2ms\n",
            "video 1/1 (1887/2632) /content/main (1).mp4: 384x640 (no detections), 8.4ms\n",
            "video 1/1 (1888/2632) /content/main (1).mp4: 384x640 (no detections), 9.3ms\n",
            "video 1/1 (1889/2632) /content/main (1).mp4: 384x640 1 car, 10.6ms\n",
            "video 1/1 (1890/2632) /content/main (1).mp4: 384x640 (no detections), 11.2ms\n",
            "video 1/1 (1891/2632) /content/main (1).mp4: 384x640 (no detections), 9.5ms\n",
            "video 1/1 (1892/2632) /content/main (1).mp4: 384x640 (no detections), 10.5ms\n",
            "video 1/1 (1893/2632) /content/main (1).mp4: 384x640 1 car, 8.7ms\n",
            "video 1/1 (1894/2632) /content/main (1).mp4: 384x640 1 car, 10.2ms\n",
            "video 1/1 (1895/2632) /content/main (1).mp4: 384x640 (no detections), 13.2ms\n",
            "video 1/1 (1896/2632) /content/main (1).mp4: 384x640 1 car, 13.7ms\n",
            "video 1/1 (1897/2632) /content/main (1).mp4: 384x640 1 car, 9.7ms\n",
            "video 1/1 (1898/2632) /content/main (1).mp4: 384x640 1 car, 12.1ms\n",
            "video 1/1 (1899/2632) /content/main (1).mp4: 384x640 2 cars, 12.0ms\n",
            "video 1/1 (1900/2632) /content/main (1).mp4: 384x640 2 cars, 12.4ms\n",
            "video 1/1 (1901/2632) /content/main (1).mp4: 384x640 1 car, 12.0ms\n",
            "video 1/1 (1902/2632) /content/main (1).mp4: 384x640 1 car, 11.5ms\n",
            "video 1/1 (1903/2632) /content/main (1).mp4: 384x640 2 cars, 9.4ms\n",
            "video 1/1 (1904/2632) /content/main (1).mp4: 384x640 (no detections), 10.9ms\n",
            "video 1/1 (1905/2632) /content/main (1).mp4: 384x640 (no detections), 12.1ms\n",
            "video 1/1 (1906/2632) /content/main (1).mp4: 384x640 (no detections), 10.3ms\n",
            "video 1/1 (1907/2632) /content/main (1).mp4: 384x640 (no detections), 11.4ms\n",
            "video 1/1 (1908/2632) /content/main (1).mp4: 384x640 (no detections), 10.4ms\n",
            "video 1/1 (1909/2632) /content/main (1).mp4: 384x640 (no detections), 9.1ms\n",
            "video 1/1 (1910/2632) /content/main (1).mp4: 384x640 (no detections), 10.3ms\n",
            "video 1/1 (1911/2632) /content/main (1).mp4: 384x640 (no detections), 12.3ms\n",
            "video 1/1 (1912/2632) /content/main (1).mp4: 384x640 (no detections), 8.9ms\n",
            "video 1/1 (1913/2632) /content/main (1).mp4: 384x640 (no detections), 10.6ms\n",
            "video 1/1 (1914/2632) /content/main (1).mp4: 384x640 (no detections), 8.5ms\n",
            "video 1/1 (1915/2632) /content/main (1).mp4: 384x640 (no detections), 9.0ms\n",
            "video 1/1 (1916/2632) /content/main (1).mp4: 384x640 (no detections), 8.6ms\n",
            "video 1/1 (1917/2632) /content/main (1).mp4: 384x640 (no detections), 17.6ms\n",
            "video 1/1 (1918/2632) /content/main (1).mp4: 384x640 (no detections), 9.2ms\n",
            "video 1/1 (1919/2632) /content/main (1).mp4: 384x640 (no detections), 8.6ms\n",
            "video 1/1 (1920/2632) /content/main (1).mp4: 384x640 (no detections), 8.4ms\n",
            "video 1/1 (1921/2632) /content/main (1).mp4: 384x640 (no detections), 10.9ms\n",
            "video 1/1 (1922/2632) /content/main (1).mp4: 384x640 (no detections), 8.6ms\n",
            "video 1/1 (1923/2632) /content/main (1).mp4: 384x640 (no detections), 10.6ms\n",
            "video 1/1 (1924/2632) /content/main (1).mp4: 384x640 (no detections), 9.0ms\n",
            "video 1/1 (1925/2632) /content/main (1).mp4: 384x640 (no detections), 10.4ms\n",
            "video 1/1 (1926/2632) /content/main (1).mp4: 384x640 (no detections), 8.4ms\n",
            "video 1/1 (1927/2632) /content/main (1).mp4: 384x640 (no detections), 10.5ms\n",
            "video 1/1 (1928/2632) /content/main (1).mp4: 384x640 (no detections), 8.5ms\n",
            "video 1/1 (1929/2632) /content/main (1).mp4: 384x640 (no detections), 9.4ms\n",
            "video 1/1 (1930/2632) /content/main (1).mp4: 384x640 (no detections), 8.8ms\n",
            "video 1/1 (1931/2632) /content/main (1).mp4: 384x640 (no detections), 11.8ms\n",
            "video 1/1 (1932/2632) /content/main (1).mp4: 384x640 (no detections), 8.6ms\n",
            "video 1/1 (1933/2632) /content/main (1).mp4: 384x640 (no detections), 9.7ms\n",
            "video 1/1 (1934/2632) /content/main (1).mp4: 384x640 (no detections), 12.8ms\n",
            "video 1/1 (1935/2632) /content/main (1).mp4: 384x640 (no detections), 11.0ms\n",
            "video 1/1 (1936/2632) /content/main (1).mp4: 384x640 (no detections), 13.4ms\n",
            "video 1/1 (1937/2632) /content/main (1).mp4: 384x640 (no detections), 10.5ms\n",
            "video 1/1 (1938/2632) /content/main (1).mp4: 384x640 (no detections), 10.0ms\n",
            "video 1/1 (1939/2632) /content/main (1).mp4: 384x640 (no detections), 8.8ms\n",
            "video 1/1 (1940/2632) /content/main (1).mp4: 384x640 (no detections), 11.4ms\n",
            "video 1/1 (1941/2632) /content/main (1).mp4: 384x640 (no detections), 9.2ms\n",
            "video 1/1 (1942/2632) /content/main (1).mp4: 384x640 (no detections), 9.9ms\n",
            "video 1/1 (1943/2632) /content/main (1).mp4: 384x640 (no detections), 9.0ms\n",
            "video 1/1 (1944/2632) /content/main (1).mp4: 384x640 (no detections), 12.0ms\n",
            "video 1/1 (1945/2632) /content/main (1).mp4: 384x640 (no detections), 9.0ms\n",
            "video 1/1 (1946/2632) /content/main (1).mp4: 384x640 (no detections), 9.6ms\n",
            "video 1/1 (1947/2632) /content/main (1).mp4: 384x640 (no detections), 8.8ms\n",
            "video 1/1 (1948/2632) /content/main (1).mp4: 384x640 (no detections), 10.6ms\n",
            "video 1/1 (1949/2632) /content/main (1).mp4: 384x640 (no detections), 14.7ms\n",
            "video 1/1 (1950/2632) /content/main (1).mp4: 384x640 (no detections), 9.9ms\n",
            "video 1/1 (1951/2632) /content/main (1).mp4: 384x640 (no detections), 10.1ms\n",
            "video 1/1 (1952/2632) /content/main (1).mp4: 384x640 (no detections), 8.9ms\n",
            "video 1/1 (1953/2632) /content/main (1).mp4: 384x640 (no detections), 9.7ms\n",
            "video 1/1 (1954/2632) /content/main (1).mp4: 384x640 (no detections), 9.1ms\n",
            "video 1/1 (1955/2632) /content/main (1).mp4: 384x640 (no detections), 9.6ms\n",
            "video 1/1 (1956/2632) /content/main (1).mp4: 384x640 (no detections), 10.1ms\n",
            "video 1/1 (1957/2632) /content/main (1).mp4: 384x640 (no detections), 12.4ms\n",
            "video 1/1 (1958/2632) /content/main (1).mp4: 384x640 (no detections), 10.1ms\n",
            "video 1/1 (1959/2632) /content/main (1).mp4: 384x640 (no detections), 12.7ms\n",
            "video 1/1 (1960/2632) /content/main (1).mp4: 384x640 (no detections), 11.4ms\n",
            "video 1/1 (1961/2632) /content/main (1).mp4: 384x640 (no detections), 14.8ms\n",
            "video 1/1 (1962/2632) /content/main (1).mp4: 384x640 (no detections), 13.2ms\n",
            "video 1/1 (1963/2632) /content/main (1).mp4: 384x640 (no detections), 9.6ms\n",
            "video 1/1 (1964/2632) /content/main (1).mp4: 384x640 (no detections), 11.0ms\n",
            "video 1/1 (1965/2632) /content/main (1).mp4: 384x640 (no detections), 10.2ms\n",
            "video 1/1 (1966/2632) /content/main (1).mp4: 384x640 (no detections), 9.7ms\n",
            "video 1/1 (1967/2632) /content/main (1).mp4: 384x640 (no detections), 8.7ms\n",
            "video 1/1 (1968/2632) /content/main (1).mp4: 384x640 (no detections), 9.2ms\n",
            "video 1/1 (1969/2632) /content/main (1).mp4: 384x640 1 car, 10.0ms\n",
            "video 1/1 (1970/2632) /content/main (1).mp4: 384x640 1 car, 11.3ms\n",
            "video 1/1 (1971/2632) /content/main (1).mp4: 384x640 1 car, 8.8ms\n",
            "video 1/1 (1972/2632) /content/main (1).mp4: 384x640 (no detections), 14.4ms\n",
            "video 1/1 (1973/2632) /content/main (1).mp4: 384x640 (no detections), 9.1ms\n",
            "video 1/1 (1974/2632) /content/main (1).mp4: 384x640 (no detections), 11.0ms\n",
            "video 1/1 (1975/2632) /content/main (1).mp4: 384x640 (no detections), 8.4ms\n",
            "video 1/1 (1976/2632) /content/main (1).mp4: 384x640 (no detections), 8.7ms\n",
            "video 1/1 (1977/2632) /content/main (1).mp4: 384x640 (no detections), 11.8ms\n",
            "video 1/1 (1978/2632) /content/main (1).mp4: 384x640 (no detections), 12.0ms\n",
            "video 1/1 (1979/2632) /content/main (1).mp4: 384x640 (no detections), 17.7ms\n",
            "video 1/1 (1980/2632) /content/main (1).mp4: 384x640 1 car, 9.4ms\n",
            "video 1/1 (1981/2632) /content/main (1).mp4: 384x640 1 car, 11.2ms\n",
            "video 1/1 (1982/2632) /content/main (1).mp4: 384x640 1 car, 9.8ms\n",
            "video 1/1 (1983/2632) /content/main (1).mp4: 384x640 (no detections), 10.5ms\n",
            "video 1/1 (1984/2632) /content/main (1).mp4: 384x640 1 car, 8.8ms\n",
            "video 1/1 (1985/2632) /content/main (1).mp4: 384x640 (no detections), 8.6ms\n",
            "video 1/1 (1986/2632) /content/main (1).mp4: 384x640 (no detections), 9.9ms\n",
            "video 1/1 (1987/2632) /content/main (1).mp4: 384x640 (no detections), 9.2ms\n",
            "video 1/1 (1988/2632) /content/main (1).mp4: 384x640 1 car, 11.8ms\n",
            "video 1/1 (1989/2632) /content/main (1).mp4: 384x640 (no detections), 9.0ms\n",
            "video 1/1 (1990/2632) /content/main (1).mp4: 384x640 (no detections), 8.9ms\n",
            "video 1/1 (1991/2632) /content/main (1).mp4: 384x640 (no detections), 8.7ms\n",
            "video 1/1 (1992/2632) /content/main (1).mp4: 384x640 1 car, 9.1ms\n",
            "video 1/1 (1993/2632) /content/main (1).mp4: 384x640 (no detections), 8.9ms\n",
            "video 1/1 (1994/2632) /content/main (1).mp4: 384x640 (no detections), 13.8ms\n",
            "video 1/1 (1995/2632) /content/main (1).mp4: 384x640 1 car, 9.5ms\n",
            "video 1/1 (1996/2632) /content/main (1).mp4: 384x640 (no detections), 10.0ms\n",
            "video 1/1 (1997/2632) /content/main (1).mp4: 384x640 1 car, 8.5ms\n",
            "video 1/1 (1998/2632) /content/main (1).mp4: 384x640 1 car, 8.7ms\n",
            "video 1/1 (1999/2632) /content/main (1).mp4: 384x640 (no detections), 9.2ms\n",
            "video 1/1 (2000/2632) /content/main (1).mp4: 384x640 (no detections), 10.5ms\n",
            "video 1/1 (2001/2632) /content/main (1).mp4: 384x640 (no detections), 9.3ms\n",
            "video 1/1 (2002/2632) /content/main (1).mp4: 384x640 (no detections), 9.1ms\n",
            "video 1/1 (2003/2632) /content/main (1).mp4: 384x640 (no detections), 8.5ms\n",
            "video 1/1 (2004/2632) /content/main (1).mp4: 384x640 (no detections), 15.1ms\n",
            "video 1/1 (2005/2632) /content/main (1).mp4: 384x640 (no detections), 9.2ms\n",
            "video 1/1 (2006/2632) /content/main (1).mp4: 384x640 (no detections), 10.8ms\n",
            "video 1/1 (2007/2632) /content/main (1).mp4: 384x640 (no detections), 9.3ms\n",
            "video 1/1 (2008/2632) /content/main (1).mp4: 384x640 1 car, 9.4ms\n",
            "video 1/1 (2009/2632) /content/main (1).mp4: 384x640 1 car, 9.2ms\n",
            "video 1/1 (2010/2632) /content/main (1).mp4: 384x640 1 car, 14.8ms\n",
            "video 1/1 (2011/2632) /content/main (1).mp4: 384x640 (no detections), 12.7ms\n",
            "video 1/1 (2012/2632) /content/main (1).mp4: 384x640 (no detections), 10.2ms\n",
            "video 1/1 (2013/2632) /content/main (1).mp4: 384x640 (no detections), 9.9ms\n",
            "video 1/1 (2014/2632) /content/main (1).mp4: 384x640 (no detections), 10.0ms\n",
            "video 1/1 (2015/2632) /content/main (1).mp4: 384x640 1 car, 20.5ms\n",
            "video 1/1 (2016/2632) /content/main (1).mp4: 384x640 (no detections), 8.8ms\n",
            "video 1/1 (2017/2632) /content/main (1).mp4: 384x640 (no detections), 8.7ms\n",
            "video 1/1 (2018/2632) /content/main (1).mp4: 384x640 (no detections), 8.8ms\n",
            "video 1/1 (2019/2632) /content/main (1).mp4: 384x640 (no detections), 11.3ms\n",
            "video 1/1 (2020/2632) /content/main (1).mp4: 384x640 (no detections), 9.0ms\n",
            "video 1/1 (2021/2632) /content/main (1).mp4: 384x640 (no detections), 13.4ms\n",
            "video 1/1 (2022/2632) /content/main (1).mp4: 384x640 (no detections), 9.8ms\n",
            "video 1/1 (2023/2632) /content/main (1).mp4: 384x640 (no detections), 9.3ms\n",
            "video 1/1 (2024/2632) /content/main (1).mp4: 384x640 (no detections), 9.2ms\n",
            "video 1/1 (2025/2632) /content/main (1).mp4: 384x640 (no detections), 12.0ms\n",
            "video 1/1 (2026/2632) /content/main (1).mp4: 384x640 (no detections), 8.6ms\n",
            "video 1/1 (2027/2632) /content/main (1).mp4: 384x640 (no detections), 11.8ms\n",
            "video 1/1 (2028/2632) /content/main (1).mp4: 384x640 (no detections), 11.3ms\n",
            "video 1/1 (2029/2632) /content/main (1).mp4: 384x640 (no detections), 13.0ms\n",
            "video 1/1 (2030/2632) /content/main (1).mp4: 384x640 (no detections), 15.4ms\n",
            "video 1/1 (2031/2632) /content/main (1).mp4: 384x640 (no detections), 12.9ms\n",
            "video 1/1 (2032/2632) /content/main (1).mp4: 384x640 (no detections), 13.8ms\n",
            "video 1/1 (2033/2632) /content/main (1).mp4: 384x640 (no detections), 9.6ms\n",
            "video 1/1 (2034/2632) /content/main (1).mp4: 384x640 (no detections), 13.6ms\n",
            "video 1/1 (2035/2632) /content/main (1).mp4: 384x640 (no detections), 9.1ms\n",
            "video 1/1 (2036/2632) /content/main (1).mp4: 384x640 (no detections), 11.9ms\n",
            "video 1/1 (2037/2632) /content/main (1).mp4: 384x640 (no detections), 10.4ms\n",
            "video 1/1 (2038/2632) /content/main (1).mp4: 384x640 (no detections), 12.6ms\n",
            "video 1/1 (2039/2632) /content/main (1).mp4: 384x640 (no detections), 9.3ms\n",
            "video 1/1 (2040/2632) /content/main (1).mp4: 384x640 (no detections), 11.4ms\n",
            "video 1/1 (2041/2632) /content/main (1).mp4: 384x640 (no detections), 13.3ms\n",
            "video 1/1 (2042/2632) /content/main (1).mp4: 384x640 (no detections), 11.1ms\n",
            "video 1/1 (2043/2632) /content/main (1).mp4: 384x640 (no detections), 8.9ms\n",
            "video 1/1 (2044/2632) /content/main (1).mp4: 384x640 (no detections), 10.6ms\n",
            "video 1/1 (2045/2632) /content/main (1).mp4: 384x640 (no detections), 15.4ms\n",
            "video 1/1 (2046/2632) /content/main (1).mp4: 384x640 (no detections), 10.9ms\n",
            "video 1/1 (2047/2632) /content/main (1).mp4: 384x640 (no detections), 12.3ms\n",
            "video 1/1 (2048/2632) /content/main (1).mp4: 384x640 (no detections), 10.1ms\n",
            "video 1/1 (2049/2632) /content/main (1).mp4: 384x640 (no detections), 9.5ms\n",
            "video 1/1 (2050/2632) /content/main (1).mp4: 384x640 (no detections), 10.8ms\n",
            "video 1/1 (2051/2632) /content/main (1).mp4: 384x640 (no detections), 14.8ms\n",
            "video 1/1 (2052/2632) /content/main (1).mp4: 384x640 (no detections), 12.1ms\n",
            "video 1/1 (2053/2632) /content/main (1).mp4: 384x640 (no detections), 8.8ms\n",
            "video 1/1 (2054/2632) /content/main (1).mp4: 384x640 (no detections), 9.0ms\n",
            "video 1/1 (2055/2632) /content/main (1).mp4: 384x640 (no detections), 8.7ms\n",
            "video 1/1 (2056/2632) /content/main (1).mp4: 384x640 (no detections), 10.3ms\n",
            "video 1/1 (2057/2632) /content/main (1).mp4: 384x640 (no detections), 11.1ms\n",
            "video 1/1 (2058/2632) /content/main (1).mp4: 384x640 (no detections), 12.6ms\n",
            "video 1/1 (2059/2632) /content/main (1).mp4: 384x640 (no detections), 13.0ms\n",
            "video 1/1 (2060/2632) /content/main (1).mp4: 384x640 (no detections), 11.5ms\n",
            "video 1/1 (2061/2632) /content/main (1).mp4: 384x640 (no detections), 9.2ms\n",
            "video 1/1 (2062/2632) /content/main (1).mp4: 384x640 (no detections), 8.6ms\n",
            "video 1/1 (2063/2632) /content/main (1).mp4: 384x640 (no detections), 16.0ms\n",
            "video 1/1 (2064/2632) /content/main (1).mp4: 384x640 (no detections), 13.5ms\n",
            "video 1/1 (2065/2632) /content/main (1).mp4: 384x640 (no detections), 15.2ms\n",
            "video 1/1 (2066/2632) /content/main (1).mp4: 384x640 (no detections), 14.3ms\n",
            "video 1/1 (2067/2632) /content/main (1).mp4: 384x640 (no detections), 14.7ms\n",
            "video 1/1 (2068/2632) /content/main (1).mp4: 384x640 (no detections), 11.8ms\n",
            "video 1/1 (2069/2632) /content/main (1).mp4: 384x640 (no detections), 14.6ms\n",
            "video 1/1 (2070/2632) /content/main (1).mp4: 384x640 (no detections), 11.5ms\n",
            "video 1/1 (2071/2632) /content/main (1).mp4: 384x640 (no detections), 26.6ms\n",
            "video 1/1 (2072/2632) /content/main (1).mp4: 384x640 (no detections), 15.5ms\n",
            "video 1/1 (2073/2632) /content/main (1).mp4: 384x640 (no detections), 13.2ms\n",
            "video 1/1 (2074/2632) /content/main (1).mp4: 384x640 (no detections), 14.5ms\n",
            "video 1/1 (2075/2632) /content/main (1).mp4: 384x640 (no detections), 15.7ms\n",
            "video 1/1 (2076/2632) /content/main (1).mp4: 384x640 (no detections), 12.8ms\n",
            "video 1/1 (2077/2632) /content/main (1).mp4: 384x640 (no detections), 12.5ms\n",
            "video 1/1 (2078/2632) /content/main (1).mp4: 384x640 (no detections), 11.6ms\n",
            "video 1/1 (2079/2632) /content/main (1).mp4: 384x640 (no detections), 12.6ms\n",
            "video 1/1 (2080/2632) /content/main (1).mp4: 384x640 (no detections), 11.5ms\n",
            "video 1/1 (2081/2632) /content/main (1).mp4: 384x640 (no detections), 13.3ms\n",
            "video 1/1 (2082/2632) /content/main (1).mp4: 384x640 (no detections), 12.3ms\n",
            "video 1/1 (2083/2632) /content/main (1).mp4: 384x640 (no detections), 16.0ms\n",
            "video 1/1 (2084/2632) /content/main (1).mp4: 384x640 (no detections), 17.8ms\n",
            "video 1/1 (2085/2632) /content/main (1).mp4: 384x640 (no detections), 11.4ms\n",
            "video 1/1 (2086/2632) /content/main (1).mp4: 384x640 (no detections), 19.4ms\n",
            "video 1/1 (2087/2632) /content/main (1).mp4: 384x640 (no detections), 13.2ms\n",
            "video 1/1 (2088/2632) /content/main (1).mp4: 384x640 (no detections), 16.9ms\n",
            "video 1/1 (2089/2632) /content/main (1).mp4: 384x640 (no detections), 10.8ms\n",
            "video 1/1 (2090/2632) /content/main (1).mp4: 384x640 (no detections), 12.7ms\n",
            "video 1/1 (2091/2632) /content/main (1).mp4: 384x640 (no detections), 19.8ms\n",
            "video 1/1 (2092/2632) /content/main (1).mp4: 384x640 (no detections), 19.3ms\n",
            "video 1/1 (2093/2632) /content/main (1).mp4: 384x640 (no detections), 13.2ms\n",
            "video 1/1 (2094/2632) /content/main (1).mp4: 384x640 (no detections), 15.3ms\n",
            "video 1/1 (2095/2632) /content/main (1).mp4: 384x640 (no detections), 21.0ms\n",
            "video 1/1 (2096/2632) /content/main (1).mp4: 384x640 (no detections), 15.0ms\n",
            "video 1/1 (2097/2632) /content/main (1).mp4: 384x640 (no detections), 13.5ms\n",
            "video 1/1 (2098/2632) /content/main (1).mp4: 384x640 (no detections), 12.9ms\n",
            "video 1/1 (2099/2632) /content/main (1).mp4: 384x640 (no detections), 12.5ms\n",
            "video 1/1 (2100/2632) /content/main (1).mp4: 384x640 (no detections), 17.7ms\n",
            "video 1/1 (2101/2632) /content/main (1).mp4: 384x640 (no detections), 11.7ms\n",
            "video 1/1 (2102/2632) /content/main (1).mp4: 384x640 (no detections), 13.6ms\n",
            "video 1/1 (2103/2632) /content/main (1).mp4: 384x640 (no detections), 16.5ms\n",
            "video 1/1 (2104/2632) /content/main (1).mp4: 384x640 1 car, 10.9ms\n",
            "video 1/1 (2105/2632) /content/main (1).mp4: 384x640 1 car, 18.9ms\n",
            "video 1/1 (2106/2632) /content/main (1).mp4: 384x640 1 car, 12.8ms\n",
            "video 1/1 (2107/2632) /content/main (1).mp4: 384x640 (no detections), 12.8ms\n",
            "video 1/1 (2108/2632) /content/main (1).mp4: 384x640 1 car, 12.0ms\n",
            "video 1/1 (2109/2632) /content/main (1).mp4: 384x640 (no detections), 13.3ms\n",
            "video 1/1 (2110/2632) /content/main (1).mp4: 384x640 1 car, 14.1ms\n",
            "video 1/1 (2111/2632) /content/main (1).mp4: 384x640 1 car, 16.9ms\n",
            "video 1/1 (2112/2632) /content/main (1).mp4: 384x640 1 car, 11.1ms\n",
            "video 1/1 (2113/2632) /content/main (1).mp4: 384x640 1 car, 13.0ms\n",
            "video 1/1 (2114/2632) /content/main (1).mp4: 384x640 1 car, 12.0ms\n",
            "video 1/1 (2115/2632) /content/main (1).mp4: 384x640 1 car, 15.1ms\n",
            "video 1/1 (2116/2632) /content/main (1).mp4: 384x640 1 car, 16.8ms\n",
            "video 1/1 (2117/2632) /content/main (1).mp4: 384x640 1 car, 11.6ms\n",
            "video 1/1 (2118/2632) /content/main (1).mp4: 384x640 1 car, 14.2ms\n",
            "video 1/1 (2119/2632) /content/main (1).mp4: 384x640 1 car, 19.3ms\n",
            "video 1/1 (2120/2632) /content/main (1).mp4: 384x640 1 car, 11.1ms\n",
            "video 1/1 (2121/2632) /content/main (1).mp4: 384x640 (no detections), 12.2ms\n",
            "video 1/1 (2122/2632) /content/main (1).mp4: 384x640 (no detections), 11.5ms\n",
            "video 1/1 (2123/2632) /content/main (1).mp4: 384x640 (no detections), 12.3ms\n",
            "video 1/1 (2124/2632) /content/main (1).mp4: 384x640 (no detections), 11.0ms\n",
            "video 1/1 (2125/2632) /content/main (1).mp4: 384x640 (no detections), 13.7ms\n",
            "video 1/1 (2126/2632) /content/main (1).mp4: 384x640 (no detections), 11.8ms\n",
            "video 1/1 (2127/2632) /content/main (1).mp4: 384x640 (no detections), 11.2ms\n",
            "video 1/1 (2128/2632) /content/main (1).mp4: 384x640 (no detections), 10.8ms\n",
            "video 1/1 (2129/2632) /content/main (1).mp4: 384x640 (no detections), 11.4ms\n",
            "video 1/1 (2130/2632) /content/main (1).mp4: 384x640 (no detections), 15.6ms\n",
            "video 1/1 (2131/2632) /content/main (1).mp4: 384x640 (no detections), 12.4ms\n",
            "video 1/1 (2132/2632) /content/main (1).mp4: 384x640 (no detections), 15.9ms\n",
            "video 1/1 (2133/2632) /content/main (1).mp4: 384x640 (no detections), 19.9ms\n",
            "video 1/1 (2134/2632) /content/main (1).mp4: 384x640 (no detections), 12.8ms\n",
            "video 1/1 (2135/2632) /content/main (1).mp4: 384x640 (no detections), 17.7ms\n",
            "video 1/1 (2136/2632) /content/main (1).mp4: 384x640 (no detections), 12.3ms\n",
            "video 1/1 (2137/2632) /content/main (1).mp4: 384x640 (no detections), 13.8ms\n",
            "video 1/1 (2138/2632) /content/main (1).mp4: 384x640 (no detections), 15.9ms\n",
            "video 1/1 (2139/2632) /content/main (1).mp4: 384x640 (no detections), 17.1ms\n",
            "video 1/1 (2140/2632) /content/main (1).mp4: 384x640 (no detections), 11.0ms\n",
            "video 1/1 (2141/2632) /content/main (1).mp4: 384x640 (no detections), 21.5ms\n",
            "video 1/1 (2142/2632) /content/main (1).mp4: 384x640 (no detections), 21.7ms\n",
            "video 1/1 (2143/2632) /content/main (1).mp4: 384x640 (no detections), 14.6ms\n",
            "video 1/1 (2144/2632) /content/main (1).mp4: 384x640 (no detections), 17.7ms\n",
            "video 1/1 (2145/2632) /content/main (1).mp4: 384x640 (no detections), 17.8ms\n",
            "video 1/1 (2146/2632) /content/main (1).mp4: 384x640 (no detections), 16.9ms\n",
            "video 1/1 (2147/2632) /content/main (1).mp4: 384x640 (no detections), 24.7ms\n",
            "video 1/1 (2148/2632) /content/main (1).mp4: 384x640 (no detections), 18.5ms\n",
            "video 1/1 (2149/2632) /content/main (1).mp4: 384x640 (no detections), 20.8ms\n",
            "video 1/1 (2150/2632) /content/main (1).mp4: 384x640 (no detections), 10.0ms\n",
            "video 1/1 (2151/2632) /content/main (1).mp4: 384x640 (no detections), 8.9ms\n",
            "video 1/1 (2152/2632) /content/main (1).mp4: 384x640 (no detections), 9.3ms\n",
            "video 1/1 (2153/2632) /content/main (1).mp4: 384x640 (no detections), 9.9ms\n",
            "video 1/1 (2154/2632) /content/main (1).mp4: 384x640 (no detections), 12.7ms\n",
            "video 1/1 (2155/2632) /content/main (1).mp4: 384x640 (no detections), 13.7ms\n",
            "video 1/1 (2156/2632) /content/main (1).mp4: 384x640 (no detections), 9.1ms\n",
            "video 1/1 (2157/2632) /content/main (1).mp4: 384x640 (no detections), 8.6ms\n",
            "video 1/1 (2158/2632) /content/main (1).mp4: 384x640 (no detections), 8.5ms\n",
            "video 1/1 (2159/2632) /content/main (1).mp4: 384x640 (no detections), 11.6ms\n",
            "video 1/1 (2160/2632) /content/main (1).mp4: 384x640 (no detections), 12.4ms\n",
            "video 1/1 (2161/2632) /content/main (1).mp4: 384x640 (no detections), 12.8ms\n",
            "video 1/1 (2162/2632) /content/main (1).mp4: 384x640 (no detections), 8.7ms\n",
            "video 1/1 (2163/2632) /content/main (1).mp4: 384x640 (no detections), 11.8ms\n",
            "video 1/1 (2164/2632) /content/main (1).mp4: 384x640 (no detections), 13.0ms\n",
            "video 1/1 (2165/2632) /content/main (1).mp4: 384x640 (no detections), 8.7ms\n",
            "video 1/1 (2166/2632) /content/main (1).mp4: 384x640 (no detections), 11.4ms\n",
            "video 1/1 (2167/2632) /content/main (1).mp4: 384x640 (no detections), 9.6ms\n",
            "video 1/1 (2168/2632) /content/main (1).mp4: 384x640 (no detections), 11.8ms\n",
            "video 1/1 (2169/2632) /content/main (1).mp4: 384x640 (no detections), 8.9ms\n",
            "video 1/1 (2170/2632) /content/main (1).mp4: 384x640 (no detections), 11.4ms\n",
            "video 1/1 (2171/2632) /content/main (1).mp4: 384x640 (no detections), 14.7ms\n",
            "video 1/1 (2172/2632) /content/main (1).mp4: 384x640 (no detections), 13.1ms\n",
            "video 1/1 (2173/2632) /content/main (1).mp4: 384x640 (no detections), 8.6ms\n",
            "video 1/1 (2174/2632) /content/main (1).mp4: 384x640 (no detections), 8.7ms\n",
            "video 1/1 (2175/2632) /content/main (1).mp4: 384x640 (no detections), 8.8ms\n",
            "video 1/1 (2176/2632) /content/main (1).mp4: 384x640 (no detections), 15.4ms\n",
            "video 1/1 (2177/2632) /content/main (1).mp4: 384x640 (no detections), 8.5ms\n",
            "video 1/1 (2178/2632) /content/main (1).mp4: 384x640 (no detections), 8.9ms\n",
            "video 1/1 (2179/2632) /content/main (1).mp4: 384x640 (no detections), 10.5ms\n",
            "video 1/1 (2180/2632) /content/main (1).mp4: 384x640 (no detections), 8.5ms\n",
            "video 1/1 (2181/2632) /content/main (1).mp4: 384x640 (no detections), 9.5ms\n",
            "video 1/1 (2182/2632) /content/main (1).mp4: 384x640 (no detections), 11.8ms\n",
            "video 1/1 (2183/2632) /content/main (1).mp4: 384x640 (no detections), 13.9ms\n",
            "video 1/1 (2184/2632) /content/main (1).mp4: 384x640 (no detections), 9.7ms\n",
            "video 1/1 (2185/2632) /content/main (1).mp4: 384x640 (no detections), 10.0ms\n",
            "video 1/1 (2186/2632) /content/main (1).mp4: 384x640 (no detections), 8.6ms\n",
            "video 1/1 (2187/2632) /content/main (1).mp4: 384x640 (no detections), 12.1ms\n",
            "video 1/1 (2188/2632) /content/main (1).mp4: 384x640 (no detections), 10.2ms\n",
            "video 1/1 (2189/2632) /content/main (1).mp4: 384x640 (no detections), 8.7ms\n",
            "video 1/1 (2190/2632) /content/main (1).mp4: 384x640 (no detections), 8.5ms\n",
            "video 1/1 (2191/2632) /content/main (1).mp4: 384x640 (no detections), 8.7ms\n",
            "video 1/1 (2192/2632) /content/main (1).mp4: 384x640 (no detections), 11.3ms\n",
            "video 1/1 (2193/2632) /content/main (1).mp4: 384x640 (no detections), 8.5ms\n",
            "video 1/1 (2194/2632) /content/main (1).mp4: 384x640 (no detections), 8.8ms\n",
            "video 1/1 (2195/2632) /content/main (1).mp4: 384x640 (no detections), 12.4ms\n",
            "video 1/1 (2196/2632) /content/main (1).mp4: 384x640 (no detections), 8.8ms\n",
            "video 1/1 (2197/2632) /content/main (1).mp4: 384x640 (no detections), 15.5ms\n",
            "video 1/1 (2198/2632) /content/main (1).mp4: 384x640 (no detections), 12.1ms\n",
            "video 1/1 (2199/2632) /content/main (1).mp4: 384x640 (no detections), 12.3ms\n",
            "video 1/1 (2200/2632) /content/main (1).mp4: 384x640 (no detections), 8.8ms\n",
            "video 1/1 (2201/2632) /content/main (1).mp4: 384x640 (no detections), 13.0ms\n",
            "video 1/1 (2202/2632) /content/main (1).mp4: 384x640 (no detections), 10.1ms\n",
            "video 1/1 (2203/2632) /content/main (1).mp4: 384x640 (no detections), 12.8ms\n",
            "video 1/1 (2204/2632) /content/main (1).mp4: 384x640 (no detections), 8.4ms\n",
            "video 1/1 (2205/2632) /content/main (1).mp4: 384x640 (no detections), 9.2ms\n",
            "video 1/1 (2206/2632) /content/main (1).mp4: 384x640 (no detections), 11.8ms\n",
            "video 1/1 (2207/2632) /content/main (1).mp4: 384x640 (no detections), 9.4ms\n",
            "video 1/1 (2208/2632) /content/main (1).mp4: 384x640 (no detections), 9.9ms\n",
            "video 1/1 (2209/2632) /content/main (1).mp4: 384x640 (no detections), 10.0ms\n",
            "video 1/1 (2210/2632) /content/main (1).mp4: 384x640 (no detections), 15.4ms\n",
            "video 1/1 (2211/2632) /content/main (1).mp4: 384x640 (no detections), 14.8ms\n",
            "video 1/1 (2212/2632) /content/main (1).mp4: 384x640 (no detections), 14.5ms\n",
            "video 1/1 (2213/2632) /content/main (1).mp4: 384x640 (no detections), 13.9ms\n",
            "video 1/1 (2214/2632) /content/main (1).mp4: 384x640 (no detections), 9.7ms\n",
            "video 1/1 (2215/2632) /content/main (1).mp4: 384x640 (no detections), 9.3ms\n",
            "video 1/1 (2216/2632) /content/main (1).mp4: 384x640 (no detections), 8.9ms\n",
            "video 1/1 (2217/2632) /content/main (1).mp4: 384x640 (no detections), 11.2ms\n",
            "video 1/1 (2218/2632) /content/main (1).mp4: 384x640 (no detections), 10.9ms\n",
            "video 1/1 (2219/2632) /content/main (1).mp4: 384x640 (no detections), 8.6ms\n",
            "video 1/1 (2220/2632) /content/main (1).mp4: 384x640 (no detections), 13.2ms\n",
            "video 1/1 (2221/2632) /content/main (1).mp4: 384x640 1 car, 14.9ms\n",
            "video 1/1 (2222/2632) /content/main (1).mp4: 384x640 (no detections), 12.7ms\n",
            "video 1/1 (2223/2632) /content/main (1).mp4: 384x640 (no detections), 8.9ms\n",
            "video 1/1 (2224/2632) /content/main (1).mp4: 384x640 (no detections), 8.6ms\n",
            "video 1/1 (2225/2632) /content/main (1).mp4: 384x640 (no detections), 9.8ms\n",
            "video 1/1 (2226/2632) /content/main (1).mp4: 384x640 (no detections), 9.6ms\n",
            "video 1/1 (2227/2632) /content/main (1).mp4: 384x640 (no detections), 10.2ms\n",
            "video 1/1 (2228/2632) /content/main (1).mp4: 384x640 (no detections), 12.3ms\n",
            "video 1/1 (2229/2632) /content/main (1).mp4: 384x640 (no detections), 9.6ms\n",
            "video 1/1 (2230/2632) /content/main (1).mp4: 384x640 (no detections), 14.0ms\n",
            "video 1/1 (2231/2632) /content/main (1).mp4: 384x640 (no detections), 9.8ms\n",
            "video 1/1 (2232/2632) /content/main (1).mp4: 384x640 (no detections), 15.8ms\n",
            "video 1/1 (2233/2632) /content/main (1).mp4: 384x640 (no detections), 12.3ms\n",
            "video 1/1 (2234/2632) /content/main (1).mp4: 384x640 (no detections), 8.9ms\n",
            "video 1/1 (2235/2632) /content/main (1).mp4: 384x640 (no detections), 14.4ms\n",
            "video 1/1 (2236/2632) /content/main (1).mp4: 384x640 (no detections), 11.5ms\n",
            "video 1/1 (2237/2632) /content/main (1).mp4: 384x640 (no detections), 11.2ms\n",
            "video 1/1 (2238/2632) /content/main (1).mp4: 384x640 (no detections), 13.6ms\n",
            "video 1/1 (2239/2632) /content/main (1).mp4: 384x640 (no detections), 10.2ms\n",
            "video 1/1 (2240/2632) /content/main (1).mp4: 384x640 (no detections), 13.0ms\n",
            "video 1/1 (2241/2632) /content/main (1).mp4: 384x640 (no detections), 9.9ms\n",
            "video 1/1 (2242/2632) /content/main (1).mp4: 384x640 (no detections), 10.7ms\n",
            "video 1/1 (2243/2632) /content/main (1).mp4: 384x640 1 car, 9.9ms\n",
            "video 1/1 (2244/2632) /content/main (1).mp4: 384x640 1 car, 8.7ms\n",
            "video 1/1 (2245/2632) /content/main (1).mp4: 384x640 (no detections), 9.4ms\n",
            "video 1/1 (2246/2632) /content/main (1).mp4: 384x640 (no detections), 10.9ms\n",
            "video 1/1 (2247/2632) /content/main (1).mp4: 384x640 (no detections), 8.5ms\n",
            "video 1/1 (2248/2632) /content/main (1).mp4: 384x640 (no detections), 9.1ms\n",
            "video 1/1 (2249/2632) /content/main (1).mp4: 384x640 (no detections), 10.8ms\n",
            "video 1/1 (2250/2632) /content/main (1).mp4: 384x640 (no detections), 11.4ms\n",
            "video 1/1 (2251/2632) /content/main (1).mp4: 384x640 (no detections), 9.0ms\n",
            "video 1/1 (2252/2632) /content/main (1).mp4: 384x640 1 car, 8.8ms\n",
            "video 1/1 (2253/2632) /content/main (1).mp4: 384x640 1 car, 8.9ms\n",
            "video 1/1 (2254/2632) /content/main (1).mp4: 384x640 1 car, 9.6ms\n",
            "video 1/1 (2255/2632) /content/main (1).mp4: 384x640 1 car, 13.9ms\n",
            "video 1/1 (2256/2632) /content/main (1).mp4: 384x640 1 car, 9.3ms\n",
            "video 1/1 (2257/2632) /content/main (1).mp4: 384x640 (no detections), 9.3ms\n",
            "video 1/1 (2258/2632) /content/main (1).mp4: 384x640 (no detections), 10.3ms\n",
            "video 1/1 (2259/2632) /content/main (1).mp4: 384x640 (no detections), 9.0ms\n",
            "video 1/1 (2260/2632) /content/main (1).mp4: 384x640 (no detections), 9.3ms\n",
            "video 1/1 (2261/2632) /content/main (1).mp4: 384x640 1 car, 13.3ms\n",
            "video 1/1 (2262/2632) /content/main (1).mp4: 384x640 1 car, 12.2ms\n",
            "video 1/1 (2263/2632) /content/main (1).mp4: 384x640 1 car, 9.0ms\n",
            "video 1/1 (2264/2632) /content/main (1).mp4: 384x640 (no detections), 13.5ms\n",
            "video 1/1 (2265/2632) /content/main (1).mp4: 384x640 (no detections), 9.8ms\n",
            "video 1/1 (2266/2632) /content/main (1).mp4: 384x640 (no detections), 8.6ms\n",
            "video 1/1 (2267/2632) /content/main (1).mp4: 384x640 (no detections), 13.2ms\n",
            "video 1/1 (2268/2632) /content/main (1).mp4: 384x640 (no detections), 12.2ms\n",
            "video 1/1 (2269/2632) /content/main (1).mp4: 384x640 (no detections), 12.7ms\n",
            "video 1/1 (2270/2632) /content/main (1).mp4: 384x640 (no detections), 8.7ms\n",
            "video 1/1 (2271/2632) /content/main (1).mp4: 384x640 (no detections), 11.3ms\n",
            "video 1/1 (2272/2632) /content/main (1).mp4: 384x640 1 car, 8.8ms\n",
            "video 1/1 (2273/2632) /content/main (1).mp4: 384x640 1 car, 12.3ms\n",
            "video 1/1 (2274/2632) /content/main (1).mp4: 384x640 1 car, 11.4ms\n",
            "video 1/1 (2275/2632) /content/main (1).mp4: 384x640 (no detections), 10.4ms\n",
            "video 1/1 (2276/2632) /content/main (1).mp4: 384x640 (no detections), 15.1ms\n",
            "video 1/1 (2277/2632) /content/main (1).mp4: 384x640 (no detections), 8.5ms\n",
            "video 1/1 (2278/2632) /content/main (1).mp4: 384x640 (no detections), 10.6ms\n",
            "video 1/1 (2279/2632) /content/main (1).mp4: 384x640 1 car, 12.2ms\n",
            "video 1/1 (2280/2632) /content/main (1).mp4: 384x640 1 car, 8.7ms\n",
            "video 1/1 (2281/2632) /content/main (1).mp4: 384x640 (no detections), 12.2ms\n",
            "video 1/1 (2282/2632) /content/main (1).mp4: 384x640 1 car, 12.3ms\n",
            "video 1/1 (2283/2632) /content/main (1).mp4: 384x640 1 car, 8.7ms\n",
            "video 1/1 (2284/2632) /content/main (1).mp4: 384x640 (no detections), 9.6ms\n",
            "video 1/1 (2285/2632) /content/main (1).mp4: 384x640 (no detections), 10.9ms\n",
            "video 1/1 (2286/2632) /content/main (1).mp4: 384x640 1 car, 12.6ms\n",
            "video 1/1 (2287/2632) /content/main (1).mp4: 384x640 (no detections), 9.1ms\n",
            "video 1/1 (2288/2632) /content/main (1).mp4: 384x640 (no detections), 12.7ms\n",
            "video 1/1 (2289/2632) /content/main (1).mp4: 384x640 1 car, 8.7ms\n",
            "video 1/1 (2290/2632) /content/main (1).mp4: 384x640 1 car, 12.7ms\n",
            "video 1/1 (2291/2632) /content/main (1).mp4: 384x640 1 car, 8.5ms\n",
            "video 1/1 (2292/2632) /content/main (1).mp4: 384x640 1 car, 12.9ms\n",
            "video 1/1 (2293/2632) /content/main (1).mp4: 384x640 (no detections), 8.4ms\n",
            "video 1/1 (2294/2632) /content/main (1).mp4: 384x640 (no detections), 17.7ms\n",
            "video 1/1 (2295/2632) /content/main (1).mp4: 384x640 (no detections), 12.6ms\n",
            "video 1/1 (2296/2632) /content/main (1).mp4: 384x640 1 car, 13.0ms\n",
            "video 1/1 (2297/2632) /content/main (1).mp4: 384x640 1 car, 9.1ms\n",
            "video 1/1 (2298/2632) /content/main (1).mp4: 384x640 1 car, 9.2ms\n",
            "video 1/1 (2299/2632) /content/main (1).mp4: 384x640 (no detections), 8.7ms\n",
            "video 1/1 (2300/2632) /content/main (1).mp4: 384x640 1 car, 11.8ms\n",
            "video 1/1 (2301/2632) /content/main (1).mp4: 384x640 1 car, 10.2ms\n",
            "video 1/1 (2302/2632) /content/main (1).mp4: 384x640 1 car, 11.0ms\n",
            "video 1/1 (2303/2632) /content/main (1).mp4: 384x640 1 car, 10.3ms\n",
            "video 1/1 (2304/2632) /content/main (1).mp4: 384x640 1 car, 9.5ms\n",
            "video 1/1 (2305/2632) /content/main (1).mp4: 384x640 1 car, 8.8ms\n",
            "video 1/1 (2306/2632) /content/main (1).mp4: 384x640 (no detections), 8.5ms\n",
            "video 1/1 (2307/2632) /content/main (1).mp4: 384x640 (no detections), 9.1ms\n",
            "video 1/1 (2308/2632) /content/main (1).mp4: 384x640 (no detections), 8.4ms\n",
            "video 1/1 (2309/2632) /content/main (1).mp4: 384x640 (no detections), 11.0ms\n",
            "video 1/1 (2310/2632) /content/main (1).mp4: 384x640 1 car, 8.6ms\n",
            "video 1/1 (2311/2632) /content/main (1).mp4: 384x640 2 cars, 9.0ms\n",
            "video 1/1 (2312/2632) /content/main (1).mp4: 384x640 1 car, 9.1ms\n",
            "video 1/1 (2313/2632) /content/main (1).mp4: 384x640 1 car, 8.5ms\n",
            "video 1/1 (2314/2632) /content/main (1).mp4: 384x640 2 cars, 9.5ms\n",
            "video 1/1 (2315/2632) /content/main (1).mp4: 384x640 1 car, 10.3ms\n",
            "video 1/1 (2316/2632) /content/main (1).mp4: 384x640 2 cars, 9.8ms\n",
            "video 1/1 (2317/2632) /content/main (1).mp4: 384x640 1 car, 11.8ms\n",
            "video 1/1 (2318/2632) /content/main (1).mp4: 384x640 2 cars, 11.0ms\n",
            "video 1/1 (2319/2632) /content/main (1).mp4: 384x640 2 cars, 9.1ms\n",
            "video 1/1 (2320/2632) /content/main (1).mp4: 384x640 2 cars, 8.8ms\n",
            "video 1/1 (2321/2632) /content/main (1).mp4: 384x640 1 car, 9.7ms\n",
            "video 1/1 (2322/2632) /content/main (1).mp4: 384x640 (no detections), 10.6ms\n",
            "video 1/1 (2323/2632) /content/main (1).mp4: 384x640 (no detections), 8.5ms\n",
            "video 1/1 (2324/2632) /content/main (1).mp4: 384x640 1 car, 12.6ms\n",
            "video 1/1 (2325/2632) /content/main (1).mp4: 384x640 (no detections), 10.8ms\n",
            "video 1/1 (2326/2632) /content/main (1).mp4: 384x640 (no detections), 10.1ms\n",
            "video 1/1 (2327/2632) /content/main (1).mp4: 384x640 (no detections), 8.7ms\n",
            "video 1/1 (2328/2632) /content/main (1).mp4: 384x640 2 cars, 10.0ms\n",
            "video 1/1 (2329/2632) /content/main (1).mp4: 384x640 1 car, 8.8ms\n",
            "video 1/1 (2330/2632) /content/main (1).mp4: 384x640 (no detections), 9.2ms\n",
            "video 1/1 (2331/2632) /content/main (1).mp4: 384x640 1 car, 9.0ms\n",
            "video 1/1 (2332/2632) /content/main (1).mp4: 384x640 (no detections), 8.8ms\n",
            "video 1/1 (2333/2632) /content/main (1).mp4: 384x640 1 car, 8.6ms\n",
            "video 1/1 (2334/2632) /content/main (1).mp4: 384x640 1 car, 8.7ms\n",
            "video 1/1 (2335/2632) /content/main (1).mp4: 384x640 (no detections), 8.5ms\n",
            "video 1/1 (2336/2632) /content/main (1).mp4: 384x640 (no detections), 10.9ms\n",
            "video 1/1 (2337/2632) /content/main (1).mp4: 384x640 (no detections), 9.4ms\n",
            "video 1/1 (2338/2632) /content/main (1).mp4: 384x640 (no detections), 8.7ms\n",
            "video 1/1 (2339/2632) /content/main (1).mp4: 384x640 (no detections), 8.9ms\n",
            "video 1/1 (2340/2632) /content/main (1).mp4: 384x640 (no detections), 11.8ms\n",
            "video 1/1 (2341/2632) /content/main (1).mp4: 384x640 (no detections), 9.8ms\n",
            "video 1/1 (2342/2632) /content/main (1).mp4: 384x640 (no detections), 9.5ms\n",
            "video 1/1 (2343/2632) /content/main (1).mp4: 384x640 (no detections), 12.6ms\n",
            "video 1/1 (2344/2632) /content/main (1).mp4: 384x640 (no detections), 9.6ms\n",
            "video 1/1 (2345/2632) /content/main (1).mp4: 384x640 (no detections), 8.8ms\n",
            "video 1/1 (2346/2632) /content/main (1).mp4: 384x640 (no detections), 8.5ms\n",
            "video 1/1 (2347/2632) /content/main (1).mp4: 384x640 (no detections), 12.1ms\n",
            "video 1/1 (2348/2632) /content/main (1).mp4: 384x640 (no detections), 8.4ms\n",
            "video 1/1 (2349/2632) /content/main (1).mp4: 384x640 (no detections), 8.7ms\n",
            "video 1/1 (2350/2632) /content/main (1).mp4: 384x640 (no detections), 9.0ms\n",
            "video 1/1 (2351/2632) /content/main (1).mp4: 384x640 (no detections), 11.9ms\n",
            "video 1/1 (2352/2632) /content/main (1).mp4: 384x640 1 car, 9.5ms\n",
            "video 1/1 (2353/2632) /content/main (1).mp4: 384x640 (no detections), 11.1ms\n",
            "video 1/1 (2354/2632) /content/main (1).mp4: 384x640 (no detections), 11.0ms\n",
            "video 1/1 (2355/2632) /content/main (1).mp4: 384x640 (no detections), 10.8ms\n",
            "video 1/1 (2356/2632) /content/main (1).mp4: 384x640 (no detections), 10.4ms\n",
            "video 1/1 (2357/2632) /content/main (1).mp4: 384x640 (no detections), 14.5ms\n",
            "video 1/1 (2358/2632) /content/main (1).mp4: 384x640 (no detections), 8.6ms\n",
            "video 1/1 (2359/2632) /content/main (1).mp4: 384x640 (no detections), 10.5ms\n",
            "video 1/1 (2360/2632) /content/main (1).mp4: 384x640 (no detections), 9.2ms\n",
            "video 1/1 (2361/2632) /content/main (1).mp4: 384x640 (no detections), 11.5ms\n",
            "video 1/1 (2362/2632) /content/main (1).mp4: 384x640 (no detections), 8.6ms\n",
            "video 1/1 (2363/2632) /content/main (1).mp4: 384x640 (no detections), 9.5ms\n",
            "video 1/1 (2364/2632) /content/main (1).mp4: 384x640 (no detections), 9.9ms\n",
            "video 1/1 (2365/2632) /content/main (1).mp4: 384x640 (no detections), 10.3ms\n",
            "video 1/1 (2366/2632) /content/main (1).mp4: 384x640 (no detections), 10.2ms\n",
            "video 1/1 (2367/2632) /content/main (1).mp4: 384x640 (no detections), 8.8ms\n",
            "video 1/1 (2368/2632) /content/main (1).mp4: 384x640 (no detections), 8.7ms\n",
            "video 1/1 (2369/2632) /content/main (1).mp4: 384x640 (no detections), 8.7ms\n",
            "video 1/1 (2370/2632) /content/main (1).mp4: 384x640 (no detections), 11.2ms\n",
            "video 1/1 (2371/2632) /content/main (1).mp4: 384x640 (no detections), 8.7ms\n",
            "video 1/1 (2372/2632) /content/main (1).mp4: 384x640 (no detections), 9.5ms\n",
            "video 1/1 (2373/2632) /content/main (1).mp4: 384x640 (no detections), 15.7ms\n",
            "video 1/1 (2374/2632) /content/main (1).mp4: 384x640 (no detections), 8.6ms\n",
            "video 1/1 (2375/2632) /content/main (1).mp4: 384x640 (no detections), 11.0ms\n",
            "video 1/1 (2376/2632) /content/main (1).mp4: 384x640 (no detections), 9.8ms\n",
            "video 1/1 (2377/2632) /content/main (1).mp4: 384x640 (no detections), 9.2ms\n",
            "video 1/1 (2378/2632) /content/main (1).mp4: 384x640 (no detections), 10.6ms\n",
            "video 1/1 (2379/2632) /content/main (1).mp4: 384x640 (no detections), 11.3ms\n",
            "video 1/1 (2380/2632) /content/main (1).mp4: 384x640 (no detections), 8.9ms\n",
            "video 1/1 (2381/2632) /content/main (1).mp4: 384x640 (no detections), 8.6ms\n",
            "video 1/1 (2382/2632) /content/main (1).mp4: 384x640 (no detections), 8.5ms\n",
            "video 1/1 (2383/2632) /content/main (1).mp4: 384x640 (no detections), 10.1ms\n",
            "video 1/1 (2384/2632) /content/main (1).mp4: 384x640 (no detections), 11.2ms\n",
            "video 1/1 (2385/2632) /content/main (1).mp4: 384x640 (no detections), 8.6ms\n",
            "video 1/1 (2386/2632) /content/main (1).mp4: 384x640 (no detections), 12.2ms\n",
            "video 1/1 (2387/2632) /content/main (1).mp4: 384x640 (no detections), 15.6ms\n",
            "video 1/1 (2388/2632) /content/main (1).mp4: 384x640 (no detections), 9.1ms\n",
            "video 1/1 (2389/2632) /content/main (1).mp4: 384x640 (no detections), 8.9ms\n",
            "video 1/1 (2390/2632) /content/main (1).mp4: 384x640 (no detections), 8.8ms\n",
            "video 1/1 (2391/2632) /content/main (1).mp4: 384x640 (no detections), 10.5ms\n",
            "video 1/1 (2392/2632) /content/main (1).mp4: 384x640 (no detections), 11.3ms\n",
            "video 1/1 (2393/2632) /content/main (1).mp4: 384x640 (no detections), 12.9ms\n",
            "video 1/1 (2394/2632) /content/main (1).mp4: 384x640 (no detections), 13.7ms\n",
            "video 1/1 (2395/2632) /content/main (1).mp4: 384x640 (no detections), 13.7ms\n",
            "video 1/1 (2396/2632) /content/main (1).mp4: 384x640 (no detections), 9.6ms\n",
            "video 1/1 (2397/2632) /content/main (1).mp4: 384x640 (no detections), 12.7ms\n",
            "video 1/1 (2398/2632) /content/main (1).mp4: 384x640 (no detections), 9.9ms\n",
            "video 1/1 (2399/2632) /content/main (1).mp4: 384x640 (no detections), 9.0ms\n",
            "video 1/1 (2400/2632) /content/main (1).mp4: 384x640 (no detections), 17.0ms\n",
            "video 1/1 (2401/2632) /content/main (1).mp4: 384x640 (no detections), 12.8ms\n",
            "video 1/1 (2402/2632) /content/main (1).mp4: 384x640 (no detections), 9.4ms\n",
            "video 1/1 (2403/2632) /content/main (1).mp4: 384x640 (no detections), 12.5ms\n",
            "video 1/1 (2404/2632) /content/main (1).mp4: 384x640 (no detections), 9.3ms\n",
            "video 1/1 (2405/2632) /content/main (1).mp4: 384x640 (no detections), 12.0ms\n",
            "video 1/1 (2406/2632) /content/main (1).mp4: 384x640 (no detections), 10.6ms\n",
            "video 1/1 (2407/2632) /content/main (1).mp4: 384x640 (no detections), 12.6ms\n",
            "video 1/1 (2408/2632) /content/main (1).mp4: 384x640 (no detections), 10.0ms\n",
            "video 1/1 (2409/2632) /content/main (1).mp4: 384x640 1 car, 10.5ms\n",
            "video 1/1 (2410/2632) /content/main (1).mp4: 384x640 1 car, 9.4ms\n",
            "video 1/1 (2411/2632) /content/main (1).mp4: 384x640 1 car, 10.1ms\n",
            "video 1/1 (2412/2632) /content/main (1).mp4: 384x640 1 car, 11.9ms\n",
            "video 1/1 (2413/2632) /content/main (1).mp4: 384x640 1 car, 9.1ms\n",
            "video 1/1 (2414/2632) /content/main (1).mp4: 384x640 1 car, 11.4ms\n",
            "video 1/1 (2415/2632) /content/main (1).mp4: 384x640 1 car, 9.4ms\n",
            "video 1/1 (2416/2632) /content/main (1).mp4: 384x640 (no detections), 9.0ms\n",
            "video 1/1 (2417/2632) /content/main (1).mp4: 384x640 (no detections), 11.4ms\n",
            "video 1/1 (2418/2632) /content/main (1).mp4: 384x640 (no detections), 17.3ms\n",
            "video 1/1 (2419/2632) /content/main (1).mp4: 384x640 (no detections), 9.2ms\n",
            "video 1/1 (2420/2632) /content/main (1).mp4: 384x640 1 car, 9.7ms\n",
            "video 1/1 (2421/2632) /content/main (1).mp4: 384x640 (no detections), 10.1ms\n",
            "video 1/1 (2422/2632) /content/main (1).mp4: 384x640 1 car, 10.9ms\n",
            "video 1/1 (2423/2632) /content/main (1).mp4: 384x640 (no detections), 9.5ms\n",
            "video 1/1 (2424/2632) /content/main (1).mp4: 384x640 (no detections), 9.5ms\n",
            "video 1/1 (2425/2632) /content/main (1).mp4: 384x640 (no detections), 9.7ms\n",
            "video 1/1 (2426/2632) /content/main (1).mp4: 384x640 1 car, 11.3ms\n",
            "video 1/1 (2427/2632) /content/main (1).mp4: 384x640 1 car, 10.7ms\n",
            "video 1/1 (2428/2632) /content/main (1).mp4: 384x640 1 car, 10.3ms\n",
            "video 1/1 (2429/2632) /content/main (1).mp4: 384x640 1 car, 12.4ms\n",
            "video 1/1 (2430/2632) /content/main (1).mp4: 384x640 1 car, 16.8ms\n",
            "video 1/1 (2431/2632) /content/main (1).mp4: 384x640 1 car, 9.8ms\n",
            "video 1/1 (2432/2632) /content/main (1).mp4: 384x640 1 car, 10.7ms\n",
            "video 1/1 (2433/2632) /content/main (1).mp4: 384x640 (no detections), 8.9ms\n",
            "video 1/1 (2434/2632) /content/main (1).mp4: 384x640 (no detections), 9.6ms\n",
            "video 1/1 (2435/2632) /content/main (1).mp4: 384x640 (no detections), 9.8ms\n",
            "video 1/1 (2436/2632) /content/main (1).mp4: 384x640 (no detections), 9.0ms\n",
            "video 1/1 (2437/2632) /content/main (1).mp4: 384x640 2 cars, 15.6ms\n",
            "video 1/1 (2438/2632) /content/main (1).mp4: 384x640 2 cars, 11.7ms\n",
            "video 1/1 (2439/2632) /content/main (1).mp4: 384x640 (no detections), 8.5ms\n",
            "video 1/1 (2440/2632) /content/main (1).mp4: 384x640 1 car, 14.0ms\n",
            "video 1/1 (2441/2632) /content/main (1).mp4: 384x640 1 car, 8.8ms\n",
            "video 1/1 (2442/2632) /content/main (1).mp4: 384x640 1 car, 10.1ms\n",
            "video 1/1 (2443/2632) /content/main (1).mp4: 384x640 1 car, 8.8ms\n",
            "video 1/1 (2444/2632) /content/main (1).mp4: 384x640 1 car, 16.5ms\n",
            "video 1/1 (2445/2632) /content/main (1).mp4: 384x640 (no detections), 9.1ms\n",
            "video 1/1 (2446/2632) /content/main (1).mp4: 384x640 (no detections), 10.0ms\n",
            "video 1/1 (2447/2632) /content/main (1).mp4: 384x640 1 car, 17.3ms\n",
            "video 1/1 (2448/2632) /content/main (1).mp4: 384x640 1 car, 19.5ms\n",
            "video 1/1 (2449/2632) /content/main (1).mp4: 384x640 1 car, 16.0ms\n",
            "video 1/1 (2450/2632) /content/main (1).mp4: 384x640 1 car, 14.9ms\n",
            "video 1/1 (2451/2632) /content/main (1).mp4: 384x640 2 cars, 16.3ms\n",
            "video 1/1 (2452/2632) /content/main (1).mp4: 384x640 2 cars, 16.3ms\n",
            "video 1/1 (2453/2632) /content/main (1).mp4: 384x640 1 car, 11.4ms\n",
            "video 1/1 (2454/2632) /content/main (1).mp4: 384x640 2 cars, 15.3ms\n",
            "video 1/1 (2455/2632) /content/main (1).mp4: 384x640 1 car, 12.1ms\n",
            "video 1/1 (2456/2632) /content/main (1).mp4: 384x640 1 car, 11.5ms\n",
            "video 1/1 (2457/2632) /content/main (1).mp4: 384x640 2 cars, 11.4ms\n",
            "video 1/1 (2458/2632) /content/main (1).mp4: 384x640 1 car, 11.3ms\n",
            "video 1/1 (2459/2632) /content/main (1).mp4: 384x640 (no detections), 11.1ms\n",
            "video 1/1 (2460/2632) /content/main (1).mp4: 384x640 (no detections), 12.2ms\n",
            "video 1/1 (2461/2632) /content/main (1).mp4: 384x640 1 car, 11.6ms\n",
            "video 1/1 (2462/2632) /content/main (1).mp4: 384x640 (no detections), 11.7ms\n",
            "video 1/1 (2463/2632) /content/main (1).mp4: 384x640 (no detections), 11.1ms\n",
            "video 1/1 (2464/2632) /content/main (1).mp4: 384x640 2 cars, 17.5ms\n",
            "video 1/1 (2465/2632) /content/main (1).mp4: 384x640 2 cars, 10.9ms\n",
            "video 1/1 (2466/2632) /content/main (1).mp4: 384x640 3 cars, 11.5ms\n",
            "video 1/1 (2467/2632) /content/main (1).mp4: 384x640 2 cars, 11.9ms\n",
            "video 1/1 (2468/2632) /content/main (1).mp4: 384x640 2 cars, 11.6ms\n",
            "video 1/1 (2469/2632) /content/main (1).mp4: 384x640 3 cars, 14.5ms\n",
            "video 1/1 (2470/2632) /content/main (1).mp4: 384x640 1 car, 13.3ms\n",
            "video 1/1 (2471/2632) /content/main (1).mp4: 384x640 1 car, 15.5ms\n",
            "video 1/1 (2472/2632) /content/main (1).mp4: 384x640 1 car, 11.0ms\n",
            "video 1/1 (2473/2632) /content/main (1).mp4: 384x640 1 car, 11.4ms\n",
            "video 1/1 (2474/2632) /content/main (1).mp4: 384x640 1 car, 12.1ms\n",
            "video 1/1 (2475/2632) /content/main (1).mp4: 384x640 1 car, 11.4ms\n",
            "video 1/1 (2476/2632) /content/main (1).mp4: 384x640 1 car, 16.4ms\n",
            "video 1/1 (2477/2632) /content/main (1).mp4: 384x640 1 car, 18.0ms\n",
            "video 1/1 (2478/2632) /content/main (1).mp4: 384x640 (no detections), 16.8ms\n",
            "video 1/1 (2479/2632) /content/main (1).mp4: 384x640 (no detections), 12.5ms\n",
            "video 1/1 (2480/2632) /content/main (1).mp4: 384x640 (no detections), 17.8ms\n",
            "video 1/1 (2481/2632) /content/main (1).mp4: 384x640 (no detections), 19.2ms\n",
            "video 1/1 (2482/2632) /content/main (1).mp4: 384x640 (no detections), 16.2ms\n",
            "video 1/1 (2483/2632) /content/main (1).mp4: 384x640 (no detections), 12.9ms\n",
            "video 1/1 (2484/2632) /content/main (1).mp4: 384x640 (no detections), 21.6ms\n",
            "video 1/1 (2485/2632) /content/main (1).mp4: 384x640 (no detections), 15.5ms\n",
            "video 1/1 (2486/2632) /content/main (1).mp4: 384x640 (no detections), 11.8ms\n",
            "video 1/1 (2487/2632) /content/main (1).mp4: 384x640 (no detections), 14.2ms\n",
            "video 1/1 (2488/2632) /content/main (1).mp4: 384x640 (no detections), 11.8ms\n",
            "video 1/1 (2489/2632) /content/main (1).mp4: 384x640 (no detections), 11.0ms\n",
            "video 1/1 (2490/2632) /content/main (1).mp4: 384x640 (no detections), 11.7ms\n",
            "video 1/1 (2491/2632) /content/main (1).mp4: 384x640 1 car, 15.1ms\n",
            "video 1/1 (2492/2632) /content/main (1).mp4: 384x640 (no detections), 21.3ms\n",
            "video 1/1 (2493/2632) /content/main (1).mp4: 384x640 (no detections), 15.2ms\n",
            "video 1/1 (2494/2632) /content/main (1).mp4: 384x640 (no detections), 11.7ms\n",
            "video 1/1 (2495/2632) /content/main (1).mp4: 384x640 (no detections), 13.3ms\n",
            "video 1/1 (2496/2632) /content/main (1).mp4: 384x640 (no detections), 12.8ms\n",
            "video 1/1 (2497/2632) /content/main (1).mp4: 384x640 (no detections), 11.3ms\n",
            "video 1/1 (2498/2632) /content/main (1).mp4: 384x640 (no detections), 13.3ms\n",
            "video 1/1 (2499/2632) /content/main (1).mp4: 384x640 (no detections), 10.7ms\n",
            "video 1/1 (2500/2632) /content/main (1).mp4: 384x640 1 car, 12.7ms\n",
            "video 1/1 (2501/2632) /content/main (1).mp4: 384x640 (no detections), 10.7ms\n",
            "video 1/1 (2502/2632) /content/main (1).mp4: 384x640 (no detections), 12.5ms\n",
            "video 1/1 (2503/2632) /content/main (1).mp4: 384x640 (no detections), 10.5ms\n",
            "video 1/1 (2504/2632) /content/main (1).mp4: 384x640 (no detections), 14.1ms\n",
            "video 1/1 (2505/2632) /content/main (1).mp4: 384x640 (no detections), 16.1ms\n",
            "video 1/1 (2506/2632) /content/main (1).mp4: 384x640 (no detections), 11.8ms\n",
            "video 1/1 (2507/2632) /content/main (1).mp4: 384x640 (no detections), 10.8ms\n",
            "video 1/1 (2508/2632) /content/main (1).mp4: 384x640 (no detections), 11.8ms\n",
            "video 1/1 (2509/2632) /content/main (1).mp4: 384x640 (no detections), 14.7ms\n",
            "video 1/1 (2510/2632) /content/main (1).mp4: 384x640 (no detections), 16.5ms\n",
            "video 1/1 (2511/2632) /content/main (1).mp4: 384x640 (no detections), 19.3ms\n",
            "video 1/1 (2512/2632) /content/main (1).mp4: 384x640 (no detections), 11.5ms\n",
            "video 1/1 (2513/2632) /content/main (1).mp4: 384x640 (no detections), 19.8ms\n",
            "video 1/1 (2514/2632) /content/main (1).mp4: 384x640 (no detections), 11.3ms\n",
            "video 1/1 (2515/2632) /content/main (1).mp4: 384x640 (no detections), 15.2ms\n",
            "video 1/1 (2516/2632) /content/main (1).mp4: 384x640 (no detections), 22.6ms\n",
            "video 1/1 (2517/2632) /content/main (1).mp4: 384x640 (no detections), 14.9ms\n",
            "video 1/1 (2518/2632) /content/main (1).mp4: 384x640 (no detections), 13.3ms\n",
            "video 1/1 (2519/2632) /content/main (1).mp4: 384x640 (no detections), 16.2ms\n",
            "video 1/1 (2520/2632) /content/main (1).mp4: 384x640 1 car, 16.5ms\n",
            "video 1/1 (2521/2632) /content/main (1).mp4: 384x640 1 car, 16.0ms\n",
            "video 1/1 (2522/2632) /content/main (1).mp4: 384x640 1 car, 17.8ms\n",
            "video 1/1 (2523/2632) /content/main (1).mp4: 384x640 1 car, 15.5ms\n",
            "video 1/1 (2524/2632) /content/main (1).mp4: 384x640 1 car, 23.3ms\n",
            "video 1/1 (2525/2632) /content/main (1).mp4: 384x640 1 car, 15.6ms\n",
            "video 1/1 (2526/2632) /content/main (1).mp4: 384x640 1 car, 16.9ms\n",
            "video 1/1 (2527/2632) /content/main (1).mp4: 384x640 1 car, 15.8ms\n",
            "video 1/1 (2528/2632) /content/main (1).mp4: 384x640 1 car, 16.5ms\n",
            "video 1/1 (2529/2632) /content/main (1).mp4: 384x640 1 car, 15.9ms\n",
            "video 1/1 (2530/2632) /content/main (1).mp4: 384x640 1 car, 10.7ms\n",
            "video 1/1 (2531/2632) /content/main (1).mp4: 384x640 1 car, 12.6ms\n",
            "video 1/1 (2532/2632) /content/main (1).mp4: 384x640 1 car, 14.5ms\n",
            "video 1/1 (2533/2632) /content/main (1).mp4: 384x640 1 car, 11.6ms\n",
            "video 1/1 (2534/2632) /content/main (1).mp4: 384x640 1 car, 9.1ms\n",
            "video 1/1 (2535/2632) /content/main (1).mp4: 384x640 1 car, 11.3ms\n",
            "video 1/1 (2536/2632) /content/main (1).mp4: 384x640 1 car, 9.4ms\n",
            "video 1/1 (2537/2632) /content/main (1).mp4: 384x640 1 car, 10.0ms\n",
            "video 1/1 (2538/2632) /content/main (1).mp4: 384x640 1 car, 10.0ms\n",
            "video 1/1 (2539/2632) /content/main (1).mp4: 384x640 1 car, 13.8ms\n",
            "video 1/1 (2540/2632) /content/main (1).mp4: 384x640 1 car, 11.5ms\n",
            "video 1/1 (2541/2632) /content/main (1).mp4: 384x640 1 car, 13.3ms\n",
            "video 1/1 (2542/2632) /content/main (1).mp4: 384x640 1 car, 11.8ms\n",
            "video 1/1 (2543/2632) /content/main (1).mp4: 384x640 1 car, 10.0ms\n",
            "video 1/1 (2544/2632) /content/main (1).mp4: 384x640 1 car, 13.5ms\n",
            "video 1/1 (2545/2632) /content/main (1).mp4: 384x640 1 car, 10.9ms\n",
            "video 1/1 (2546/2632) /content/main (1).mp4: 384x640 1 car, 9.2ms\n",
            "video 1/1 (2547/2632) /content/main (1).mp4: 384x640 1 car, 10.5ms\n",
            "video 1/1 (2548/2632) /content/main (1).mp4: 384x640 1 car, 11.3ms\n",
            "video 1/1 (2549/2632) /content/main (1).mp4: 384x640 1 car, 9.2ms\n",
            "video 1/1 (2550/2632) /content/main (1).mp4: 384x640 1 car, 12.5ms\n",
            "video 1/1 (2551/2632) /content/main (1).mp4: 384x640 1 car, 8.7ms\n",
            "video 1/1 (2552/2632) /content/main (1).mp4: 384x640 1 car, 8.7ms\n",
            "video 1/1 (2553/2632) /content/main (1).mp4: 384x640 1 car, 12.0ms\n",
            "video 1/1 (2554/2632) /content/main (1).mp4: 384x640 1 car, 13.4ms\n",
            "video 1/1 (2555/2632) /content/main (1).mp4: 384x640 1 car, 9.1ms\n",
            "video 1/1 (2556/2632) /content/main (1).mp4: 384x640 1 car, 10.5ms\n",
            "video 1/1 (2557/2632) /content/main (1).mp4: 384x640 1 car, 9.0ms\n",
            "video 1/1 (2558/2632) /content/main (1).mp4: 384x640 1 car, 10.7ms\n",
            "video 1/1 (2559/2632) /content/main (1).mp4: 384x640 1 car, 10.3ms\n",
            "video 1/1 (2560/2632) /content/main (1).mp4: 384x640 1 car, 10.8ms\n",
            "video 1/1 (2561/2632) /content/main (1).mp4: 384x640 1 car, 9.6ms\n",
            "video 1/1 (2562/2632) /content/main (1).mp4: 384x640 1 car, 11.3ms\n",
            "video 1/1 (2563/2632) /content/main (1).mp4: 384x640 1 car, 9.0ms\n",
            "video 1/1 (2564/2632) /content/main (1).mp4: 384x640 1 car, 9.5ms\n",
            "video 1/1 (2565/2632) /content/main (1).mp4: 384x640 1 car, 8.7ms\n",
            "video 1/1 (2566/2632) /content/main (1).mp4: 384x640 1 car, 25.3ms\n",
            "video 1/1 (2567/2632) /content/main (1).mp4: 384x640 1 car, 10.2ms\n",
            "video 1/1 (2568/2632) /content/main (1).mp4: 384x640 1 car, 9.2ms\n",
            "video 1/1 (2569/2632) /content/main (1).mp4: 384x640 1 car, 9.3ms\n",
            "video 1/1 (2570/2632) /content/main (1).mp4: 384x640 1 car, 14.9ms\n",
            "video 1/1 (2571/2632) /content/main (1).mp4: 384x640 1 car, 9.3ms\n",
            "video 1/1 (2572/2632) /content/main (1).mp4: 384x640 1 car, 13.3ms\n",
            "video 1/1 (2573/2632) /content/main (1).mp4: 384x640 1 car, 11.5ms\n",
            "video 1/1 (2574/2632) /content/main (1).mp4: 384x640 1 car, 12.8ms\n",
            "video 1/1 (2575/2632) /content/main (1).mp4: 384x640 1 car, 8.9ms\n",
            "video 1/1 (2576/2632) /content/main (1).mp4: 384x640 1 car, 10.2ms\n",
            "video 1/1 (2577/2632) /content/main (1).mp4: 384x640 1 car, 8.9ms\n",
            "video 1/1 (2578/2632) /content/main (1).mp4: 384x640 1 car, 10.8ms\n",
            "video 1/1 (2579/2632) /content/main (1).mp4: 384x640 1 car, 9.4ms\n",
            "video 1/1 (2580/2632) /content/main (1).mp4: 384x640 1 car, 14.7ms\n",
            "video 1/1 (2581/2632) /content/main (1).mp4: 384x640 1 car, 8.9ms\n",
            "video 1/1 (2582/2632) /content/main (1).mp4: 384x640 1 car, 9.0ms\n",
            "video 1/1 (2583/2632) /content/main (1).mp4: 384x640 1 car, 14.2ms\n",
            "video 1/1 (2584/2632) /content/main (1).mp4: 384x640 1 car, 10.3ms\n",
            "video 1/1 (2585/2632) /content/main (1).mp4: 384x640 1 car, 10.1ms\n",
            "video 1/1 (2586/2632) /content/main (1).mp4: 384x640 1 car, 10.9ms\n",
            "video 1/1 (2587/2632) /content/main (1).mp4: 384x640 1 car, 10.7ms\n",
            "video 1/1 (2588/2632) /content/main (1).mp4: 384x640 1 car, 9.5ms\n",
            "video 1/1 (2589/2632) /content/main (1).mp4: 384x640 1 car, 11.2ms\n",
            "video 1/1 (2590/2632) /content/main (1).mp4: 384x640 1 car, 11.2ms\n",
            "video 1/1 (2591/2632) /content/main (1).mp4: 384x640 1 car, 10.8ms\n",
            "video 1/1 (2592/2632) /content/main (1).mp4: 384x640 1 car, 11.8ms\n",
            "video 1/1 (2593/2632) /content/main (1).mp4: 384x640 1 car, 10.5ms\n",
            "video 1/1 (2594/2632) /content/main (1).mp4: 384x640 1 car, 9.3ms\n",
            "video 1/1 (2595/2632) /content/main (1).mp4: 384x640 1 car, 10.7ms\n",
            "video 1/1 (2596/2632) /content/main (1).mp4: 384x640 1 car, 9.8ms\n",
            "video 1/1 (2597/2632) /content/main (1).mp4: 384x640 1 car, 10.2ms\n",
            "video 1/1 (2598/2632) /content/main (1).mp4: 384x640 1 car, 9.7ms\n",
            "video 1/1 (2599/2632) /content/main (1).mp4: 384x640 1 car, 19.3ms\n",
            "video 1/1 (2600/2632) /content/main (1).mp4: 384x640 1 car, 9.2ms\n",
            "video 1/1 (2601/2632) /content/main (1).mp4: 384x640 1 car, 9.7ms\n",
            "video 1/1 (2602/2632) /content/main (1).mp4: 384x640 1 car, 8.9ms\n",
            "video 1/1 (2603/2632) /content/main (1).mp4: 384x640 1 car, 13.9ms\n",
            "video 1/1 (2604/2632) /content/main (1).mp4: 384x640 1 car, 8.7ms\n",
            "video 1/1 (2605/2632) /content/main (1).mp4: 384x640 1 car, 10.1ms\n",
            "video 1/1 (2606/2632) /content/main (1).mp4: 384x640 1 car, 10.1ms\n",
            "video 1/1 (2607/2632) /content/main (1).mp4: 384x640 1 car, 11.6ms\n",
            "video 1/1 (2608/2632) /content/main (1).mp4: 384x640 1 car, 14.2ms\n",
            "video 1/1 (2609/2632) /content/main (1).mp4: 384x640 1 car, 14.0ms\n",
            "video 1/1 (2610/2632) /content/main (1).mp4: 384x640 1 car, 8.7ms\n",
            "video 1/1 (2611/2632) /content/main (1).mp4: 384x640 1 car, 11.4ms\n",
            "video 1/1 (2612/2632) /content/main (1).mp4: 384x640 1 car, 9.1ms\n",
            "video 1/1 (2613/2632) /content/main (1).mp4: 384x640 1 car, 10.1ms\n",
            "video 1/1 (2614/2632) /content/main (1).mp4: 384x640 1 car, 12.0ms\n",
            "video 1/1 (2615/2632) /content/main (1).mp4: 384x640 1 car, 10.5ms\n",
            "video 1/1 (2616/2632) /content/main (1).mp4: 384x640 1 car, 9.8ms\n",
            "video 1/1 (2617/2632) /content/main (1).mp4: 384x640 1 car, 10.2ms\n",
            "video 1/1 (2618/2632) /content/main (1).mp4: 384x640 1 car, 16.6ms\n",
            "video 1/1 (2619/2632) /content/main (1).mp4: 384x640 1 car, 10.7ms\n",
            "video 1/1 (2620/2632) /content/main (1).mp4: 384x640 1 car, 9.2ms\n",
            "video 1/1 (2621/2632) /content/main (1).mp4: 384x640 1 car, 11.5ms\n",
            "video 1/1 (2622/2632) /content/main (1).mp4: 384x640 1 car, 8.7ms\n",
            "video 1/1 (2623/2632) /content/main (1).mp4: 384x640 1 car, 10.5ms\n",
            "video 1/1 (2624/2632) /content/main (1).mp4: 384x640 1 car, 10.4ms\n",
            "video 1/1 (2625/2632) /content/main (1).mp4: 384x640 1 car, 8.8ms\n",
            "video 1/1 (2626/2632) /content/main (1).mp4: 384x640 1 car, 10.3ms\n",
            "video 1/1 (2627/2632) /content/main (1).mp4: 384x640 1 car, 10.1ms\n",
            "video 1/1 (2628/2632) /content/main (1).mp4: 384x640 1 car, 16.4ms\n",
            "video 1/1 (2629/2632) /content/main (1).mp4: 384x640 1 car, 9.7ms\n",
            "video 1/1 (2630/2632) /content/main (1).mp4: 384x640 1 car, 9.3ms\n",
            "video 1/1 (2631/2632) /content/main (1).mp4: 384x640 1 car, 12.4ms\n",
            "video 1/1 (2632/2632) /content/main (1).mp4: 384x640 1 car, 12.6ms\n",
            "Speed: 1.9ms preprocess, 11.3ms inference, 1.0ms postprocess per image at shape (1, 3, 384, 640)\n",
            "Results saved to \u001b[1mruns/detect/train5\u001b[0m\n"
          ]
        }
      ],
      "source": [
        "# predict a video\n",
        "from google.colab import files\n",
        "import cv2\n",
        "from ultralytics import YOLO\n",
        "\n",
        "# Upload the video file for testing\n",
        "uploaded = files.upload()\n",
        "video_path = list(uploaded.keys())[0]\n",
        "results=model(video_path, conf=0.676,save=True)  # predict on an image\n",
        "\n"
      ]
    }
  ],
  "metadata": {
    "colab": {
      "provenance": [],
      "gpuType": "T4",
      "authorship_tag": "ABX9TyM+cKHewl06TgLLvgA1SmlM",
      "include_colab_link": true
    },
    "kernelspec": {
      "display_name": "Python 3",
      "name": "python3"
    },
    "language_info": {
      "name": "python"
    },
    "accelerator": "GPU"
  },
  "nbformat": 4,
  "nbformat_minor": 0
}